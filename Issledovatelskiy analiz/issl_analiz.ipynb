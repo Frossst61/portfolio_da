{
 "cells": [
  {
   "cell_type": "markdown",
   "metadata": {},
   "source": [
    "### Описание приекта"
   ]
  },
  {
   "cell_type": "markdown",
   "metadata": {},
   "source": [
    "Ниже мы проведем исследовательскую работу для интернет-магазина компьютерных игр. Из открытых источников доступны исторические данные о продажах игр, оценки пользователей и экспертов, жанры и платформы (например, Xbox или PlayStation). Мы будем выявлять определяющие успешность игры закономерности. Это позволит сделать ставку на потенциально популярный продукт и спланировать рекламные кампании."
   ]
  },
  {
   "cell_type": "markdown",
   "metadata": {},
   "source": [
    "### План работы:\n",
    "1. Подготовка данных\n",
    "2. Исследовательский анализ данных\n",
    "3. Портрет пользователя каждого региона\n",
    "4. Проверка гипотез"
   ]
  },
  {
   "cell_type": "markdown",
   "metadata": {},
   "source": [
    "### Шаг 1. Загрузка данных и изучение данные"
   ]
  },
  {
   "cell_type": "markdown",
   "metadata": {},
   "source": [
    "#### Загружаем библиотеки"
   ]
  },
  {
   "cell_type": "code",
   "execution_count": 1,
   "metadata": {},
   "outputs": [],
   "source": [
    "import pandas as pd\n",
    "import matplotlib.pyplot as plt\n",
    "import os\n",
    "import numpy as np\n",
    "import scipy.stats as st\n",
    "pd.set_option('display.max_columns', 50)"
   ]
  },
  {
   "cell_type": "markdown",
   "metadata": {},
   "source": [
    "#### Загружаем файл с данными"
   ]
  },
  {
   "cell_type": "code",
   "execution_count": 2,
   "metadata": {},
   "outputs": [],
   "source": [
    "pth = 'datasets/games.csv'\n",
    "if os.path.exists(pth):\n",
    "    data = pd.read_csv(pth, sep=',')\n",
    "else:\n",
    "    print('Something is wrong')"
   ]
  },
  {
   "cell_type": "markdown",
   "metadata": {},
   "source": [
    "#### Изучаем данные"
   ]
  },
  {
   "cell_type": "code",
   "execution_count": 3,
   "metadata": {},
   "outputs": [
    {
     "name": "stdout",
     "output_type": "stream",
     "text": [
      "<class 'pandas.core.frame.DataFrame'>\n",
      "RangeIndex: 16715 entries, 0 to 16714\n",
      "Data columns (total 11 columns):\n",
      " #   Column           Non-Null Count  Dtype  \n",
      "---  ------           --------------  -----  \n",
      " 0   Name             16713 non-null  object \n",
      " 1   Platform         16715 non-null  object \n",
      " 2   Year_of_Release  16446 non-null  float64\n",
      " 3   Genre            16713 non-null  object \n",
      " 4   NA_sales         16715 non-null  float64\n",
      " 5   EU_sales         16715 non-null  float64\n",
      " 6   JP_sales         16715 non-null  float64\n",
      " 7   Other_sales      16715 non-null  float64\n",
      " 8   Critic_Score     8137 non-null   float64\n",
      " 9   User_Score       10014 non-null  object \n",
      " 10  Rating           9949 non-null   object \n",
      "dtypes: float64(6), object(5)\n",
      "memory usage: 1.4+ MB\n",
      "\n"
     ]
    },
    {
     "data": {
      "text/html": [
       "<div>\n",
       "<style scoped>\n",
       "    .dataframe tbody tr th:only-of-type {\n",
       "        vertical-align: middle;\n",
       "    }\n",
       "\n",
       "    .dataframe tbody tr th {\n",
       "        vertical-align: top;\n",
       "    }\n",
       "\n",
       "    .dataframe thead th {\n",
       "        text-align: right;\n",
       "    }\n",
       "</style>\n",
       "<table border=\"1\" class=\"dataframe\">\n",
       "  <thead>\n",
       "    <tr style=\"text-align: right;\">\n",
       "      <th></th>\n",
       "      <th>Name</th>\n",
       "      <th>Platform</th>\n",
       "      <th>Year_of_Release</th>\n",
       "      <th>Genre</th>\n",
       "      <th>NA_sales</th>\n",
       "      <th>EU_sales</th>\n",
       "      <th>JP_sales</th>\n",
       "      <th>Other_sales</th>\n",
       "      <th>Critic_Score</th>\n",
       "      <th>User_Score</th>\n",
       "      <th>Rating</th>\n",
       "    </tr>\n",
       "  </thead>\n",
       "  <tbody>\n",
       "    <tr>\n",
       "      <th>0</th>\n",
       "      <td>Wii Sports</td>\n",
       "      <td>Wii</td>\n",
       "      <td>2006.0</td>\n",
       "      <td>Sports</td>\n",
       "      <td>41.36</td>\n",
       "      <td>28.96</td>\n",
       "      <td>3.77</td>\n",
       "      <td>8.45</td>\n",
       "      <td>76.0</td>\n",
       "      <td>8</td>\n",
       "      <td>E</td>\n",
       "    </tr>\n",
       "    <tr>\n",
       "      <th>1</th>\n",
       "      <td>Super Mario Bros.</td>\n",
       "      <td>NES</td>\n",
       "      <td>1985.0</td>\n",
       "      <td>Platform</td>\n",
       "      <td>29.08</td>\n",
       "      <td>3.58</td>\n",
       "      <td>6.81</td>\n",
       "      <td>0.77</td>\n",
       "      <td>NaN</td>\n",
       "      <td>NaN</td>\n",
       "      <td>NaN</td>\n",
       "    </tr>\n",
       "    <tr>\n",
       "      <th>2</th>\n",
       "      <td>Mario Kart Wii</td>\n",
       "      <td>Wii</td>\n",
       "      <td>2008.0</td>\n",
       "      <td>Racing</td>\n",
       "      <td>15.68</td>\n",
       "      <td>12.76</td>\n",
       "      <td>3.79</td>\n",
       "      <td>3.29</td>\n",
       "      <td>82.0</td>\n",
       "      <td>8.3</td>\n",
       "      <td>E</td>\n",
       "    </tr>\n",
       "    <tr>\n",
       "      <th>3</th>\n",
       "      <td>Wii Sports Resort</td>\n",
       "      <td>Wii</td>\n",
       "      <td>2009.0</td>\n",
       "      <td>Sports</td>\n",
       "      <td>15.61</td>\n",
       "      <td>10.93</td>\n",
       "      <td>3.28</td>\n",
       "      <td>2.95</td>\n",
       "      <td>80.0</td>\n",
       "      <td>8</td>\n",
       "      <td>E</td>\n",
       "    </tr>\n",
       "    <tr>\n",
       "      <th>4</th>\n",
       "      <td>Pokemon Red/Pokemon Blue</td>\n",
       "      <td>GB</td>\n",
       "      <td>1996.0</td>\n",
       "      <td>Role-Playing</td>\n",
       "      <td>11.27</td>\n",
       "      <td>8.89</td>\n",
       "      <td>10.22</td>\n",
       "      <td>1.00</td>\n",
       "      <td>NaN</td>\n",
       "      <td>NaN</td>\n",
       "      <td>NaN</td>\n",
       "    </tr>\n",
       "    <tr>\n",
       "      <th>5</th>\n",
       "      <td>Tetris</td>\n",
       "      <td>GB</td>\n",
       "      <td>1989.0</td>\n",
       "      <td>Puzzle</td>\n",
       "      <td>23.20</td>\n",
       "      <td>2.26</td>\n",
       "      <td>4.22</td>\n",
       "      <td>0.58</td>\n",
       "      <td>NaN</td>\n",
       "      <td>NaN</td>\n",
       "      <td>NaN</td>\n",
       "    </tr>\n",
       "    <tr>\n",
       "      <th>6</th>\n",
       "      <td>New Super Mario Bros.</td>\n",
       "      <td>DS</td>\n",
       "      <td>2006.0</td>\n",
       "      <td>Platform</td>\n",
       "      <td>11.28</td>\n",
       "      <td>9.14</td>\n",
       "      <td>6.50</td>\n",
       "      <td>2.88</td>\n",
       "      <td>89.0</td>\n",
       "      <td>8.5</td>\n",
       "      <td>E</td>\n",
       "    </tr>\n",
       "    <tr>\n",
       "      <th>7</th>\n",
       "      <td>Wii Play</td>\n",
       "      <td>Wii</td>\n",
       "      <td>2006.0</td>\n",
       "      <td>Misc</td>\n",
       "      <td>13.96</td>\n",
       "      <td>9.18</td>\n",
       "      <td>2.93</td>\n",
       "      <td>2.84</td>\n",
       "      <td>58.0</td>\n",
       "      <td>6.6</td>\n",
       "      <td>E</td>\n",
       "    </tr>\n",
       "    <tr>\n",
       "      <th>8</th>\n",
       "      <td>New Super Mario Bros. Wii</td>\n",
       "      <td>Wii</td>\n",
       "      <td>2009.0</td>\n",
       "      <td>Platform</td>\n",
       "      <td>14.44</td>\n",
       "      <td>6.94</td>\n",
       "      <td>4.70</td>\n",
       "      <td>2.24</td>\n",
       "      <td>87.0</td>\n",
       "      <td>8.4</td>\n",
       "      <td>E</td>\n",
       "    </tr>\n",
       "    <tr>\n",
       "      <th>9</th>\n",
       "      <td>Duck Hunt</td>\n",
       "      <td>NES</td>\n",
       "      <td>1984.0</td>\n",
       "      <td>Shooter</td>\n",
       "      <td>26.93</td>\n",
       "      <td>0.63</td>\n",
       "      <td>0.28</td>\n",
       "      <td>0.47</td>\n",
       "      <td>NaN</td>\n",
       "      <td>NaN</td>\n",
       "      <td>NaN</td>\n",
       "    </tr>\n",
       "  </tbody>\n",
       "</table>\n",
       "</div>"
      ],
      "text/plain": [
       "                        Name Platform  Year_of_Release         Genre  \\\n",
       "0                 Wii Sports      Wii           2006.0        Sports   \n",
       "1          Super Mario Bros.      NES           1985.0      Platform   \n",
       "2             Mario Kart Wii      Wii           2008.0        Racing   \n",
       "3          Wii Sports Resort      Wii           2009.0        Sports   \n",
       "4   Pokemon Red/Pokemon Blue       GB           1996.0  Role-Playing   \n",
       "5                     Tetris       GB           1989.0        Puzzle   \n",
       "6      New Super Mario Bros.       DS           2006.0      Platform   \n",
       "7                   Wii Play      Wii           2006.0          Misc   \n",
       "8  New Super Mario Bros. Wii      Wii           2009.0      Platform   \n",
       "9                  Duck Hunt      NES           1984.0       Shooter   \n",
       "\n",
       "   NA_sales  EU_sales  JP_sales  Other_sales  Critic_Score User_Score Rating  \n",
       "0     41.36     28.96      3.77         8.45          76.0          8      E  \n",
       "1     29.08      3.58      6.81         0.77           NaN        NaN    NaN  \n",
       "2     15.68     12.76      3.79         3.29          82.0        8.3      E  \n",
       "3     15.61     10.93      3.28         2.95          80.0          8      E  \n",
       "4     11.27      8.89     10.22         1.00           NaN        NaN    NaN  \n",
       "5     23.20      2.26      4.22         0.58           NaN        NaN    NaN  \n",
       "6     11.28      9.14      6.50         2.88          89.0        8.5      E  \n",
       "7     13.96      9.18      2.93         2.84          58.0        6.6      E  \n",
       "8     14.44      6.94      4.70         2.24          87.0        8.4      E  \n",
       "9     26.93      0.63      0.28         0.47           NaN        NaN    NaN  "
      ]
     },
     "metadata": {},
     "output_type": "display_data"
    }
   ],
   "source": [
    "data.info()\n",
    "print()    \n",
    "display(data.head(10))\n"
   ]
  },
  {
   "cell_type": "markdown",
   "metadata": {},
   "source": [
    "Видим, что есть пропущенные значения. Названия столбцов не удовлетворяет правилам. Типы данных также нужно поправить."
   ]
  },
  {
   "cell_type": "markdown",
   "metadata": {},
   "source": [
    "### Шаг 2. Подготовка данных"
   ]
  },
  {
   "cell_type": "markdown",
   "metadata": {},
   "source": [
    "#### 2.1. Исправление названий столбцов (приведение к нижнему регистру)."
   ]
  },
  {
   "cell_type": "markdown",
   "metadata": {},
   "source": [
    "Как видим, названия столбцов не соответствует стандартам, поэтому исправляем:"
   ]
  },
  {
   "cell_type": "code",
   "execution_count": 4,
   "metadata": {},
   "outputs": [
    {
     "data": {
      "text/html": [
       "<div>\n",
       "<style scoped>\n",
       "    .dataframe tbody tr th:only-of-type {\n",
       "        vertical-align: middle;\n",
       "    }\n",
       "\n",
       "    .dataframe tbody tr th {\n",
       "        vertical-align: top;\n",
       "    }\n",
       "\n",
       "    .dataframe thead th {\n",
       "        text-align: right;\n",
       "    }\n",
       "</style>\n",
       "<table border=\"1\" class=\"dataframe\">\n",
       "  <thead>\n",
       "    <tr style=\"text-align: right;\">\n",
       "      <th></th>\n",
       "      <th>name</th>\n",
       "      <th>platform</th>\n",
       "      <th>year_of_release</th>\n",
       "      <th>genre</th>\n",
       "      <th>na_sales</th>\n",
       "      <th>eu_sales</th>\n",
       "      <th>jp_sales</th>\n",
       "      <th>other_sales</th>\n",
       "      <th>critic_score</th>\n",
       "      <th>user_score</th>\n",
       "      <th>rating</th>\n",
       "    </tr>\n",
       "  </thead>\n",
       "  <tbody>\n",
       "    <tr>\n",
       "      <th>0</th>\n",
       "      <td>Wii Sports</td>\n",
       "      <td>Wii</td>\n",
       "      <td>2006.0</td>\n",
       "      <td>Sports</td>\n",
       "      <td>41.36</td>\n",
       "      <td>28.96</td>\n",
       "      <td>3.77</td>\n",
       "      <td>8.45</td>\n",
       "      <td>76.0</td>\n",
       "      <td>8</td>\n",
       "      <td>E</td>\n",
       "    </tr>\n",
       "    <tr>\n",
       "      <th>1</th>\n",
       "      <td>Super Mario Bros.</td>\n",
       "      <td>NES</td>\n",
       "      <td>1985.0</td>\n",
       "      <td>Platform</td>\n",
       "      <td>29.08</td>\n",
       "      <td>3.58</td>\n",
       "      <td>6.81</td>\n",
       "      <td>0.77</td>\n",
       "      <td>NaN</td>\n",
       "      <td>NaN</td>\n",
       "      <td>NaN</td>\n",
       "    </tr>\n",
       "    <tr>\n",
       "      <th>2</th>\n",
       "      <td>Mario Kart Wii</td>\n",
       "      <td>Wii</td>\n",
       "      <td>2008.0</td>\n",
       "      <td>Racing</td>\n",
       "      <td>15.68</td>\n",
       "      <td>12.76</td>\n",
       "      <td>3.79</td>\n",
       "      <td>3.29</td>\n",
       "      <td>82.0</td>\n",
       "      <td>8.3</td>\n",
       "      <td>E</td>\n",
       "    </tr>\n",
       "    <tr>\n",
       "      <th>3</th>\n",
       "      <td>Wii Sports Resort</td>\n",
       "      <td>Wii</td>\n",
       "      <td>2009.0</td>\n",
       "      <td>Sports</td>\n",
       "      <td>15.61</td>\n",
       "      <td>10.93</td>\n",
       "      <td>3.28</td>\n",
       "      <td>2.95</td>\n",
       "      <td>80.0</td>\n",
       "      <td>8</td>\n",
       "      <td>E</td>\n",
       "    </tr>\n",
       "    <tr>\n",
       "      <th>4</th>\n",
       "      <td>Pokemon Red/Pokemon Blue</td>\n",
       "      <td>GB</td>\n",
       "      <td>1996.0</td>\n",
       "      <td>Role-Playing</td>\n",
       "      <td>11.27</td>\n",
       "      <td>8.89</td>\n",
       "      <td>10.22</td>\n",
       "      <td>1.00</td>\n",
       "      <td>NaN</td>\n",
       "      <td>NaN</td>\n",
       "      <td>NaN</td>\n",
       "    </tr>\n",
       "    <tr>\n",
       "      <th>5</th>\n",
       "      <td>Tetris</td>\n",
       "      <td>GB</td>\n",
       "      <td>1989.0</td>\n",
       "      <td>Puzzle</td>\n",
       "      <td>23.20</td>\n",
       "      <td>2.26</td>\n",
       "      <td>4.22</td>\n",
       "      <td>0.58</td>\n",
       "      <td>NaN</td>\n",
       "      <td>NaN</td>\n",
       "      <td>NaN</td>\n",
       "    </tr>\n",
       "    <tr>\n",
       "      <th>6</th>\n",
       "      <td>New Super Mario Bros.</td>\n",
       "      <td>DS</td>\n",
       "      <td>2006.0</td>\n",
       "      <td>Platform</td>\n",
       "      <td>11.28</td>\n",
       "      <td>9.14</td>\n",
       "      <td>6.50</td>\n",
       "      <td>2.88</td>\n",
       "      <td>89.0</td>\n",
       "      <td>8.5</td>\n",
       "      <td>E</td>\n",
       "    </tr>\n",
       "    <tr>\n",
       "      <th>7</th>\n",
       "      <td>Wii Play</td>\n",
       "      <td>Wii</td>\n",
       "      <td>2006.0</td>\n",
       "      <td>Misc</td>\n",
       "      <td>13.96</td>\n",
       "      <td>9.18</td>\n",
       "      <td>2.93</td>\n",
       "      <td>2.84</td>\n",
       "      <td>58.0</td>\n",
       "      <td>6.6</td>\n",
       "      <td>E</td>\n",
       "    </tr>\n",
       "    <tr>\n",
       "      <th>8</th>\n",
       "      <td>New Super Mario Bros. Wii</td>\n",
       "      <td>Wii</td>\n",
       "      <td>2009.0</td>\n",
       "      <td>Platform</td>\n",
       "      <td>14.44</td>\n",
       "      <td>6.94</td>\n",
       "      <td>4.70</td>\n",
       "      <td>2.24</td>\n",
       "      <td>87.0</td>\n",
       "      <td>8.4</td>\n",
       "      <td>E</td>\n",
       "    </tr>\n",
       "    <tr>\n",
       "      <th>9</th>\n",
       "      <td>Duck Hunt</td>\n",
       "      <td>NES</td>\n",
       "      <td>1984.0</td>\n",
       "      <td>Shooter</td>\n",
       "      <td>26.93</td>\n",
       "      <td>0.63</td>\n",
       "      <td>0.28</td>\n",
       "      <td>0.47</td>\n",
       "      <td>NaN</td>\n",
       "      <td>NaN</td>\n",
       "      <td>NaN</td>\n",
       "    </tr>\n",
       "  </tbody>\n",
       "</table>\n",
       "</div>"
      ],
      "text/plain": [
       "                        name platform  year_of_release         genre  \\\n",
       "0                 Wii Sports      Wii           2006.0        Sports   \n",
       "1          Super Mario Bros.      NES           1985.0      Platform   \n",
       "2             Mario Kart Wii      Wii           2008.0        Racing   \n",
       "3          Wii Sports Resort      Wii           2009.0        Sports   \n",
       "4   Pokemon Red/Pokemon Blue       GB           1996.0  Role-Playing   \n",
       "5                     Tetris       GB           1989.0        Puzzle   \n",
       "6      New Super Mario Bros.       DS           2006.0      Platform   \n",
       "7                   Wii Play      Wii           2006.0          Misc   \n",
       "8  New Super Mario Bros. Wii      Wii           2009.0      Platform   \n",
       "9                  Duck Hunt      NES           1984.0       Shooter   \n",
       "\n",
       "   na_sales  eu_sales  jp_sales  other_sales  critic_score user_score rating  \n",
       "0     41.36     28.96      3.77         8.45          76.0          8      E  \n",
       "1     29.08      3.58      6.81         0.77           NaN        NaN    NaN  \n",
       "2     15.68     12.76      3.79         3.29          82.0        8.3      E  \n",
       "3     15.61     10.93      3.28         2.95          80.0          8      E  \n",
       "4     11.27      8.89     10.22         1.00           NaN        NaN    NaN  \n",
       "5     23.20      2.26      4.22         0.58           NaN        NaN    NaN  \n",
       "6     11.28      9.14      6.50         2.88          89.0        8.5      E  \n",
       "7     13.96      9.18      2.93         2.84          58.0        6.6      E  \n",
       "8     14.44      6.94      4.70         2.24          87.0        8.4      E  \n",
       "9     26.93      0.63      0.28         0.47           NaN        NaN    NaN  "
      ]
     },
     "metadata": {},
     "output_type": "display_data"
    },
    {
     "name": "stdout",
     "output_type": "stream",
     "text": [
      "<class 'pandas.core.frame.DataFrame'>\n",
      "RangeIndex: 16715 entries, 0 to 16714\n",
      "Data columns (total 11 columns):\n",
      " #   Column           Non-Null Count  Dtype  \n",
      "---  ------           --------------  -----  \n",
      " 0   name             16713 non-null  object \n",
      " 1   platform         16715 non-null  object \n",
      " 2   year_of_release  16446 non-null  float64\n",
      " 3   genre            16713 non-null  object \n",
      " 4   na_sales         16715 non-null  float64\n",
      " 5   eu_sales         16715 non-null  float64\n",
      " 6   jp_sales         16715 non-null  float64\n",
      " 7   other_sales      16715 non-null  float64\n",
      " 8   critic_score     8137 non-null   float64\n",
      " 9   user_score       10014 non-null  object \n",
      " 10  rating           9949 non-null   object \n",
      "dtypes: float64(6), object(5)\n",
      "memory usage: 1.4+ MB\n"
     ]
    }
   ],
   "source": [
    "data.columns = data.columns.str.lower()\n",
    "display(data.head(10))\n",
    "data.info()"
   ]
  },
  {
   "cell_type": "markdown",
   "metadata": {},
   "source": [
    "#### 2.2. Преобразование данных в нужные типы."
   ]
  },
  {
   "cell_type": "markdown",
   "metadata": {},
   "source": [
    "Итак, нам нужно поментяь типы данных в следующих столбцах: \n",
    "1. year_of_release на тип Date, так как в этом столбце у нас хранится год выпуска игры. \n",
    "2. user_score на тип float64, так как оценки у нас выражены в вещественных числах."
   ]
  },
  {
   "cell_type": "code",
   "execution_count": 5,
   "metadata": {},
   "outputs": [],
   "source": [
    "data['year_of_release'] = pd.to_datetime(data['year_of_release'], format=\"%Y\")\n",
    "data['year_of_release'] = data['year_of_release'].dt.year"
   ]
  },
  {
   "cell_type": "markdown",
   "metadata": {},
   "source": [
    "При изменении типа данных в столбце 'user_score' наткнулись на текстовый tbd, разберем его позже."
   ]
  },
  {
   "cell_type": "markdown",
   "metadata": {},
   "source": [
    "#### 2.3. Обработка пропусков"
   ]
  },
  {
   "cell_type": "markdown",
   "metadata": {},
   "source": [
    "Посмтрим количество пропусков, но сначала выведем информацию о количестве строк и столбцов в таблице."
   ]
  },
  {
   "cell_type": "code",
   "execution_count": 6,
   "metadata": {},
   "outputs": [
    {
     "name": "stdout",
     "output_type": "stream",
     "text": [
      "В таблице 16715 строк и 11 столбцов\n"
     ]
    }
   ],
   "source": [
    "print('В таблице', data.shape[0], 'строк и', data.shape[1], 'столбцов')"
   ]
  },
  {
   "cell_type": "markdown",
   "metadata": {},
   "source": [
    "Количество пропусков:"
   ]
  },
  {
   "cell_type": "code",
   "execution_count": 7,
   "metadata": {},
   "outputs": [
    {
     "name": "stdout",
     "output_type": "stream",
     "text": [
      "name                  2\n",
      "platform              0\n",
      "year_of_release     269\n",
      "genre                 2\n",
      "na_sales              0\n",
      "eu_sales              0\n",
      "jp_sales              0\n",
      "other_sales           0\n",
      "critic_score       8578\n",
      "user_score         6701\n",
      "rating             6766\n",
      "dtype: int64\n"
     ]
    }
   ],
   "source": [
    "print(data.isnull().sum())"
   ]
  },
  {
   "cell_type": "markdown",
   "metadata": {},
   "source": [
    "Процент пропусков:"
   ]
  },
  {
   "cell_type": "code",
   "execution_count": 8,
   "metadata": {},
   "outputs": [
    {
     "name": "stdout",
     "output_type": "stream",
     "text": [
      "name                0.011965\n",
      "platform            0.000000\n",
      "year_of_release     1.609333\n",
      "genre               0.011965\n",
      "na_sales            0.000000\n",
      "eu_sales            0.000000\n",
      "jp_sales            0.000000\n",
      "other_sales         0.000000\n",
      "critic_score       51.319174\n",
      "user_score         40.089740\n",
      "rating             40.478612\n",
      "dtype: float64\n"
     ]
    }
   ],
   "source": [
    "print(data.isnull().sum() / data.shape[0] * 100)"
   ]
  },
  {
   "cell_type": "markdown",
   "metadata": {},
   "source": [
    "2 пропуска в столбце с именем, удалим эти строки.<br>\n",
    "1.6% пропусков в данных года релиза, также можно этими данными принебречь.<br>\n",
    "2 пропуска в жанре, удалим эти строки.<br>\n",
    "И существенное количество пропусков в данных critic_score, user_score и rating."
   ]
  },
  {
   "cell_type": "code",
   "execution_count": 9,
   "metadata": {},
   "outputs": [
    {
     "data": {
      "text/html": [
       "<div>\n",
       "<style scoped>\n",
       "    .dataframe tbody tr th:only-of-type {\n",
       "        vertical-align: middle;\n",
       "    }\n",
       "\n",
       "    .dataframe tbody tr th {\n",
       "        vertical-align: top;\n",
       "    }\n",
       "\n",
       "    .dataframe thead th {\n",
       "        text-align: right;\n",
       "    }\n",
       "</style>\n",
       "<table border=\"1\" class=\"dataframe\">\n",
       "  <thead>\n",
       "    <tr style=\"text-align: right;\">\n",
       "      <th></th>\n",
       "      <th>name</th>\n",
       "      <th>platform</th>\n",
       "      <th>year_of_release</th>\n",
       "      <th>genre</th>\n",
       "      <th>na_sales</th>\n",
       "      <th>eu_sales</th>\n",
       "      <th>jp_sales</th>\n",
       "      <th>other_sales</th>\n",
       "      <th>critic_score</th>\n",
       "      <th>user_score</th>\n",
       "      <th>rating</th>\n",
       "    </tr>\n",
       "  </thead>\n",
       "  <tbody>\n",
       "    <tr>\n",
       "      <th>16443</th>\n",
       "      <td>Winning Post 8 2016</td>\n",
       "      <td>PSV</td>\n",
       "      <td>2016.0</td>\n",
       "      <td>Simulation</td>\n",
       "      <td>0.00</td>\n",
       "      <td>0.00</td>\n",
       "      <td>0.01</td>\n",
       "      <td>0.00</td>\n",
       "      <td>NaN</td>\n",
       "      <td>NaN</td>\n",
       "      <td>NaN</td>\n",
       "    </tr>\n",
       "    <tr>\n",
       "      <th>15881</th>\n",
       "      <td>Dead Rising</td>\n",
       "      <td>XOne</td>\n",
       "      <td>2016.0</td>\n",
       "      <td>Action</td>\n",
       "      <td>0.01</td>\n",
       "      <td>0.00</td>\n",
       "      <td>0.00</td>\n",
       "      <td>0.00</td>\n",
       "      <td>NaN</td>\n",
       "      <td>8.8</td>\n",
       "      <td>M</td>\n",
       "    </tr>\n",
       "    <tr>\n",
       "      <th>15844</th>\n",
       "      <td>Period Cube: Torikago no Amadeus</td>\n",
       "      <td>PSV</td>\n",
       "      <td>2016.0</td>\n",
       "      <td>Action</td>\n",
       "      <td>0.00</td>\n",
       "      <td>0.00</td>\n",
       "      <td>0.01</td>\n",
       "      <td>0.00</td>\n",
       "      <td>NaN</td>\n",
       "      <td>NaN</td>\n",
       "      <td>NaN</td>\n",
       "    </tr>\n",
       "    <tr>\n",
       "      <th>7459</th>\n",
       "      <td>The Heavy Rain and Beyond: Two Souls Collection</td>\n",
       "      <td>PS4</td>\n",
       "      <td>2016.0</td>\n",
       "      <td>Action</td>\n",
       "      <td>0.00</td>\n",
       "      <td>0.17</td>\n",
       "      <td>0.00</td>\n",
       "      <td>0.03</td>\n",
       "      <td>NaN</td>\n",
       "      <td>NaN</td>\n",
       "      <td>NaN</td>\n",
       "    </tr>\n",
       "    <tr>\n",
       "      <th>13357</th>\n",
       "      <td>Refrain no Chika Meikyuu to Majo no Ryodan</td>\n",
       "      <td>PSV</td>\n",
       "      <td>2016.0</td>\n",
       "      <td>Action</td>\n",
       "      <td>0.00</td>\n",
       "      <td>0.00</td>\n",
       "      <td>0.04</td>\n",
       "      <td>0.00</td>\n",
       "      <td>NaN</td>\n",
       "      <td>NaN</td>\n",
       "      <td>NaN</td>\n",
       "    </tr>\n",
       "  </tbody>\n",
       "</table>\n",
       "</div>"
      ],
      "text/plain": [
       "                                                  name platform  \\\n",
       "16443                              Winning Post 8 2016      PSV   \n",
       "15881                                      Dead Rising     XOne   \n",
       "15844                 Period Cube: Torikago no Amadeus      PSV   \n",
       "7459   The Heavy Rain and Beyond: Two Souls Collection      PS4   \n",
       "13357       Refrain no Chika Meikyuu to Majo no Ryodan      PSV   \n",
       "\n",
       "       year_of_release       genre  na_sales  eu_sales  jp_sales  other_sales  \\\n",
       "16443           2016.0  Simulation      0.00      0.00      0.01         0.00   \n",
       "15881           2016.0      Action      0.01      0.00      0.00         0.00   \n",
       "15844           2016.0      Action      0.00      0.00      0.01         0.00   \n",
       "7459            2016.0      Action      0.00      0.17      0.00         0.03   \n",
       "13357           2016.0      Action      0.00      0.00      0.04         0.00   \n",
       "\n",
       "       critic_score user_score rating  \n",
       "16443           NaN        NaN    NaN  \n",
       "15881           NaN        8.8      M  \n",
       "15844           NaN        NaN    NaN  \n",
       "7459            NaN        NaN    NaN  \n",
       "13357           NaN        NaN    NaN  "
      ]
     },
     "metadata": {},
     "output_type": "display_data"
    }
   ],
   "source": [
    "data = data.dropna(subset=['name', 'year_of_release', 'genre']).reset_index(drop=True)\n",
    "#print(data.isnull().sum())\n",
    "display(data[data.isna().any(axis=1)].sort_values(by='year_of_release', ascending=False).head())"
   ]
  },
  {
   "cell_type": "markdown",
   "metadata": {},
   "source": [
    "Пропуски в рейтингах могут быть по нескольким причинам. Ну во-первых, игру выпущенные в 80-х и 90-х годах врядли подвергались оценкам критиков и пользователей, потому что в то время даже интренет не был распространен и никаких систем оценок не существовало. Во-вторых, продажи игр, вышедших в 2016 году, еще не достигли того уровня, при которм можно получить более или менее достоверную оценку."
   ]
  },
  {
   "cell_type": "markdown",
   "metadata": {},
   "source": [
    "##### Возвращаемся к аббревиатуре 'tbd' в столбце с оценкой пользователей."
   ]
  },
  {
   "cell_type": "markdown",
   "metadata": {},
   "source": [
    "Рейтинг Tbd (To be determined) игр — это система оценки и ранжирования видеоигр, которые еще находятся в разработке или вышли недавно и пока не имеют достаточного количества оценок и отзывов от игроков и критиков. Значит данных просто нет, а это как мы знаем NaN. Будет справедливо значение tbd изменить на NaN.\n"
   ]
  },
  {
   "cell_type": "code",
   "execution_count": 10,
   "metadata": {},
   "outputs": [
    {
     "data": {
      "text/html": [
       "<div>\n",
       "<style scoped>\n",
       "    .dataframe tbody tr th:only-of-type {\n",
       "        vertical-align: middle;\n",
       "    }\n",
       "\n",
       "    .dataframe tbody tr th {\n",
       "        vertical-align: top;\n",
       "    }\n",
       "\n",
       "    .dataframe thead th {\n",
       "        text-align: right;\n",
       "    }\n",
       "</style>\n",
       "<table border=\"1\" class=\"dataframe\">\n",
       "  <thead>\n",
       "    <tr style=\"text-align: right;\">\n",
       "      <th></th>\n",
       "      <th>name</th>\n",
       "      <th>platform</th>\n",
       "      <th>year_of_release</th>\n",
       "      <th>genre</th>\n",
       "      <th>na_sales</th>\n",
       "      <th>eu_sales</th>\n",
       "      <th>jp_sales</th>\n",
       "      <th>other_sales</th>\n",
       "      <th>critic_score</th>\n",
       "      <th>user_score</th>\n",
       "      <th>rating</th>\n",
       "    </tr>\n",
       "  </thead>\n",
       "  <tbody>\n",
       "    <tr>\n",
       "      <th>119</th>\n",
       "      <td>Zumba Fitness</td>\n",
       "      <td>Wii</td>\n",
       "      <td>2010.0</td>\n",
       "      <td>Sports</td>\n",
       "      <td>3.45</td>\n",
       "      <td>2.59</td>\n",
       "      <td>0.00</td>\n",
       "      <td>0.66</td>\n",
       "      <td>NaN</td>\n",
       "      <td>tbd</td>\n",
       "      <td>E</td>\n",
       "    </tr>\n",
       "    <tr>\n",
       "      <th>300</th>\n",
       "      <td>Namco Museum: 50th Anniversary</td>\n",
       "      <td>PS2</td>\n",
       "      <td>2005.0</td>\n",
       "      <td>Misc</td>\n",
       "      <td>2.08</td>\n",
       "      <td>1.35</td>\n",
       "      <td>0.00</td>\n",
       "      <td>0.54</td>\n",
       "      <td>61.0</td>\n",
       "      <td>tbd</td>\n",
       "      <td>E10+</td>\n",
       "    </tr>\n",
       "    <tr>\n",
       "      <th>516</th>\n",
       "      <td>Zumba Fitness 2</td>\n",
       "      <td>Wii</td>\n",
       "      <td>2011.0</td>\n",
       "      <td>Sports</td>\n",
       "      <td>1.51</td>\n",
       "      <td>1.03</td>\n",
       "      <td>0.00</td>\n",
       "      <td>0.27</td>\n",
       "      <td>NaN</td>\n",
       "      <td>tbd</td>\n",
       "      <td>T</td>\n",
       "    </tr>\n",
       "    <tr>\n",
       "      <th>639</th>\n",
       "      <td>uDraw Studio</td>\n",
       "      <td>Wii</td>\n",
       "      <td>2010.0</td>\n",
       "      <td>Misc</td>\n",
       "      <td>1.65</td>\n",
       "      <td>0.57</td>\n",
       "      <td>0.00</td>\n",
       "      <td>0.20</td>\n",
       "      <td>71.0</td>\n",
       "      <td>tbd</td>\n",
       "      <td>E</td>\n",
       "    </tr>\n",
       "    <tr>\n",
       "      <th>709</th>\n",
       "      <td>Just Dance Kids</td>\n",
       "      <td>Wii</td>\n",
       "      <td>2010.0</td>\n",
       "      <td>Misc</td>\n",
       "      <td>1.52</td>\n",
       "      <td>0.54</td>\n",
       "      <td>0.00</td>\n",
       "      <td>0.18</td>\n",
       "      <td>NaN</td>\n",
       "      <td>tbd</td>\n",
       "      <td>E</td>\n",
       "    </tr>\n",
       "    <tr>\n",
       "      <th>716</th>\n",
       "      <td>Dance Dance Revolution X2</td>\n",
       "      <td>PS2</td>\n",
       "      <td>2009.0</td>\n",
       "      <td>Simulation</td>\n",
       "      <td>1.09</td>\n",
       "      <td>0.85</td>\n",
       "      <td>0.00</td>\n",
       "      <td>0.28</td>\n",
       "      <td>NaN</td>\n",
       "      <td>tbd</td>\n",
       "      <td>E10+</td>\n",
       "    </tr>\n",
       "    <tr>\n",
       "      <th>810</th>\n",
       "      <td>The Incredibles</td>\n",
       "      <td>GBA</td>\n",
       "      <td>2004.0</td>\n",
       "      <td>Action</td>\n",
       "      <td>1.15</td>\n",
       "      <td>0.77</td>\n",
       "      <td>0.04</td>\n",
       "      <td>0.10</td>\n",
       "      <td>55.0</td>\n",
       "      <td>tbd</td>\n",
       "      <td>E</td>\n",
       "    </tr>\n",
       "    <tr>\n",
       "      <th>870</th>\n",
       "      <td>Who wants to be a millionaire</td>\n",
       "      <td>PC</td>\n",
       "      <td>1999.0</td>\n",
       "      <td>Misc</td>\n",
       "      <td>1.94</td>\n",
       "      <td>0.00</td>\n",
       "      <td>0.00</td>\n",
       "      <td>0.00</td>\n",
       "      <td>NaN</td>\n",
       "      <td>tbd</td>\n",
       "      <td>E</td>\n",
       "    </tr>\n",
       "    <tr>\n",
       "      <th>1036</th>\n",
       "      <td>Tetris Worlds</td>\n",
       "      <td>GBA</td>\n",
       "      <td>2001.0</td>\n",
       "      <td>Puzzle</td>\n",
       "      <td>1.25</td>\n",
       "      <td>0.39</td>\n",
       "      <td>0.00</td>\n",
       "      <td>0.06</td>\n",
       "      <td>65.0</td>\n",
       "      <td>tbd</td>\n",
       "      <td>E</td>\n",
       "    </tr>\n",
       "    <tr>\n",
       "      <th>1037</th>\n",
       "      <td>Imagine: Teacher</td>\n",
       "      <td>DS</td>\n",
       "      <td>2008.0</td>\n",
       "      <td>Simulation</td>\n",
       "      <td>0.70</td>\n",
       "      <td>0.82</td>\n",
       "      <td>0.00</td>\n",
       "      <td>0.19</td>\n",
       "      <td>NaN</td>\n",
       "      <td>tbd</td>\n",
       "      <td>E</td>\n",
       "    </tr>\n",
       "  </tbody>\n",
       "</table>\n",
       "</div>"
      ],
      "text/plain": [
       "                                name platform  year_of_release       genre  \\\n",
       "119                    Zumba Fitness      Wii           2010.0      Sports   \n",
       "300   Namco Museum: 50th Anniversary      PS2           2005.0        Misc   \n",
       "516                  Zumba Fitness 2      Wii           2011.0      Sports   \n",
       "639                     uDraw Studio      Wii           2010.0        Misc   \n",
       "709                  Just Dance Kids      Wii           2010.0        Misc   \n",
       "716        Dance Dance Revolution X2      PS2           2009.0  Simulation   \n",
       "810                  The Incredibles      GBA           2004.0      Action   \n",
       "870    Who wants to be a millionaire       PC           1999.0        Misc   \n",
       "1036                   Tetris Worlds      GBA           2001.0      Puzzle   \n",
       "1037                Imagine: Teacher       DS           2008.0  Simulation   \n",
       "\n",
       "      na_sales  eu_sales  jp_sales  other_sales  critic_score user_score  \\\n",
       "119       3.45      2.59      0.00         0.66           NaN        tbd   \n",
       "300       2.08      1.35      0.00         0.54          61.0        tbd   \n",
       "516       1.51      1.03      0.00         0.27           NaN        tbd   \n",
       "639       1.65      0.57      0.00         0.20          71.0        tbd   \n",
       "709       1.52      0.54      0.00         0.18           NaN        tbd   \n",
       "716       1.09      0.85      0.00         0.28           NaN        tbd   \n",
       "810       1.15      0.77      0.04         0.10          55.0        tbd   \n",
       "870       1.94      0.00      0.00         0.00           NaN        tbd   \n",
       "1036      1.25      0.39      0.00         0.06          65.0        tbd   \n",
       "1037      0.70      0.82      0.00         0.19           NaN        tbd   \n",
       "\n",
       "     rating  \n",
       "119       E  \n",
       "300    E10+  \n",
       "516       T  \n",
       "639       E  \n",
       "709       E  \n",
       "716    E10+  \n",
       "810       E  \n",
       "870       E  \n",
       "1036      E  \n",
       "1037      E  "
      ]
     },
     "metadata": {},
     "output_type": "display_data"
    }
   ],
   "source": [
    "display(data.query('user_score == \"tbd\"').head(10))\n",
    "data = data.replace('tbd', np.nan)"
   ]
  },
  {
   "cell_type": "markdown",
   "metadata": {},
   "source": [
    "Теперь меняем тип данных в столбце с рейтиногм пользвателей"
   ]
  },
  {
   "cell_type": "code",
   "execution_count": 11,
   "metadata": {},
   "outputs": [
    {
     "name": "stdout",
     "output_type": "stream",
     "text": [
      "<class 'pandas.core.frame.DataFrame'>\n",
      "RangeIndex: 16444 entries, 0 to 16443\n",
      "Data columns (total 11 columns):\n",
      " #   Column           Non-Null Count  Dtype  \n",
      "---  ------           --------------  -----  \n",
      " 0   name             16444 non-null  object \n",
      " 1   platform         16444 non-null  object \n",
      " 2   year_of_release  16444 non-null  float64\n",
      " 3   genre            16444 non-null  object \n",
      " 4   na_sales         16444 non-null  float64\n",
      " 5   eu_sales         16444 non-null  float64\n",
      " 6   jp_sales         16444 non-null  float64\n",
      " 7   other_sales      16444 non-null  float64\n",
      " 8   critic_score     7983 non-null   float64\n",
      " 9   user_score       7463 non-null   float64\n",
      " 10  rating           9768 non-null   object \n",
      "dtypes: float64(7), object(4)\n",
      "memory usage: 1.4+ MB\n"
     ]
    }
   ],
   "source": [
    "data['user_score'] = pd.to_numeric(data['user_score'])\n",
    "data.info()"
   ]
  },
  {
   "cell_type": "markdown",
   "metadata": {},
   "source": [
    "Для того, чтобы мы могли производить операции с рейтнгом ESRB, его также нужно перевести float.<br>\n",
    "Ознакомимся с обозначением рейтингов:<br>\n",
    "1. «EC» («Early childhood») — «Для детей младшего возраста»: Игра подходит для детей от 3 лет и не содержит материалов, которые родители могли бы счесть неподходящими.\n",
    "2. «E» («Everyone») — «Для всех»: Содержание вполне подходит для всех возрастов (ранее с 6 лет). Первоначально \"K-A\" (\"Kids to Adults\")\n",
    "3. «E10+» («Everyone 10 and older») — «Для всех от 10 лет и старше».\n",
    "4. «T» («Teen») — «Подросткам»: Игра подходит для лиц от 13 лет.\n",
    "5. «M» («Mature») — «Для взрослых»: Материалы игры не подходят для лиц младше 17 лет.\n",
    "6. «AO» («Adults Only 18+») — «Только для взрослых»: Содержание игры только для взрослых старше 18 лет. \n",
    "7. «RP» («Rating Pending») — «Рейтинг ожидается»: Продукт был отправлен в ESRB и ожидает присвоения рейтинга. \n",
    "8. «RP 17+» («Rating Pending») — «Рейтинг ожидается - примерно 17+».\n"
   ]
  },
  {
   "cell_type": "markdown",
   "metadata": {},
   "source": [
    "Найдем все уникальные значений столбца rating"
   ]
  },
  {
   "cell_type": "code",
   "execution_count": 12,
   "metadata": {},
   "outputs": [
    {
     "name": "stdout",
     "output_type": "stream",
     "text": [
      "['E' nan 'M' 'T' 'E10+' 'K-A' 'AO' 'EC' 'RP']\n"
     ]
    }
   ],
   "source": [
    "print(data['rating'].unique())"
   ]
  },
  {
   "cell_type": "markdown",
   "metadata": {},
   "source": [
    "У нас нет RP 17+, но есть K-A, а это тоже самое что Е. Заменим все K-A на Е."
   ]
  },
  {
   "cell_type": "code",
   "execution_count": 13,
   "metadata": {},
   "outputs": [
    {
     "name": "stdout",
     "output_type": "stream",
     "text": [
      "['E' nan 'M' 'T' 'E10+' 'AO' 'EC' 'RP']\n"
     ]
    }
   ],
   "source": [
    "data.loc[(data['rating'] == 'K-A'), 'rating'] = 'E'\n",
    "list_rating = data['rating'].unique()\n",
    "print(list_rating)"
   ]
  },
  {
   "cell_type": "markdown",
   "metadata": {},
   "source": [
    "Каждое значение рейтинга присуще минимальному возрасту игроков. Поэтому вмест буквенных обозначений создадим столбец с минимальным возрастом, а именно:\n",
    "1. «EC»   -> 3\n",
    "2. «E»    -> 6\n",
    "3. «E10+» -> 10\n",
    "4. «T»    -> 13\n",
    "5. «M»    -> 17\n",
    "6. «AO»   -> 18 \n",
    "7. «RP» -> Nan "
   ]
  },
  {
   "cell_type": "code",
   "execution_count": 14,
   "metadata": {},
   "outputs": [],
   "source": [
    "def rating(row):\n",
    "    if row['rating'] == 'EC':\n",
    "        return 3\n",
    "    elif row['rating'] == 'E':\n",
    "        return 6\n",
    "    elif row['rating'] == 'E10+':\n",
    "        return 10\n",
    "    elif row['rating'] == 'T':\n",
    "        return 13\n",
    "    elif row['rating'] == 'M':\n",
    "        return 17\n",
    "    elif row['rating'] == 'AO':\n",
    "        return 18\n",
    "    else:\n",
    "        return 'Undefined'\n",
    "\n",
    "data['rating_esrb'] = data.apply(rating, axis=1)\n",
    "data = data.replace('Undefined', np.nan)  "
   ]
  },
  {
   "cell_type": "markdown",
   "metadata": {},
   "source": [
    "##### Проверим дубликаты"
   ]
  },
  {
   "cell_type": "code",
   "execution_count": 15,
   "metadata": {},
   "outputs": [
    {
     "name": "stdout",
     "output_type": "stream",
     "text": [
      "Повторяющихся строк в data: 0\n"
     ]
    }
   ],
   "source": [
    "print('Повторяющихся строк в data:', data.duplicated().sum())"
   ]
  },
  {
   "cell_type": "markdown",
   "metadata": {},
   "source": [
    "##### Проверяем дубликаты по столбцам с именем, платформой и годом выпуска"
   ]
  },
  {
   "cell_type": "code",
   "execution_count": 16,
   "metadata": {},
   "outputs": [
    {
     "name": "stdout",
     "output_type": "stream",
     "text": [
      "1\n"
     ]
    }
   ],
   "source": [
    "print(data.duplicated(subset=['name', 'platform', 'year_of_release']).sum())"
   ]
  },
  {
   "cell_type": "markdown",
   "metadata": {},
   "source": [
    "Удаляем этот дубликат"
   ]
  },
  {
   "cell_type": "code",
   "execution_count": 17,
   "metadata": {},
   "outputs": [],
   "source": [
    "data = data.drop_duplicates(subset=['name', 'platform', 'year_of_release'], keep='last')"
   ]
  },
  {
   "cell_type": "markdown",
   "metadata": {},
   "source": [
    "Пропуски в данных оценок не поддаются исправлеию, так как нечем их заменить."
   ]
  },
  {
   "cell_type": "markdown",
   "metadata": {},
   "source": [
    "#### 2.4. Посчитаем суммарные продажи во всех регионах и запишем их в отдельный столбец."
   ]
  },
  {
   "cell_type": "code",
   "execution_count": 18,
   "metadata": {},
   "outputs": [
    {
     "data": {
      "text/html": [
       "<div>\n",
       "<style scoped>\n",
       "    .dataframe tbody tr th:only-of-type {\n",
       "        vertical-align: middle;\n",
       "    }\n",
       "\n",
       "    .dataframe tbody tr th {\n",
       "        vertical-align: top;\n",
       "    }\n",
       "\n",
       "    .dataframe thead th {\n",
       "        text-align: right;\n",
       "    }\n",
       "</style>\n",
       "<table border=\"1\" class=\"dataframe\">\n",
       "  <thead>\n",
       "    <tr style=\"text-align: right;\">\n",
       "      <th></th>\n",
       "      <th>name</th>\n",
       "      <th>platform</th>\n",
       "      <th>year_of_release</th>\n",
       "      <th>genre</th>\n",
       "      <th>na_sales</th>\n",
       "      <th>eu_sales</th>\n",
       "      <th>jp_sales</th>\n",
       "      <th>other_sales</th>\n",
       "      <th>critic_score</th>\n",
       "      <th>user_score</th>\n",
       "      <th>rating</th>\n",
       "      <th>rating_esrb</th>\n",
       "      <th>total_sales</th>\n",
       "    </tr>\n",
       "  </thead>\n",
       "  <tbody>\n",
       "    <tr>\n",
       "      <th>0</th>\n",
       "      <td>Wii Sports</td>\n",
       "      <td>Wii</td>\n",
       "      <td>2006.0</td>\n",
       "      <td>Sports</td>\n",
       "      <td>41.36</td>\n",
       "      <td>28.96</td>\n",
       "      <td>3.77</td>\n",
       "      <td>8.45</td>\n",
       "      <td>76.0</td>\n",
       "      <td>8.0</td>\n",
       "      <td>E</td>\n",
       "      <td>6.0</td>\n",
       "      <td>82.54</td>\n",
       "    </tr>\n",
       "    <tr>\n",
       "      <th>1</th>\n",
       "      <td>Super Mario Bros.</td>\n",
       "      <td>NES</td>\n",
       "      <td>1985.0</td>\n",
       "      <td>Platform</td>\n",
       "      <td>29.08</td>\n",
       "      <td>3.58</td>\n",
       "      <td>6.81</td>\n",
       "      <td>0.77</td>\n",
       "      <td>NaN</td>\n",
       "      <td>NaN</td>\n",
       "      <td>NaN</td>\n",
       "      <td>NaN</td>\n",
       "      <td>40.24</td>\n",
       "    </tr>\n",
       "    <tr>\n",
       "      <th>2</th>\n",
       "      <td>Mario Kart Wii</td>\n",
       "      <td>Wii</td>\n",
       "      <td>2008.0</td>\n",
       "      <td>Racing</td>\n",
       "      <td>15.68</td>\n",
       "      <td>12.76</td>\n",
       "      <td>3.79</td>\n",
       "      <td>3.29</td>\n",
       "      <td>82.0</td>\n",
       "      <td>8.3</td>\n",
       "      <td>E</td>\n",
       "      <td>6.0</td>\n",
       "      <td>35.52</td>\n",
       "    </tr>\n",
       "    <tr>\n",
       "      <th>3</th>\n",
       "      <td>Wii Sports Resort</td>\n",
       "      <td>Wii</td>\n",
       "      <td>2009.0</td>\n",
       "      <td>Sports</td>\n",
       "      <td>15.61</td>\n",
       "      <td>10.93</td>\n",
       "      <td>3.28</td>\n",
       "      <td>2.95</td>\n",
       "      <td>80.0</td>\n",
       "      <td>8.0</td>\n",
       "      <td>E</td>\n",
       "      <td>6.0</td>\n",
       "      <td>32.77</td>\n",
       "    </tr>\n",
       "    <tr>\n",
       "      <th>4</th>\n",
       "      <td>Pokemon Red/Pokemon Blue</td>\n",
       "      <td>GB</td>\n",
       "      <td>1996.0</td>\n",
       "      <td>Role-Playing</td>\n",
       "      <td>11.27</td>\n",
       "      <td>8.89</td>\n",
       "      <td>10.22</td>\n",
       "      <td>1.00</td>\n",
       "      <td>NaN</td>\n",
       "      <td>NaN</td>\n",
       "      <td>NaN</td>\n",
       "      <td>NaN</td>\n",
       "      <td>31.38</td>\n",
       "    </tr>\n",
       "    <tr>\n",
       "      <th>...</th>\n",
       "      <td>...</td>\n",
       "      <td>...</td>\n",
       "      <td>...</td>\n",
       "      <td>...</td>\n",
       "      <td>...</td>\n",
       "      <td>...</td>\n",
       "      <td>...</td>\n",
       "      <td>...</td>\n",
       "      <td>...</td>\n",
       "      <td>...</td>\n",
       "      <td>...</td>\n",
       "      <td>...</td>\n",
       "      <td>...</td>\n",
       "    </tr>\n",
       "    <tr>\n",
       "      <th>16439</th>\n",
       "      <td>Samurai Warriors: Sanada Maru</td>\n",
       "      <td>PS3</td>\n",
       "      <td>2016.0</td>\n",
       "      <td>Action</td>\n",
       "      <td>0.00</td>\n",
       "      <td>0.00</td>\n",
       "      <td>0.01</td>\n",
       "      <td>0.00</td>\n",
       "      <td>NaN</td>\n",
       "      <td>NaN</td>\n",
       "      <td>NaN</td>\n",
       "      <td>NaN</td>\n",
       "      <td>0.01</td>\n",
       "    </tr>\n",
       "    <tr>\n",
       "      <th>16440</th>\n",
       "      <td>LMA Manager 2007</td>\n",
       "      <td>X360</td>\n",
       "      <td>2006.0</td>\n",
       "      <td>Sports</td>\n",
       "      <td>0.00</td>\n",
       "      <td>0.01</td>\n",
       "      <td>0.00</td>\n",
       "      <td>0.00</td>\n",
       "      <td>NaN</td>\n",
       "      <td>NaN</td>\n",
       "      <td>NaN</td>\n",
       "      <td>NaN</td>\n",
       "      <td>0.01</td>\n",
       "    </tr>\n",
       "    <tr>\n",
       "      <th>16441</th>\n",
       "      <td>Haitaka no Psychedelica</td>\n",
       "      <td>PSV</td>\n",
       "      <td>2016.0</td>\n",
       "      <td>Adventure</td>\n",
       "      <td>0.00</td>\n",
       "      <td>0.00</td>\n",
       "      <td>0.01</td>\n",
       "      <td>0.00</td>\n",
       "      <td>NaN</td>\n",
       "      <td>NaN</td>\n",
       "      <td>NaN</td>\n",
       "      <td>NaN</td>\n",
       "      <td>0.01</td>\n",
       "    </tr>\n",
       "    <tr>\n",
       "      <th>16442</th>\n",
       "      <td>Spirits &amp; Spells</td>\n",
       "      <td>GBA</td>\n",
       "      <td>2003.0</td>\n",
       "      <td>Platform</td>\n",
       "      <td>0.01</td>\n",
       "      <td>0.00</td>\n",
       "      <td>0.00</td>\n",
       "      <td>0.00</td>\n",
       "      <td>NaN</td>\n",
       "      <td>NaN</td>\n",
       "      <td>NaN</td>\n",
       "      <td>NaN</td>\n",
       "      <td>0.01</td>\n",
       "    </tr>\n",
       "    <tr>\n",
       "      <th>16443</th>\n",
       "      <td>Winning Post 8 2016</td>\n",
       "      <td>PSV</td>\n",
       "      <td>2016.0</td>\n",
       "      <td>Simulation</td>\n",
       "      <td>0.00</td>\n",
       "      <td>0.00</td>\n",
       "      <td>0.01</td>\n",
       "      <td>0.00</td>\n",
       "      <td>NaN</td>\n",
       "      <td>NaN</td>\n",
       "      <td>NaN</td>\n",
       "      <td>NaN</td>\n",
       "      <td>0.01</td>\n",
       "    </tr>\n",
       "  </tbody>\n",
       "</table>\n",
       "<p>16443 rows × 13 columns</p>\n",
       "</div>"
      ],
      "text/plain": [
       "                                name platform  year_of_release         genre  \\\n",
       "0                         Wii Sports      Wii           2006.0        Sports   \n",
       "1                  Super Mario Bros.      NES           1985.0      Platform   \n",
       "2                     Mario Kart Wii      Wii           2008.0        Racing   \n",
       "3                  Wii Sports Resort      Wii           2009.0        Sports   \n",
       "4           Pokemon Red/Pokemon Blue       GB           1996.0  Role-Playing   \n",
       "...                              ...      ...              ...           ...   \n",
       "16439  Samurai Warriors: Sanada Maru      PS3           2016.0        Action   \n",
       "16440               LMA Manager 2007     X360           2006.0        Sports   \n",
       "16441        Haitaka no Psychedelica      PSV           2016.0     Adventure   \n",
       "16442               Spirits & Spells      GBA           2003.0      Platform   \n",
       "16443            Winning Post 8 2016      PSV           2016.0    Simulation   \n",
       "\n",
       "       na_sales  eu_sales  jp_sales  other_sales  critic_score  user_score  \\\n",
       "0         41.36     28.96      3.77         8.45          76.0         8.0   \n",
       "1         29.08      3.58      6.81         0.77           NaN         NaN   \n",
       "2         15.68     12.76      3.79         3.29          82.0         8.3   \n",
       "3         15.61     10.93      3.28         2.95          80.0         8.0   \n",
       "4         11.27      8.89     10.22         1.00           NaN         NaN   \n",
       "...         ...       ...       ...          ...           ...         ...   \n",
       "16439      0.00      0.00      0.01         0.00           NaN         NaN   \n",
       "16440      0.00      0.01      0.00         0.00           NaN         NaN   \n",
       "16441      0.00      0.00      0.01         0.00           NaN         NaN   \n",
       "16442      0.01      0.00      0.00         0.00           NaN         NaN   \n",
       "16443      0.00      0.00      0.01         0.00           NaN         NaN   \n",
       "\n",
       "      rating  rating_esrb  total_sales  \n",
       "0          E          6.0        82.54  \n",
       "1        NaN          NaN        40.24  \n",
       "2          E          6.0        35.52  \n",
       "3          E          6.0        32.77  \n",
       "4        NaN          NaN        31.38  \n",
       "...      ...          ...          ...  \n",
       "16439    NaN          NaN         0.01  \n",
       "16440    NaN          NaN         0.01  \n",
       "16441    NaN          NaN         0.01  \n",
       "16442    NaN          NaN         0.01  \n",
       "16443    NaN          NaN         0.01  \n",
       "\n",
       "[16443 rows x 13 columns]"
      ]
     },
     "metadata": {},
     "output_type": "display_data"
    }
   ],
   "source": [
    "data['total_sales'] = data['na_sales'] + data['eu_sales'] + data['jp_sales'] + data['other_sales']\n",
    "display(data)"
   ]
  },
  {
   "cell_type": "markdown",
   "metadata": {},
   "source": [
    "Итак, мы изучлили данные. В представленных данных имеются пропущенные значения. Названия столбцов и типы данных не удовлетворяет правилам. Где можно, исправили эти недочеты. Удалили дубликаты строк. Исправили значение tbd в рейтингах. Также посчитали общие по регионам продажи."
   ]
  },
  {
   "cell_type": "markdown",
   "metadata": {},
   "source": [
    "### Шаг 3. Исследовательский анализ данных"
   ]
  },
  {
   "cell_type": "markdown",
   "metadata": {},
   "source": [
    "#### Анализ количества выпускаемых игр по годам."
   ]
  },
  {
   "cell_type": "markdown",
   "metadata": {},
   "source": [
    "На этом шаге посмотрим какое количество игр выпускалось в каждый год."
   ]
  },
  {
   "cell_type": "code",
   "execution_count": 19,
   "metadata": {},
   "outputs": [
    {
     "data": {
      "image/png": "[encoded data removed]",
      "text/plain": [
       "<Figure size 936x288 with 1 Axes>"
      ]
     },
     "metadata": {
      "needs_background": "light"
     },
     "output_type": "display_data"
    }
   ],
   "source": [
    "data.groupby(['year_of_release'])['name'].count().plot(kind='bar', figsize=(13,4))\n",
    "plt.title('Количество выпускаемых игр по годам')\n",
    "plt.xlabel(\"Рассматриваемы года\")\n",
    "plt.ylabel(\"Количество выпущенных игр\")\n",
    "None"
   ]
  },
  {
   "cell_type": "markdown",
   "metadata": {},
   "source": [
    "Видим, что до 1994 года и ста игр не выходило. Этими данными логично принеберечь. "
   ]
  },
  {
   "cell_type": "code",
   "execution_count": 20,
   "metadata": {},
   "outputs": [],
   "source": [
    "data = data.query('year_of_release > 1993')"
   ]
  },
  {
   "cell_type": "markdown",
   "metadata": {},
   "source": [
    "#### Посмотрим, как менялись продажи по платформам."
   ]
  },
  {
   "cell_type": "markdown",
   "metadata": {},
   "source": [
    "Посмотрим общие продажи по платформам"
   ]
  },
  {
   "cell_type": "code",
   "execution_count": 21,
   "metadata": {},
   "outputs": [
    {
     "data": {
      "image/png": "[encoded data removed]",
      "text/plain": [
       "<Figure size 936x288 with 1 Axes>"
      ]
     },
     "metadata": {
      "needs_background": "light"
     },
     "output_type": "display_data"
    }
   ],
   "source": [
    "data.groupby('platform')['total_sales'].sum().sort_values(ascending=False).plot(kind='bar', figsize=(13,4))\n",
    "plt.title('Количество продаж игр относительно платформ')\n",
    "plt.xlabel(\"Платформы\")\n",
    "plt.ylabel(\"Количество проданных копий\")\n",
    "None"
   ]
  },
  {
   "cell_type": "markdown",
   "metadata": {},
   "source": [
    "Имеем явных лидеров: PS2, X360, PS3, Wii, DS, PS. "
   ]
  },
  {
   "cell_type": "code",
   "execution_count": 22,
   "metadata": {},
   "outputs": [
    {
     "name": "stdout",
     "output_type": "stream",
     "text": [
      "<class 'pandas.core.frame.DataFrame'>\n",
      "RangeIndex: 197 entries, 0 to 196\n",
      "Data columns (total 3 columns):\n",
      " #   Column           Non-Null Count  Dtype  \n",
      "---  ------           --------------  -----  \n",
      " 0   platform         197 non-null    object \n",
      " 1   year_of_release  197 non-null    float64\n",
      " 2   total_sales      197 non-null    float64\n",
      "dtypes: float64(2), object(1)\n",
      "memory usage: 4.7+ KB\n",
      "\n"
     ]
    },
    {
     "data": {
      "text/html": [
       "<div>\n",
       "<style scoped>\n",
       "    .dataframe tbody tr th:only-of-type {\n",
       "        vertical-align: middle;\n",
       "    }\n",
       "\n",
       "    .dataframe tbody tr th {\n",
       "        vertical-align: top;\n",
       "    }\n",
       "\n",
       "    .dataframe thead th {\n",
       "        text-align: right;\n",
       "    }\n",
       "</style>\n",
       "<table border=\"1\" class=\"dataframe\">\n",
       "  <thead>\n",
       "    <tr style=\"text-align: right;\">\n",
       "      <th></th>\n",
       "      <th>platform</th>\n",
       "      <th>year_of_release</th>\n",
       "      <th>total_sales</th>\n",
       "    </tr>\n",
       "  </thead>\n",
       "  <tbody>\n",
       "    <tr>\n",
       "      <th>0</th>\n",
       "      <td>3DO</td>\n",
       "      <td>1994.0</td>\n",
       "      <td>0.02</td>\n",
       "    </tr>\n",
       "    <tr>\n",
       "      <th>1</th>\n",
       "      <td>3DO</td>\n",
       "      <td>1995.0</td>\n",
       "      <td>0.08</td>\n",
       "    </tr>\n",
       "    <tr>\n",
       "      <th>2</th>\n",
       "      <td>3DS</td>\n",
       "      <td>2011.0</td>\n",
       "      <td>63.20</td>\n",
       "    </tr>\n",
       "    <tr>\n",
       "      <th>3</th>\n",
       "      <td>3DS</td>\n",
       "      <td>2012.0</td>\n",
       "      <td>51.36</td>\n",
       "    </tr>\n",
       "    <tr>\n",
       "      <th>4</th>\n",
       "      <td>3DS</td>\n",
       "      <td>2013.0</td>\n",
       "      <td>56.57</td>\n",
       "    </tr>\n",
       "    <tr>\n",
       "      <th>...</th>\n",
       "      <td>...</td>\n",
       "      <td>...</td>\n",
       "      <td>...</td>\n",
       "    </tr>\n",
       "    <tr>\n",
       "      <th>192</th>\n",
       "      <td>XB</td>\n",
       "      <td>2008.0</td>\n",
       "      <td>0.18</td>\n",
       "    </tr>\n",
       "    <tr>\n",
       "      <th>193</th>\n",
       "      <td>XOne</td>\n",
       "      <td>2013.0</td>\n",
       "      <td>18.96</td>\n",
       "    </tr>\n",
       "    <tr>\n",
       "      <th>194</th>\n",
       "      <td>XOne</td>\n",
       "      <td>2014.0</td>\n",
       "      <td>54.07</td>\n",
       "    </tr>\n",
       "    <tr>\n",
       "      <th>195</th>\n",
       "      <td>XOne</td>\n",
       "      <td>2015.0</td>\n",
       "      <td>60.14</td>\n",
       "    </tr>\n",
       "    <tr>\n",
       "      <th>196</th>\n",
       "      <td>XOne</td>\n",
       "      <td>2016.0</td>\n",
       "      <td>26.15</td>\n",
       "    </tr>\n",
       "  </tbody>\n",
       "</table>\n",
       "<p>197 rows × 3 columns</p>\n",
       "</div>"
      ],
      "text/plain": [
       "    platform  year_of_release  total_sales\n",
       "0        3DO           1994.0         0.02\n",
       "1        3DO           1995.0         0.08\n",
       "2        3DS           2011.0        63.20\n",
       "3        3DS           2012.0        51.36\n",
       "4        3DS           2013.0        56.57\n",
       "..       ...              ...          ...\n",
       "192       XB           2008.0         0.18\n",
       "193     XOne           2013.0        18.96\n",
       "194     XOne           2014.0        54.07\n",
       "195     XOne           2015.0        60.14\n",
       "196     XOne           2016.0        26.15\n",
       "\n",
       "[197 rows x 3 columns]"
      ]
     },
     "execution_count": 22,
     "metadata": {},
     "output_type": "execute_result"
    }
   ],
   "source": [
    "data_top_platform = data.groupby(['platform', 'year_of_release']).agg({'total_sales': 'sum'}).reset_index()\n",
    "data_top_platform.info()\n",
    "print()\n",
    "data_top_platform"
   ]
  },
  {
   "cell_type": "markdown",
   "metadata": {},
   "source": [
    "##### Построим для лидеров продаж графики сумарных продаж по году релиза"
   ]
  },
  {
   "cell_type": "code",
   "execution_count": 23,
   "metadata": {},
   "outputs": [
    {
     "data": {
      "image/png": "[encoded data removed]",
      "text/plain": [
       "<Figure size 936x288 with 1 Axes>"
      ]
     },
     "metadata": {
      "needs_background": "light"
     },
     "output_type": "display_data"
    },
    {
     "data": {
      "image/png": "[encoded data removed]",
      "text/plain": [
       "<Figure size 936x288 with 1 Axes>"
      ]
     },
     "metadata": {
      "needs_background": "light"
     },
     "output_type": "display_data"
    },
    {
     "data": {
      "image/png": "[encoded data removed]",
      "text/plain": [
       "<Figure size 936x288 with 1 Axes>"
      ]
     },
     "metadata": {
      "needs_background": "light"
     },
     "output_type": "display_data"
    },
    {
     "data": {
      "image/png": "[encoded data removed]",
      "text/plain": [
       "<Figure size 936x288 with 1 Axes>"
      ]
     },
     "metadata": {
      "needs_background": "light"
     },
     "output_type": "display_data"
    },
    {
     "data": {
      "image/png": "[encoded data removed]",
      "text/plain": [
       "<Figure size 936x288 with 1 Axes>"
      ]
     },
     "metadata": {
      "needs_background": "light"
     },
     "output_type": "display_data"
    },
    {
     "data": {
      "image/png": "[encoded data removed]",
      "text/plain": [
       "<Figure size 936x288 with 1 Axes>"
      ]
     },
     "metadata": {
      "needs_background": "light"
     },
     "output_type": "display_data"
    },
    {
     "data": {
      "image/png": "[encoded data removed]",
      "text/plain": [
       "<Figure size 936x288 with 1 Axes>"
      ]
     },
     "metadata": {
      "needs_background": "light"
     },
     "output_type": "display_data"
    },
    {
     "data": {
      "image/png": "[encoded data removed]",
      "text/plain": [
       "<Figure size 936x288 with 1 Axes>"
      ]
     },
     "metadata": {
      "needs_background": "light"
     },
     "output_type": "display_data"
    },
    {
     "data": {
      "image/png": "[encoded data removed]",
      "text/plain": [
       "<Figure size 936x288 with 1 Axes>"
      ]
     },
     "metadata": {
      "needs_background": "light"
     },
     "output_type": "display_data"
    },
    {
     "data": {
      "image/png": "[encoded data removed]",
      "text/plain": [
       "<Figure size 936x288 with 1 Axes>"
      ]
     },
     "metadata": {
      "needs_background": "light"
     },
     "output_type": "display_data"
    },
    {
     "data": {
      "image/png": "[encoded data removed]",
      "text/plain": [
       "<Figure size 936x288 with 1 Axes>"
      ]
     },
     "metadata": {
      "needs_background": "light"
     },
     "output_type": "display_data"
    },
    {
     "data": {
      "image/png": "[encoded data removed]",
      "text/plain": [
       "<Figure size 936x288 with 1 Axes>"
      ]
     },
     "metadata": {
      "needs_background": "light"
     },
     "output_type": "display_data"
    },
    {
     "data": {
      "image/png": "[encoded data removed]",
      "text/plain": [
       "<Figure size 936x288 with 1 Axes>"
      ]
     },
     "metadata": {
      "needs_background": "light"
     },
     "output_type": "display_data"
    },
    {
     "data": {
      "image/png": "[encoded data removed]",
      "text/plain": [
       "<Figure size 936x288 with 1 Axes>"
      ]
     },
     "metadata": {
      "needs_background": "light"
     },
     "output_type": "display_data"
    },
    {
     "data": {
      "image/png": "[encoded data removed]",
      "text/plain": [
       "<Figure size 936x288 with 1 Axes>"
      ]
     },
     "metadata": {
      "needs_background": "light"
     },
     "output_type": "display_data"
    },
    {
     "data": {
      "image/png": "[encoded data removed]",
      "text/plain": [
       "<Figure size 936x288 with 1 Axes>"
      ]
     },
     "metadata": {
      "needs_background": "light"
     },
     "output_type": "display_data"
    }
   ],
   "source": [
    "list_top_platform = data.groupby('platform')['total_sales'].sum().sort_values(ascending=False).index[:16]\n",
    "\n",
    "for platf in list_top_platform:\n",
    "    data_top_platform[data_top_platform['platform'] == platf].pivot_table(index='year_of_release', values='total_sales', aggfunc='sum').plot(kind='bar', figsize=(13,4))\n",
    "    plt.title(platf)\n",
    "    plt.suptitle('Платформа')\n",
    "    plt.xlabel('Год релиза')\n",
    "    plt.ylabel('Количество проданных копий')\n",
    "    None"
   ]
  },
  {
   "cell_type": "markdown",
   "metadata": {},
   "source": [
    "По графикам видно, что большинство как и топ-6 сдют свои позиции в пользу ***PS4 и XOne*** , 2016 год рассматриваем как неполный. То есть выбирая платформы для развития стоит остановиться на PS4 и XOne. Но к ним еще добавил бы ***PC***, так как на настольных копьютерах играли, играют и будут играть, с них все и началось.<br>\n",
    "Таже по графикам видим, что период для дальнейшего исследования мы можем взять ***с 2013 по 2015 год***. Слишком быстро все меняется в данной индустрии.<br>"
   ]
  },
  {
   "cell_type": "code",
   "execution_count": 24,
   "metadata": {},
   "outputs": [
    {
     "data": {
      "text/plain": [
       "6.0"
      ]
     },
     "execution_count": 24,
     "metadata": {},
     "output_type": "execute_result"
    }
   ],
   "source": [
    "time_life = data.pivot_table(index='platform', values='year_of_release', aggfunc=['min', 'max']).reset_index()\n",
    "time_life['life'] = time_life['max'] - time_life['min'] + 1 # в срок жизни платформы, должны входить границы диапазона, поэтому +1\n",
    "time_life['life'].median()"
   ]
  },
  {
   "cell_type": "markdown",
   "metadata": {},
   "source": [
    "Жизненный цикл консолей примерно равен 6 годам. Поэтому выбранный период и платформы дадут нам актуальную информацию."
   ]
  },
  {
   "cell_type": "markdown",
   "metadata": {},
   "source": [
    "#### Избавляемся от ненужных периодов и платформ."
   ]
  },
  {
   "cell_type": "code",
   "execution_count": 25,
   "metadata": {},
   "outputs": [],
   "source": [
    "data_year_correct = data.query('2013 <= year_of_release <= 2016').reset_index()"
   ]
  },
  {
   "cell_type": "markdown",
   "metadata": {},
   "source": [
    "Посмотрим что у нас осталось"
   ]
  },
  {
   "cell_type": "code",
   "execution_count": 26,
   "metadata": {},
   "outputs": [
    {
     "name": "stdout",
     "output_type": "stream",
     "text": [
      "<class 'pandas.core.frame.DataFrame'>\n",
      "RangeIndex: 2233 entries, 0 to 2232\n",
      "Data columns (total 14 columns):\n",
      " #   Column           Non-Null Count  Dtype  \n",
      "---  ------           --------------  -----  \n",
      " 0   index            2233 non-null   int64  \n",
      " 1   name             2233 non-null   object \n",
      " 2   platform         2233 non-null   object \n",
      " 3   year_of_release  2233 non-null   float64\n",
      " 4   genre            2233 non-null   object \n",
      " 5   na_sales         2233 non-null   float64\n",
      " 6   eu_sales         2233 non-null   float64\n",
      " 7   jp_sales         2233 non-null   float64\n",
      " 8   other_sales      2233 non-null   float64\n",
      " 9   critic_score     991 non-null    float64\n",
      " 10  user_score       1192 non-null   float64\n",
      " 11  rating           1256 non-null   object \n",
      " 12  rating_esrb      1256 non-null   float64\n",
      " 13  total_sales      2233 non-null   float64\n",
      "dtypes: float64(9), int64(1), object(4)\n",
      "memory usage: 244.4+ KB\n"
     ]
    }
   ],
   "source": [
    "data_year_correct.info()"
   ]
  },
  {
   "cell_type": "code",
   "execution_count": 27,
   "metadata": {},
   "outputs": [
    {
     "data": {
      "text/html": [
       "<div>\n",
       "<style scoped>\n",
       "    .dataframe tbody tr th:only-of-type {\n",
       "        vertical-align: middle;\n",
       "    }\n",
       "\n",
       "    .dataframe tbody tr th {\n",
       "        vertical-align: top;\n",
       "    }\n",
       "\n",
       "    .dataframe thead th {\n",
       "        text-align: right;\n",
       "    }\n",
       "</style>\n",
       "<table border=\"1\" class=\"dataframe\">\n",
       "  <thead>\n",
       "    <tr style=\"text-align: right;\">\n",
       "      <th></th>\n",
       "      <th>index</th>\n",
       "      <th>name</th>\n",
       "      <th>platform</th>\n",
       "      <th>year_of_release</th>\n",
       "      <th>genre</th>\n",
       "      <th>na_sales</th>\n",
       "      <th>eu_sales</th>\n",
       "      <th>jp_sales</th>\n",
       "      <th>other_sales</th>\n",
       "      <th>critic_score</th>\n",
       "      <th>user_score</th>\n",
       "      <th>rating</th>\n",
       "      <th>rating_esrb</th>\n",
       "      <th>total_sales</th>\n",
       "    </tr>\n",
       "  </thead>\n",
       "  <tbody>\n",
       "    <tr>\n",
       "      <th>0</th>\n",
       "      <td>16</td>\n",
       "      <td>Grand Theft Auto V</td>\n",
       "      <td>PS3</td>\n",
       "      <td>2013.0</td>\n",
       "      <td>Action</td>\n",
       "      <td>7.02</td>\n",
       "      <td>9.09</td>\n",
       "      <td>0.98</td>\n",
       "      <td>3.96</td>\n",
       "      <td>97.0</td>\n",
       "      <td>8.2</td>\n",
       "      <td>M</td>\n",
       "      <td>17.0</td>\n",
       "      <td>21.05</td>\n",
       "    </tr>\n",
       "    <tr>\n",
       "      <th>1</th>\n",
       "      <td>23</td>\n",
       "      <td>Grand Theft Auto V</td>\n",
       "      <td>X360</td>\n",
       "      <td>2013.0</td>\n",
       "      <td>Action</td>\n",
       "      <td>9.66</td>\n",
       "      <td>5.14</td>\n",
       "      <td>0.06</td>\n",
       "      <td>1.41</td>\n",
       "      <td>97.0</td>\n",
       "      <td>8.1</td>\n",
       "      <td>M</td>\n",
       "      <td>17.0</td>\n",
       "      <td>16.27</td>\n",
       "    </tr>\n",
       "    <tr>\n",
       "      <th>2</th>\n",
       "      <td>31</td>\n",
       "      <td>Call of Duty: Black Ops 3</td>\n",
       "      <td>PS4</td>\n",
       "      <td>2015.0</td>\n",
       "      <td>Shooter</td>\n",
       "      <td>6.03</td>\n",
       "      <td>5.86</td>\n",
       "      <td>0.36</td>\n",
       "      <td>2.38</td>\n",
       "      <td>NaN</td>\n",
       "      <td>NaN</td>\n",
       "      <td>NaN</td>\n",
       "      <td>NaN</td>\n",
       "      <td>14.63</td>\n",
       "    </tr>\n",
       "    <tr>\n",
       "      <th>3</th>\n",
       "      <td>33</td>\n",
       "      <td>Pokemon X/Pokemon Y</td>\n",
       "      <td>3DS</td>\n",
       "      <td>2013.0</td>\n",
       "      <td>Role-Playing</td>\n",
       "      <td>5.28</td>\n",
       "      <td>4.19</td>\n",
       "      <td>4.35</td>\n",
       "      <td>0.78</td>\n",
       "      <td>NaN</td>\n",
       "      <td>NaN</td>\n",
       "      <td>NaN</td>\n",
       "      <td>NaN</td>\n",
       "      <td>14.60</td>\n",
       "    </tr>\n",
       "    <tr>\n",
       "      <th>4</th>\n",
       "      <td>42</td>\n",
       "      <td>Grand Theft Auto V</td>\n",
       "      <td>PS4</td>\n",
       "      <td>2014.0</td>\n",
       "      <td>Action</td>\n",
       "      <td>3.96</td>\n",
       "      <td>6.31</td>\n",
       "      <td>0.38</td>\n",
       "      <td>1.97</td>\n",
       "      <td>97.0</td>\n",
       "      <td>8.3</td>\n",
       "      <td>M</td>\n",
       "      <td>17.0</td>\n",
       "      <td>12.62</td>\n",
       "    </tr>\n",
       "    <tr>\n",
       "      <th>...</th>\n",
       "      <td>...</td>\n",
       "      <td>...</td>\n",
       "      <td>...</td>\n",
       "      <td>...</td>\n",
       "      <td>...</td>\n",
       "      <td>...</td>\n",
       "      <td>...</td>\n",
       "      <td>...</td>\n",
       "      <td>...</td>\n",
       "      <td>...</td>\n",
       "      <td>...</td>\n",
       "      <td>...</td>\n",
       "      <td>...</td>\n",
       "      <td>...</td>\n",
       "    </tr>\n",
       "    <tr>\n",
       "      <th>2228</th>\n",
       "      <td>16432</td>\n",
       "      <td>Strawberry Nauts</td>\n",
       "      <td>PSV</td>\n",
       "      <td>2016.0</td>\n",
       "      <td>Adventure</td>\n",
       "      <td>0.00</td>\n",
       "      <td>0.00</td>\n",
       "      <td>0.01</td>\n",
       "      <td>0.00</td>\n",
       "      <td>NaN</td>\n",
       "      <td>NaN</td>\n",
       "      <td>NaN</td>\n",
       "      <td>NaN</td>\n",
       "      <td>0.01</td>\n",
       "    </tr>\n",
       "    <tr>\n",
       "      <th>2229</th>\n",
       "      <td>16436</td>\n",
       "      <td>Aiyoku no Eustia</td>\n",
       "      <td>PSV</td>\n",
       "      <td>2014.0</td>\n",
       "      <td>Misc</td>\n",
       "      <td>0.00</td>\n",
       "      <td>0.00</td>\n",
       "      <td>0.01</td>\n",
       "      <td>0.00</td>\n",
       "      <td>NaN</td>\n",
       "      <td>NaN</td>\n",
       "      <td>NaN</td>\n",
       "      <td>NaN</td>\n",
       "      <td>0.01</td>\n",
       "    </tr>\n",
       "    <tr>\n",
       "      <th>2230</th>\n",
       "      <td>16439</td>\n",
       "      <td>Samurai Warriors: Sanada Maru</td>\n",
       "      <td>PS3</td>\n",
       "      <td>2016.0</td>\n",
       "      <td>Action</td>\n",
       "      <td>0.00</td>\n",
       "      <td>0.00</td>\n",
       "      <td>0.01</td>\n",
       "      <td>0.00</td>\n",
       "      <td>NaN</td>\n",
       "      <td>NaN</td>\n",
       "      <td>NaN</td>\n",
       "      <td>NaN</td>\n",
       "      <td>0.01</td>\n",
       "    </tr>\n",
       "    <tr>\n",
       "      <th>2231</th>\n",
       "      <td>16441</td>\n",
       "      <td>Haitaka no Psychedelica</td>\n",
       "      <td>PSV</td>\n",
       "      <td>2016.0</td>\n",
       "      <td>Adventure</td>\n",
       "      <td>0.00</td>\n",
       "      <td>0.00</td>\n",
       "      <td>0.01</td>\n",
       "      <td>0.00</td>\n",
       "      <td>NaN</td>\n",
       "      <td>NaN</td>\n",
       "      <td>NaN</td>\n",
       "      <td>NaN</td>\n",
       "      <td>0.01</td>\n",
       "    </tr>\n",
       "    <tr>\n",
       "      <th>2232</th>\n",
       "      <td>16443</td>\n",
       "      <td>Winning Post 8 2016</td>\n",
       "      <td>PSV</td>\n",
       "      <td>2016.0</td>\n",
       "      <td>Simulation</td>\n",
       "      <td>0.00</td>\n",
       "      <td>0.00</td>\n",
       "      <td>0.01</td>\n",
       "      <td>0.00</td>\n",
       "      <td>NaN</td>\n",
       "      <td>NaN</td>\n",
       "      <td>NaN</td>\n",
       "      <td>NaN</td>\n",
       "      <td>0.01</td>\n",
       "    </tr>\n",
       "  </tbody>\n",
       "</table>\n",
       "<p>2233 rows × 14 columns</p>\n",
       "</div>"
      ],
      "text/plain": [
       "      index                           name platform  year_of_release  \\\n",
       "0        16             Grand Theft Auto V      PS3           2013.0   \n",
       "1        23             Grand Theft Auto V     X360           2013.0   \n",
       "2        31      Call of Duty: Black Ops 3      PS4           2015.0   \n",
       "3        33            Pokemon X/Pokemon Y      3DS           2013.0   \n",
       "4        42             Grand Theft Auto V      PS4           2014.0   \n",
       "...     ...                            ...      ...              ...   \n",
       "2228  16432               Strawberry Nauts      PSV           2016.0   \n",
       "2229  16436               Aiyoku no Eustia      PSV           2014.0   \n",
       "2230  16439  Samurai Warriors: Sanada Maru      PS3           2016.0   \n",
       "2231  16441        Haitaka no Psychedelica      PSV           2016.0   \n",
       "2232  16443            Winning Post 8 2016      PSV           2016.0   \n",
       "\n",
       "             genre  na_sales  eu_sales  jp_sales  other_sales  critic_score  \\\n",
       "0           Action      7.02      9.09      0.98         3.96          97.0   \n",
       "1           Action      9.66      5.14      0.06         1.41          97.0   \n",
       "2          Shooter      6.03      5.86      0.36         2.38           NaN   \n",
       "3     Role-Playing      5.28      4.19      4.35         0.78           NaN   \n",
       "4           Action      3.96      6.31      0.38         1.97          97.0   \n",
       "...            ...       ...       ...       ...          ...           ...   \n",
       "2228     Adventure      0.00      0.00      0.01         0.00           NaN   \n",
       "2229          Misc      0.00      0.00      0.01         0.00           NaN   \n",
       "2230        Action      0.00      0.00      0.01         0.00           NaN   \n",
       "2231     Adventure      0.00      0.00      0.01         0.00           NaN   \n",
       "2232    Simulation      0.00      0.00      0.01         0.00           NaN   \n",
       "\n",
       "      user_score rating  rating_esrb  total_sales  \n",
       "0            8.2      M         17.0        21.05  \n",
       "1            8.1      M         17.0        16.27  \n",
       "2            NaN    NaN          NaN        14.63  \n",
       "3            NaN    NaN          NaN        14.60  \n",
       "4            8.3      M         17.0        12.62  \n",
       "...          ...    ...          ...          ...  \n",
       "2228         NaN    NaN          NaN         0.01  \n",
       "2229         NaN    NaN          NaN         0.01  \n",
       "2230         NaN    NaN          NaN         0.01  \n",
       "2231         NaN    NaN          NaN         0.01  \n",
       "2232         NaN    NaN          NaN         0.01  \n",
       "\n",
       "[2233 rows x 14 columns]"
      ]
     },
     "metadata": {},
     "output_type": "display_data"
    }
   ],
   "source": [
    "display(data_year_correct)"
   ]
  },
  {
   "cell_type": "markdown",
   "metadata": {},
   "source": [
    "От первоначальных 16715 строк, осталось 2233. Чтож, основная часть данных действительно не представляет никакой ценности."
   ]
  },
  {
   "cell_type": "markdown",
   "metadata": {},
   "source": [
    "#### Построим график «ящик с усами» по глобальным продажам игр в разбивке по платформам."
   ]
  },
  {
   "cell_type": "code",
   "execution_count": 28,
   "metadata": {},
   "outputs": [
    {
     "data": {
      "image/png": "[encoded data removed]",
      "text/plain": [
       "<Figure size 1656x1080 with 1 Axes>"
      ]
     },
     "metadata": {
      "needs_background": "light"
     },
     "output_type": "display_data"
    }
   ],
   "source": [
    "data_year_correct.boxplot(column=['total_sales'], by='platform', figsize=(23,15))\n",
    "plt.ylim([0,2])\n",
    "plt.title('График продажи игр по платформам')\n",
    "plt.xlabel('Платформа')\n",
    "plt.ylabel('Продажи')\n",
    "None"
   ]
  },
  {
   "cell_type": "markdown",
   "metadata": {},
   "source": [
    "Две развивающиеся платформы сильно конкурируют друг с другом."
   ]
  },
  {
   "cell_type": "markdown",
   "metadata": {},
   "source": [
    "#### Посмотрим, как влияют на продажи внутри одной популярной платформы отзывы пользователей и критиков. Построим диаграмму рассеяния и посчитаем корреляцию между отзывами и продажами."
   ]
  },
  {
   "cell_type": "markdown",
   "metadata": {},
   "source": [
    "##### На 2015 год самая популярная платформа это PS4. Ей и займемся."
   ]
  },
  {
   "cell_type": "markdown",
   "metadata": {},
   "source": [
    "Вычислим корреляцию:"
   ]
  },
  {
   "cell_type": "code",
   "execution_count": 29,
   "metadata": {},
   "outputs": [
    {
     "name": "stdout",
     "output_type": "stream",
     "text": [
      "Зависимость продаж от оценки пользователей: -0.03195711020455643\n",
      "Зависимость продаж от оценки критиков: 0.4065679020617816\n"
     ]
    }
   ],
   "source": [
    "data_ps4 = data_year_correct.query('platform == \"PS4\"')\n",
    "\n",
    "corr_user_ps4 = data_ps4['total_sales'].corr(data_ps4['user_score'])\n",
    "corr_critic_ps4 = data_ps4['total_sales'].corr(data_ps4['critic_score'])\n",
    "\n",
    "print('Зависимость продаж от оценки пользователей:', corr_user_ps4)\n",
    "print('Зависимость продаж от оценки критиков:', corr_critic_ps4)"
   ]
  },
  {
   "cell_type": "markdown",
   "metadata": {},
   "source": [
    "Получается продажи не зависят от оценок пользователей, а вот зависимость от оценок критиков хоть и слабая, но наблюдается."
   ]
  },
  {
   "cell_type": "markdown",
   "metadata": {},
   "source": [
    "##### Посмотрим на графики:"
   ]
  },
  {
   "cell_type": "code",
   "execution_count": 30,
   "metadata": {},
   "outputs": [
    {
     "data": {
      "image/png": "[encoded data removed]",
      "text/plain": [
       "<Figure size 432x288 with 1 Axes>"
      ]
     },
     "metadata": {
      "needs_background": "light"
     },
     "output_type": "display_data"
    },
    {
     "data": {
      "image/png": "[encoded data removed]",
      "text/plain": [
       "<Figure size 432x288 with 1 Axes>"
      ]
     },
     "metadata": {
      "needs_background": "light"
     },
     "output_type": "display_data"
    }
   ],
   "source": [
    "data_ps4.plot(x=['user_score'], y=['total_sales'], kind='scatter')\n",
    "plt.xlabel('Оценки пользовтелей')\n",
    "plt.ylabel('Продажи')\n",
    "plt.title('Зависимость продаж от оценок пользователей')\n",
    "\n",
    "data_ps4.plot(x='critic_score', y='total_sales', kind='scatter')\n",
    "plt.xlabel('Оценки критиков')\n",
    "plt.ylabel('Продажи')\n",
    "plt.title('Зависимость продаж от оценок критиков')\n",
    "None"
   ]
  },
  {
   "cell_type": "markdown",
   "metadata": {},
   "source": [
    "Некоторые пользователи PS4 перед покупкой прислушиваются к критикам, но абсолютно все не прислушиваются к таким же как они пользователям."
   ]
  },
  {
   "cell_type": "markdown",
   "metadata": {},
   "source": [
    "#### Посмотрим на другие популярные платформы"
   ]
  },
  {
   "cell_type": "markdown",
   "metadata": {},
   "source": [
    "Посмотрим на Top-5 платформ за выбранный период"
   ]
  },
  {
   "cell_type": "code",
   "execution_count": 31,
   "metadata": {},
   "outputs": [
    {
     "name": "stdout",
     "output_type": "stream",
     "text": [
      "Зависимость продаж от оценки пользователей по платформе PS4 составляет: -0.03195711020455643\n",
      "Зависимость продаж от оценки критиковпо платформе PS4 составляет: 0.4065679020617816\n",
      "\n"
     ]
    },
    {
     "data": {
      "image/png": "[encoded data removed]",
      "text/plain": [
       "<Figure size 432x288 with 1 Axes>"
      ]
     },
     "metadata": {
      "needs_background": "light"
     },
     "output_type": "display_data"
    },
    {
     "data": {
      "image/png": "[encoded data removed]",
      "text/plain": [
       "<Figure size 432x288 with 1 Axes>"
      ]
     },
     "metadata": {
      "needs_background": "light"
     },
     "output_type": "display_data"
    },
    {
     "name": "stdout",
     "output_type": "stream",
     "text": [
      "Зависимость продаж от оценки пользователей по платформе PS3 составляет: 0.0023944027357566907\n",
      "Зависимость продаж от оценки критиковпо платформе PS3 составляет: 0.3342853393371919\n",
      "\n"
     ]
    },
    {
     "data": {
      "image/png": "[encoded data removed]",
      "text/plain": [
       "<Figure size 432x288 with 1 Axes>"
      ]
     },
     "metadata": {
      "needs_background": "light"
     },
     "output_type": "display_data"
    },
    {
     "data": {
      "image/png": "[encoded data removed]",
      "text/plain": [
       "<Figure size 432x288 with 1 Axes>"
      ]
     },
     "metadata": {
      "needs_background": "light"
     },
     "output_type": "display_data"
    },
    {
     "name": "stdout",
     "output_type": "stream",
     "text": [
      "Зависимость продаж от оценки пользователей по платформе XOne составляет: -0.06892505328279415\n",
      "Зависимость продаж от оценки критиковпо платформе XOne составляет: 0.41699832800840164\n",
      "\n"
     ]
    },
    {
     "data": {
      "image/png": "[encoded data removed]",
      "text/plain": [
       "<Figure size 432x288 with 1 Axes>"
      ]
     },
     "metadata": {
      "needs_background": "light"
     },
     "output_type": "display_data"
    },
    {
     "data": {
      "image/png": "[encoded data removed]",
      "text/plain": [
       "<Figure size 432x288 with 1 Axes>"
      ]
     },
     "metadata": {
      "needs_background": "light"
     },
     "output_type": "display_data"
    },
    {
     "name": "stdout",
     "output_type": "stream",
     "text": [
      "Зависимость продаж от оценки пользователей по платформе 3DS составляет: 0.24150411773563016\n",
      "Зависимость продаж от оценки критиковпо платформе 3DS составляет: 0.35705661422881035\n",
      "\n"
     ]
    },
    {
     "data": {
      "image/png": "[encoded data removed]",
      "text/plain": [
       "<Figure size 432x288 with 1 Axes>"
      ]
     },
     "metadata": {
      "needs_background": "light"
     },
     "output_type": "display_data"
    },
    {
     "data": {
      "image/png": "[encoded data removed]",
      "text/plain": [
       "<Figure size 432x288 with 1 Axes>"
      ]
     },
     "metadata": {
      "needs_background": "light"
     },
     "output_type": "display_data"
    },
    {
     "name": "stdout",
     "output_type": "stream",
     "text": [
      "Зависимость продаж от оценки пользователей по платформе X360 составляет: -0.011742185147181351\n",
      "Зависимость продаж от оценки критиковпо платформе X360 составляет: 0.3503445460228664\n",
      "\n"
     ]
    },
    {
     "data": {
      "image/png": "[encoded data removed]",
      "text/plain": [
       "<Figure size 432x288 with 1 Axes>"
      ]
     },
     "metadata": {
      "needs_background": "light"
     },
     "output_type": "display_data"
    },
    {
     "data": {
      "image/png": "[encoded data removed]",
      "text/plain": [
       "<Figure size 432x288 with 1 Axes>"
      ]
     },
     "metadata": {
      "needs_background": "light"
     },
     "output_type": "display_data"
    },
    {
     "name": "stdout",
     "output_type": "stream",
     "text": [
      "Зависимость продаж от оценки пользователей по платформе WiiU составляет: 0.4193304819266187\n",
      "Зависимость продаж от оценки критиковпо платформе WiiU составляет: 0.3764149065423912\n",
      "\n"
     ]
    },
    {
     "data": {
      "image/png": "[encoded data removed]",
      "text/plain": [
       "<Figure size 432x288 with 1 Axes>"
      ]
     },
     "metadata": {
      "needs_background": "light"
     },
     "output_type": "display_data"
    },
    {
     "data": {
      "image/png": "[encoded data removed]",
      "text/plain": [
       "<Figure size 432x288 with 1 Axes>"
      ]
     },
     "metadata": {
      "needs_background": "light"
     },
     "output_type": "display_data"
    },
    {
     "name": "stdout",
     "output_type": "stream",
     "text": [
      "Зависимость продаж от оценки пользователей по платформе PC составляет: -0.09384186952476747\n",
      "Зависимость продаж от оценки критиковпо платформе PC составляет: 0.1960302829436937\n",
      "\n"
     ]
    },
    {
     "data": {
      "image/png": "[encoded data removed]",
      "text/plain": [
       "<Figure size 432x288 with 1 Axes>"
      ]
     },
     "metadata": {
      "needs_background": "light"
     },
     "output_type": "display_data"
    },
    {
     "data": {
      "image/png": "[encoded data removed]",
      "text/plain": [
       "<Figure size 432x288 with 1 Axes>"
      ]
     },
     "metadata": {
      "needs_background": "light"
     },
     "output_type": "display_data"
    }
   ],
   "source": [
    "list_top_platform = data_year_correct.groupby('platform')['total_sales'].sum().sort_values(ascending=False).index[:7]\n",
    "\n",
    "\n",
    "for platf in list_top_platform:\n",
    "    data_platf = data_year_correct[data_year_correct['platform'] == platf]\n",
    "\n",
    "    corr_user_platf = data_platf['total_sales'].corr(data_platf['user_score'])\n",
    "    corr_critic_platf = data_platf['total_sales'].corr(data_platf['critic_score'])\n",
    "\n",
    "    print('Зависимость продаж от оценки пользователей по платформе', platf,'составляет:', corr_user_platf)\n",
    "    print('Зависимость продаж от оценки критиковпо платформе', platf,'составляет:', corr_critic_platf)\n",
    "    print()\n",
    "\n",
    "    data_platf.plot(x=['user_score'], y=['total_sales'], kind='scatter')\n",
    "    plt.xlabel('Оценки пользовтелей')\n",
    "    plt.ylabel('Продажи')\n",
    "    plt.title('Зависимость продаж от оценок пользователей')\n",
    "    plt.suptitle(platf)\n",
    "\n",
    "    data_platf.plot(x='critic_score', y='total_sales', kind='scatter')\n",
    "    plt.xlabel('Оценки критиков')\n",
    "    plt.ylabel('Продажи')\n",
    "    plt.title('Зависимость продаж от оценок критиков')\n",
    "    plt.suptitle(platf)\n",
    "    None\n",
    "    plt.show()"
   ]
  },
  {
   "cell_type": "markdown",
   "metadata": {},
   "source": [
    "##### Вывод можно сделать такой, что покупатели прислушиваются к оценкам критиков, но не прислушиваются к оценкам пользователей.\n",
    "Кроме двух платформ: на WiiU покупатели чуть больше прислушиваются к оценкам пользователей чем критиков, а на PC можно сказать, что покупатели вообще не прислушиваются ни к чьим оценкам. "
   ]
  },
  {
   "cell_type": "markdown",
   "metadata": {},
   "source": [
    "#### Посмотрим на общее распределение игр по жанрам."
   ]
  },
  {
   "cell_type": "markdown",
   "metadata": {},
   "source": [
    "##### Общее распределение по жанрам"
   ]
  },
  {
   "cell_type": "code",
   "execution_count": 32,
   "metadata": {},
   "outputs": [
    {
     "data": {
      "text/plain": [
       "genre\n",
       "Action          766\n",
       "Role-Playing    292\n",
       "Adventure       245\n",
       "Sports          214\n",
       "Shooter         187\n",
       "Misc            155\n",
       "Racing           85\n",
       "Fighting         80\n",
       "Platform         74\n",
       "Simulation       62\n",
       "Strategy         56\n",
       "Puzzle           17\n",
       "Name: name, dtype: int64"
      ]
     },
     "execution_count": 32,
     "metadata": {},
     "output_type": "execute_result"
    }
   ],
   "source": [
    "data_genre = data_year_correct.groupby(['genre'])['name'].count().sort_values(ascending=False)\n",
    "data_genre"
   ]
  },
  {
   "cell_type": "markdown",
   "metadata": {},
   "source": [
    "По количеству данных у нас больше всего жанров Action и Sports."
   ]
  },
  {
   "cell_type": "markdown",
   "metadata": {},
   "source": [
    "##### Найдем жанры, которые принесли больше всего прибыли"
   ]
  },
  {
   "cell_type": "code",
   "execution_count": 33,
   "metadata": {},
   "outputs": [
    {
     "name": "stdout",
     "output_type": "stream",
     "text": [
      "genre\n",
      "Action          321.87\n",
      "Shooter         232.98\n",
      "Sports          150.65\n",
      "Role-Playing    145.89\n",
      "Misc             62.82\n",
      "Platform         42.63\n",
      "Racing           39.89\n",
      "Fighting         35.31\n",
      "Adventure        23.64\n",
      "Simulation       21.76\n",
      "Strategy         10.08\n",
      "Puzzle            3.17\n",
      "Name: total_sales, dtype: float64\n"
     ]
    }
   ],
   "source": [
    "data_genre_sales = data_year_correct.groupby(['genre'])['total_sales'].sum().sort_values(ascending=False)\n",
    "print(data_genre_sales)"
   ]
  },
  {
   "cell_type": "markdown",
   "metadata": {},
   "source": [
    "##### А теперь найдем самые прибыльные жанры"
   ]
  },
  {
   "cell_type": "code",
   "execution_count": 34,
   "metadata": {},
   "outputs": [
    {
     "data": {
      "text/plain": [
       "genre\n",
       "Shooter         1.245882\n",
       "Sports          0.703972\n",
       "Platform        0.576081\n",
       "Role-Playing    0.499623\n",
       "Racing          0.469294\n",
       "Fighting        0.441375\n",
       "Action          0.420196\n",
       "Misc            0.405290\n",
       "Simulation      0.350968\n",
       "Puzzle          0.186471\n",
       "Strategy        0.180000\n",
       "Adventure       0.096490\n",
       "dtype: float64"
      ]
     },
     "execution_count": 34,
     "metadata": {},
     "output_type": "execute_result"
    }
   ],
   "source": [
    "data_genre_ratio = data_genre_sales / data_genre\n",
    "data_genre_ratio.sort_values(ascending=False)"
   ]
  },
  {
   "cell_type": "markdown",
   "metadata": {},
   "source": [
    "Как мы видим, самыми прибыльными жанрами являются Shooter, Sports и Platform."
   ]
  },
  {
   "cell_type": "markdown",
   "metadata": {},
   "source": [
    "### Шаг 4. Составим портрет пользователя каждого региона"
   ]
  },
  {
   "cell_type": "markdown",
   "metadata": {},
   "source": [
    "##### Разделим пользователей по регионам"
   ]
  },
  {
   "cell_type": "code",
   "execution_count": 35,
   "metadata": {},
   "outputs": [],
   "source": [
    "data_na = data_year_correct.query('na_sales != 0').loc[:, ~data_year_correct.columns.isin(['eu_sales', 'jp_sales', 'other_sales'])]\n",
    "\n",
    "data_eu = data_year_correct.query('eu_sales != 0').loc[:, ~data_year_correct.columns.isin(['na_sales', 'jp_sales', 'other_sales'])]\n",
    "\n",
    "data_jp = data_year_correct.query('jp_sales != 0').loc[:, ~data_year_correct.columns.isin(['na_sales', 'eu_sales', 'other_sales'])]"
   ]
  },
  {
   "cell_type": "markdown",
   "metadata": {},
   "source": [
    "#### Шаг 4.1. Определим Топ-5 платформ по регионам"
   ]
  },
  {
   "cell_type": "code",
   "execution_count": 36,
   "metadata": {},
   "outputs": [
    {
     "name": "stdout",
     "output_type": "stream",
     "text": [
      "platform\n",
      "PS4     22.459893\n",
      "XOne    17.341482\n",
      "PS3     16.119175\n",
      "X360    12.987013\n",
      "3DS      9.090909\n",
      "PSV      7.181054\n",
      "WiiU     7.028266\n",
      "PC       6.417112\n",
      "Wii      1.069519\n",
      "DS       0.305577\n",
      "Name: name, dtype: float64\n",
      "platform\n",
      "PS4     20.393812\n",
      "XOne    15.330520\n",
      "PS3     14.908579\n",
      "PC      13.150492\n",
      "X360    11.884669\n",
      "3DS      8.579466\n",
      "PSV      6.751055\n",
      "WiiU     6.751055\n",
      "Wii      1.547117\n",
      "DS       0.562588\n",
      "PSP      0.140647\n",
      "Name: name, dtype: float64\n",
      "platform\n",
      "PSV     26.621735\n",
      "PS3     19.882056\n",
      "3DS     19.797810\n",
      "PS4     18.786858\n",
      "PSP      5.560236\n",
      "WiiU     4.802022\n",
      "X360     2.611626\n",
      "XOne     1.853412\n",
      "Wii      0.084246\n",
      "Name: name, dtype: float64\n"
     ]
    }
   ],
   "source": [
    "print(data_na.groupby('platform')['name'].agg('count').sort_values(ascending=False) / data_na.groupby('platform')['name'].agg('count').sum() * 100)\n",
    "print(data_eu.groupby('platform')['name'].agg('count').sort_values(ascending=False) / data_eu.groupby('platform')['name'].agg('count').sum() * 100)\n",
    "print(data_jp.groupby('platform')['name'].agg('count').sort_values(ascending=False) / data_jp.groupby('platform')['name'].agg('count').sum() * 100)"
   ]
  },
  {
   "cell_type": "markdown",
   "metadata": {},
   "source": [
    "**Какие выводы отсюда можно сделать:**\n",
    "1. Самая популярная платформа у пользователей в трех регионаз это PS2.\n",
    "2. Видим также как во всех регионах набирает популярность PS3.\n",
    "3. DS распространен только в NA и JP\n",
    "4. X360 распространен только в NA и EU.\n",
    "5. В NA более быстрый переход на новые версии PS.\n",
    "6. Уникальные платформы видим во всех трех регионах: в Америке это Wii, в Европе это PC, в Японии это PSP."
   ]
  },
  {
   "cell_type": "markdown",
   "metadata": {},
   "source": [
    "#### Шаг 4.2. Определим Топ-5 жанров по регионам"
   ]
  },
  {
   "cell_type": "code",
   "execution_count": 37,
   "metadata": {},
   "outputs": [
    {
     "data": {
      "image/png": "[encoded data removed]",
      "text/plain": [
       "<Figure size 1152x1152 with 3 Axes>"
      ]
     },
     "metadata": {},
     "output_type": "display_data"
    }
   ],
   "source": [
    "fig, (ax0,ax1,ax2) = plt.subplots(1,3, figsize=(16,16), sharex=True, sharey=True)\n",
    "\n",
    "data_na.groupby('genre')['name'].count().sort_values(ascending=False).head().plot(kind='pie', autopct='%1.0f%%', ax=ax0)\n",
    "ax0.set_title('Top-5 платформ в регионе NA')\n",
    "\n",
    "\n",
    "data_eu.groupby('genre')['name'].count().sort_values(ascending=False).head().plot(kind='pie', autopct='%1.0f%%', ax=ax1)\n",
    "ax1.set_title('Top-5 платформ в регионе EU')\n",
    "\n",
    "\n",
    "data_jp.groupby('genre')['name'].count().sort_values(ascending=False).head().plot(kind='pie', autopct='%1.0f%%', ax=ax2)\n",
    "ax2.set_title('Top-5 платформ в регионе JP')\n",
    "None"
   ]
  },
  {
   "cell_type": "markdown",
   "metadata": {},
   "source": [
    "Судя по графикам, можем сказать:\n",
    "1. Жанровые предпочтения регионов NA и EU практически идентичные.\n",
    "2. Во всех трех регионах более распространен жанр Action.\n",
    "3. В Японии не любят гонки и стрелялки, зато любят приключения и ролевые игры."
   ]
  },
  {
   "cell_type": "markdown",
   "metadata": {},
   "source": [
    "#### Шаг 4.3. Проверим, влияет ли рейтинг ESRB на продажи в отдельном регионе? \n"
   ]
  },
  {
   "cell_type": "code",
   "execution_count": 38,
   "metadata": {},
   "outputs": [
    {
     "data": {
      "text/plain": [
       "rating\n",
       "M       33.036597\n",
       "T       23.738872\n",
       "E10+    21.760633\n",
       "E       21.463897\n",
       "Name: name, dtype: float64"
      ]
     },
     "metadata": {},
     "output_type": "display_data"
    },
    {
     "data": {
      "text/plain": [
       "rating\n",
       "M       31.031308\n",
       "E       24.401473\n",
       "T       23.296501\n",
       "E10+    21.270718\n",
       "Name: name, dtype: float64"
      ]
     },
     "metadata": {},
     "output_type": "display_data"
    },
    {
     "data": {
      "text/plain": [
       "rating\n",
       "T       38.105263\n",
       "M       33.473684\n",
       "E       16.210526\n",
       "E10+    12.210526\n",
       "Name: name, dtype: float64"
      ]
     },
     "metadata": {},
     "output_type": "display_data"
    }
   ],
   "source": [
    "data_na_esrb = data_na.groupby('rating')['name'].agg('count').sort_values(ascending=False) / data_na.groupby('rating')['name'].agg('count').sum() * 100\n",
    "data_eu_esrb = data_eu.groupby('rating')['name'].agg('count').sort_values(ascending=False) / data_eu.groupby('rating')['name'].agg('count').sum() * 100\n",
    "data_jp_esrb = data_jp.groupby('rating')['name'].agg('count').sort_values(ascending=False) / data_jp.groupby('rating')['name'].agg('count').sum() * 100\n",
    "display(data_na_esrb)\n",
    "display(data_eu_esrb)\n",
    "display(data_jp_esrb)"
   ]
  },
  {
   "cell_type": "markdown",
   "metadata": {},
   "source": [
    "Итак, в Северной Америке и Европе на первом месте игры с ограничением в 17 лет. А в Японии 13 лет, а уже потом идут игря для \"по-старше\". В Северной Америке на втором месте игру для 13 лет, а в Европе 6 лет.\n",
    "1. «EC»   -> 3\n",
    "2. «E»    -> 6\n",
    "3. «E10+» -> 10\n",
    "4. «T»    -> 13\n",
    "5. «M»    -> 17\n",
    "6. «AO»   -> 18 "
   ]
  },
  {
   "cell_type": "markdown",
   "metadata": {},
   "source": [
    "### Шаг 5. Проверяем гипотезы"
   ]
  },
  {
   "cell_type": "markdown",
   "metadata": {},
   "source": [
    "#### Средние пользовательские рейтинги платформ Xbox One и PC одинаковые"
   ]
  },
  {
   "cell_type": "markdown",
   "metadata": {},
   "source": [
    "Нулевая гипотеза: Средние пользовательские рейтинги платформ Xbox One и PC одинаковые<br>\n",
    "Альтернативная гипотеза: Средние пользовательские рейтинги платформ Xbox One и PC не одинаковые"
   ]
  },
  {
   "cell_type": "code",
   "execution_count": 39,
   "metadata": {},
   "outputs": [
    {
     "name": "stdout",
     "output_type": "stream",
     "text": [
      "0.14104\n",
      "Нет оснований отвергнуть нулевую гипотезу\n"
     ]
    }
   ],
   "source": [
    "data_user_xone = data_year_correct.query('platform == \"XOne\"').dropna()\n",
    "data_user_pc = data_year_correct.query('platform == \"PC\"').dropna()\n",
    "\n",
    "data_user_rating_xone = data_user_xone['user_score']\n",
    "data_user_rating_pc = data_user_pc['user_score']\n",
    "\n",
    "alpha = 0.05\n",
    "\n",
    "results = st.ttest_ind(data_user_rating_xone, data_user_rating_pc, equal_var=False)\n",
    "\n",
    "print(\"{:.5f}\".format(results.pvalue))\n",
    "\n",
    "if results.pvalue < alpha:\n",
    "    print('Отвергаем нулевую гипотезу')\n",
    "else:\n",
    "    print('Нет оснований отвергнуть нулевую гипотезу')"
   ]
  },
  {
   "cell_type": "markdown",
   "metadata": {},
   "source": [
    "Вывод такой, что у нас нет оснований отвергать нулевую гипотезу."
   ]
  },
  {
   "cell_type": "markdown",
   "metadata": {},
   "source": [
    "#### Средние пользовательские рейтинги жанров Action и Sports разные."
   ]
  },
  {
   "cell_type": "markdown",
   "metadata": {},
   "source": [
    "Нулевая гипотеза: Средние пользовательские рейтинги жанров Action и Sports одинаковые<br>\n",
    "Альтернативная гипотеза: Средние пользовательские рейтинги жанров Action и Sports не одинаковые"
   ]
  },
  {
   "cell_type": "code",
   "execution_count": 40,
   "metadata": {},
   "outputs": [
    {
     "name": "stdout",
     "output_type": "stream",
     "text": [
      "0.0000000000007136312729063\n",
      "Отвергаем нулевую гипотезу\n"
     ]
    }
   ],
   "source": [
    "data_user_action = data_year_correct.query('genre == \"Action\"').dropna()\n",
    "data_user_sports = data_year_correct.query('genre == \"Sports\"').dropna()\n",
    "\n",
    "data_user_rating_action = data_user_action['user_score']\n",
    "data_user_rating_sports = data_user_sports['user_score']\n",
    "\n",
    "alpha = 0.05\n",
    "\n",
    "results = st.ttest_ind(data_user_rating_action, data_user_rating_sports, equal_var=False)\n",
    "\n",
    "print(\"{:.25f}\".format(results.pvalue))\n",
    "\n",
    "if results.pvalue < alpha:\n",
    "    print('Отвергаем нулевую гипотезу')\n",
    "else:\n",
    "    print('Нет оснований отвергнуть нулевую гипотезу')"
   ]
  },
  {
   "cell_type": "markdown",
   "metadata": {},
   "source": [
    "Вывод такой, что на имеющихся данных, на уровне значимости 5% есть основания отвергнуть нулевую гипотезу о равенстве средних значений пользовательских рейтингов (отзывов) жанров Action и Sports в пользу альтернативной гипотезы."
   ]
  },
  {
   "cell_type": "markdown",
   "metadata": {},
   "source": [
    "#### Выводы по раздеу:\n",
    "Мы сформулировали нулевые и альтернативнуые гипотезы на основании генеральной совокупности для того, чтобы понять, соответствует ли наблюдаемая выборка нашему предположению о ней или скорее нет.<br>\n",
    "Формулировка нулевой гипотезы звучит как средние пользовательские рейтинги жанров и платформ одинаковые, а в альтернативной мы отвергаем нулевую гипотезу.<br>\n",
    "Критерий для проверки гипотез в данном случае выбран ttest_ind, так как именно этим тестом мы можем проверить средние значения двух выборок одной генеральной совокупности."
   ]
  },
  {
   "cell_type": "markdown",
   "metadata": {},
   "source": [
    "### Шаг 6. Общий вывод."
   ]
  },
  {
   "cell_type": "markdown",
   "metadata": {},
   "source": [
    "Итак, мы проанализировали данные по продажам компьютерных игр. Выполнили предобработку данных. Исправили названия столбцов, а также типы данных. Обработали значение \"tbd\" в оценках пользователей. Удалили неявные дубликаты по наименованию, жанру и платформе. Удалили строки с критичными пропусками. Сделали замену устаревшего рейтинг ESRB.<br>\n",
    "Посчитали сумарные продажи игр по всем регионам.<br>\n",
    "Выявили, что актуальный период для исследования это 2013-2016 года.<br>\n",
    "Изучив данные по платформам и пришли к выводу, что актуальные платформы это PS4 и XOne, они на подъеме, тогда как остальные уже не актуальны или идут на спад. Средняя продолжительность жизни платформы 6 лет.<br>\n",
    "Определили самые прибыльные жанры, это Platform, Shooter и Role-Playing, но самые продаваемые Action, Sports, Shooter<br>\n",
    "На основании анализа также выявили, что покупатели прислушиваются к оценкам критиков, но не прислушиваются к оценкам пользователей.<br>\n",
    "\n",
    "По рейтингу ESRB: в Северной Америке и Европе на первом месте игры с ограничением в 17 лет. А в Японии 13 лет, а уже потом идут игря для \"по-старше\". В Северной Америке на втором месте игру для 13 лет, а в Европе 6 лет.\n",
    "\n",
    "\n",
    "Для того, чтобы сделать ставку на потенциально популярный продукт и спланировать рекламные кампании, мы выявляли определяющие успешность игры закономерности: \n",
    "***Игры для PS4 и XOne в жанрах Action, Sports и Shooter, с высокими оценками критиков и рейтингом ESRB M и T***\n"
   ]
  }
 ],
 "metadata": {
  "ExecuteTimeLog": [
   {
    "duration": 1108,
    "start_time": "2023-10-07T15:03:01.008Z"
   },
   {
    "duration": 59,
    "start_time": "2023-10-07T15:03:02.118Z"
   },
   {
    "duration": 35,
    "start_time": "2023-10-07T15:03:02.179Z"
   },
   {
    "duration": 55,
    "start_time": "2023-10-07T15:03:02.216Z"
   },
   {
    "duration": 11,
    "start_time": "2023-10-07T15:03:02.274Z"
   },
   {
    "duration": 27,
    "start_time": "2023-10-07T15:03:02.286Z"
   },
   {
    "duration": 45,
    "start_time": "2023-10-07T15:03:02.315Z"
   },
   {
    "duration": 43,
    "start_time": "2023-10-07T15:03:02.362Z"
   },
   {
    "duration": 51,
    "start_time": "2023-10-07T15:03:02.407Z"
   },
   {
    "duration": 26,
    "start_time": "2023-10-07T15:03:02.459Z"
   },
   {
    "duration": 41,
    "start_time": "2023-10-07T15:03:02.486Z"
   },
   {
    "duration": 5,
    "start_time": "2023-10-07T15:03:02.528Z"
   },
   {
    "duration": 40,
    "start_time": "2023-10-07T15:03:02.534Z"
   },
   {
    "duration": 292,
    "start_time": "2023-10-07T15:03:02.578Z"
   },
   {
    "duration": 16,
    "start_time": "2023-10-07T15:03:02.872Z"
   },
   {
    "duration": 78,
    "start_time": "2023-10-07T15:03:02.889Z"
   },
   {
    "duration": 8,
    "start_time": "2023-10-07T15:03:02.969Z"
   },
   {
    "duration": 24,
    "start_time": "2023-10-07T15:03:02.979Z"
   },
   {
    "duration": 21,
    "start_time": "2023-10-07T15:03:03.005Z"
   },
   {
    "duration": 31,
    "start_time": "2023-10-07T15:03:03.028Z"
   },
   {
    "duration": 3241,
    "start_time": "2023-10-07T15:03:03.061Z"
   },
   {
    "duration": 12,
    "start_time": "2023-10-07T15:03:06.304Z"
   },
   {
    "duration": 17,
    "start_time": "2023-10-07T15:03:06.318Z"
   },
   {
    "duration": 27,
    "start_time": "2023-10-07T15:03:06.346Z"
   },
   {
    "duration": 290,
    "start_time": "2023-10-07T15:03:06.375Z"
   },
   {
    "duration": 8,
    "start_time": "2023-10-07T15:03:06.667Z"
   },
   {
    "duration": 373,
    "start_time": "2023-10-07T15:03:06.677Z"
   },
   {
    "duration": 9,
    "start_time": "2023-10-07T15:03:07.051Z"
   },
   {
    "duration": 10,
    "start_time": "2023-10-07T15:03:07.062Z"
   },
   {
    "duration": 35,
    "start_time": "2023-10-07T15:03:07.074Z"
   },
   {
    "duration": 30,
    "start_time": "2023-10-07T15:03:07.111Z"
   },
   {
    "duration": 50,
    "start_time": "2023-10-07T15:03:07.143Z"
   },
   {
    "duration": 43,
    "start_time": "2023-10-07T15:03:07.195Z"
   },
   {
    "duration": 28,
    "start_time": "2023-10-07T15:03:07.240Z"
   },
   {
    "duration": 355,
    "start_time": "2023-10-07T15:03:07.270Z"
   },
   {
    "duration": 359,
    "start_time": "2023-10-07T15:03:07.627Z"
   },
   {
    "duration": 8,
    "start_time": "2023-10-07T15:03:07.988Z"
   },
   {
    "duration": 49,
    "start_time": "2023-10-07T15:03:07.998Z"
   },
   {
    "duration": 58,
    "start_time": "2023-10-07T15:03:08.050Z"
   },
   {
    "duration": 115,
    "start_time": "2023-10-07T17:28:16.273Z"
   },
   {
    "duration": 1357,
    "start_time": "2023-10-07T17:28:28.028Z"
   },
   {
    "duration": 63,
    "start_time": "2023-10-07T17:28:29.387Z"
   },
   {
    "duration": 48,
    "start_time": "2023-10-07T17:28:29.453Z"
   },
   {
    "duration": 53,
    "start_time": "2023-10-07T17:28:29.503Z"
   },
   {
    "duration": 16,
    "start_time": "2023-10-07T17:28:29.560Z"
   },
   {
    "duration": 8,
    "start_time": "2023-10-07T17:28:29.579Z"
   },
   {
    "duration": 31,
    "start_time": "2023-10-07T17:28:29.589Z"
   },
   {
    "duration": 29,
    "start_time": "2023-10-07T17:28:29.622Z"
   },
   {
    "duration": 53,
    "start_time": "2023-10-07T17:28:29.654Z"
   },
   {
    "duration": 25,
    "start_time": "2023-10-07T17:28:29.709Z"
   },
   {
    "duration": 39,
    "start_time": "2023-10-07T17:28:29.736Z"
   },
   {
    "duration": 6,
    "start_time": "2023-10-07T17:28:29.781Z"
   },
   {
    "duration": 19,
    "start_time": "2023-10-07T17:28:29.789Z"
   },
   {
    "duration": 360,
    "start_time": "2023-10-07T17:28:29.813Z"
   },
   {
    "duration": 18,
    "start_time": "2023-10-07T17:28:30.176Z"
   },
   {
    "duration": 100,
    "start_time": "2023-10-07T17:28:30.196Z"
   },
   {
    "duration": 119,
    "start_time": "2023-10-07T17:28:30.298Z"
   },
   {
    "duration": 8,
    "start_time": "2023-10-07T17:28:30.419Z"
   },
   {
    "duration": 65,
    "start_time": "2023-10-07T17:28:30.429Z"
   },
   {
    "duration": 56,
    "start_time": "2023-10-07T17:28:30.497Z"
   },
   {
    "duration": 81,
    "start_time": "2023-10-07T17:28:30.555Z"
   },
   {
    "duration": 4020,
    "start_time": "2023-10-07T17:28:30.640Z"
   },
   {
    "duration": 17,
    "start_time": "2023-10-07T17:28:34.662Z"
   },
   {
    "duration": 22,
    "start_time": "2023-10-07T17:28:34.683Z"
   },
   {
    "duration": 63,
    "start_time": "2023-10-07T17:28:34.707Z"
   },
   {
    "duration": 347,
    "start_time": "2023-10-07T17:28:34.777Z"
   },
   {
    "duration": 28,
    "start_time": "2023-10-07T17:28:35.126Z"
   },
   {
    "duration": 511,
    "start_time": "2023-10-07T17:28:35.158Z"
   },
   {
    "duration": 15,
    "start_time": "2023-10-07T17:28:35.674Z"
   },
   {
    "duration": 29,
    "start_time": "2023-10-07T17:28:35.691Z"
   },
   {
    "duration": 43,
    "start_time": "2023-10-07T17:28:35.722Z"
   },
   {
    "duration": 16,
    "start_time": "2023-10-07T17:28:35.767Z"
   },
   {
    "duration": 22,
    "start_time": "2023-10-07T17:28:35.786Z"
   },
   {
    "duration": 66,
    "start_time": "2023-10-07T17:28:35.810Z"
   },
   {
    "duration": 47,
    "start_time": "2023-10-07T17:28:35.879Z"
   },
   {
    "duration": 506,
    "start_time": "2023-10-07T17:28:35.929Z"
   },
   {
    "duration": 466,
    "start_time": "2023-10-07T17:28:36.438Z"
   },
   {
    "duration": 10,
    "start_time": "2023-10-07T17:28:36.906Z"
   },
   {
    "duration": 68,
    "start_time": "2023-10-07T17:28:36.918Z"
   },
   {
    "duration": 27,
    "start_time": "2023-10-07T17:28:36.988Z"
   },
   {
    "duration": 12,
    "start_time": "2023-10-07T17:41:18.466Z"
   },
   {
    "duration": 35,
    "start_time": "2023-10-07T18:01:59.550Z"
   },
   {
    "duration": 8,
    "start_time": "2023-10-07T18:24:35.601Z"
   },
   {
    "duration": 43,
    "start_time": "2023-10-08T06:21:21.007Z"
   },
   {
    "duration": 1279,
    "start_time": "2023-10-08T06:21:33.736Z"
   },
   {
    "duration": 101,
    "start_time": "2023-10-08T06:21:35.017Z"
   },
   {
    "duration": 30,
    "start_time": "2023-10-08T06:21:35.119Z"
   },
   {
    "duration": 170,
    "start_time": "2023-10-08T06:21:35.152Z"
   },
   {
    "duration": 91,
    "start_time": "2023-10-08T06:21:35.324Z"
   },
   {
    "duration": 0,
    "start_time": "2023-10-08T06:21:35.418Z"
   },
   {
    "duration": 0,
    "start_time": "2023-10-08T06:21:35.419Z"
   },
   {
    "duration": 0,
    "start_time": "2023-10-08T06:21:35.420Z"
   },
   {
    "duration": 0,
    "start_time": "2023-10-08T06:21:35.421Z"
   },
   {
    "duration": 0,
    "start_time": "2023-10-08T06:21:35.422Z"
   },
   {
    "duration": 0,
    "start_time": "2023-10-08T06:21:35.423Z"
   },
   {
    "duration": 0,
    "start_time": "2023-10-08T06:21:35.424Z"
   },
   {
    "duration": 0,
    "start_time": "2023-10-08T06:21:35.424Z"
   },
   {
    "duration": 0,
    "start_time": "2023-10-08T06:21:35.426Z"
   },
   {
    "duration": 0,
    "start_time": "2023-10-08T06:21:35.427Z"
   },
   {
    "duration": 0,
    "start_time": "2023-10-08T06:21:35.428Z"
   },
   {
    "duration": 0,
    "start_time": "2023-10-08T06:21:35.429Z"
   },
   {
    "duration": 0,
    "start_time": "2023-10-08T06:21:35.430Z"
   },
   {
    "duration": 0,
    "start_time": "2023-10-08T06:21:35.431Z"
   },
   {
    "duration": 0,
    "start_time": "2023-10-08T06:21:35.449Z"
   },
   {
    "duration": 0,
    "start_time": "2023-10-08T06:21:35.450Z"
   },
   {
    "duration": 0,
    "start_time": "2023-10-08T06:21:35.452Z"
   },
   {
    "duration": 0,
    "start_time": "2023-10-08T06:21:35.453Z"
   },
   {
    "duration": 0,
    "start_time": "2023-10-08T06:21:35.455Z"
   },
   {
    "duration": 0,
    "start_time": "2023-10-08T06:21:35.457Z"
   },
   {
    "duration": 0,
    "start_time": "2023-10-08T06:21:35.458Z"
   },
   {
    "duration": 0,
    "start_time": "2023-10-08T06:21:35.460Z"
   },
   {
    "duration": 0,
    "start_time": "2023-10-08T06:21:35.461Z"
   },
   {
    "duration": 0,
    "start_time": "2023-10-08T06:21:35.463Z"
   },
   {
    "duration": 0,
    "start_time": "2023-10-08T06:21:35.464Z"
   },
   {
    "duration": 0,
    "start_time": "2023-10-08T06:21:35.465Z"
   },
   {
    "duration": 0,
    "start_time": "2023-10-08T06:21:35.466Z"
   },
   {
    "duration": 0,
    "start_time": "2023-10-08T06:21:35.468Z"
   },
   {
    "duration": 0,
    "start_time": "2023-10-08T06:21:35.469Z"
   },
   {
    "duration": 0,
    "start_time": "2023-10-08T06:21:35.470Z"
   },
   {
    "duration": 0,
    "start_time": "2023-10-08T06:21:35.471Z"
   },
   {
    "duration": 0,
    "start_time": "2023-10-08T06:21:35.472Z"
   },
   {
    "duration": 0,
    "start_time": "2023-10-08T06:21:35.473Z"
   },
   {
    "duration": 0,
    "start_time": "2023-10-08T06:21:35.474Z"
   },
   {
    "duration": 0,
    "start_time": "2023-10-08T06:21:35.475Z"
   },
   {
    "duration": 0,
    "start_time": "2023-10-08T06:21:35.476Z"
   },
   {
    "duration": 0,
    "start_time": "2023-10-08T06:21:35.476Z"
   },
   {
    "duration": 936,
    "start_time": "2023-10-09T00:33:19.691Z"
   },
   {
    "duration": 55,
    "start_time": "2023-10-09T00:33:20.628Z"
   },
   {
    "duration": 40,
    "start_time": "2023-10-09T00:33:20.685Z"
   },
   {
    "duration": 145,
    "start_time": "2023-10-09T00:33:20.727Z"
   },
   {
    "duration": 9,
    "start_time": "2023-10-09T00:33:20.874Z"
   },
   {
    "duration": 9,
    "start_time": "2023-10-09T00:33:20.884Z"
   },
   {
    "duration": 23,
    "start_time": "2023-10-09T00:33:20.895Z"
   },
   {
    "duration": 12,
    "start_time": "2023-10-09T00:33:20.920Z"
   },
   {
    "duration": 55,
    "start_time": "2023-10-09T00:33:20.933Z"
   },
   {
    "duration": 25,
    "start_time": "2023-10-09T00:33:20.990Z"
   },
   {
    "duration": 20,
    "start_time": "2023-10-09T00:33:21.016Z"
   },
   {
    "duration": 18,
    "start_time": "2023-10-09T00:33:21.038Z"
   },
   {
    "duration": 8,
    "start_time": "2023-10-09T00:33:21.057Z"
   },
   {
    "duration": 248,
    "start_time": "2023-10-09T00:33:21.068Z"
   },
   {
    "duration": 12,
    "start_time": "2023-10-09T00:33:21.317Z"
   },
   {
    "duration": 25,
    "start_time": "2023-10-09T00:33:21.331Z"
   },
   {
    "duration": 10,
    "start_time": "2023-10-09T00:33:21.357Z"
   },
   {
    "duration": 19,
    "start_time": "2023-10-09T00:33:21.368Z"
   },
   {
    "duration": 76,
    "start_time": "2023-10-09T00:33:21.389Z"
   },
   {
    "duration": 293,
    "start_time": "2023-10-09T00:33:21.467Z"
   },
   {
    "duration": 7,
    "start_time": "2023-10-09T00:33:21.761Z"
   },
   {
    "duration": 229,
    "start_time": "2023-10-09T00:33:21.769Z"
   },
   {
    "duration": 18,
    "start_time": "2023-10-09T00:33:21.999Z"
   },
   {
    "duration": 25,
    "start_time": "2023-10-09T00:33:22.019Z"
   },
   {
    "duration": 2612,
    "start_time": "2023-10-09T00:33:22.045Z"
   },
   {
    "duration": 28,
    "start_time": "2023-10-09T00:33:24.659Z"
   },
   {
    "duration": 6,
    "start_time": "2023-10-09T00:33:24.688Z"
   },
   {
    "duration": 9,
    "start_time": "2023-10-09T00:33:24.696Z"
   },
   {
    "duration": 42,
    "start_time": "2023-10-09T00:33:24.706Z"
   },
   {
    "duration": 334,
    "start_time": "2023-10-09T00:33:24.751Z"
   },
   {
    "duration": 7,
    "start_time": "2023-10-09T00:33:25.087Z"
   },
   {
    "duration": 261,
    "start_time": "2023-10-09T00:33:25.095Z"
   },
   {
    "duration": 1803,
    "start_time": "2023-10-09T00:33:25.359Z"
   },
   {
    "duration": 3,
    "start_time": "2023-10-09T00:33:27.163Z"
   },
   {
    "duration": 8,
    "start_time": "2023-10-09T00:33:27.167Z"
   },
   {
    "duration": 3,
    "start_time": "2023-10-09T00:33:27.176Z"
   },
   {
    "duration": 8,
    "start_time": "2023-10-09T00:33:27.180Z"
   },
   {
    "duration": 5,
    "start_time": "2023-10-09T00:33:27.189Z"
   },
   {
    "duration": 9,
    "start_time": "2023-10-09T00:33:27.195Z"
   },
   {
    "duration": 50,
    "start_time": "2023-10-09T00:33:27.206Z"
   },
   {
    "duration": 14,
    "start_time": "2023-10-09T00:33:27.259Z"
   },
   {
    "duration": 282,
    "start_time": "2023-10-09T00:33:27.274Z"
   },
   {
    "duration": 16,
    "start_time": "2023-10-09T00:33:27.559Z"
   },
   {
    "duration": 12,
    "start_time": "2023-10-09T00:33:27.576Z"
   },
   {
    "duration": 17,
    "start_time": "2023-10-09T00:33:27.590Z"
   },
   {
    "duration": 7,
    "start_time": "2023-10-09T00:45:00.967Z"
   },
   {
    "duration": 1108,
    "start_time": "2023-10-09T19:44:40.104Z"
   },
   {
    "duration": 52,
    "start_time": "2023-10-09T19:44:41.215Z"
   },
   {
    "duration": 30,
    "start_time": "2023-10-09T19:44:41.269Z"
   },
   {
    "duration": 26,
    "start_time": "2023-10-09T19:44:41.301Z"
   },
   {
    "duration": 8,
    "start_time": "2023-10-09T19:44:41.346Z"
   },
   {
    "duration": 13,
    "start_time": "2023-10-09T19:44:41.355Z"
   },
   {
    "duration": 13,
    "start_time": "2023-10-09T19:44:41.370Z"
   },
   {
    "duration": 11,
    "start_time": "2023-10-09T19:44:41.385Z"
   },
   {
    "duration": 49,
    "start_time": "2023-10-09T19:44:41.397Z"
   },
   {
    "duration": 22,
    "start_time": "2023-10-09T19:44:41.448Z"
   },
   {
    "duration": 20,
    "start_time": "2023-10-09T19:44:41.472Z"
   },
   {
    "duration": 4,
    "start_time": "2023-10-09T19:44:41.494Z"
   },
   {
    "duration": 8,
    "start_time": "2023-10-09T19:44:41.500Z"
   },
   {
    "duration": 268,
    "start_time": "2023-10-09T19:44:41.544Z"
   },
   {
    "duration": 16,
    "start_time": "2023-10-09T19:44:41.814Z"
   },
   {
    "duration": 17,
    "start_time": "2023-10-09T19:44:41.832Z"
   },
   {
    "duration": 9,
    "start_time": "2023-10-09T19:44:41.851Z"
   },
   {
    "duration": 23,
    "start_time": "2023-10-09T19:44:41.861Z"
   },
   {
    "duration": 98,
    "start_time": "2023-10-09T19:44:41.885Z"
   },
   {
    "duration": 343,
    "start_time": "2023-10-09T19:44:41.985Z"
   },
   {
    "duration": 10,
    "start_time": "2023-10-09T19:44:42.329Z"
   },
   {
    "duration": 250,
    "start_time": "2023-10-09T19:44:42.344Z"
   },
   {
    "duration": 23,
    "start_time": "2023-10-09T19:44:42.595Z"
   },
   {
    "duration": 28,
    "start_time": "2023-10-09T19:44:42.620Z"
   },
   {
    "duration": 3004,
    "start_time": "2023-10-09T19:44:42.649Z"
   },
   {
    "duration": 28,
    "start_time": "2023-10-09T19:44:45.655Z"
   },
   {
    "duration": 12,
    "start_time": "2023-10-09T19:44:45.686Z"
   },
   {
    "duration": 32,
    "start_time": "2023-10-09T19:44:45.701Z"
   },
   {
    "duration": 56,
    "start_time": "2023-10-09T19:44:45.735Z"
   },
   {
    "duration": 400,
    "start_time": "2023-10-09T19:44:45.793Z"
   },
   {
    "duration": 9,
    "start_time": "2023-10-09T19:44:46.196Z"
   },
   {
    "duration": 300,
    "start_time": "2023-10-09T19:44:46.207Z"
   },
   {
    "duration": 2003,
    "start_time": "2023-10-09T19:44:46.509Z"
   },
   {
    "duration": 3,
    "start_time": "2023-10-09T19:44:48.513Z"
   },
   {
    "duration": 54,
    "start_time": "2023-10-09T19:44:48.517Z"
   },
   {
    "duration": 36,
    "start_time": "2023-10-09T19:44:48.573Z"
   },
   {
    "duration": 48,
    "start_time": "2023-10-09T19:44:48.611Z"
   },
   {
    "duration": 30,
    "start_time": "2023-10-09T19:44:48.661Z"
   },
   {
    "duration": 33,
    "start_time": "2023-10-09T19:44:48.692Z"
   },
   {
    "duration": 31,
    "start_time": "2023-10-09T19:44:48.727Z"
   },
   {
    "duration": 30,
    "start_time": "2023-10-09T19:44:48.761Z"
   },
   {
    "duration": 330,
    "start_time": "2023-10-09T19:44:48.793Z"
   },
   {
    "duration": 23,
    "start_time": "2023-10-09T19:44:49.125Z"
   },
   {
    "duration": 33,
    "start_time": "2023-10-09T19:44:49.150Z"
   },
   {
    "duration": 30,
    "start_time": "2023-10-09T19:44:49.185Z"
   },
   {
    "duration": 18,
    "start_time": "2023-10-09T19:44:49.216Z"
   }
  ],
  "kernelspec": {
   "display_name": "Python 3 (ipykernel)",
   "language": "python",
   "name": "python3"
  },
  "language_info": {
   "codemirror_mode": {
    "name": "ipython",
    "version": 3
   },
   "file_extension": ".py",
   "mimetype": "text/x-python",
   "name": "python",
   "nbconvert_exporter": "python",
   "pygments_lexer": "ipython3",
   "version": "3.9.5"
  },
  "toc": {
   "base_numbering": 1,
   "nav_menu": {},
   "number_sections": true,
   "sideBar": true,
   "skip_h1_title": true,
   "title_cell": "Table of Contents",
   "title_sidebar": "Contents",
   "toc_cell": false,
   "toc_position": {
    "height": "calc(100% - 180px)",
    "left": "10px",
    "top": "150px",
    "width": "165px"
   },
   "toc_section_display": true,
   "toc_window_display": true
  }
 },
 "nbformat": 4,
 "nbformat_minor": 4
}
