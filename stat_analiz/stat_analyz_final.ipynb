{
 "cells": [
  {
   "cell_type": "markdown",
   "id": "85c702a5",
   "metadata": {},
   "source": [
    "<div style=\"border:solid green 3px; padding: 20px\">\n",
    "\t\t\t\t\t\t\t\t\t\t\t\t\t\t\t\t\t\t\t\t\t\n",
    "<b>Привет!</b>\n",
    "\t\t\t\t\t\t\t\t\t\t\t\t\t\t\t\t\t\t\t\t\t\n",
    "Меня зовут Сороколетов Илья и я буду проверять твой проект. \n",
    "\t\t\t\t\t\t\t\t\t\t\t\t\t\t\t\t\t\t\t\t\t\n",
    "Предлагаю общаться на «**ты**», но если тебе будет комфортнее общаться на «**вы**», то сообщи об этом в комментариях)\n",
    "\t\t\t\t\t\t\t\t\t\t\t\t\t\t\t\t\t\t\t\t\t\n",
    "\t\t\t\t\t\t\t\t\t\t\t\t\t\t\t\t\t\t\t\t\t\n",
    "Для твоего удобства, я буду выделять свои комментарии следующим образом:\n",
    "\t\t\t\t\t\t\t\t\t\t\t\t\t\t\t\t\t\t\t\t\t\n",
    "<div class=\"alert alert-danger\">\n",
    "<b>❌ Комментарий ревьюера v1:</b> Самые важные замечания. Они указывают на ключевые моменты, которые влияют на конечный результат проекта. </div>\n",
    "\t\t\t\t\t\t\t\t\t\t\t\t\t\t\t\t\t\t\t\t\t\n",
    "<div class=\"alert alert-warning\">\n",
    "<b>⚠️ Комментарий ревьюера v1:</b> Советы или замечания, которые помогут сделать твою работу лучше, но необязательны к выполнению.\n",
    "\t\t\t\t\t\t\t\t\t\t\t\t\t\t\t\t\t\t\t\t\t\n",
    "</div>\n",
    "\t\t\t\t\t\t\t\t\t\t\t\t\t\t\t\t\t\t\t\t\t\n",
    "<div class=\"alert alert-success\">\n",
    "<b>✔️ Комментарий ревьюера v1:</b> Так я выделяю все остальные комментарии.</div>\n",
    "\t\t\t\t\t\t\t\t\t\t\t\t\t\t\t\t\t\t\t\t\t\n",
    "\t\t\t\t\t\t\t\t\t\t\t\t\t\t\t\t\t\t\t\t\t\n",
    "Пометками <b>v1-v2-v3-...</b> я буду отмечать версию проверки. Так ты сможешь быстро найти мои новые комментарии.\n",
    "\t\t\t\t\t\t\t\t\t\t\t\t\t\t\t\t\t\t\t\t\t\n",
    "Давай работать над проектом в диалоге: если ты что-то меняешь в проекте по моим рекомендациям — пиши об этом. Выбери для своих комментариев какой-то заметный цвет, так мне будет легче отследить изменения, например вот так:\n",
    "\t\t\t\t\t\t\t\t\t\t\t\t\t\t\t\t\t\t\t\t\t    \n",
    "<div class=\"alert alert-info\">\n",
    "<b>Комментарий студента:</b>\n",
    "<br>\n",
    "</div>\n",
    "\t\t\t\t\t\t\t\t\t\t\t\t\t\t\t\t\t\t\t\t\t\n",
    "<b>Пожалуйста, не перемещай, не изменяй и не удаляй мои комментарии.</b> Если ты оставляешь свои комментарии, то делай это под моими, чтобы сообщения были расположены в хронологическом порядке. Всё это поможет выполнить повторную проверку твоего проекта быстрее. \n",
    "\t\t\t\t\t\t\t\t\t\t\t\t\t\t\t\t\t\t\t\t\t\n",
    "Перед отправкой работы я рекомендую нажимать Kernel -> Restart & Run All. Это перезапустит ядро и по очереди выполнит все ячейки. Так ты сможешь проверить, что всё работает корректно. Кнопка Kernel находится в панели сверху\n",
    "\t\t\t\t\t\t\t\t\t\t\t\t\t\t\t\t\t\t\t\t\t\n",
    "Обязательно задавай вопросы если они возникнут, а я перехожу к проверке)\n",
    "\t\t\t\t\t\t\t\t\t\t\t\t\t\t\t\t\t\t\t\t\t\n",
    "P.S. На всякий случай, я оставлю пустой шаблон для твоих комментариев ниже. Кликни два раза на мой комментарий, скопируй последние четыре строчки кода и вставляй их в пустую ячейку там, где ты хочешь оставить комментарий. Не забудь только перед этим сменить тип ячейки на Markdown. Быстро это можно сделать так: кликнуть на ячейку - нажать ESC - нажать M. \n",
    "\t\t\t\t\t\t\t\t\t\t\t\t\t\t\t\t\t\t\t\t\t    \n",
    "\t\t\t\t\t\t\t\t\t\t\t\t\t\t\t\t\t\t\t\t\t    \n",
    "<div class=\"alert alert-info\">\n",
    "<b>Комментарий студента:</b>\n",
    "<br>Удали этот текст и вместо него напиши свой комментарий 🙂\n",
    "</div>"
   ]
  },
  {
   "cell_type": "markdown",
   "id": "051ea52c",
   "metadata": {},
   "source": [
    "<div class=\"alert alert-danger\">\n",
    "<b>❌ Комментарий ревьюера:</b> \n",
    "<br>Перед отправкой проекта обязательно перезапускай ядро через Kernel -> Restart & Run All и проверяй, чтобы все ячейки отработали без ошибок. 3 ячейка сейчас падает с ошибкой. Поправь, пожалуйста, чтобы я смог проверить твой проект\n",
    "</div>\n"
   ]
  },
  {
   "cell_type": "markdown",
   "id": "767fd47f",
   "metadata": {},
   "source": [
    "<div class=\"alert alert-info\">\n",
    "<b>Комментарий студента:</b>\n",
    "<br>Поправил пути к базам, делал на локалке поэтому не учел... Теперь все работает.\n",
    "</div>"
   ]
  },
  {
   "cell_type": "markdown",
   "id": "c26c15cd",
   "metadata": {},
   "source": [
    "<div class=\"alert alert-success\">\n",
    "<b>✔️ Комментарий ревьюера v1:</b> \n",
    "<br>Теперь всё работает) Перехожу к проверке!\n",
    "</div>"
   ]
  },
  {
   "cell_type": "markdown",
   "id": "1cf45759",
   "metadata": {},
   "source": [
    "<div class=\"alert alert-danger\">\n",
    "<b>❌ Комментарий ревьюера v1:</b> \n",
    "<br>Важно оставлять перед проектом краткое описание задачи. Это поможет тебе быстро вспомнить о чем проект, если спустя время ты решишь к нему вернуться)\n",
    "</div>"
   ]
  },
  {
   "cell_type": "markdown",
   "id": "80ef4a61",
   "metadata": {},
   "source": [
    "<div class=\"alert alert-info\">\n",
    "<b>Комментарий студента v1:</b>\n",
    "<br>Добавил описание проекта\n",
    "</div>"
   ]
  },
  {
   "cell_type": "markdown",
   "id": "67aacb13",
   "metadata": {},
   "source": [
    "В этом проекте будем анализировать данные о некоторых пользователей сервиса аренды самокатов и их поздках. \n",
    "Также проверим некоторые гипотезы, которые могут помочь бизнесу вырасти. А именно:\n",
    "1. Тратят ли пользователи с подпиской больше времени на поездки?\n",
    "2. Проезжают ли пользователи с подпиской за одну поездку расстояние, оптимальное с точки зрения износа самоката.\n",
    "3. Будет ли помесячная выручка от пользователей с подпиской по месяцам выше, чем выручка от пользователей без подписки"
   ]
  },
  {
   "cell_type": "markdown",
   "id": "f91f616b",
   "metadata": {},
   "source": [
    "<div class=\"alert alert-success\">\n",
    "<b>✔️ Комментарий ревьюера v2:</b>\n",
    "<br>Правка выполнена 👍\n",
    "</div>"
   ]
  },
  {
   "cell_type": "markdown",
   "id": "c42cbe00",
   "metadata": {},
   "source": [
    "#### Шаг 1. Загрузка данных"
   ]
  },
  {
   "cell_type": "markdown",
   "id": "f6e593d2-0a47-42ce-be71-55617bb8ecba",
   "metadata": {},
   "source": [
    "##### Загружаем библиотеки"
   ]
  },
  {
   "cell_type": "code",
   "execution_count": 1,
   "id": "8c4b0c46-70d2-4d33-a57c-c6e15f2bb914",
   "metadata": {},
   "outputs": [],
   "source": [
    "import pandas as pd\n",
    "import matplotlib.pyplot as plt\n",
    "import os\n",
    "import numpy as np\n",
    "import scipy.stats as st\n",
    "pd.set_option('display.max_columns', 50)"
   ]
  },
  {
   "cell_type": "markdown",
   "id": "11d426eb",
   "metadata": {},
   "source": [
    "<div class=\"alert alert-success\">\n",
    "<b>✔️ Комментарий ревьюера v1:</b> \n",
    "<br>Молодец, что импортируешь все библиотеки отдельно в первой ячейке. Это позволит тебе в любой момент добавить ещё одну библиотеку без перезаписи переменных.\n",
    "</div>"
   ]
  },
  {
   "cell_type": "markdown",
   "id": "c2b1d5d2",
   "metadata": {},
   "source": [
    "##### Загружаем файлы с данными"
   ]
  },
  {
   "cell_type": "code",
   "execution_count": 2,
   "id": "eff9f206",
   "metadata": {},
   "outputs": [],
   "source": [
    "pth1 = '/datasets/users_go.csv'\n",
    "pth2 = '/datasets/rides_go.csv'\n",
    "pth3 = '/datasets/subscriptions_go.csv'\n",
    "if os.path.exists(pth1) and os.path.exists(pth2) and os.path.exists(pth3):\n",
    "    data_users = pd.read_csv(pth1, sep=',')\n",
    "    data_rides = pd.read_csv(pth2, sep=',', parse_dates=['date'], dayfirst=True)\n",
    "    data_subscriptions = pd.read_csv(pth3, sep=',')\n",
    "else:\n",
    "    print('Something is wrong')"
   ]
  },
  {
   "cell_type": "markdown",
   "id": "6ab3e3f3",
   "metadata": {},
   "source": [
    "##### Изучаем датафреймы"
   ]
  },
  {
   "cell_type": "code",
   "execution_count": 3,
   "id": "d96f8e85",
   "metadata": {},
   "outputs": [
    {
     "name": "stdout",
     "output_type": "stream",
     "text": [
      "<class 'pandas.core.frame.DataFrame'>\n",
      "RangeIndex: 1565 entries, 0 to 1564\n",
      "Data columns (total 5 columns):\n",
      " #   Column             Non-Null Count  Dtype \n",
      "---  ------             --------------  ----- \n",
      " 0   user_id            1565 non-null   int64 \n",
      " 1   name               1565 non-null   object\n",
      " 2   age                1565 non-null   int64 \n",
      " 3   city               1565 non-null   object\n",
      " 4   subscription_type  1565 non-null   object\n",
      "dtypes: int64(2), object(3)\n",
      "memory usage: 61.3+ KB\n",
      "\n",
      "<class 'pandas.core.frame.DataFrame'>\n",
      "RangeIndex: 18068 entries, 0 to 18067\n",
      "Data columns (total 4 columns):\n",
      " #   Column    Non-Null Count  Dtype         \n",
      "---  ------    --------------  -----         \n",
      " 0   user_id   18068 non-null  int64         \n",
      " 1   distance  18068 non-null  float64       \n",
      " 2   duration  18068 non-null  float64       \n",
      " 3   date      18068 non-null  datetime64[ns]\n",
      "dtypes: datetime64[ns](1), float64(2), int64(1)\n",
      "memory usage: 564.8 KB\n",
      "\n",
      "<class 'pandas.core.frame.DataFrame'>\n",
      "RangeIndex: 2 entries, 0 to 1\n",
      "Data columns (total 4 columns):\n",
      " #   Column             Non-Null Count  Dtype \n",
      "---  ------             --------------  ----- \n",
      " 0   subscription_type  2 non-null      object\n",
      " 1   minute_price       2 non-null      int64 \n",
      " 2   start_ride_price   2 non-null      int64 \n",
      " 3   subscription_fee   2 non-null      int64 \n",
      "dtypes: int64(3), object(1)\n",
      "memory usage: 192.0+ bytes\n"
     ]
    },
    {
     "data": {
      "text/html": [
       "<div>\n",
       "<style scoped>\n",
       "    .dataframe tbody tr th:only-of-type {\n",
       "        vertical-align: middle;\n",
       "    }\n",
       "\n",
       "    .dataframe tbody tr th {\n",
       "        vertical-align: top;\n",
       "    }\n",
       "\n",
       "    .dataframe thead th {\n",
       "        text-align: right;\n",
       "    }\n",
       "</style>\n",
       "<table border=\"1\" class=\"dataframe\">\n",
       "  <thead>\n",
       "    <tr style=\"text-align: right;\">\n",
       "      <th></th>\n",
       "      <th>user_id</th>\n",
       "      <th>name</th>\n",
       "      <th>age</th>\n",
       "      <th>city</th>\n",
       "      <th>subscription_type</th>\n",
       "    </tr>\n",
       "  </thead>\n",
       "  <tbody>\n",
       "    <tr>\n",
       "      <th>0</th>\n",
       "      <td>1</td>\n",
       "      <td>Кира</td>\n",
       "      <td>22</td>\n",
       "      <td>Тюмень</td>\n",
       "      <td>ultra</td>\n",
       "    </tr>\n",
       "    <tr>\n",
       "      <th>1</th>\n",
       "      <td>2</td>\n",
       "      <td>Станислав</td>\n",
       "      <td>31</td>\n",
       "      <td>Омск</td>\n",
       "      <td>ultra</td>\n",
       "    </tr>\n",
       "    <tr>\n",
       "      <th>2</th>\n",
       "      <td>3</td>\n",
       "      <td>Алексей</td>\n",
       "      <td>20</td>\n",
       "      <td>Москва</td>\n",
       "      <td>ultra</td>\n",
       "    </tr>\n",
       "    <tr>\n",
       "      <th>3</th>\n",
       "      <td>4</td>\n",
       "      <td>Константин</td>\n",
       "      <td>26</td>\n",
       "      <td>Ростов-на-Дону</td>\n",
       "      <td>ultra</td>\n",
       "    </tr>\n",
       "    <tr>\n",
       "      <th>4</th>\n",
       "      <td>5</td>\n",
       "      <td>Адель</td>\n",
       "      <td>28</td>\n",
       "      <td>Омск</td>\n",
       "      <td>ultra</td>\n",
       "    </tr>\n",
       "    <tr>\n",
       "      <th>5</th>\n",
       "      <td>6</td>\n",
       "      <td>Регина</td>\n",
       "      <td>25</td>\n",
       "      <td>Краснодар</td>\n",
       "      <td>ultra</td>\n",
       "    </tr>\n",
       "    <tr>\n",
       "      <th>6</th>\n",
       "      <td>7</td>\n",
       "      <td>Игорь</td>\n",
       "      <td>23</td>\n",
       "      <td>Омск</td>\n",
       "      <td>ultra</td>\n",
       "    </tr>\n",
       "    <tr>\n",
       "      <th>7</th>\n",
       "      <td>8</td>\n",
       "      <td>Юрий</td>\n",
       "      <td>23</td>\n",
       "      <td>Краснодар</td>\n",
       "      <td>ultra</td>\n",
       "    </tr>\n",
       "    <tr>\n",
       "      <th>8</th>\n",
       "      <td>9</td>\n",
       "      <td>Ян</td>\n",
       "      <td>21</td>\n",
       "      <td>Пятигорск</td>\n",
       "      <td>ultra</td>\n",
       "    </tr>\n",
       "    <tr>\n",
       "      <th>9</th>\n",
       "      <td>10</td>\n",
       "      <td>Валерий</td>\n",
       "      <td>18</td>\n",
       "      <td>Екатеринбург</td>\n",
       "      <td>ultra</td>\n",
       "    </tr>\n",
       "  </tbody>\n",
       "</table>\n",
       "</div>"
      ],
      "text/plain": [
       "   user_id        name  age            city subscription_type\n",
       "0        1        Кира   22          Тюмень             ultra\n",
       "1        2   Станислав   31            Омск             ultra\n",
       "2        3     Алексей   20          Москва             ultra\n",
       "3        4  Константин   26  Ростов-на-Дону             ultra\n",
       "4        5       Адель   28            Омск             ultra\n",
       "5        6      Регина   25       Краснодар             ultra\n",
       "6        7       Игорь   23            Омск             ultra\n",
       "7        8        Юрий   23       Краснодар             ultra\n",
       "8        9          Ян   21       Пятигорск             ultra\n",
       "9       10     Валерий   18    Екатеринбург             ultra"
      ]
     },
     "metadata": {},
     "output_type": "display_data"
    },
    {
     "name": "stdout",
     "output_type": "stream",
     "text": [
      "\n"
     ]
    },
    {
     "data": {
      "text/html": [
       "<div>\n",
       "<style scoped>\n",
       "    .dataframe tbody tr th:only-of-type {\n",
       "        vertical-align: middle;\n",
       "    }\n",
       "\n",
       "    .dataframe tbody tr th {\n",
       "        vertical-align: top;\n",
       "    }\n",
       "\n",
       "    .dataframe thead th {\n",
       "        text-align: right;\n",
       "    }\n",
       "</style>\n",
       "<table border=\"1\" class=\"dataframe\">\n",
       "  <thead>\n",
       "    <tr style=\"text-align: right;\">\n",
       "      <th></th>\n",
       "      <th>user_id</th>\n",
       "      <th>distance</th>\n",
       "      <th>duration</th>\n",
       "      <th>date</th>\n",
       "    </tr>\n",
       "  </thead>\n",
       "  <tbody>\n",
       "    <tr>\n",
       "      <th>0</th>\n",
       "      <td>1</td>\n",
       "      <td>4409.919140</td>\n",
       "      <td>25.599769</td>\n",
       "      <td>2021-01-01</td>\n",
       "    </tr>\n",
       "    <tr>\n",
       "      <th>1</th>\n",
       "      <td>1</td>\n",
       "      <td>2617.592153</td>\n",
       "      <td>15.816871</td>\n",
       "      <td>2021-01-18</td>\n",
       "    </tr>\n",
       "    <tr>\n",
       "      <th>2</th>\n",
       "      <td>1</td>\n",
       "      <td>754.159807</td>\n",
       "      <td>6.232113</td>\n",
       "      <td>2021-04-20</td>\n",
       "    </tr>\n",
       "    <tr>\n",
       "      <th>3</th>\n",
       "      <td>1</td>\n",
       "      <td>2694.783254</td>\n",
       "      <td>18.511000</td>\n",
       "      <td>2021-08-11</td>\n",
       "    </tr>\n",
       "    <tr>\n",
       "      <th>4</th>\n",
       "      <td>1</td>\n",
       "      <td>4028.687306</td>\n",
       "      <td>26.265803</td>\n",
       "      <td>2021-08-28</td>\n",
       "    </tr>\n",
       "    <tr>\n",
       "      <th>5</th>\n",
       "      <td>1</td>\n",
       "      <td>2770.890808</td>\n",
       "      <td>16.650138</td>\n",
       "      <td>2021-10-09</td>\n",
       "    </tr>\n",
       "    <tr>\n",
       "      <th>6</th>\n",
       "      <td>1</td>\n",
       "      <td>3039.020292</td>\n",
       "      <td>14.927879</td>\n",
       "      <td>2021-10-19</td>\n",
       "    </tr>\n",
       "    <tr>\n",
       "      <th>7</th>\n",
       "      <td>1</td>\n",
       "      <td>2842.118050</td>\n",
       "      <td>23.117468</td>\n",
       "      <td>2021-11-06</td>\n",
       "    </tr>\n",
       "    <tr>\n",
       "      <th>8</th>\n",
       "      <td>1</td>\n",
       "      <td>3412.690668</td>\n",
       "      <td>15.238072</td>\n",
       "      <td>2021-11-14</td>\n",
       "    </tr>\n",
       "    <tr>\n",
       "      <th>9</th>\n",
       "      <td>1</td>\n",
       "      <td>748.690645</td>\n",
       "      <td>15.041884</td>\n",
       "      <td>2021-11-22</td>\n",
       "    </tr>\n",
       "  </tbody>\n",
       "</table>\n",
       "</div>"
      ],
      "text/plain": [
       "   user_id     distance   duration       date\n",
       "0        1  4409.919140  25.599769 2021-01-01\n",
       "1        1  2617.592153  15.816871 2021-01-18\n",
       "2        1   754.159807   6.232113 2021-04-20\n",
       "3        1  2694.783254  18.511000 2021-08-11\n",
       "4        1  4028.687306  26.265803 2021-08-28\n",
       "5        1  2770.890808  16.650138 2021-10-09\n",
       "6        1  3039.020292  14.927879 2021-10-19\n",
       "7        1  2842.118050  23.117468 2021-11-06\n",
       "8        1  3412.690668  15.238072 2021-11-14\n",
       "9        1   748.690645  15.041884 2021-11-22"
      ]
     },
     "metadata": {},
     "output_type": "display_data"
    },
    {
     "name": "stdout",
     "output_type": "stream",
     "text": [
      "\n"
     ]
    },
    {
     "data": {
      "text/html": [
       "<div>\n",
       "<style scoped>\n",
       "    .dataframe tbody tr th:only-of-type {\n",
       "        vertical-align: middle;\n",
       "    }\n",
       "\n",
       "    .dataframe tbody tr th {\n",
       "        vertical-align: top;\n",
       "    }\n",
       "\n",
       "    .dataframe thead th {\n",
       "        text-align: right;\n",
       "    }\n",
       "</style>\n",
       "<table border=\"1\" class=\"dataframe\">\n",
       "  <thead>\n",
       "    <tr style=\"text-align: right;\">\n",
       "      <th></th>\n",
       "      <th>subscription_type</th>\n",
       "      <th>minute_price</th>\n",
       "      <th>start_ride_price</th>\n",
       "      <th>subscription_fee</th>\n",
       "    </tr>\n",
       "  </thead>\n",
       "  <tbody>\n",
       "    <tr>\n",
       "      <th>0</th>\n",
       "      <td>free</td>\n",
       "      <td>8</td>\n",
       "      <td>50</td>\n",
       "      <td>0</td>\n",
       "    </tr>\n",
       "    <tr>\n",
       "      <th>1</th>\n",
       "      <td>ultra</td>\n",
       "      <td>6</td>\n",
       "      <td>0</td>\n",
       "      <td>199</td>\n",
       "    </tr>\n",
       "  </tbody>\n",
       "</table>\n",
       "</div>"
      ],
      "text/plain": [
       "  subscription_type  minute_price  start_ride_price  subscription_fee\n",
       "0              free             8                50                 0\n",
       "1             ultra             6                 0               199"
      ]
     },
     "metadata": {},
     "output_type": "display_data"
    }
   ],
   "source": [
    "data_users.info()\n",
    "print()\n",
    "data_rides.info()\n",
    "print()\n",
    "data_subscriptions.info()\n",
    "    \n",
    "display(data_users.head(10))\n",
    "print()\n",
    "display(data_rides.head(10))\n",
    "print()\n",
    "display(data_subscriptions.head(10))"
   ]
  },
  {
   "cell_type": "markdown",
   "id": "c88658a0",
   "metadata": {},
   "source": [
    "Пропущенных строк нет. Названия столбцов в порядке. Типы столбцов в норме кроме 'date' в таблице data_rides"
   ]
  },
  {
   "cell_type": "markdown",
   "id": "edc07d0d",
   "metadata": {},
   "source": [
    "<div class=\"alert alert-success\">\n",
    "<b>✔️ Комментарий ревьюера v1:</b> \n",
    "<br>Первичный анализ данных выполнен верно. Можем переходить к следующему этапу)\n",
    "</div>"
   ]
  },
  {
   "cell_type": "markdown",
   "id": "e95ebca7",
   "metadata": {},
   "source": [
    "#### Шаг 2. Предобработка данных"
   ]
  },
  {
   "cell_type": "markdown",
   "id": "51dbbf0b",
   "metadata": {},
   "source": [
    "##### Исправим тип данных в столбце date в датафрейме data_rides"
   ]
  },
  {
   "cell_type": "code",
   "execution_count": 4,
   "id": "1397cf85",
   "metadata": {},
   "outputs": [],
   "source": [
    "#data_rides['date'] = pd.to_datetime(data_rides['date'], format='%Y-%m-%d')\n",
    "#data_rides.info()\n",
    "#display(data_rides.head(10))"
   ]
  },
  {
   "cell_type": "markdown",
   "id": "8c874d09",
   "metadata": {},
   "source": [
    "<div class=\"alert alert-success\">\n",
    "<b>✔️ Комментарий ревьюера v1:</b> \n",
    "<br>Тип данных изменён верно! \n",
    "</div>\n",
    "\n",
    "<div class=\"alert alert-warning\">\n",
    "<b>⚠️ Комментарий ревьюера v1:</b> \n",
    "<br>Если при загрузке данных добавить параметр parse_dates: parse_dates=['date'] то список столбцов автоматически переведется в даты. Подробнее про это можно прочитать по ссылке ниже\n",
    "\n",
    "\thttps://newtechaudit.ru/gruzi-daty-krasivo/\n",
    "</div>"
   ]
  },
  {
   "cell_type": "markdown",
   "id": "97e91e76",
   "metadata": {},
   "source": [
    "<div class=\"alert alert-info\">\n",
    "<b>Комментарий студента v1:</b>\n",
    "<br> Добавил себе) спасибо)\n",
    "</div>"
   ]
  },
  {
   "cell_type": "markdown",
   "id": "c94a1b3b",
   "metadata": {},
   "source": [
    "##### Создаем новый столбец с номером месяца на основе столбца date"
   ]
  },
  {
   "cell_type": "code",
   "execution_count": 5,
   "id": "f53fa259",
   "metadata": {},
   "outputs": [],
   "source": [
    "data_rides['month'] = data_rides['date'].dt.month\n",
    "#display(data_rides.head(10))"
   ]
  },
  {
   "cell_type": "markdown",
   "id": "4c582813",
   "metadata": {},
   "source": [
    "<div class=\"alert alert-success\">\n",
    "<b>✔️ Комментарий ревьюера v1:</b> \n",
    "<br>Новый столбец создан верно!\n",
    "</div>"
   ]
  },
  {
   "cell_type": "markdown",
   "id": "116c6406",
   "metadata": {},
   "source": [
    "##### Проверяем наличие пропущенных значений и дубликатов в датафреймах. "
   ]
  },
  {
   "cell_type": "code",
   "execution_count": 6,
   "id": "1c7c6d7a",
   "metadata": {},
   "outputs": [
    {
     "name": "stdout",
     "output_type": "stream",
     "text": [
      "user_id              0\n",
      "name                 0\n",
      "age                  0\n",
      "city                 0\n",
      "subscription_type    0\n",
      "dtype: int64\n",
      "\n",
      "user_id     0\n",
      "distance    0\n",
      "duration    0\n",
      "date        0\n",
      "month       0\n",
      "dtype: int64\n",
      "\n",
      "subscription_type    0\n",
      "minute_price         0\n",
      "start_ride_price     0\n",
      "subscription_fee     0\n",
      "dtype: int64\n"
     ]
    }
   ],
   "source": [
    "print(data_users.isnull().sum())\n",
    "print()\n",
    "print(data_rides.isnull().sum())\n",
    "print()\n",
    "print(data_subscriptions.isnull().sum())"
   ]
  },
  {
   "cell_type": "markdown",
   "id": "9a2447c7",
   "metadata": {},
   "source": [
    "Пропущенных значений нет."
   ]
  },
  {
   "cell_type": "code",
   "execution_count": 7,
   "id": "39a7c982",
   "metadata": {},
   "outputs": [
    {
     "name": "stdout",
     "output_type": "stream",
     "text": [
      "Повторяющихся строк в data_users: 31\n",
      "Повторяющихся строк в data_rides: 0\n",
      "Повторяющихся строк в data_subscriptions: 0\n"
     ]
    }
   ],
   "source": [
    "print('Повторяющихся строк в data_users:', data_users.duplicated().sum())\n",
    "print('Повторяющихся строк в data_rides:', data_rides.duplicated().sum())\n",
    "print('Повторяющихся строк в data_subscriptions:', data_subscriptions.duplicated().sum())"
   ]
  },
  {
   "cell_type": "code",
   "execution_count": 8,
   "id": "baf16142",
   "metadata": {},
   "outputs": [
    {
     "name": "stdout",
     "output_type": "stream",
     "text": [
      "Процент повторяющихся строк в data_users: 1.9808306709265175\n"
     ]
    }
   ],
   "source": [
    "print('Процент повторяющихся строк в data_users:', data_users.duplicated().sum() / len(data_users) * 100)"
   ]
  },
  {
   "cell_type": "markdown",
   "id": "4db8ecfe",
   "metadata": {},
   "source": [
    "Повторяющихся строк около 2%. Можно ими пожертвовать."
   ]
  },
  {
   "cell_type": "code",
   "execution_count": 9,
   "id": "bbe8b5a9",
   "metadata": {},
   "outputs": [],
   "source": [
    "data_users = data_users.drop_duplicates().reset_index(drop=True)"
   ]
  },
  {
   "cell_type": "markdown",
   "id": "03dec4e5",
   "metadata": {},
   "source": [
    "<div class=\"alert alert-success\">\n",
    "<b>✔️ Комментарий ревьюера v1:</b>\n",
    "<br>Проверка на дубликаты выполнена!\n",
    "</div>"
   ]
  },
  {
   "cell_type": "markdown",
   "id": "212593c7",
   "metadata": {},
   "source": [
    "#### Шаг 3. Исследовательский анализ данных"
   ]
  },
  {
   "cell_type": "markdown",
   "id": "0ae74ab6",
   "metadata": {},
   "source": [
    "**Опишем и визуализируем общую информацию о пользователях и поездках**"
   ]
  },
  {
   "cell_type": "markdown",
   "id": "0bb13c52",
   "metadata": {},
   "source": [
    "##### Частота встречаемости городов"
   ]
  },
  {
   "cell_type": "code",
   "execution_count": 10,
   "id": "ea8231f3",
   "metadata": {},
   "outputs": [
    {
     "data": {
      "text/plain": [
       "count          1534\n",
       "unique            8\n",
       "top       Пятигорск\n",
       "freq            219\n",
       "Name: city, dtype: object"
      ]
     },
     "execution_count": 10,
     "metadata": {},
     "output_type": "execute_result"
    }
   ],
   "source": [
    "data_users['city'].describe()"
   ]
  },
  {
   "cell_type": "code",
   "execution_count": 11,
   "id": "ddf1474a",
   "metadata": {},
   "outputs": [
    {
     "data": {
      "image/png": "[encoded data removed]",
      "text/plain": [
       "<Figure size 720x360 with 1 Axes>"
      ]
     },
     "metadata": {
      "needs_background": "light"
     },
     "output_type": "display_data"
    }
   ],
   "source": [
    "data_users['city'].hist(bins=30, figsize=(10, 5))\n",
    "plt.title('Частотность пользователей по городам')\n",
    "plt.xlabel(\"Города\")\n",
    "plt.ylabel(\"Количество пользователей\")\n",
    "None"
   ]
  },
  {
   "cell_type": "markdown",
   "id": "fc1b46f2-3dd0-4660-81ce-b949420ffcee",
   "metadata": {},
   "source": [
    "На графике видим, что больше всего имеем данных о пользователях из Пятигорска, и как не странно, меньше всего из Москвы."
   ]
  },
  {
   "cell_type": "markdown",
   "id": "bf0fbb5b",
   "metadata": {},
   "source": [
    "<div class=\"alert alert-danger\">\n",
    "<b>❌ Комментарий ревьюера v1:</b> \n",
    "<br>Нужно добавить вывод после графика\n",
    "</div>"
   ]
  },
  {
   "cell_type": "markdown",
   "id": "17215144-37ab-4597-ba2c-17822c3f2e3c",
   "metadata": {},
   "source": [
    "<div class=\"alert alert-info\">\n",
    "<b>Комментарий студента v1:</b>\n",
    "<br> Добавил вывод\n",
    "</div>"
   ]
  },
  {
   "cell_type": "markdown",
   "id": "663ba25a",
   "metadata": {},
   "source": [
    "<div class=\"alert alert-success\">\n",
    "<b>✔️ Комментарий ревьюера v2:</b>\n",
    "<br>Правка выполнена 👍\n",
    "</div>"
   ]
  },
  {
   "cell_type": "markdown",
   "id": "18e537d9",
   "metadata": {},
   "source": [
    "<div class=\"alert alert-danger\">\n",
    "<b>❌ Комментарий ревьюера v1:</b> \n",
    "<br>Также здесь стоит добавить таблицу со значениями частотности городов\n",
    "</div>"
   ]
  },
  {
   "cell_type": "markdown",
   "id": "7cb54525-40f0-484f-8dc6-29f53dfc29ee",
   "metadata": {},
   "source": [
    "<div class=\"alert alert-info\">\n",
    "<b>Комментарий студента v1:</b>\n",
    "<br> Добавил таблицу частотности\n",
    "</div>"
   ]
  },
  {
   "cell_type": "markdown",
   "id": "da935fd2",
   "metadata": {},
   "source": [
    "<div class=\"alert alert-success\">\n",
    "<b>✔️ Комментарий ревьюера v2:</b>\n",
    "<br>Правка выполнена 👍\n",
    "</div>"
   ]
  },
  {
   "cell_type": "markdown",
   "id": "fa5784f5-99e0-47cf-a681-001cf5620d78",
   "metadata": {},
   "source": [
    "Посмотрим на таблицу частотности пользователей по городам."
   ]
  },
  {
   "cell_type": "code",
   "execution_count": 12,
   "id": "a0542bc5-5c4c-4b32-a162-fb90a60db042",
   "metadata": {},
   "outputs": [
    {
     "name": "stdout",
     "output_type": "stream",
     "text": [
      "Пятигорск         219\n",
      "Екатеринбург      204\n",
      "Ростов-на-Дону    198\n",
      "Краснодар         193\n",
      "Сочи              189\n",
      "Омск              183\n",
      "Тюмень            180\n",
      "Москва            168\n",
      "Name: city, dtype: int64\n"
     ]
    }
   ],
   "source": [
    "print(data_users['city'].value_counts())"
   ]
  },
  {
   "cell_type": "markdown",
   "id": "1ae0e721",
   "metadata": {},
   "source": [
    "<div class=\"alert alert-danger\">\n",
    "<b>❌ Комментарий ревьюера v1:</b> \n",
    "<br>Помимо этого графики должны быть наглядным без контекста (т.к. в реальной практике ты будешь показывать презентацию или отчет заказчику). Необходимо проследить чтобы всегда был заголовок и подписаны оси. Этот комментарий относится ко всем графикам во всем проекте\n",
    "</div>"
   ]
  },
  {
   "cell_type": "markdown",
   "id": "a33bcf4a-8976-405e-a535-74aaa07d8a17",
   "metadata": {},
   "source": [
    "<div class=\"alert alert-info\">\n",
    "<b>Комментарий студента v1:</b>\n",
    "<br> Добавил\n",
    "</div>"
   ]
  },
  {
   "cell_type": "markdown",
   "id": "613bfeba",
   "metadata": {},
   "source": [
    "<div class=\"alert alert-success\">\n",
    "<b>✔️ Комментарий ревьюера v2:</b>\n",
    "<br>Правка выполнена 👍\n",
    "</div>"
   ]
  },
  {
   "cell_type": "markdown",
   "id": "dbae1250",
   "metadata": {},
   "source": [
    "##### Cоотношение пользователей с подпиской и без подписки"
   ]
  },
  {
   "cell_type": "code",
   "execution_count": 13,
   "id": "2df6dfcd",
   "metadata": {},
   "outputs": [
    {
     "data": {
      "text/plain": [
       "count     1534\n",
       "unique       2\n",
       "top       free\n",
       "freq       835\n",
       "Name: subscription_type, dtype: object"
      ]
     },
     "execution_count": 13,
     "metadata": {},
     "output_type": "execute_result"
    }
   ],
   "source": [
    "data_users['subscription_type'].describe()"
   ]
  },
  {
   "cell_type": "code",
   "execution_count": 14,
   "id": "7b8f0290",
   "metadata": {},
   "outputs": [
    {
     "data": {
      "image/png": "[encoded data removed]",
      "text/plain": [
       "<Figure size 432x288 with 1 Axes>"
      ]
     },
     "metadata": {},
     "output_type": "display_data"
    }
   ],
   "source": [
    "data_users.groupby('subscription_type')['user_id'].count().plot(kind='pie', autopct='%1.0f%%')\n",
    "plt.title('Cоотношение пользователей с подпиской и без подписки')\n",
    "None"
   ]
  },
  {
   "cell_type": "markdown",
   "id": "00d99dac-4b7e-43dc-bcc1-4f3cf90149a0",
   "metadata": {},
   "source": [
    "Здесь мы видим, что количество пользователей с бесплатной подпиской чуть больше чем с платной."
   ]
  },
  {
   "cell_type": "markdown",
   "id": "43d54e46",
   "metadata": {},
   "source": [
    "<div class=\"alert alert-danger\">\n",
    "<b>❌ Комментарий ревьюера v1:</b> \n",
    "<br>Нет вывода\n",
    "</div>"
   ]
  },
  {
   "cell_type": "markdown",
   "id": "6b304c93-f54b-4eb0-bf78-8feb5c838e2a",
   "metadata": {},
   "source": [
    "<div class=\"alert alert-info\">\n",
    "<b>Комментарий студента v1:</b>\n",
    "<br> Добавил\n",
    "</div>"
   ]
  },
  {
   "cell_type": "markdown",
   "id": "35402e5f",
   "metadata": {},
   "source": [
    "<div class=\"alert alert-success\">\n",
    "<b>✔️ Комментарий ревьюера v2:</b>\n",
    "<br>Правка выполнена 👍\n",
    "</div>"
   ]
  },
  {
   "cell_type": "markdown",
   "id": "494f9b4d",
   "metadata": {},
   "source": [
    "##### Возраст пользователей"
   ]
  },
  {
   "cell_type": "code",
   "execution_count": 15,
   "id": "7fce497b",
   "metadata": {},
   "outputs": [
    {
     "data": {
      "text/plain": [
       "count    1534.000000\n",
       "mean       24.903520\n",
       "std         4.572367\n",
       "min        12.000000\n",
       "25%        22.000000\n",
       "50%        25.000000\n",
       "75%        28.000000\n",
       "max        43.000000\n",
       "Name: age, dtype: float64"
      ]
     },
     "execution_count": 15,
     "metadata": {},
     "output_type": "execute_result"
    }
   ],
   "source": [
    "data_users['age'].describe()"
   ]
  },
  {
   "cell_type": "code",
   "execution_count": 16,
   "id": "5e01aadb",
   "metadata": {},
   "outputs": [
    {
     "data": {
      "image/png": "[encoded data removed]",
      "text/plain": [
       "<Figure size 720x360 with 1 Axes>"
      ]
     },
     "metadata": {
      "needs_background": "light"
     },
     "output_type": "display_data"
    }
   ],
   "source": [
    "data_users['age'].hist(bins=30, figsize=(10, 5))\n",
    "plt.title('Распределение пользователей по возрасту')\n",
    "plt.xlabel(\"Возраст пользователей\")\n",
    "plt.ylabel(\"Количество пользователей\")\n",
    "None"
   ]
  },
  {
   "cell_type": "markdown",
   "id": "051038fc-b89b-41dc-8bcf-efbc085c7c3c",
   "metadata": {},
   "source": [
    "По графику видно, что основная масса пользователей это молодые люди в возрасте от 17 до 33 лет"
   ]
  },
  {
   "cell_type": "markdown",
   "id": "35d9ea8d",
   "metadata": {},
   "source": [
    "<div class=\"alert alert-danger\">\n",
    "<b>❌ Комментарий ревьюера v1:</b> \n",
    "<br>Нет вывода\n",
    "</div>"
   ]
  },
  {
   "cell_type": "markdown",
   "id": "0e0236a8-0661-4025-a0fe-87e8dbc85ada",
   "metadata": {},
   "source": [
    "<div class=\"alert alert-info\">\n",
    "<b>Комментарий студента v1:</b>\n",
    "<br> Добавил\n",
    "</div>"
   ]
  },
  {
   "cell_type": "markdown",
   "id": "5d7c2f24",
   "metadata": {},
   "source": [
    "<div class=\"alert alert-success\">\n",
    "<b>✔️ Комментарий ревьюера v2:</b>\n",
    "<br>Правка выполнена 👍\n",
    "</div>"
   ]
  },
  {
   "cell_type": "markdown",
   "id": "68265d4a",
   "metadata": {},
   "source": [
    "##### Расстояние одной поездки"
   ]
  },
  {
   "cell_type": "code",
   "execution_count": 17,
   "id": "4d44b490",
   "metadata": {},
   "outputs": [
    {
     "data": {
      "text/plain": [
       "count    18068.000000\n",
       "mean      3070.659976\n",
       "std       1116.831209\n",
       "min          0.855683\n",
       "25%       2543.226360\n",
       "50%       3133.609994\n",
       "75%       3776.222735\n",
       "max       7211.007745\n",
       "Name: distance, dtype: float64"
      ]
     },
     "execution_count": 17,
     "metadata": {},
     "output_type": "execute_result"
    }
   ],
   "source": [
    "data_rides['distance'].describe()"
   ]
  },
  {
   "cell_type": "code",
   "execution_count": 18,
   "id": "2487fb8a",
   "metadata": {},
   "outputs": [
    {
     "data": {
      "image/png": "[encoded data removed]",
      "text/plain": [
       "<Figure size 720x360 with 1 Axes>"
      ]
     },
     "metadata": {
      "needs_background": "light"
     },
     "output_type": "display_data"
    }
   ],
   "source": [
    "data_rides['distance'].hist(bins=200, figsize=(10, 5))\n",
    "plt.title('Распределение рассотяния поездок')\n",
    "plt.xlabel(\"Расстояние поездки\")\n",
    "plt.ylabel(\"Количество поездок\")\n",
    "None"
   ]
  },
  {
   "cell_type": "markdown",
   "id": "a4ec21f9",
   "metadata": {},
   "source": [
    "Есть выбросы в виде подозрительно малого расстояния."
   ]
  },
  {
   "cell_type": "markdown",
   "id": "76504d78",
   "metadata": {},
   "source": [
    "##### Продолжительность поездок"
   ]
  },
  {
   "cell_type": "code",
   "execution_count": 19,
   "id": "dbee265a",
   "metadata": {},
   "outputs": [
    {
     "data": {
      "text/plain": [
       "count    18068.000000\n",
       "mean        17.805011\n",
       "std          6.091051\n",
       "min          0.500000\n",
       "25%         13.597563\n",
       "50%         17.678395\n",
       "75%         21.724800\n",
       "max         40.823963\n",
       "Name: duration, dtype: float64"
      ]
     },
     "execution_count": 19,
     "metadata": {},
     "output_type": "execute_result"
    }
   ],
   "source": [
    "data_rides['duration'].describe()"
   ]
  },
  {
   "cell_type": "code",
   "execution_count": 20,
   "id": "e3a4274c",
   "metadata": {},
   "outputs": [
    {
     "data": {
      "image/png": "[encoded data removed]",
      "text/plain": [
       "<Figure size 720x360 with 1 Axes>"
      ]
     },
     "metadata": {
      "needs_background": "light"
     },
     "output_type": "display_data"
    }
   ],
   "source": [
    "data_rides['duration'].hist(bins=100, figsize=(10, 5))\n",
    "plt.title('Распределение длительности поездок')\n",
    "plt.xlabel(\"Длительность поездки\")\n",
    "plt.ylabel(\"Количество поездок\")\n",
    "None"
   ]
  },
  {
   "cell_type": "markdown",
   "id": "3b0fc65c",
   "metadata": {},
   "source": [
    "Видим, что основная масса длительности поездок составляет от 5 до 30 минут. Также наблюдаем выбросы."
   ]
  },
  {
   "cell_type": "markdown",
   "id": "740b2007-23f5-46c9-9f77-6b4bb25085ed",
   "metadata": {},
   "source": [
    "##### Изучив основные графики и показатели, можем сделать следующие выводы об имеющихся данных: \n",
    "1. По городам пользователи распределены более менее равномерно, выдающихся значений нет. Хотя по Москве меньше всего пользователей кажется странным.\n",
    "2. Чуть больше у нас пользователей с бесплатной подпиской.\n",
    "3. По возрасту пользователи это молодые люди в возрасте от 17 до 33 лет.\n",
    "4. По расстоянию поездки видим, что распределились данные на две группы. В маленькую группу попали короткие поездки до 1,5 км, а в основном распределении это поездки примерно от 2 до 5 км.\n",
    "5. По продолжительности поездки можно сказать, что в основном пользователи ездили от 5 до 30 минут."
   ]
  },
  {
   "cell_type": "markdown",
   "id": "ec743a70",
   "metadata": {},
   "source": [
    "<div class=\"alert alert-danger\">\n",
    "<b>❌ Комментарий ревьюера v1:</b> \n",
    "<br>Не забудь добавить промежуточный вывод по разделу\n",
    "</div>"
   ]
  },
  {
   "cell_type": "markdown",
   "id": "ce994f61-b8b5-4cd0-8f57-470ecfc0f5db",
   "metadata": {},
   "source": [
    "<div class=\"alert alert-info\">\n",
    "<b>Комментарий студента v1:</b>\n",
    "<br> Добавил выше\n",
    "</div>"
   ]
  },
  {
   "cell_type": "markdown",
   "id": "6967df6b",
   "metadata": {},
   "source": [
    "<div class=\"alert alert-success\">\n",
    "<b>✔️ Комментарий ревьюера v2:</b>\n",
    "<br>Правка выполнена 👍\n",
    "</div>"
   ]
  },
  {
   "cell_type": "markdown",
   "id": "4ef51331",
   "metadata": {},
   "source": [
    "#### Шаг 4. Объединение данных"
   ]
  },
  {
   "cell_type": "markdown",
   "id": "cde4ae98",
   "metadata": {},
   "source": [
    "##### Объединим данные о пользователях, поездках и подписках в один датафрейм."
   ]
  },
  {
   "cell_type": "code",
   "execution_count": 21,
   "id": "2b7401c3",
   "metadata": {},
   "outputs": [],
   "source": [
    "data_general = data_users.merge(data_rides, on='user_id')\n",
    "data_general = data_general.merge(data_subscriptions, on='subscription_type')\n",
    "#data_general.info()\n",
    "#print(data_general)\n",
    "#display(data_general)"
   ]
  },
  {
   "cell_type": "markdown",
   "id": "912886e0",
   "metadata": {},
   "source": [
    "#### Создаем ещё два датафрейма из датафрейма data_general"
   ]
  },
  {
   "cell_type": "markdown",
   "id": "202e986c",
   "metadata": {},
   "source": [
    "***С данными о пользователях без подписки***"
   ]
  },
  {
   "cell_type": "code",
   "execution_count": 22,
   "id": "5dfcb168",
   "metadata": {},
   "outputs": [],
   "source": [
    "data_free = data_general.query('subscription_type == \"free\"')\n",
    "#data_free.info()"
   ]
  },
  {
   "cell_type": "markdown",
   "id": "8f921d42",
   "metadata": {},
   "source": [
    "***С данными о пользователях с подпиской***"
   ]
  },
  {
   "cell_type": "code",
   "execution_count": 23,
   "id": "6403a042",
   "metadata": {},
   "outputs": [],
   "source": [
    "data_ultra = data_general.query('subscription_type == \"ultra\"')\n",
    "#data_ultra.info()"
   ]
  },
  {
   "cell_type": "markdown",
   "id": "db2cf72d",
   "metadata": {},
   "source": [
    "<div class=\"alert alert-warning\">\n",
    "<b>⚠️ Комментарий ревьюера v1:</b> \n",
    "<br>Не забывай проверять размерность таблиц после любых операций с ними (срезы, объединение). Это позволить понять, ничего ли не потерялось при объединении\n",
    "</div>"
   ]
  },
  {
   "cell_type": "code",
   "execution_count": 24,
   "id": "51a2daf1-b255-4bc7-a379-8ec2008bc580",
   "metadata": {},
   "outputs": [
    {
     "name": "stdout",
     "output_type": "stream",
     "text": [
      "18068\n",
      "18068\n"
     ]
    }
   ],
   "source": [
    "print(len(data_free)+len(data_ultra))\n",
    "print(len(data_general))"
   ]
  },
  {
   "cell_type": "markdown",
   "id": "1bc1cbf4-1db6-4702-817b-ff1ec09484c3",
   "metadata": {},
   "source": [
    "<div class=\"alert alert-info\">\n",
    "<b>Комментарий студента v1:</b>\n",
    "<br> Проверили, что данные после выборок не потерялись\n",
    "</div>"
   ]
  },
  {
   "cell_type": "markdown",
   "id": "1c2620b6",
   "metadata": {},
   "source": [
    "#####  Визуализируем информацию о расстоянии и времени поездок для пользователей обеих категорий."
   ]
  },
  {
   "cell_type": "markdown",
   "id": "4c178f4d",
   "metadata": {},
   "source": [
    "***Пользователи с бесплатной подпиской***"
   ]
  },
  {
   "cell_type": "code",
   "execution_count": 25,
   "id": "b053a16a",
   "metadata": {},
   "outputs": [
    {
     "data": {
      "image/png": "[encoded data removed]",
      "text/plain": [
       "<Figure size 1440x360 with 2 Axes>"
      ]
     },
     "metadata": {
      "needs_background": "light"
     },
     "output_type": "display_data"
    }
   ],
   "source": [
    "data_free[['distance', 'duration']].hist(bins=30,figsize=(20, 5))\n",
    "None"
   ]
  },
  {
   "cell_type": "markdown",
   "id": "aba485c3",
   "metadata": {},
   "source": [
    "***Пользователи с подпиской Ultra***"
   ]
  },
  {
   "cell_type": "code",
   "execution_count": 26,
   "id": "794cd87f",
   "metadata": {},
   "outputs": [
    {
     "data": {
      "image/png": "[encoded data removed]",
      "text/plain": [
       "<Figure size 1440x360 with 2 Axes>"
      ]
     },
     "metadata": {
      "needs_background": "light"
     },
     "output_type": "display_data"
    }
   ],
   "source": [
    "data_ultra[['distance', 'duration']].hist(bins=30,figsize=(20, 5))\n",
    "None"
   ]
  },
  {
   "cell_type": "markdown",
   "id": "601e4cf7-c946-4a8e-8445-30b7ea5edfc6",
   "metadata": {},
   "source": [
    "Пользователей с бесплатной и платной подпиской можно сравнить так:\n",
    "1. По расстоянию у пользователей с платной подпиской разброс меньше. Можно сделать вывод, что это регулярные пользователи, которые знают конкретный маршрут. А пользователи с бесплатной подпиской берут самокат время отвремени для нечастых прогулок. \n",
    "2. По длительности видим также видим, что пользователи с бесплатной подпиской катаются дольше, видимо сказывается оплата старта. "
   ]
  },
  {
   "cell_type": "markdown",
   "id": "387caba8",
   "metadata": {},
   "source": [
    "<div class=\"alert alert-danger\">\n",
    "<b>❌ Комментарий ревьюера v1:</b> \n",
    "<br>Не хватает вывода по сравнению. Что можно сказать о сравнении профилей категорий пользователей при пользовании самокатами (расстояние, длительность)? Какие есть различия и сходства?\n",
    "</div>"
   ]
  },
  {
   "cell_type": "markdown",
   "id": "243765c1-15a9-4d26-a3a5-59e5da4e1bd9",
   "metadata": {},
   "source": [
    "<div class=\"alert alert-info\">\n",
    "<b>Комментарий студента v1:</b>\n",
    "<br> Добавил выше\n",
    "</div>"
   ]
  },
  {
   "cell_type": "markdown",
   "id": "90543cfb",
   "metadata": {},
   "source": [
    "<div class=\"alert alert-success\">\n",
    "<b>✔️ Комментарий ревьюера v2:</b>\n",
    "<br>Правка выполнена 👍\n",
    "</div>"
   ]
  },
  {
   "cell_type": "markdown",
   "id": "402d620f",
   "metadata": {},
   "source": [
    "#### Шаг 5. Подсчёт выручки"
   ]
  },
  {
   "cell_type": "markdown",
   "id": "ec69eac8",
   "metadata": {},
   "source": [
    "##### Агрегируем данные о поездках на основе датафрейма data_general: "
   ]
  },
  {
   "cell_type": "markdown",
   "id": "c7bb0c4d",
   "metadata": {},
   "source": [
    "***Найдем суммарное расстояние, количество поездок и суммарное время для каждого пользователя за каждый месяц.***"
   ]
  },
  {
   "cell_type": "code",
   "execution_count": 27,
   "id": "fb5f58c6",
   "metadata": {
    "scrolled": true
   },
   "outputs": [
    {
     "data": {
      "text/html": [
       "<div>\n",
       "<style scoped>\n",
       "    .dataframe tbody tr th:only-of-type {\n",
       "        vertical-align: middle;\n",
       "    }\n",
       "\n",
       "    .dataframe tbody tr th {\n",
       "        vertical-align: top;\n",
       "    }\n",
       "\n",
       "    .dataframe thead th {\n",
       "        text-align: right;\n",
       "    }\n",
       "</style>\n",
       "<table border=\"1\" class=\"dataframe\">\n",
       "  <thead>\n",
       "    <tr style=\"text-align: right;\">\n",
       "      <th></th>\n",
       "      <th>user_id</th>\n",
       "      <th>month</th>\n",
       "      <th>distance</th>\n",
       "      <th>duration</th>\n",
       "      <th>name</th>\n",
       "      <th>subscription_type</th>\n",
       "    </tr>\n",
       "  </thead>\n",
       "  <tbody>\n",
       "    <tr>\n",
       "      <th>0</th>\n",
       "      <td>1</td>\n",
       "      <td>1</td>\n",
       "      <td>7027.511294</td>\n",
       "      <td>42.0</td>\n",
       "      <td>2</td>\n",
       "      <td>ultra</td>\n",
       "    </tr>\n",
       "    <tr>\n",
       "      <th>1</th>\n",
       "      <td>1</td>\n",
       "      <td>4</td>\n",
       "      <td>754.159807</td>\n",
       "      <td>7.0</td>\n",
       "      <td>1</td>\n",
       "      <td>ultra</td>\n",
       "    </tr>\n",
       "    <tr>\n",
       "      <th>2</th>\n",
       "      <td>1</td>\n",
       "      <td>8</td>\n",
       "      <td>6723.470560</td>\n",
       "      <td>46.0</td>\n",
       "      <td>2</td>\n",
       "      <td>ultra</td>\n",
       "    </tr>\n",
       "    <tr>\n",
       "      <th>3</th>\n",
       "      <td>1</td>\n",
       "      <td>10</td>\n",
       "      <td>5809.911100</td>\n",
       "      <td>32.0</td>\n",
       "      <td>2</td>\n",
       "      <td>ultra</td>\n",
       "    </tr>\n",
       "    <tr>\n",
       "      <th>4</th>\n",
       "      <td>1</td>\n",
       "      <td>11</td>\n",
       "      <td>7003.499363</td>\n",
       "      <td>56.0</td>\n",
       "      <td>3</td>\n",
       "      <td>ultra</td>\n",
       "    </tr>\n",
       "    <tr>\n",
       "      <th>...</th>\n",
       "      <td>...</td>\n",
       "      <td>...</td>\n",
       "      <td>...</td>\n",
       "      <td>...</td>\n",
       "      <td>...</td>\n",
       "      <td>...</td>\n",
       "    </tr>\n",
       "    <tr>\n",
       "      <th>11326</th>\n",
       "      <td>1534</td>\n",
       "      <td>6</td>\n",
       "      <td>3409.468534</td>\n",
       "      <td>26.0</td>\n",
       "      <td>2</td>\n",
       "      <td>free</td>\n",
       "    </tr>\n",
       "    <tr>\n",
       "      <th>11327</th>\n",
       "      <td>1534</td>\n",
       "      <td>8</td>\n",
       "      <td>7622.453034</td>\n",
       "      <td>48.0</td>\n",
       "      <td>2</td>\n",
       "      <td>free</td>\n",
       "    </tr>\n",
       "    <tr>\n",
       "      <th>11328</th>\n",
       "      <td>1534</td>\n",
       "      <td>9</td>\n",
       "      <td>4928.173852</td>\n",
       "      <td>23.0</td>\n",
       "      <td>1</td>\n",
       "      <td>free</td>\n",
       "    </tr>\n",
       "    <tr>\n",
       "      <th>11329</th>\n",
       "      <td>1534</td>\n",
       "      <td>11</td>\n",
       "      <td>13350.015305</td>\n",
       "      <td>78.0</td>\n",
       "      <td>4</td>\n",
       "      <td>free</td>\n",
       "    </tr>\n",
       "    <tr>\n",
       "      <th>11330</th>\n",
       "      <td>1534</td>\n",
       "      <td>12</td>\n",
       "      <td>2371.711192</td>\n",
       "      <td>16.0</td>\n",
       "      <td>1</td>\n",
       "      <td>free</td>\n",
       "    </tr>\n",
       "  </tbody>\n",
       "</table>\n",
       "<p>11331 rows × 6 columns</p>\n",
       "</div>"
      ],
      "text/plain": [
       "       user_id  month      distance  duration  name subscription_type\n",
       "0            1      1   7027.511294      42.0     2             ultra\n",
       "1            1      4    754.159807       7.0     1             ultra\n",
       "2            1      8   6723.470560      46.0     2             ultra\n",
       "3            1     10   5809.911100      32.0     2             ultra\n",
       "4            1     11   7003.499363      56.0     3             ultra\n",
       "...        ...    ...           ...       ...   ...               ...\n",
       "11326     1534      6   3409.468534      26.0     2              free\n",
       "11327     1534      8   7622.453034      48.0     2              free\n",
       "11328     1534      9   4928.173852      23.0     1              free\n",
       "11329     1534     11  13350.015305      78.0     4              free\n",
       "11330     1534     12   2371.711192      16.0     1              free\n",
       "\n",
       "[11331 rows x 6 columns]"
      ]
     },
     "execution_count": 27,
     "metadata": {},
     "output_type": "execute_result"
    }
   ],
   "source": [
    "data_general['duration'] = np.ceil(data_general['duration']) \n",
    "data_agr = data_general.groupby(['user_id', 'month']).agg({'distance': 'sum', 'duration':'sum', 'name':'count', 'subscription_type':'first'}). reset_index()\n",
    "\n",
    "data_agr"
   ]
  },
  {
   "cell_type": "markdown",
   "id": "18e83b3e",
   "metadata": {},
   "source": [
    "<div class=\"alert alert-danger\">\n",
    "<b>❌ Комментарий ревьюера v1:</b> \n",
    "<br>Важно округлить длительность каждой поездки перед агрегацией данных по месяцам.\n",
    "</div>"
   ]
  },
  {
   "cell_type": "markdown",
   "id": "669b32c9",
   "metadata": {},
   "source": [
    "<div class=\"alert alert-info\">\n",
    "<b>Комментарий студента:</b>\n",
    "<br>Исправил\n",
    "</div>"
   ]
  },
  {
   "cell_type": "markdown",
   "id": "de7423c7",
   "metadata": {},
   "source": [
    "<div class=\"alert alert-success\">\n",
    "<b>✔️ Комментарий ревьюера v2:</b>\n",
    "<br>Правка выполнена 👍\n",
    "</div>"
   ]
  },
  {
   "cell_type": "markdown",
   "id": "4e9fd473",
   "metadata": {},
   "source": [
    "##### Рассчитаем помесячную выручку, которую принёс каждый пользователь"
   ]
  },
  {
   "cell_type": "markdown",
   "id": "83e5e09c",
   "metadata": {},
   "source": [
    "Помесячная выручка считается по формуле: \n",
    "\n",
    "стоимость старта поездки \n",
    "×\n",
    "количество поездок \n",
    "+\n",
    "стоимость одной минуты поездки \n",
    "×\n",
    "общая продолжительность всех поездок в минутах \n",
    "+\n",
    "стоимость подписки."
   ]
  },
  {
   "cell_type": "code",
   "execution_count": 28,
   "id": "1d827e6a",
   "metadata": {},
   "outputs": [
    {
     "name": "stdout",
     "output_type": "stream",
     "text": [
      "   user_id  month      distance  duration  name subscription_type  revenue\n",
      "0        1      1   7027.511294      42.0     2             ultra    451.0\n",
      "1        1      4    754.159807       7.0     1             ultra    241.0\n",
      "2        1      8   6723.470560      46.0     2             ultra    475.0\n",
      "3        1     10   5809.911100      32.0     2             ultra    391.0\n",
      "4        1     11   7003.499363      56.0     3             ultra    535.0\n",
      "5        1     12   6751.629942      28.0     2             ultra    367.0\n",
      "6        2      3  10187.723006      63.0     3             ultra    577.0\n",
      "7        2      4   6164.381824      40.0     2             ultra    439.0\n",
      "8        2      6   3255.338202      14.0     1             ultra    283.0\n",
      "9        2      7   6780.722964      48.0     2             ultra    487.0\n"
     ]
    }
   ],
   "source": [
    "def month_revenue(row):\n",
    "    subscription_type = row['subscription_type']\n",
    "    duration = row['duration']\n",
    "    count = row['name']\n",
    "    if subscription_type == 'ultra':\n",
    "        return 6 * duration + 199\n",
    "    elif subscription_type == 'free':\n",
    "        return 50 * count + 8 * duration  \n",
    "    \n",
    "data_agr['revenue'] = data_agr.apply(month_revenue, axis=1)     \n",
    "    \n",
    "print(data_agr.head(10)) "
   ]
  },
  {
   "cell_type": "markdown",
   "id": "08c9a452",
   "metadata": {},
   "source": [
    "<div class=\"alert alert-danger\">\n",
    "<b>❌ Комментарий ревьюера v1:</b> \n",
    "<br>Подписка стоит 199, а не 200\n",
    "</div>"
   ]
  },
  {
   "cell_type": "markdown",
   "id": "2cb9f4f4-a2c6-4743-9a49-6cfac997c2a6",
   "metadata": {},
   "source": [
    "<div class=\"alert alert-info\">\n",
    "<b>Комментарий студента v1:</b>\n",
    "<br> Исправил\n",
    "</div>"
   ]
  },
  {
   "cell_type": "markdown",
   "id": "f6f242dc",
   "metadata": {},
   "source": [
    "<div class=\"alert alert-success\">\n",
    "<b>✔️ Комментарий ревьюера v2:</b>\n",
    "<br>Правка выполнена 👍\n",
    "</div>"
   ]
  },
  {
   "cell_type": "markdown",
   "id": "41545ac0",
   "metadata": {},
   "source": [
    "#### Шаг 6. Проверка гипотез"
   ]
  },
  {
   "cell_type": "markdown",
   "id": "339d5dfe-cb20-48e2-a98d-4b49234901e8",
   "metadata": {},
   "source": [
    "Продакт-менеджеры сервиса хотят увеличить количество пользователей с подпиской. Для этого они будут проводить различные акции, но сначала нужно выяснить несколько важных моментов."
   ]
  },
  {
   "cell_type": "markdown",
   "id": "9c146267-2f3f-41e4-92e7-bba02a0064d8",
   "metadata": {},
   "source": [
    "##### Шаг 6.1. Тратят ли пользователи с подпиской больше времени на поездки? Проверим гипотизу."
   ]
  },
  {
   "cell_type": "markdown",
   "id": "eb689b6e-f293-44a2-bf51-cd37dee6c735",
   "metadata": {},
   "source": [
    "Проверим гипотезу о том, что пользователи с подпиской катаются дольше.\n",
    "Нулевая гипотеза будем считать что больше времени тратят люди с подпиской."
   ]
  },
  {
   "cell_type": "markdown",
   "id": "8b4f8c8f",
   "metadata": {},
   "source": [
    "<div class=\"alert alert-danger\">\n",
    "<b>❌ Комментарий ревьюера v1:</b> \n",
    "<br>H₀(нулевую гипотезу) нужно формулировать так, чтобы использовать знак равенства \"=\". Это важно сделать во всех трёх заданиях ниже\n",
    "</div>"
   ]
  },
  {
   "cell_type": "markdown",
   "id": "1123ab71-50c9-410e-be8e-1c0f0a6693e2",
   "metadata": {},
   "source": [
    "Нулевая гипотеза: Пользователи с подпиской тратят больше времени на поездку.\n",
    "<br>Альтернативная гипотеза: Пользователи с подпиской тратят не больше времени на поездку."
   ]
  },
  {
   "cell_type": "markdown",
   "id": "2dc3ed54-cea3-4147-8c3e-f61407332745",
   "metadata": {},
   "source": [
    "<div class=\"alert alert-info\">\n",
    "<b>Комментарий студента v1:</b>\n",
    "<br> Выше написал\n",
    "</div>"
   ]
  },
  {
   "cell_type": "markdown",
   "id": "2d5a8af2",
   "metadata": {},
   "source": [
    "<div class=\"alert alert-danger\">\n",
    "<b>❌ Комментарий ревьюера v2:</b> \n",
    "<br>Альтернативную гипотезу тоже нужно сформулировать)\n",
    "</div>"
   ]
  },
  {
   "cell_type": "markdown",
   "id": "2e33782c",
   "metadata": {},
   "source": [
    "<div class=\"alert alert-info\">\n",
    "<b>Комментарий студента v2:</b>\n",
    "<br> Выше написал\n",
    "</div>"
   ]
  },
  {
   "cell_type": "markdown",
   "id": "6e55f2ea",
   "metadata": {},
   "source": [
    "<div class=\"alert alert-success\">\n",
    "<b>✔️ Комментарий ревьюера v3:</b>\n",
    "<br>Правка выполнена 👍\n",
    "</div>"
   ]
  },
  {
   "cell_type": "code",
   "execution_count": 29,
   "id": "22af2ae1-eba5-4940-a275-31f1720f1e1d",
   "metadata": {},
   "outputs": [
    {
     "name": "stdout",
     "output_type": "stream",
     "text": [
      "1.1814679253701353e-36\n",
      "Отвергаем нулевую гипотезу\n"
     ]
    }
   ],
   "source": [
    "data_users_ultra = data_general.query('subscription_type == \"ultra\"')\n",
    "data_users_free = data_general.query('subscription_type == \"free\"')\n",
    "\n",
    "data_users_ultra_dur = data_users_ultra['duration']\n",
    "data_users_free_dur = data_users_free['duration']\n",
    "\n",
    "alpha = 0.05\n",
    "\n",
    "results = st.ttest_ind(data_users_ultra_dur, data_users_free_dur, equal_var=False, alternative = 'greater')\n",
    "\n",
    "print(results.pvalue)\n",
    "\n",
    "if results.pvalue < alpha:\n",
    "    print('Отвергаем нулевую гипотезу')\n",
    "else:\n",
    "    print('Нет оснований отвергнуть нулевую гипотезу')\n",
    "\n"
   ]
  },
  {
   "cell_type": "markdown",
   "id": "74401be5",
   "metadata": {},
   "source": [
    "<div class=\"alert alert-danger\">\n",
    "<b>❌ Комментарий ревьюера v1:</b> \n",
    "<br>Тут нужно использовать данные без агрегации. Не забудь добавить параметр alternative = 'greater'\n",
    "</div>"
   ]
  },
  {
   "cell_type": "markdown",
   "id": "7d8f4a97-695c-4346-9e41-2ce437d09288",
   "metadata": {},
   "source": [
    "<div class=\"alert alert-info\">\n",
    "<b>Комментарий студента v1:</b>\n",
    "<br> Исправил\n",
    "</div>"
   ]
  },
  {
   "cell_type": "markdown",
   "id": "b10d5b79-00f0-4a56-b188-fce878076361",
   "metadata": {},
   "source": [
    "Таким образом, гипотеза о том, что люди с платной подпиской тратят больше времени на поездки не подтвердилась."
   ]
  },
  {
   "cell_type": "markdown",
   "id": "27604e7f",
   "metadata": {},
   "source": [
    "<div class=\"alert alert-danger\">\n",
    "<b>❌ Комментарий ревьюера v2:</b> \n",
    "<br>Убери \"{:.25f}\".format у тебя из-за этого 0 в ответе получается\n",
    "</div>"
   ]
  },
  {
   "cell_type": "markdown",
   "id": "5316b324",
   "metadata": {},
   "source": [
    "<div class=\"alert alert-info\">\n",
    "<b>Комментарий студента v2:</b>\n",
    "<br> Исправил\n",
    "</div>"
   ]
  },
  {
   "cell_type": "markdown",
   "id": "6e64e276",
   "metadata": {},
   "source": [
    "<div class=\"alert alert-success\">\n",
    "<b>✔️ Комментарий ревьюера v3:</b>\n",
    "<br>Правка выполнена 👍\n",
    "</div>"
   ]
  },
  {
   "cell_type": "markdown",
   "id": "b1c94fff-a669-4c57-be34-322e27a15def",
   "metadata": {},
   "source": [
    "##### Шаг 6.2. Расстояние одной поездки в 3130 метров — оптимальное с точки зрения износа самоката. Можно ли сказать, что среднее расстояние, которое проезжают пользователи с подпиской за одну поездку, не превышает 3130 метров? Проверим эту гипотезу."
   ]
  },
  {
   "cell_type": "markdown",
   "id": "d7272a8a",
   "metadata": {},
   "source": [
    "<div class=\"alert alert-danger\">\n",
    "<b>❌ Комментарий ревьюера v1:</b> \n",
    "<br>Нужно добавить формулировку гипотез"
   ]
  },
  {
   "cell_type": "markdown",
   "id": "4ff4e8fa-2ff1-40b7-af59-08b33ea95ae6",
   "metadata": {},
   "source": [
    "Нулевая гипотеза: Среднее рассотяние, которое проезжают пользователи с подпиской за одну поездку меньше 3130 метров. \n",
    "<br>Альтернативная гипотеза: Среднее рассотяние, которое проезжают пользователи с подпиской за одну поездку не меньше 3130 метров. "
   ]
  },
  {
   "cell_type": "markdown",
   "id": "fef491b5-346a-4831-b80a-16deb822fb39",
   "metadata": {},
   "source": [
    "<div class=\"alert alert-info\">\n",
    "<b>Комментарий студента v1:</b>\n",
    "<br> Добавил выше\n",
    "</div>"
   ]
  },
  {
   "cell_type": "markdown",
   "id": "b4545a47",
   "metadata": {},
   "source": [
    "<div class=\"alert alert-danger\">\n",
    "<b>❌ Комментарий ревьюера v2:</b> \n",
    "<br>Нет альтернативной гипотезы\n",
    "</div>"
   ]
  },
  {
   "cell_type": "markdown",
   "id": "6ce71f50",
   "metadata": {},
   "source": [
    "<div class=\"alert alert-info\">\n",
    "<b>Комментарий студента v2:</b>\n",
    "<br> Выше написал\n",
    "</div>"
   ]
  },
  {
   "cell_type": "markdown",
   "id": "d27ed689",
   "metadata": {},
   "source": [
    "<div class=\"alert alert-success\">\n",
    "<b>✔️ Комментарий ревьюера v3:</b>\n",
    "<br>Правка выполнена 👍\n",
    "</div>"
   ]
  },
  {
   "cell_type": "code",
   "execution_count": 30,
   "id": "efc3180f-5272-4be5-8b6f-2e0642ae53fe",
   "metadata": {},
   "outputs": [
    {
     "name": "stdout",
     "output_type": "stream",
     "text": [
      "0.9195368847849785254311428\n",
      "Не получилось отвергнуть нулевую гипотезу\n"
     ]
    }
   ],
   "source": [
    "data_users_ultra = data_general.query('subscription_type == \"ultra\"')\n",
    "data_users_ultra_dist = data_users_ultra['distance']\n",
    "\n",
    "optim_distance = 3130\n",
    "alpha = 0.05\n",
    "\n",
    "results = st.ttest_1samp(data_users_ultra_dist, optim_distance, alternative = 'greater')\n",
    "\n",
    "print(\"{:.25f}\".format(results.pvalue))\n",
    "\n",
    "if results.pvalue < alpha:\n",
    "    print('Отвергаем нулевую гипотезу')\n",
    "else:\n",
    "    print('Не получилось отвергнуть нулевую гипотезу')\n",
    "\n"
   ]
  },
  {
   "cell_type": "markdown",
   "id": "01dd5a81-0842-4a53-ad46-0d80a37e87f3",
   "metadata": {},
   "source": [
    "Гипотеза подтвердилась. Среднее рассотяние, которое проезжают пользователи с подпиской за одну поездку меньше 3130 метров. "
   ]
  },
  {
   "cell_type": "markdown",
   "id": "cb48dce4",
   "metadata": {},
   "source": [
    "<div class=\"alert alert-danger\">\n",
    "<b>❌ Комментарий ревьюера v1:</b> \n",
    "<br>Тут нужно использовать данные без агрегации. Не забудь добавить параметр alternative = 'greater'\n",
    "</div>"
   ]
  },
  {
   "cell_type": "markdown",
   "id": "3ef331c1-98ac-4c16-836a-5b18a23f9990",
   "metadata": {},
   "source": [
    "<div class=\"alert alert-info\">\n",
    "<b>Комментарий студента v1:</b>\n",
    "<br> Исправил\n",
    "</div>"
   ]
  },
  {
   "cell_type": "markdown",
   "id": "13d331b8",
   "metadata": {},
   "source": [
    "<div class=\"alert alert-success\">\n",
    "<b>✔️ Комментарий ревьюера v2:</b>\n",
    "<br>Правка выполнена 👍\n",
    "</div>"
   ]
  },
  {
   "cell_type": "markdown",
   "id": "f7449ca7-2325-48de-acd6-b7322785bc4c",
   "metadata": {},
   "source": [
    "##### Шаг 6.3. Проверьте гипотезу о том, будет ли помесячная выручка от пользователей с подпиской по месяцам выше, чем выручка от пользователей без подписки. Сделайте вывод."
   ]
  },
  {
   "cell_type": "markdown",
   "id": "034d3883",
   "metadata": {},
   "source": [
    "<div class=\"alert alert-danger\">\n",
    "<b>❌ Комментарий ревьюера v1:</b> \n",
    "<br>Нужно добавить формулировку гипотез"
   ]
  },
  {
   "cell_type": "markdown",
   "id": "5ac5f95e-7d4c-444a-94c7-a687b190e4a4",
   "metadata": {},
   "source": [
    "Нулевая гипотеза: Ползователь с платной подпиской тратит в месяц больше, чем пользователь с бесплатной\n",
    "<br>Альтернативная гипотеза: Ползователь с платной подпиской тратит в месяц меньше, чем пользователь с бесплатной"
   ]
  },
  {
   "cell_type": "markdown",
   "id": "a8b6afeb-6161-4a11-aa71-5c6466426e9a",
   "metadata": {},
   "source": [
    "<div class=\"alert alert-info\">\n",
    "<b>Комментарий студента v1:</b>\n",
    "<br> Добавил выше\n",
    "</div>"
   ]
  },
  {
   "cell_type": "code",
   "execution_count": 31,
   "id": "04f6447f-020c-42fa-9f4e-dd6cfd93f9ec",
   "metadata": {},
   "outputs": [
    {
     "name": "stdout",
     "output_type": "stream",
     "text": [
      "8.874140893976874e-40\n",
      "Отвергаем нулевую гипотезу\n"
     ]
    }
   ],
   "source": [
    "data_users_ultra_agr = data_agr.query('subscription_type == \"ultra\"')\n",
    "data_users_free_agr = data_agr.query('subscription_type == \"free\"')\n",
    "\n",
    "data_users_ultra_revenue = data_users_ultra_agr['revenue']\n",
    "data_users_free_revenue = data_users_free_agr['revenue']\n",
    "\n",
    "alpha = 0.05\n",
    "\n",
    "results = st.ttest_ind(data_users_ultra_revenue, data_users_free_revenue, alternative='greater', equal_var=False)\n",
    "\n",
    "print(results.pvalue)\n",
    "\n",
    "if results.pvalue < alpha:\n",
    "    print('Отвергаем нулевую гипотезу')\n",
    "else:\n",
    "    print('Нет оснований отвергнуть нулевую гипотезу')\n"
   ]
  },
  {
   "cell_type": "markdown",
   "id": "9d5d981b",
   "metadata": {},
   "source": [
    "<div class=\"alert alert-danger\">\n",
    "<b>❌ Комментарий ревьюера v1:</b> \n",
    "<br>А вот тут как раз нужны данные с агрегацией\n",
    "</div>"
   ]
  },
  {
   "cell_type": "markdown",
   "id": "71c3b690-26db-4d1f-beb9-41de16155df6",
   "metadata": {},
   "source": [
    "<div class=\"alert alert-info\">\n",
    "<b>Комментарий студента v1:</b>\n",
    "<br> Исправил\n",
    "</div>"
   ]
  },
  {
   "cell_type": "markdown",
   "id": "40f0668e",
   "metadata": {},
   "source": [
    "<div class=\"alert alert-danger\">\n",
    "<b>❌ Комментарий ревьюера v2:</b> \n",
    "<br>Тут тоже нужно убрать format\n",
    "</div>"
   ]
  },
  {
   "cell_type": "markdown",
   "id": "a631edb8",
   "metadata": {},
   "source": [
    "<div class=\"alert alert-info\">\n",
    "<b>Комментарий студента v2:</b>\n",
    "<br> Исправил\n",
    "</div>"
   ]
  },
  {
   "cell_type": "markdown",
   "id": "c623f033",
   "metadata": {},
   "source": [
    "<div class=\"alert alert-success\">\n",
    "<b>✔️ Комментарий ревьюера v3:</b>\n",
    "<br>Правка выполнена 👍\n",
    "</div>"
   ]
  },
  {
   "cell_type": "markdown",
   "id": "fe4a7e71-fe14-4f3e-a26a-481c97215dad",
   "metadata": {},
   "source": [
    "Отсюда следует, что помесячная выручка от пользователей с подпиской по месяцам НЕ выше, чем выручка от пользователей без подписки."
   ]
  },
  {
   "cell_type": "markdown",
   "id": "2ecdfc07-5c5c-41c0-8539-ca3220106019",
   "metadata": {},
   "source": [
    "##### Шаг 6.4. Представьте такую ситуацию: техническая команда сервиса обновила сервера, с которыми взаимодействует мобильное приложение. Она надеется, что из-за этого количество обращений в техподдержку значимо снизилось. Некоторый файл содержит для каждого пользователя данные о количестве обращений до обновления и после него. Какой тест вам понадобился бы для проверки этой гипотезы?"
   ]
  },
  {
   "cell_type": "markdown",
   "id": "e49e6890-7fba-4e9b-90c3-bfb1974b56a7",
   "metadata": {},
   "source": [
    "Чтобы решить данную задачу потребуется scipy.stats.ttest_rel, а в качестве аргументов наборы данных — парные выборки до и после изменения."
   ]
  },
  {
   "cell_type": "markdown",
   "id": "5e0bc201",
   "metadata": {},
   "source": [
    "<div class=\"alert alert-success\">\n",
    "<b>✔️ Комментарий ревьюера v1:</b>\n",
    "<br>Метод выбран верно!\n",
    "</div>"
   ]
  },
  {
   "cell_type": "markdown",
   "id": "61213c5e",
   "metadata": {},
   "source": [
    "#### Шаг 7. Распределения"
   ]
  },
  {
   "cell_type": "markdown",
   "id": "0f791d56-7cec-4617-bbc0-d8230228e08a",
   "metadata": {},
   "source": [
    "Обязательно позже решу."
   ]
  },
  {
   "cell_type": "markdown",
   "id": "f8b32f76",
   "metadata": {},
   "source": [
    "<div class=\"alert alert-danger\">\n",
    "<b>❌ Комментарий ревьюера v1:</b> \n",
    "<br>Обязательно нужно написать общий вывод после проделанной работы. Хорошей практикой является написание в общем выводе всех твоих действий (кратко) по проекту. А после этого нужно написать общий вывод использую информацию из промежуточных выводов после каждого раздела. В нашем исследовании основной вопрос это \"Являются ли подписчики более выгодными для компании?\"  Не забудь ответить на него\n",
    "</div>"
   ]
  },
  {
   "cell_type": "markdown",
   "id": "f07dc161-bc16-4d76-a0b0-a1c0cd70f7a7",
   "metadata": {},
   "source": [
    "<div class=\"alert alert-info\">\n",
    "<b>Комментарий студента v1:</b>\n",
    "<br> Добавил ниже\n",
    "</div>"
   ]
  },
  {
   "cell_type": "markdown",
   "id": "64b66770-3c5c-4315-9c6a-6920c1bb1322",
   "metadata": {},
   "source": [
    "Итак, мы изучили данные о пользователях сети проката самокатов.\n",
    "1. Исслдовали данные пользователей. Пропущенных строк нет. Названия столбцов в порядке. Типы столбцов привели в порядок. Удалили явные дубликаты.\n",
    "2. Описали и визуализировали общую информацию по городам, продолжительности поездок, рассотянии поездок. В Москве спрос на сервис маленький. Пользователи в возрасте от 17 до 33 лет. Платная и бесплатная подписка почти поровну распределились. Расстояние поездок в основном от 2 до 5 км и длительность от 5 до 30 минут.\n",
    "3. Объединили данный из трех таблиц, выделили в две группы платные и бесплатные подписки. Визуализировали по расстоянию и продолжительности поездок для каждого типа пользователя. По расстоянию у пользователей с платной подпиской разброс меньше. Можно сделать вывод, что это регулярные пользователи, которые знают конкретный маршрут. А пользователи с бесплатной подпиской берут самокат время отвремени для нечастых прогулок. По длительности видим также видим, что пользователи с бесплатной подпиской катаются дольше, видимо сказывается оплата старта. \n",
    "4. Подсчитали выручку от каждого пользователя по месяцам\n",
    "5. Сформулировали следующие гипотезы: \n",
    "    <br> Пользователи с подпиской тратят больше времени на поездку. Гипотеза не подтвердилась\n",
    "    <br> Среднее рассотяние, которое проезжают пользователи с подпиской за одну поездку меньше 3130 метров. Гипотеза подтвердилась\n",
    "    <br> Ползователь с платной подпиской тратит в месяц больше, чем пользователь с бесплатной. Гипотеза не подтвердилась.\n",
    "    \n",
    "Итак, на главный вопрос являются ли подписчики более выгодными для компании, можем ответить отрицательно."
   ]
  },
  {
   "cell_type": "markdown",
   "id": "dd7a0387",
   "metadata": {},
   "source": [
    "<div class=\"alert alert-success\">\n",
    "<b>✔️ Комментарий ревьюера v2:</b>\n",
    "<br>Правка выполнена 👍\n",
    "</div>"
   ]
  },
  {
   "cell_type": "markdown",
   "id": "7eed9bae",
   "metadata": {},
   "source": [
    "<div class=\"alert alert-danger\">\n",
    "<b>❌ Итоговый комментарий ревьюера v1:</b> \n",
    "<br>Необходимо поправить:\n",
    "<br>- добавить описание задачи в начале проекта\n",
    "<br>- написать выводы там, где их нет\n",
    "<br>- добавить таблицу частотности городов в задании 3.1\n",
    "<br>- проверить наличие подписей у каждого графика\n",
    "<br>- провести округление до агрегации по месяцам\n",
    "<br>- корректно рассчитать revenue\n",
    "<br>- добавить формулировку гипотез\n",
    "<br>- корректно проверить гипотезы\n",
    "<br>- написать общий вывод\n",
    "\n",
    "<br>После всех внесённых правок не забудь поправить выводы там, где это необходимо\n",
    "</div>"
   ]
  },
  {
   "cell_type": "markdown",
   "id": "3a78627a",
   "metadata": {},
   "source": [
    "<div class=\"alert alert-danger\">\n",
    "<b>❌ Итоговый комментарий ревьюера v2:</b> \n",
    "<br>Необходимо поправить:\n",
    "<br>- добавить формулировку гипотез\n",
    "<br>- корректно проверить гипотезы\n",
    "\n",
    "<br>После всех внесённых правок не забудь поправить выводы там, где это необходимо\n",
    "</div>"
   ]
  },
  {
   "cell_type": "markdown",
   "id": "fcdcc0d8",
   "metadata": {},
   "source": [
    "<div class=\"alert alert-success\">\n",
    "<b>✔️ Итоговый комментарий ревьюера v3:</b>\n",
    "<br>Все правки выполнены. Молодец!\n",
    "<br>Я рад был поработать над проверкой твоей работы) В качестве дополнительного материала для изучения могу порекомендовать следующие материалы:\n",
    "\n",
    "    Курс \"Вероятность и статистика\" | Глеб Михайлов (free): https://www.youtube.com/playlist?list=PLQJ7ptkRY-xbHLLI66KdscKp_FJt0FsIi\n",
    "\n",
    "    Методы обнаружения выбросов: https://youtu.be/TOK7Kq7x0yc\n",
    "\n",
    "<br>Поздравляю со сдачей проекта и желаю удачи в дальнейшем обучении! 😉    \n",
    "</div>"
   ]
  }
 ],
 "metadata": {
  "ExecuteTimeLog": [
   {
    "duration": 45,
    "start_time": "2023-09-29T18:24:59.734Z"
   },
   {
    "duration": 379,
    "start_time": "2023-09-29T18:25:07.064Z"
   },
   {
    "duration": 31,
    "start_time": "2023-09-29T18:25:10.218Z"
   },
   {
    "duration": 438,
    "start_time": "2023-09-29T18:29:55.886Z"
   },
   {
    "duration": 18,
    "start_time": "2023-09-29T18:29:58.588Z"
   },
   {
    "duration": 209,
    "start_time": "2023-09-29T18:30:32.478Z"
   },
   {
    "duration": 77,
    "start_time": "2023-09-29T18:32:00.756Z"
   },
   {
    "duration": 73,
    "start_time": "2023-09-29T18:32:18.156Z"
   },
   {
    "duration": 72,
    "start_time": "2023-09-29T18:32:50.404Z"
   },
   {
    "duration": 77,
    "start_time": "2023-09-29T18:33:27.893Z"
   },
   {
    "duration": 78,
    "start_time": "2023-09-29T18:34:01.903Z"
   },
   {
    "duration": 80,
    "start_time": "2023-09-29T18:34:21.526Z"
   },
   {
    "duration": 75,
    "start_time": "2023-09-29T18:36:42.199Z"
   },
   {
    "duration": 113,
    "start_time": "2023-09-29T18:37:10.856Z"
   },
   {
    "duration": 111,
    "start_time": "2023-09-29T18:37:22.456Z"
   },
   {
    "duration": 64,
    "start_time": "2023-09-29T18:39:28.068Z"
   },
   {
    "duration": 42,
    "start_time": "2023-09-29T18:40:11.791Z"
   },
   {
    "duration": 8,
    "start_time": "2023-09-29T18:50:39.954Z"
   },
   {
    "duration": 8,
    "start_time": "2023-09-29T18:50:53.502Z"
   },
   {
    "duration": 19,
    "start_time": "2023-09-29T18:51:10.947Z"
   },
   {
    "duration": 32,
    "start_time": "2023-09-29T18:51:34.218Z"
   },
   {
    "duration": 24,
    "start_time": "2023-09-29T18:51:46.708Z"
   },
   {
    "duration": 69,
    "start_time": "2023-09-29T18:51:52.804Z"
   },
   {
    "duration": 12,
    "start_time": "2023-09-29T18:53:35.148Z"
   },
   {
    "duration": 11,
    "start_time": "2023-09-29T18:55:45.739Z"
   },
   {
    "duration": 6,
    "start_time": "2023-09-29T18:56:04.379Z"
   },
   {
    "duration": 10,
    "start_time": "2023-09-29T19:00:12.530Z"
   },
   {
    "duration": 86,
    "start_time": "2023-09-29T19:00:39.102Z"
   },
   {
    "duration": 7,
    "start_time": "2023-09-29T19:01:36.940Z"
   },
   {
    "duration": 10,
    "start_time": "2023-09-29T19:02:08.214Z"
   },
   {
    "duration": 11,
    "start_time": "2023-09-29T19:02:24.653Z"
   },
   {
    "duration": 9,
    "start_time": "2023-09-29T19:02:38.205Z"
   },
   {
    "duration": 9,
    "start_time": "2023-09-29T19:03:01.861Z"
   },
   {
    "duration": 10,
    "start_time": "2023-09-29T19:03:08.951Z"
   },
   {
    "duration": 14,
    "start_time": "2023-09-29T19:04:55.347Z"
   },
   {
    "duration": 20,
    "start_time": "2023-09-29T19:05:09.770Z"
   },
   {
    "duration": 20,
    "start_time": "2023-09-29T19:05:20.347Z"
   },
   {
    "duration": 20,
    "start_time": "2023-09-29T19:05:41.257Z"
   },
   {
    "duration": 20,
    "start_time": "2023-09-29T19:05:49.962Z"
   },
   {
    "duration": 20,
    "start_time": "2023-09-29T19:06:13.958Z"
   },
   {
    "duration": 11,
    "start_time": "2023-09-29T19:07:32.906Z"
   },
   {
    "duration": 8,
    "start_time": "2023-09-29T19:11:54.620Z"
   },
   {
    "duration": 11,
    "start_time": "2023-09-29T19:12:16.252Z"
   },
   {
    "duration": 8,
    "start_time": "2023-09-29T19:12:18.575Z"
   },
   {
    "duration": 16,
    "start_time": "2023-09-29T19:12:55.374Z"
   },
   {
    "duration": 6,
    "start_time": "2023-09-29T19:13:03.202Z"
   },
   {
    "duration": 14,
    "start_time": "2023-09-29T19:13:57.584Z"
   },
   {
    "duration": 6,
    "start_time": "2023-09-29T19:14:10.310Z"
   },
   {
    "duration": 119,
    "start_time": "2023-09-29T19:14:20.406Z"
   },
   {
    "duration": 5,
    "start_time": "2023-09-29T19:14:27.191Z"
   },
   {
    "duration": 7,
    "start_time": "2023-09-29T19:17:48.854Z"
   },
   {
    "duration": 7,
    "start_time": "2023-09-29T19:17:57.232Z"
   },
   {
    "duration": 12,
    "start_time": "2023-09-29T19:20:00.266Z"
   },
   {
    "duration": 6,
    "start_time": "2023-09-29T19:20:35.674Z"
   },
   {
    "duration": 5,
    "start_time": "2023-09-29T19:20:59.968Z"
   },
   {
    "duration": 4,
    "start_time": "2023-09-29T19:46:44.641Z"
   },
   {
    "duration": 11,
    "start_time": "2023-09-29T19:47:01.430Z"
   },
   {
    "duration": 4,
    "start_time": "2023-09-29T19:47:11.006Z"
   },
   {
    "duration": 131,
    "start_time": "2023-09-29T19:47:44.132Z"
   },
   {
    "duration": 164,
    "start_time": "2023-09-29T19:48:03.944Z"
   },
   {
    "duration": 230,
    "start_time": "2023-09-29T19:48:44.818Z"
   },
   {
    "duration": 128,
    "start_time": "2023-09-29T19:48:55.605Z"
   },
   {
    "duration": 144,
    "start_time": "2023-09-29T19:49:03.057Z"
   },
   {
    "duration": 126,
    "start_time": "2023-09-29T19:49:11.405Z"
   },
   {
    "duration": 135,
    "start_time": "2023-09-29T19:49:33.468Z"
   },
   {
    "duration": 132,
    "start_time": "2023-09-29T19:49:38.484Z"
   },
   {
    "duration": 16,
    "start_time": "2023-09-29T19:51:26.085Z"
   },
   {
    "duration": 18,
    "start_time": "2023-09-29T19:51:39.388Z"
   },
   {
    "duration": 18,
    "start_time": "2023-09-29T19:52:51.982Z"
   },
   {
    "duration": 172,
    "start_time": "2023-09-29T19:53:15.006Z"
   },
   {
    "duration": 173,
    "start_time": "2023-09-29T19:53:19.366Z"
   },
   {
    "duration": 190,
    "start_time": "2023-09-29T19:53:27.813Z"
   },
   {
    "duration": 164,
    "start_time": "2023-09-29T19:53:37.960Z"
   },
   {
    "duration": 178,
    "start_time": "2023-09-29T19:54:34.492Z"
   },
   {
    "duration": 147,
    "start_time": "2023-09-29T19:54:44.784Z"
   },
   {
    "duration": 176,
    "start_time": "2023-09-29T19:56:56.078Z"
   },
   {
    "duration": 399,
    "start_time": "2023-09-29T19:57:01.152Z"
   },
   {
    "duration": 9,
    "start_time": "2023-09-29T19:57:53.423Z"
   },
   {
    "duration": 8,
    "start_time": "2023-09-29T19:58:44.217Z"
   },
   {
    "duration": 8,
    "start_time": "2023-09-29T19:58:45.258Z"
   },
   {
    "duration": 3,
    "start_time": "2023-09-29T19:59:18.671Z"
   },
   {
    "duration": 7,
    "start_time": "2023-09-29T19:59:37.266Z"
   },
   {
    "duration": 57,
    "start_time": "2023-09-29T20:01:16.515Z"
   },
   {
    "duration": 29,
    "start_time": "2023-09-29T20:01:32.503Z"
   },
   {
    "duration": 9,
    "start_time": "2023-09-29T20:02:17.869Z"
   },
   {
    "duration": 12,
    "start_time": "2023-09-29T20:02:31.279Z"
   },
   {
    "duration": 12,
    "start_time": "2023-09-29T20:02:41.795Z"
   },
   {
    "duration": 19,
    "start_time": "2023-09-29T20:04:42.763Z"
   },
   {
    "duration": 14,
    "start_time": "2023-09-29T20:08:10.071Z"
   },
   {
    "duration": 13,
    "start_time": "2023-09-29T20:08:37.578Z"
   },
   {
    "duration": 19,
    "start_time": "2023-09-29T20:08:43.873Z"
   },
   {
    "duration": 22,
    "start_time": "2023-09-29T20:09:43.165Z"
   },
   {
    "duration": 21,
    "start_time": "2023-09-29T20:17:12.918Z"
   },
   {
    "duration": 270,
    "start_time": "2023-09-29T20:18:26.965Z"
   },
   {
    "duration": 220,
    "start_time": "2023-09-29T20:18:52.559Z"
   },
   {
    "duration": 41550,
    "start_time": "2023-09-29T20:19:40.853Z"
   },
   {
    "duration": 94,
    "start_time": "2023-09-29T20:27:09.024Z"
   },
   {
    "duration": 126,
    "start_time": "2023-09-29T20:27:19.949Z"
   },
   {
    "duration": 24,
    "start_time": "2023-09-29T20:27:28.901Z"
   },
   {
    "duration": 31,
    "start_time": "2023-09-29T20:27:44.911Z"
   },
   {
    "duration": 18,
    "start_time": "2023-09-29T20:27:53.295Z"
   },
   {
    "duration": 16,
    "start_time": "2023-09-29T20:28:09.637Z"
   },
   {
    "duration": 12,
    "start_time": "2023-09-29T20:28:22.539Z"
   },
   {
    "duration": 86,
    "start_time": "2023-09-29T20:29:48.527Z"
   },
   {
    "duration": 150,
    "start_time": "2023-09-29T20:30:03.543Z"
   },
   {
    "duration": 100,
    "start_time": "2023-09-29T20:30:19.919Z"
   },
   {
    "duration": 12,
    "start_time": "2023-09-29T20:30:45.471Z"
   },
   {
    "duration": 15,
    "start_time": "2023-09-29T20:30:56.875Z"
   },
   {
    "duration": 177,
    "start_time": "2023-09-29T20:31:55.967Z"
   },
   {
    "duration": 116,
    "start_time": "2023-09-29T20:32:08.536Z"
   },
   {
    "duration": 12,
    "start_time": "2023-09-29T20:32:22.917Z"
   },
   {
    "duration": 258,
    "start_time": "2023-09-29T20:32:45.883Z"
   },
   {
    "duration": 5,
    "start_time": "2023-09-29T20:35:19.855Z"
   },
   {
    "duration": 61,
    "start_time": "2023-09-29T20:35:43.461Z"
   },
   {
    "duration": 61,
    "start_time": "2023-09-29T20:35:54.347Z"
   },
   {
    "duration": 66,
    "start_time": "2023-09-29T20:36:04.753Z"
   },
   {
    "duration": 69,
    "start_time": "2023-09-29T20:36:26.421Z"
   },
   {
    "duration": 73,
    "start_time": "2023-09-29T20:38:09.777Z"
   },
   {
    "duration": 9,
    "start_time": "2023-09-29T20:39:09.507Z"
   },
   {
    "duration": 12,
    "start_time": "2023-09-29T20:40:03.119Z"
   },
   {
    "duration": 148,
    "start_time": "2023-09-29T20:40:12.852Z"
   },
   {
    "duration": 150,
    "start_time": "2023-09-29T20:40:22.671Z"
   },
   {
    "duration": 8,
    "start_time": "2023-09-29T20:41:13.519Z"
   },
   {
    "duration": 7,
    "start_time": "2023-09-29T20:41:28.787Z"
   },
   {
    "duration": 91,
    "start_time": "2023-09-29T20:41:45.695Z"
   },
   {
    "duration": 160,
    "start_time": "2023-09-29T20:41:50.995Z"
   },
   {
    "duration": 149,
    "start_time": "2023-09-29T20:42:03.255Z"
   },
   {
    "duration": 427,
    "start_time": "2023-09-29T20:42:35.645Z"
   },
   {
    "duration": 8,
    "start_time": "2023-09-29T20:45:24.304Z"
   },
   {
    "duration": 6,
    "start_time": "2023-09-29T20:45:43.806Z"
   },
   {
    "duration": 8,
    "start_time": "2023-09-29T20:48:57.352Z"
   },
   {
    "duration": 163,
    "start_time": "2023-09-29T20:49:19.550Z"
   },
   {
    "duration": 153,
    "start_time": "2023-09-29T20:49:30.341Z"
   },
   {
    "duration": 150,
    "start_time": "2023-09-29T20:49:39.523Z"
   },
   {
    "duration": 154,
    "start_time": "2023-09-29T20:50:03.560Z"
   },
   {
    "duration": 65,
    "start_time": "2023-09-29T20:50:27.971Z"
   },
   {
    "duration": 67,
    "start_time": "2023-09-29T20:50:29.148Z"
   },
   {
    "duration": 68,
    "start_time": "2023-09-29T20:50:29.626Z"
   },
   {
    "duration": 69,
    "start_time": "2023-09-29T20:50:29.859Z"
   },
   {
    "duration": 67,
    "start_time": "2023-09-29T20:50:30.187Z"
   },
   {
    "duration": 6,
    "start_time": "2023-09-29T20:50:51.396Z"
   },
   {
    "duration": 4,
    "start_time": "2023-09-29T20:50:52.403Z"
   },
   {
    "duration": 5,
    "start_time": "2023-09-29T20:50:52.895Z"
   },
   {
    "duration": 4,
    "start_time": "2023-09-29T20:50:53.106Z"
   },
   {
    "duration": 4,
    "start_time": "2023-09-29T20:50:53.299Z"
   },
   {
    "duration": 5,
    "start_time": "2023-09-29T20:50:53.490Z"
   },
   {
    "duration": 5,
    "start_time": "2023-09-29T20:50:53.667Z"
   },
   {
    "duration": 5,
    "start_time": "2023-09-29T20:50:53.858Z"
   },
   {
    "duration": 5,
    "start_time": "2023-09-29T20:50:54.042Z"
   },
   {
    "duration": 153,
    "start_time": "2023-09-29T20:51:01.375Z"
   },
   {
    "duration": 6,
    "start_time": "2023-09-29T20:51:27.202Z"
   },
   {
    "duration": 144,
    "start_time": "2023-09-29T20:51:35.500Z"
   },
   {
    "duration": 7,
    "start_time": "2023-09-29T20:52:08.306Z"
   },
   {
    "duration": 8,
    "start_time": "2023-09-29T20:52:35.500Z"
   },
   {
    "duration": 237,
    "start_time": "2023-09-29T20:54:15.596Z"
   },
   {
    "duration": 176,
    "start_time": "2023-09-29T20:54:37.766Z"
   },
   {
    "duration": 1532,
    "start_time": "2023-09-29T20:54:57.363Z"
   },
   {
    "duration": 9,
    "start_time": "2023-09-29T20:55:11.134Z"
   },
   {
    "duration": 172,
    "start_time": "2023-09-29T20:55:22.420Z"
   },
   {
    "duration": 180,
    "start_time": "2023-09-29T20:55:45.120Z"
   },
   {
    "duration": 248,
    "start_time": "2023-09-29T20:55:49.937Z"
   },
   {
    "duration": 382,
    "start_time": "2023-09-29T20:55:56.249Z"
   },
   {
    "duration": 10,
    "start_time": "2023-09-29T20:58:02.382Z"
   },
   {
    "duration": 246,
    "start_time": "2023-09-29T20:59:34.201Z"
   },
   {
    "duration": 8,
    "start_time": "2023-09-29T21:10:19.776Z"
   },
   {
    "duration": 8,
    "start_time": "2023-09-29T21:12:16.352Z"
   },
   {
    "duration": 11,
    "start_time": "2023-09-29T21:12:34.786Z"
   },
   {
    "duration": 16,
    "start_time": "2023-09-29T21:15:46.013Z"
   },
   {
    "duration": 19,
    "start_time": "2023-09-29T21:16:10.517Z"
   },
   {
    "duration": 32,
    "start_time": "2023-09-29T21:17:25.108Z"
   },
   {
    "duration": 24,
    "start_time": "2023-09-29T21:18:02.604Z"
   },
   {
    "duration": 51,
    "start_time": "2023-09-30T11:08:42.951Z"
   },
   {
    "duration": 63,
    "start_time": "2023-09-30T11:08:55.561Z"
   },
   {
    "duration": 8,
    "start_time": "2023-09-30T11:09:00.260Z"
   },
   {
    "duration": 881,
    "start_time": "2023-09-30T11:09:08.705Z"
   },
   {
    "duration": 234,
    "start_time": "2023-09-30T11:09:09.589Z"
   },
   {
    "duration": 66,
    "start_time": "2023-09-30T11:09:09.825Z"
   },
   {
    "duration": 8,
    "start_time": "2023-09-30T11:09:09.893Z"
   },
   {
    "duration": 62,
    "start_time": "2023-09-30T11:09:09.902Z"
   },
   {
    "duration": 44,
    "start_time": "2023-09-30T11:09:09.966Z"
   },
   {
    "duration": 63,
    "start_time": "2023-09-30T11:09:10.012Z"
   },
   {
    "duration": 7,
    "start_time": "2023-09-30T11:09:10.077Z"
   },
   {
    "duration": 40,
    "start_time": "2023-09-30T11:09:10.086Z"
   },
   {
    "duration": 35,
    "start_time": "2023-09-30T11:09:10.129Z"
   },
   {
    "duration": 192,
    "start_time": "2023-09-30T11:09:10.166Z"
   },
   {
    "duration": 10,
    "start_time": "2023-09-30T11:09:10.363Z"
   },
   {
    "duration": 90,
    "start_time": "2023-09-30T11:09:10.374Z"
   },
   {
    "duration": 8,
    "start_time": "2023-09-30T11:09:10.466Z"
   },
   {
    "duration": 213,
    "start_time": "2023-09-30T11:09:10.476Z"
   },
   {
    "duration": 10,
    "start_time": "2023-09-30T11:09:10.691Z"
   },
   {
    "duration": 519,
    "start_time": "2023-09-30T11:09:10.703Z"
   },
   {
    "duration": 9,
    "start_time": "2023-09-30T11:09:11.225Z"
   },
   {
    "duration": 325,
    "start_time": "2023-09-30T11:09:11.243Z"
   },
   {
    "duration": 34,
    "start_time": "2023-09-30T11:09:11.571Z"
   },
   {
    "duration": 8,
    "start_time": "2023-09-30T11:09:11.607Z"
   },
   {
    "duration": 15,
    "start_time": "2023-09-30T11:09:34.176Z"
   },
   {
    "duration": 48,
    "start_time": "2023-09-30T11:10:04.413Z"
   },
   {
    "duration": 20,
    "start_time": "2023-09-30T11:10:21.650Z"
   },
   {
    "duration": 35,
    "start_time": "2023-09-30T11:11:03.837Z"
   },
   {
    "duration": 17,
    "start_time": "2023-09-30T11:11:27.408Z"
   },
   {
    "duration": 8,
    "start_time": "2023-09-30T11:12:37.413Z"
   },
   {
    "duration": 7,
    "start_time": "2023-09-30T11:12:41.029Z"
   },
   {
    "duration": 6,
    "start_time": "2023-09-30T11:16:41.182Z"
   },
   {
    "duration": 755,
    "start_time": "2023-09-30T11:16:47.162Z"
   },
   {
    "duration": 69,
    "start_time": "2023-09-30T11:16:47.919Z"
   },
   {
    "duration": 46,
    "start_time": "2023-09-30T11:16:47.989Z"
   },
   {
    "duration": 17,
    "start_time": "2023-09-30T11:16:48.037Z"
   },
   {
    "duration": 15,
    "start_time": "2023-09-30T11:16:48.056Z"
   },
   {
    "duration": 22,
    "start_time": "2023-09-30T11:16:48.073Z"
   },
   {
    "duration": 14,
    "start_time": "2023-09-30T11:16:48.097Z"
   },
   {
    "duration": 26,
    "start_time": "2023-09-30T11:16:48.113Z"
   },
   {
    "duration": 23,
    "start_time": "2023-09-30T11:16:48.141Z"
   },
   {
    "duration": 30,
    "start_time": "2023-09-30T11:16:48.167Z"
   },
   {
    "duration": 192,
    "start_time": "2023-09-30T11:16:48.200Z"
   },
   {
    "duration": 7,
    "start_time": "2023-09-30T11:16:48.394Z"
   },
   {
    "duration": 107,
    "start_time": "2023-09-30T11:16:48.403Z"
   },
   {
    "duration": 11,
    "start_time": "2023-09-30T11:16:48.513Z"
   },
   {
    "duration": 185,
    "start_time": "2023-09-30T11:16:48.527Z"
   },
   {
    "duration": 10,
    "start_time": "2023-09-30T11:16:48.713Z"
   },
   {
    "duration": 521,
    "start_time": "2023-09-30T11:16:48.724Z"
   },
   {
    "duration": 16,
    "start_time": "2023-09-30T11:16:49.253Z"
   },
   {
    "duration": 304,
    "start_time": "2023-09-30T11:16:49.272Z"
   },
   {
    "duration": 39,
    "start_time": "2023-09-30T11:16:49.578Z"
   },
   {
    "duration": 25,
    "start_time": "2023-09-30T11:16:49.619Z"
   },
   {
    "duration": 17,
    "start_time": "2023-09-30T11:16:49.651Z"
   },
   {
    "duration": 136,
    "start_time": "2023-09-30T11:16:49.671Z"
   },
   {
    "duration": 1547,
    "start_time": "2023-09-30T11:17:35.414Z"
   },
   {
    "duration": 166,
    "start_time": "2023-09-30T11:19:30.752Z"
   },
   {
    "duration": 211,
    "start_time": "2023-09-30T11:20:20.664Z"
   },
   {
    "duration": 152,
    "start_time": "2023-09-30T11:20:39.754Z"
   },
   {
    "duration": 182,
    "start_time": "2023-09-30T11:20:51.781Z"
   },
   {
    "duration": 218,
    "start_time": "2023-09-30T11:21:17.555Z"
   },
   {
    "duration": 108,
    "start_time": "2023-09-30T11:21:24.418Z"
   },
   {
    "duration": 136,
    "start_time": "2023-09-30T11:21:31.194Z"
   },
   {
    "duration": 191,
    "start_time": "2023-09-30T11:21:41.486Z"
   },
   {
    "duration": 187,
    "start_time": "2023-09-30T11:21:50.248Z"
   },
   {
    "duration": 362,
    "start_time": "2023-09-30T11:22:03.586Z"
   },
   {
    "duration": 195,
    "start_time": "2023-09-30T11:22:32.584Z"
   },
   {
    "duration": 15,
    "start_time": "2023-09-30T11:22:51.378Z"
   },
   {
    "duration": 6,
    "start_time": "2023-09-30T11:23:11.371Z"
   },
   {
    "duration": 294,
    "start_time": "2023-09-30T11:23:15.634Z"
   },
   {
    "duration": 254,
    "start_time": "2023-09-30T11:23:25.626Z"
   },
   {
    "duration": 262,
    "start_time": "2023-09-30T11:23:40.924Z"
   },
   {
    "duration": 250,
    "start_time": "2023-09-30T11:23:46.946Z"
   },
   {
    "duration": 11,
    "start_time": "2023-09-30T11:30:07.147Z"
   },
   {
    "duration": 192,
    "start_time": "2023-09-30T11:30:16.075Z"
   },
   {
    "duration": 10,
    "start_time": "2023-09-30T11:30:25.453Z"
   },
   {
    "duration": 0,
    "start_time": "2023-09-30T11:31:41.211Z"
   },
   {
    "duration": 993,
    "start_time": "2023-09-30T11:31:43.684Z"
   },
   {
    "duration": 99,
    "start_time": "2023-09-30T11:34:14.343Z"
   },
   {
    "duration": 312,
    "start_time": "2023-09-30T11:34:53.134Z"
   },
   {
    "duration": 294,
    "start_time": "2023-09-30T11:34:59.916Z"
   },
   {
    "duration": 314,
    "start_time": "2023-09-30T11:35:04.372Z"
   },
   {
    "duration": 311,
    "start_time": "2023-09-30T11:35:16.190Z"
   },
   {
    "duration": 306,
    "start_time": "2023-09-30T11:35:22.070Z"
   },
   {
    "duration": 289,
    "start_time": "2023-09-30T11:35:31.814Z"
   },
   {
    "duration": 272,
    "start_time": "2023-09-30T11:35:41.548Z"
   },
   {
    "duration": 293,
    "start_time": "2023-09-30T11:35:47.750Z"
   },
   {
    "duration": 295,
    "start_time": "2023-09-30T11:35:52.391Z"
   },
   {
    "duration": 307,
    "start_time": "2023-09-30T11:37:05.647Z"
   },
   {
    "duration": 10,
    "start_time": "2023-09-30T12:17:08.867Z"
   },
   {
    "duration": 8,
    "start_time": "2023-09-30T12:17:20.245Z"
   },
   {
    "duration": 20,
    "start_time": "2023-09-30T12:17:48.337Z"
   },
   {
    "duration": 90,
    "start_time": "2023-09-30T12:23:04.230Z"
   },
   {
    "duration": 20,
    "start_time": "2023-09-30T12:23:37.862Z"
   },
   {
    "duration": 29,
    "start_time": "2023-09-30T12:23:53.718Z"
   },
   {
    "duration": 17,
    "start_time": "2023-09-30T12:24:19.846Z"
   },
   {
    "duration": 20,
    "start_time": "2023-09-30T12:24:50.942Z"
   },
   {
    "duration": 43,
    "start_time": "2023-09-30T12:26:39.628Z"
   },
   {
    "duration": 44,
    "start_time": "2023-09-30T12:26:44.367Z"
   },
   {
    "duration": 33,
    "start_time": "2023-09-30T12:26:59.954Z"
   },
   {
    "duration": 15,
    "start_time": "2023-09-30T12:27:30.877Z"
   },
   {
    "duration": 18,
    "start_time": "2023-09-30T12:28:30.954Z"
   },
   {
    "duration": 17,
    "start_time": "2023-09-30T12:28:41.917Z"
   },
   {
    "duration": 12,
    "start_time": "2023-09-30T12:30:09.618Z"
   },
   {
    "duration": 12,
    "start_time": "2023-09-30T12:30:50.444Z"
   },
   {
    "duration": 39,
    "start_time": "2023-09-30T12:31:32.464Z"
   },
   {
    "duration": 26,
    "start_time": "2023-09-30T12:32:03.681Z"
   },
   {
    "duration": 22,
    "start_time": "2023-09-30T12:32:20.317Z"
   },
   {
    "duration": 30,
    "start_time": "2023-09-30T12:33:29.915Z"
   },
   {
    "duration": 29,
    "start_time": "2023-09-30T12:34:31.596Z"
   },
   {
    "duration": 20,
    "start_time": "2023-09-30T12:34:47.628Z"
   },
   {
    "duration": 62,
    "start_time": "2023-09-30T12:35:24.476Z"
   },
   {
    "duration": 16,
    "start_time": "2023-09-30T12:35:59.988Z"
   },
   {
    "duration": 15,
    "start_time": "2023-09-30T12:36:12.547Z"
   },
   {
    "duration": 20,
    "start_time": "2023-09-30T12:36:17.879Z"
   },
   {
    "duration": 49,
    "start_time": "2023-09-30T12:37:21.365Z"
   },
   {
    "duration": 37,
    "start_time": "2023-09-30T12:38:16.764Z"
   },
   {
    "duration": 39,
    "start_time": "2023-09-30T12:38:34.333Z"
   },
   {
    "duration": 832,
    "start_time": "2023-09-30T16:59:59.368Z"
   },
   {
    "duration": 220,
    "start_time": "2023-09-30T17:00:00.203Z"
   },
   {
    "duration": 49,
    "start_time": "2023-09-30T17:00:00.425Z"
   },
   {
    "duration": 61,
    "start_time": "2023-09-30T17:00:00.476Z"
   },
   {
    "duration": 35,
    "start_time": "2023-09-30T17:00:00.539Z"
   },
   {
    "duration": 40,
    "start_time": "2023-09-30T17:00:00.576Z"
   },
   {
    "duration": 36,
    "start_time": "2023-09-30T17:00:00.618Z"
   },
   {
    "duration": 66,
    "start_time": "2023-09-30T17:00:00.656Z"
   },
   {
    "duration": 146,
    "start_time": "2023-09-30T17:00:00.725Z"
   },
   {
    "duration": 89,
    "start_time": "2023-09-30T17:00:00.875Z"
   },
   {
    "duration": 294,
    "start_time": "2023-09-30T17:00:00.966Z"
   },
   {
    "duration": 8,
    "start_time": "2023-09-30T17:00:01.261Z"
   },
   {
    "duration": 126,
    "start_time": "2023-09-30T17:00:01.270Z"
   },
   {
    "duration": 33,
    "start_time": "2023-09-30T17:00:01.398Z"
   },
   {
    "duration": 261,
    "start_time": "2023-09-30T17:00:01.433Z"
   },
   {
    "duration": 10,
    "start_time": "2023-09-30T17:00:01.695Z"
   },
   {
    "duration": 634,
    "start_time": "2023-09-30T17:00:01.706Z"
   },
   {
    "duration": 10,
    "start_time": "2023-09-30T17:00:02.342Z"
   },
   {
    "duration": 406,
    "start_time": "2023-09-30T17:00:02.355Z"
   },
   {
    "duration": 16,
    "start_time": "2023-09-30T17:00:02.763Z"
   },
   {
    "duration": 67,
    "start_time": "2023-09-30T17:00:02.781Z"
   },
   {
    "duration": 19,
    "start_time": "2023-09-30T17:00:02.850Z"
   },
   {
    "duration": 325,
    "start_time": "2023-09-30T17:00:02.871Z"
   },
   {
    "duration": 307,
    "start_time": "2023-09-30T17:00:03.199Z"
   },
   {
    "duration": 37,
    "start_time": "2023-09-30T17:00:03.508Z"
   },
   {
    "duration": 35,
    "start_time": "2023-09-30T17:02:07.332Z"
   },
   {
    "duration": 116,
    "start_time": "2023-09-30T17:02:23.704Z"
   },
   {
    "duration": 611,
    "start_time": "2023-09-30T17:05:29.405Z"
   },
   {
    "duration": 67,
    "start_time": "2023-09-30T17:05:30.017Z"
   },
   {
    "duration": 59,
    "start_time": "2023-09-30T17:05:30.085Z"
   },
   {
    "duration": 14,
    "start_time": "2023-09-30T17:05:30.146Z"
   },
   {
    "duration": 26,
    "start_time": "2023-09-30T17:05:30.162Z"
   },
   {
    "duration": 100,
    "start_time": "2023-09-30T17:05:30.191Z"
   },
   {
    "duration": 49,
    "start_time": "2023-09-30T17:05:30.294Z"
   },
   {
    "duration": 5,
    "start_time": "2023-09-30T17:05:30.345Z"
   },
   {
    "duration": 30,
    "start_time": "2023-09-30T17:05:30.351Z"
   },
   {
    "duration": 37,
    "start_time": "2023-09-30T17:05:30.383Z"
   },
   {
    "duration": 202,
    "start_time": "2023-09-30T17:05:30.422Z"
   },
   {
    "duration": 8,
    "start_time": "2023-09-30T17:05:30.626Z"
   },
   {
    "duration": 108,
    "start_time": "2023-09-30T17:05:30.643Z"
   },
   {
    "duration": 8,
    "start_time": "2023-09-30T17:05:30.753Z"
   },
   {
    "duration": 235,
    "start_time": "2023-09-30T17:05:30.763Z"
   },
   {
    "duration": 9,
    "start_time": "2023-09-30T17:05:31.000Z"
   },
   {
    "duration": 450,
    "start_time": "2023-09-30T17:05:31.011Z"
   },
   {
    "duration": 10,
    "start_time": "2023-09-30T17:05:31.463Z"
   },
   {
    "duration": 278,
    "start_time": "2023-09-30T17:05:31.474Z"
   },
   {
    "duration": 14,
    "start_time": "2023-09-30T17:05:31.754Z"
   },
   {
    "duration": 48,
    "start_time": "2023-09-30T17:05:31.770Z"
   },
   {
    "duration": 44,
    "start_time": "2023-09-30T17:05:31.819Z"
   },
   {
    "duration": 332,
    "start_time": "2023-09-30T17:05:31.864Z"
   },
   {
    "duration": 306,
    "start_time": "2023-09-30T17:05:32.198Z"
   },
   {
    "duration": 102,
    "start_time": "2023-09-30T17:05:32.506Z"
   },
   {
    "duration": 45,
    "start_time": "2023-09-30T17:07:14.469Z"
   },
   {
    "duration": 20,
    "start_time": "2023-09-30T17:10:19.201Z"
   },
   {
    "duration": 24,
    "start_time": "2023-09-30T17:10:46.158Z"
   },
   {
    "duration": 35,
    "start_time": "2023-09-30T17:11:15.496Z"
   },
   {
    "duration": 9,
    "start_time": "2023-09-30T17:14:25.286Z"
   },
   {
    "duration": 692,
    "start_time": "2023-09-30T17:15:28.632Z"
   },
   {
    "duration": 68,
    "start_time": "2023-09-30T17:15:29.326Z"
   },
   {
    "duration": 48,
    "start_time": "2023-09-30T17:15:29.395Z"
   },
   {
    "duration": 7,
    "start_time": "2023-09-30T17:15:29.445Z"
   },
   {
    "duration": 16,
    "start_time": "2023-09-30T17:15:29.454Z"
   },
   {
    "duration": 10,
    "start_time": "2023-09-30T17:15:29.471Z"
   },
   {
    "duration": 11,
    "start_time": "2023-09-30T17:15:29.483Z"
   },
   {
    "duration": 5,
    "start_time": "2023-09-30T17:15:29.495Z"
   },
   {
    "duration": 4,
    "start_time": "2023-09-30T17:15:29.502Z"
   },
   {
    "duration": 41,
    "start_time": "2023-09-30T17:15:29.509Z"
   },
   {
    "duration": 184,
    "start_time": "2023-09-30T17:15:29.552Z"
   },
   {
    "duration": 7,
    "start_time": "2023-09-30T17:15:29.743Z"
   },
   {
    "duration": 76,
    "start_time": "2023-09-30T17:15:29.751Z"
   },
   {
    "duration": 18,
    "start_time": "2023-09-30T17:15:29.829Z"
   },
   {
    "duration": 163,
    "start_time": "2023-09-30T17:15:29.848Z"
   },
   {
    "duration": 8,
    "start_time": "2023-09-30T17:15:30.013Z"
   },
   {
    "duration": 452,
    "start_time": "2023-09-30T17:15:30.023Z"
   },
   {
    "duration": 9,
    "start_time": "2023-09-30T17:15:30.476Z"
   },
   {
    "duration": 263,
    "start_time": "2023-09-30T17:15:30.486Z"
   },
   {
    "duration": 16,
    "start_time": "2023-09-30T17:15:30.750Z"
   },
   {
    "duration": 32,
    "start_time": "2023-09-30T17:15:30.768Z"
   },
   {
    "duration": 63,
    "start_time": "2023-09-30T17:15:30.802Z"
   },
   {
    "duration": 335,
    "start_time": "2023-09-30T17:15:30.867Z"
   },
   {
    "duration": 288,
    "start_time": "2023-09-30T17:15:31.204Z"
   },
   {
    "duration": 34,
    "start_time": "2023-09-30T17:15:31.494Z"
   },
   {
    "duration": 1385,
    "start_time": "2023-09-30T17:16:34.304Z"
   },
   {
    "duration": 35,
    "start_time": "2023-09-30T17:16:55.833Z"
   },
   {
    "duration": 1344,
    "start_time": "2023-09-30T17:17:09.594Z"
   },
   {
    "duration": 34,
    "start_time": "2023-09-30T17:18:47.822Z"
   },
   {
    "duration": 2131,
    "start_time": "2023-09-30T17:19:17.330Z"
   },
   {
    "duration": 26,
    "start_time": "2023-09-30T17:19:35.202Z"
   },
   {
    "duration": 36,
    "start_time": "2023-09-30T17:19:52.402Z"
   },
   {
    "duration": 27,
    "start_time": "2023-09-30T17:20:05.116Z"
   },
   {
    "duration": 36,
    "start_time": "2023-09-30T17:20:10.046Z"
   },
   {
    "duration": 32,
    "start_time": "2023-09-30T17:20:18.884Z"
   },
   {
    "duration": 310,
    "start_time": "2023-09-30T17:56:35.391Z"
   },
   {
    "duration": 354,
    "start_time": "2023-09-30T17:57:07.727Z"
   },
   {
    "duration": 40,
    "start_time": "2023-09-30T17:57:41.767Z"
   },
   {
    "duration": 36,
    "start_time": "2023-09-30T17:58:54.130Z"
   },
   {
    "duration": 39,
    "start_time": "2023-09-30T17:59:04.025Z"
   },
   {
    "duration": 53,
    "start_time": "2023-09-30T18:01:01.891Z"
   },
   {
    "duration": 41,
    "start_time": "2023-09-30T18:13:54.897Z"
   },
   {
    "duration": 38,
    "start_time": "2023-09-30T18:14:20.473Z"
   },
   {
    "duration": 39,
    "start_time": "2023-09-30T18:14:26.499Z"
   },
   {
    "duration": 43,
    "start_time": "2023-09-30T18:18:38.493Z"
   },
   {
    "duration": 83,
    "start_time": "2023-09-30T18:19:20.514Z"
   },
   {
    "duration": 16,
    "start_time": "2023-09-30T18:20:28.760Z"
   },
   {
    "duration": 38,
    "start_time": "2023-09-30T18:59:47.150Z"
   },
   {
    "duration": 41,
    "start_time": "2023-09-30T19:00:06.487Z"
   },
   {
    "duration": 7,
    "start_time": "2023-09-30T19:15:52.840Z"
   },
   {
    "duration": 7,
    "start_time": "2023-09-30T19:16:08.458Z"
   },
   {
    "duration": 6,
    "start_time": "2023-09-30T19:16:29.006Z"
   },
   {
    "duration": 1216,
    "start_time": "2023-09-30T19:17:51.615Z"
   },
   {
    "duration": 13,
    "start_time": "2023-09-30T19:28:40.562Z"
   },
   {
    "duration": 10,
    "start_time": "2023-09-30T19:29:21.207Z"
   },
   {
    "duration": 11,
    "start_time": "2023-09-30T19:30:55.160Z"
   },
   {
    "duration": 13,
    "start_time": "2023-09-30T19:32:58.822Z"
   },
   {
    "duration": 632,
    "start_time": "2023-09-30T19:33:27.058Z"
   },
   {
    "duration": 67,
    "start_time": "2023-09-30T19:33:27.692Z"
   },
   {
    "duration": 47,
    "start_time": "2023-09-30T19:33:27.760Z"
   },
   {
    "duration": 13,
    "start_time": "2023-09-30T19:33:27.809Z"
   },
   {
    "duration": 19,
    "start_time": "2023-09-30T19:33:27.824Z"
   },
   {
    "duration": 19,
    "start_time": "2023-09-30T19:33:27.845Z"
   },
   {
    "duration": 24,
    "start_time": "2023-09-30T19:33:27.866Z"
   },
   {
    "duration": 25,
    "start_time": "2023-09-30T19:33:27.892Z"
   },
   {
    "duration": 30,
    "start_time": "2023-09-30T19:33:27.919Z"
   },
   {
    "duration": 17,
    "start_time": "2023-09-30T19:33:27.951Z"
   },
   {
    "duration": 181,
    "start_time": "2023-09-30T19:33:27.969Z"
   },
   {
    "duration": 7,
    "start_time": "2023-09-30T19:33:28.152Z"
   },
   {
    "duration": 97,
    "start_time": "2023-09-30T19:33:28.161Z"
   },
   {
    "duration": 9,
    "start_time": "2023-09-30T19:33:28.260Z"
   },
   {
    "duration": 166,
    "start_time": "2023-09-30T19:33:28.271Z"
   },
   {
    "duration": 12,
    "start_time": "2023-09-30T19:33:28.439Z"
   },
   {
    "duration": 432,
    "start_time": "2023-09-30T19:33:28.452Z"
   },
   {
    "duration": 9,
    "start_time": "2023-09-30T19:33:28.886Z"
   },
   {
    "duration": 279,
    "start_time": "2023-09-30T19:33:28.897Z"
   },
   {
    "duration": 17,
    "start_time": "2023-09-30T19:33:29.178Z"
   },
   {
    "duration": 9,
    "start_time": "2023-09-30T19:33:29.197Z"
   },
   {
    "duration": 14,
    "start_time": "2023-09-30T19:33:29.207Z"
   },
   {
    "duration": 317,
    "start_time": "2023-09-30T19:33:29.222Z"
   },
   {
    "duration": 288,
    "start_time": "2023-09-30T19:33:29.544Z"
   },
   {
    "duration": 50,
    "start_time": "2023-09-30T19:33:29.834Z"
   },
   {
    "duration": 90,
    "start_time": "2023-09-30T19:33:29.885Z"
   },
   {
    "duration": 41,
    "start_time": "2023-09-30T19:34:15.090Z"
   },
   {
    "duration": 39,
    "start_time": "2023-09-30T19:34:26.262Z"
   },
   {
    "duration": 31,
    "start_time": "2023-09-30T19:34:46.160Z"
   },
   {
    "duration": 11,
    "start_time": "2023-09-30T19:35:18.728Z"
   },
   {
    "duration": 75,
    "start_time": "2023-09-30T19:37:09.428Z"
   },
   {
    "duration": 8,
    "start_time": "2023-09-30T19:37:30.186Z"
   },
   {
    "duration": 4,
    "start_time": "2023-09-30T19:37:37.100Z"
   },
   {
    "duration": 3,
    "start_time": "2023-09-30T19:38:25.140Z"
   },
   {
    "duration": 15,
    "start_time": "2023-09-30T19:38:33.412Z"
   },
   {
    "duration": 14,
    "start_time": "2023-09-30T19:39:51.366Z"
   },
   {
    "duration": 85,
    "start_time": "2023-09-30T19:42:09.078Z"
   },
   {
    "duration": 4,
    "start_time": "2023-09-30T19:42:15.214Z"
   },
   {
    "duration": 4,
    "start_time": "2023-09-30T19:42:36.901Z"
   },
   {
    "duration": 8,
    "start_time": "2023-09-30T19:42:51.102Z"
   },
   {
    "duration": 4,
    "start_time": "2023-09-30T19:43:17.478Z"
   },
   {
    "duration": 45,
    "start_time": "2023-10-01T12:39:42.980Z"
   },
   {
    "duration": 795,
    "start_time": "2023-10-01T12:39:51.654Z"
   },
   {
    "duration": 194,
    "start_time": "2023-10-01T12:39:52.452Z"
   },
   {
    "duration": 47,
    "start_time": "2023-10-01T12:39:52.649Z"
   },
   {
    "duration": 7,
    "start_time": "2023-10-01T12:39:52.698Z"
   },
   {
    "duration": 29,
    "start_time": "2023-10-01T12:39:52.706Z"
   },
   {
    "duration": 17,
    "start_time": "2023-10-01T12:39:52.737Z"
   },
   {
    "duration": 24,
    "start_time": "2023-10-01T12:39:52.755Z"
   },
   {
    "duration": 17,
    "start_time": "2023-10-01T12:39:52.780Z"
   },
   {
    "duration": 41,
    "start_time": "2023-10-01T12:39:52.798Z"
   },
   {
    "duration": 31,
    "start_time": "2023-10-01T12:39:52.842Z"
   },
   {
    "duration": 182,
    "start_time": "2023-10-01T12:39:52.874Z"
   },
   {
    "duration": 7,
    "start_time": "2023-10-01T12:39:53.057Z"
   },
   {
    "duration": 89,
    "start_time": "2023-10-01T12:39:53.066Z"
   },
   {
    "duration": 8,
    "start_time": "2023-10-01T12:39:53.157Z"
   },
   {
    "duration": 166,
    "start_time": "2023-10-01T12:39:53.167Z"
   },
   {
    "duration": 14,
    "start_time": "2023-10-01T12:39:53.335Z"
   },
   {
    "duration": 447,
    "start_time": "2023-10-01T12:39:53.351Z"
   },
   {
    "duration": 11,
    "start_time": "2023-10-01T12:39:53.801Z"
   },
   {
    "duration": 271,
    "start_time": "2023-10-01T12:39:53.814Z"
   },
   {
    "duration": 15,
    "start_time": "2023-10-01T12:39:54.087Z"
   },
   {
    "duration": 24,
    "start_time": "2023-10-01T12:39:54.103Z"
   },
   {
    "duration": 29,
    "start_time": "2023-10-01T12:39:54.128Z"
   },
   {
    "duration": 391,
    "start_time": "2023-10-01T12:39:54.158Z"
   },
   {
    "duration": 303,
    "start_time": "2023-10-01T12:39:54.551Z"
   },
   {
    "duration": 31,
    "start_time": "2023-10-01T12:39:54.856Z"
   },
   {
    "duration": 7,
    "start_time": "2023-10-01T12:39:54.888Z"
   },
   {
    "duration": 47,
    "start_time": "2023-10-01T15:41:28.134Z"
   },
   {
    "duration": 956,
    "start_time": "2023-10-01T15:41:38.112Z"
   },
   {
    "duration": 203,
    "start_time": "2023-10-01T15:41:39.070Z"
   },
   {
    "duration": 47,
    "start_time": "2023-10-01T15:41:39.275Z"
   },
   {
    "duration": 7,
    "start_time": "2023-10-01T15:41:39.325Z"
   },
   {
    "duration": 10,
    "start_time": "2023-10-01T15:41:39.334Z"
   },
   {
    "duration": 23,
    "start_time": "2023-10-01T15:41:39.346Z"
   },
   {
    "duration": 39,
    "start_time": "2023-10-01T15:41:39.371Z"
   },
   {
    "duration": 7,
    "start_time": "2023-10-01T15:41:39.412Z"
   },
   {
    "duration": 10,
    "start_time": "2023-10-01T15:41:39.421Z"
   },
   {
    "duration": 16,
    "start_time": "2023-10-01T15:41:39.434Z"
   },
   {
    "duration": 195,
    "start_time": "2023-10-01T15:41:39.452Z"
   },
   {
    "duration": 8,
    "start_time": "2023-10-01T15:41:39.648Z"
   },
   {
    "duration": 83,
    "start_time": "2023-10-01T15:41:39.658Z"
   },
   {
    "duration": 8,
    "start_time": "2023-10-01T15:41:39.743Z"
   },
   {
    "duration": 183,
    "start_time": "2023-10-01T15:41:39.753Z"
   },
   {
    "duration": 9,
    "start_time": "2023-10-01T15:41:39.937Z"
   },
   {
    "duration": 481,
    "start_time": "2023-10-01T15:41:39.948Z"
   },
   {
    "duration": 10,
    "start_time": "2023-10-01T15:41:40.431Z"
   },
   {
    "duration": 293,
    "start_time": "2023-10-01T15:41:40.443Z"
   },
   {
    "duration": 19,
    "start_time": "2023-10-01T15:41:40.738Z"
   },
   {
    "duration": 10,
    "start_time": "2023-10-01T15:41:40.759Z"
   },
   {
    "duration": 32,
    "start_time": "2023-10-01T15:41:40.771Z"
   },
   {
    "duration": 338,
    "start_time": "2023-10-01T15:41:40.805Z"
   },
   {
    "duration": 320,
    "start_time": "2023-10-01T15:41:41.145Z"
   },
   {
    "duration": 43,
    "start_time": "2023-10-01T15:41:41.467Z"
   },
   {
    "duration": 98,
    "start_time": "2023-10-01T15:41:41.512Z"
   },
   {
    "duration": 1464,
    "start_time": "2023-10-01T16:46:17.841Z"
   },
   {
    "duration": 33,
    "start_time": "2023-10-01T16:51:35.408Z"
   },
   {
    "duration": 34,
    "start_time": "2023-10-01T16:52:32.836Z"
   },
   {
    "duration": 2038,
    "start_time": "2023-10-01T16:57:08.659Z"
   },
   {
    "duration": 2623,
    "start_time": "2023-10-01T16:57:44.426Z"
   },
   {
    "duration": 85,
    "start_time": "2023-10-01T17:00:29.617Z"
   },
   {
    "duration": 178,
    "start_time": "2023-10-01T17:07:38.639Z"
   },
   {
    "duration": 46,
    "start_time": "2023-10-01T17:07:47.054Z"
   },
   {
    "duration": 730,
    "start_time": "2023-10-01T17:08:09.783Z"
   },
   {
    "duration": 191,
    "start_time": "2023-10-01T17:08:10.515Z"
   },
   {
    "duration": 51,
    "start_time": "2023-10-01T17:08:10.708Z"
   },
   {
    "duration": 9,
    "start_time": "2023-10-01T17:08:10.762Z"
   },
   {
    "duration": 29,
    "start_time": "2023-10-01T17:08:10.773Z"
   },
   {
    "duration": 46,
    "start_time": "2023-10-01T17:08:10.804Z"
   },
   {
    "duration": 15,
    "start_time": "2023-10-01T17:08:10.852Z"
   },
   {
    "duration": 23,
    "start_time": "2023-10-01T17:08:10.869Z"
   },
   {
    "duration": 7,
    "start_time": "2023-10-01T17:08:10.893Z"
   },
   {
    "duration": 22,
    "start_time": "2023-10-01T17:08:10.902Z"
   },
   {
    "duration": 216,
    "start_time": "2023-10-01T17:08:10.925Z"
   },
   {
    "duration": 7,
    "start_time": "2023-10-01T17:08:11.142Z"
   },
   {
    "duration": 84,
    "start_time": "2023-10-01T17:08:11.151Z"
   },
   {
    "duration": 9,
    "start_time": "2023-10-01T17:08:11.237Z"
   },
   {
    "duration": 303,
    "start_time": "2023-10-01T17:08:11.248Z"
   },
   {
    "duration": 10,
    "start_time": "2023-10-01T17:08:11.553Z"
   },
   {
    "duration": 448,
    "start_time": "2023-10-01T17:08:11.565Z"
   },
   {
    "duration": 9,
    "start_time": "2023-10-01T17:08:12.015Z"
   },
   {
    "duration": 272,
    "start_time": "2023-10-01T17:08:12.026Z"
   },
   {
    "duration": 16,
    "start_time": "2023-10-01T17:08:12.300Z"
   },
   {
    "duration": 13,
    "start_time": "2023-10-01T17:08:12.318Z"
   },
   {
    "duration": 10,
    "start_time": "2023-10-01T17:08:12.332Z"
   },
   {
    "duration": 345,
    "start_time": "2023-10-01T17:08:12.344Z"
   },
   {
    "duration": 306,
    "start_time": "2023-10-01T17:08:12.691Z"
   },
   {
    "duration": 470,
    "start_time": "2023-10-01T17:08:13.003Z"
   },
   {
    "duration": 0,
    "start_time": "2023-10-01T17:08:13.474Z"
   },
   {
    "duration": 66,
    "start_time": "2023-10-01T17:08:41.165Z"
   },
   {
    "duration": 55,
    "start_time": "2023-10-01T17:09:25.855Z"
   },
   {
    "duration": 52,
    "start_time": "2023-10-01T17:10:04.570Z"
   },
   {
    "duration": 46,
    "start_time": "2023-10-01T17:15:13.027Z"
   },
   {
    "duration": 84,
    "start_time": "2023-10-01T17:15:41.723Z"
   },
   {
    "duration": 45,
    "start_time": "2023-10-01T17:16:04.900Z"
   },
   {
    "duration": 49,
    "start_time": "2023-10-01T17:16:18.700Z"
   },
   {
    "duration": 57,
    "start_time": "2023-10-01T17:18:06.017Z"
   },
   {
    "duration": 718,
    "start_time": "2023-10-01T17:18:12.769Z"
   },
   {
    "duration": 193,
    "start_time": "2023-10-01T17:18:13.489Z"
   },
   {
    "duration": 45,
    "start_time": "2023-10-01T17:18:13.683Z"
   },
   {
    "duration": 6,
    "start_time": "2023-10-01T17:18:13.730Z"
   },
   {
    "duration": 46,
    "start_time": "2023-10-01T17:18:13.738Z"
   },
   {
    "duration": 33,
    "start_time": "2023-10-01T17:18:13.786Z"
   },
   {
    "duration": 19,
    "start_time": "2023-10-01T17:18:13.820Z"
   },
   {
    "duration": 18,
    "start_time": "2023-10-01T17:18:13.841Z"
   },
   {
    "duration": 27,
    "start_time": "2023-10-01T17:18:13.860Z"
   },
   {
    "duration": 23,
    "start_time": "2023-10-01T17:18:13.890Z"
   },
   {
    "duration": 193,
    "start_time": "2023-10-01T17:18:13.915Z"
   },
   {
    "duration": 7,
    "start_time": "2023-10-01T17:18:14.110Z"
   },
   {
    "duration": 128,
    "start_time": "2023-10-01T17:18:14.119Z"
   },
   {
    "duration": 8,
    "start_time": "2023-10-01T17:18:14.250Z"
   },
   {
    "duration": 199,
    "start_time": "2023-10-01T17:18:14.260Z"
   },
   {
    "duration": 8,
    "start_time": "2023-10-01T17:18:14.462Z"
   },
   {
    "duration": 509,
    "start_time": "2023-10-01T17:18:14.472Z"
   },
   {
    "duration": 9,
    "start_time": "2023-10-01T17:18:14.983Z"
   },
   {
    "duration": 343,
    "start_time": "2023-10-01T17:18:14.993Z"
   },
   {
    "duration": 17,
    "start_time": "2023-10-01T17:18:15.338Z"
   },
   {
    "duration": 151,
    "start_time": "2023-10-01T17:18:15.357Z"
   },
   {
    "duration": 312,
    "start_time": "2023-10-01T17:18:15.510Z"
   },
   {
    "duration": 392,
    "start_time": "2023-10-01T17:18:15.824Z"
   },
   {
    "duration": 473,
    "start_time": "2023-10-01T17:18:16.218Z"
   },
   {
    "duration": 53,
    "start_time": "2023-10-01T17:18:16.692Z"
   },
   {
    "duration": 83,
    "start_time": "2023-10-01T17:18:16.747Z"
   },
   {
    "duration": 1290,
    "start_time": "2023-10-01T17:18:41.267Z"
   },
   {
    "duration": 654,
    "start_time": "2023-10-01T17:19:01.261Z"
   },
   {
    "duration": 68,
    "start_time": "2023-10-01T17:19:01.917Z"
   },
   {
    "duration": 188,
    "start_time": "2023-10-01T17:19:01.987Z"
   },
   {
    "duration": 49,
    "start_time": "2023-10-01T17:19:02.177Z"
   },
   {
    "duration": 51,
    "start_time": "2023-10-01T17:19:02.228Z"
   },
   {
    "duration": 57,
    "start_time": "2023-10-01T17:19:02.281Z"
   },
   {
    "duration": 71,
    "start_time": "2023-10-01T17:19:02.340Z"
   },
   {
    "duration": 40,
    "start_time": "2023-10-01T17:19:02.413Z"
   },
   {
    "duration": 33,
    "start_time": "2023-10-01T17:19:02.455Z"
   },
   {
    "duration": 29,
    "start_time": "2023-10-01T17:19:02.490Z"
   },
   {
    "duration": 218,
    "start_time": "2023-10-01T17:19:02.521Z"
   },
   {
    "duration": 8,
    "start_time": "2023-10-01T17:19:02.741Z"
   },
   {
    "duration": 149,
    "start_time": "2023-10-01T17:19:02.750Z"
   },
   {
    "duration": 9,
    "start_time": "2023-10-01T17:19:02.901Z"
   },
   {
    "duration": 224,
    "start_time": "2023-10-01T17:19:02.911Z"
   },
   {
    "duration": 10,
    "start_time": "2023-10-01T17:19:03.137Z"
   },
   {
    "duration": 486,
    "start_time": "2023-10-01T17:19:03.148Z"
   },
   {
    "duration": 10,
    "start_time": "2023-10-01T17:19:03.636Z"
   },
   {
    "duration": 269,
    "start_time": "2023-10-01T17:19:03.647Z"
   },
   {
    "duration": 16,
    "start_time": "2023-10-01T17:19:03.918Z"
   },
   {
    "duration": 49,
    "start_time": "2023-10-01T17:19:03.936Z"
   },
   {
    "duration": 63,
    "start_time": "2023-10-01T17:19:03.987Z"
   },
   {
    "duration": 377,
    "start_time": "2023-10-01T17:19:04.052Z"
   },
   {
    "duration": 359,
    "start_time": "2023-10-01T17:19:04.430Z"
   },
   {
    "duration": 56,
    "start_time": "2023-10-01T17:19:04.790Z"
   },
   {
    "duration": 2259,
    "start_time": "2023-10-01T17:19:04.848Z"
   },
   {
    "duration": 1474,
    "start_time": "2023-10-01T17:20:16.910Z"
   },
   {
    "duration": 1279,
    "start_time": "2023-10-01T17:20:26.493Z"
   },
   {
    "duration": 48,
    "start_time": "2023-10-01T17:20:43.364Z"
   },
   {
    "duration": 521,
    "start_time": "2023-10-01T17:22:45.344Z"
   },
   {
    "duration": 26,
    "start_time": "2023-10-01T17:27:30.983Z"
   },
   {
    "duration": 29,
    "start_time": "2023-10-01T17:28:35.071Z"
   },
   {
    "duration": 34,
    "start_time": "2023-10-01T17:28:59.695Z"
   },
   {
    "duration": 52,
    "start_time": "2023-10-01T17:30:28.412Z"
   },
   {
    "duration": 20,
    "start_time": "2023-10-01T17:32:20.208Z"
   },
   {
    "duration": 30,
    "start_time": "2023-10-01T17:59:03.576Z"
   },
   {
    "duration": 29,
    "start_time": "2023-10-01T17:59:18.054Z"
   },
   {
    "duration": 21,
    "start_time": "2023-10-01T17:59:34.447Z"
   },
   {
    "duration": 41,
    "start_time": "2023-10-01T18:00:01.871Z"
   },
   {
    "duration": 38,
    "start_time": "2023-10-01T18:00:16.573Z"
   },
   {
    "duration": 21,
    "start_time": "2023-10-01T18:00:23.728Z"
   },
   {
    "duration": 24,
    "start_time": "2023-10-01T18:00:27.872Z"
   },
   {
    "duration": 30,
    "start_time": "2023-10-01T18:00:36.086Z"
   },
   {
    "duration": 21,
    "start_time": "2023-10-01T18:00:55.950Z"
   },
   {
    "duration": 31,
    "start_time": "2023-10-01T18:01:16.720Z"
   },
   {
    "duration": 34,
    "start_time": "2023-10-01T18:01:23.263Z"
   },
   {
    "duration": 24,
    "start_time": "2023-10-01T18:01:48.934Z"
   },
   {
    "duration": 29,
    "start_time": "2023-10-01T18:02:05.742Z"
   },
   {
    "duration": 34,
    "start_time": "2023-10-01T18:03:15.978Z"
   },
   {
    "duration": 30,
    "start_time": "2023-10-01T18:04:14.121Z"
   },
   {
    "duration": 12076,
    "start_time": "2023-10-01T18:04:21.729Z"
   },
   {
    "duration": 56,
    "start_time": "2023-10-01T18:06:42.541Z"
   },
   {
    "duration": 656,
    "start_time": "2023-10-01T18:07:05.527Z"
   },
   {
    "duration": 194,
    "start_time": "2023-10-01T18:07:06.185Z"
   },
   {
    "duration": 50,
    "start_time": "2023-10-01T18:07:06.380Z"
   },
   {
    "duration": 9,
    "start_time": "2023-10-01T18:07:06.432Z"
   },
   {
    "duration": 13,
    "start_time": "2023-10-01T18:07:06.442Z"
   },
   {
    "duration": 24,
    "start_time": "2023-10-01T18:07:06.457Z"
   },
   {
    "duration": 26,
    "start_time": "2023-10-01T18:07:06.483Z"
   },
   {
    "duration": 20,
    "start_time": "2023-10-01T18:07:06.511Z"
   },
   {
    "duration": 8,
    "start_time": "2023-10-01T18:07:06.533Z"
   },
   {
    "duration": 14,
    "start_time": "2023-10-01T18:07:06.545Z"
   },
   {
    "duration": 232,
    "start_time": "2023-10-01T18:07:06.561Z"
   },
   {
    "duration": 12,
    "start_time": "2023-10-01T18:07:06.794Z"
   },
   {
    "duration": 101,
    "start_time": "2023-10-01T18:07:06.808Z"
   },
   {
    "duration": 9,
    "start_time": "2023-10-01T18:07:06.910Z"
   },
   {
    "duration": 185,
    "start_time": "2023-10-01T18:07:06.920Z"
   },
   {
    "duration": 9,
    "start_time": "2023-10-01T18:07:07.106Z"
   },
   {
    "duration": 453,
    "start_time": "2023-10-01T18:07:07.116Z"
   },
   {
    "duration": 9,
    "start_time": "2023-10-01T18:07:07.571Z"
   },
   {
    "duration": 291,
    "start_time": "2023-10-01T18:07:07.582Z"
   },
   {
    "duration": 26,
    "start_time": "2023-10-01T18:07:07.875Z"
   },
   {
    "duration": 30,
    "start_time": "2023-10-01T18:07:07.903Z"
   },
   {
    "duration": 26,
    "start_time": "2023-10-01T18:07:07.934Z"
   },
   {
    "duration": 346,
    "start_time": "2023-10-01T18:07:07.962Z"
   },
   {
    "duration": 304,
    "start_time": "2023-10-01T18:07:08.310Z"
   },
   {
    "duration": 28,
    "start_time": "2023-10-01T18:07:08.615Z"
   },
   {
    "duration": 13501,
    "start_time": "2023-10-01T18:07:08.645Z"
   },
   {
    "duration": 24,
    "start_time": "2023-10-01T18:07:45.437Z"
   },
   {
    "duration": 26,
    "start_time": "2023-10-01T18:09:12.213Z"
   },
   {
    "duration": 207,
    "start_time": "2023-10-01T18:10:02.172Z"
   },
   {
    "duration": 49,
    "start_time": "2023-10-01T18:15:25.469Z"
   },
   {
    "duration": 707,
    "start_time": "2023-10-01T18:15:32.192Z"
   },
   {
    "duration": 188,
    "start_time": "2023-10-01T18:15:32.901Z"
   },
   {
    "duration": 70,
    "start_time": "2023-10-01T18:15:33.091Z"
   },
   {
    "duration": 8,
    "start_time": "2023-10-01T18:15:33.163Z"
   },
   {
    "duration": 17,
    "start_time": "2023-10-01T18:15:33.173Z"
   },
   {
    "duration": 22,
    "start_time": "2023-10-01T18:15:33.202Z"
   },
   {
    "duration": 24,
    "start_time": "2023-10-01T18:15:33.226Z"
   },
   {
    "duration": 25,
    "start_time": "2023-10-01T18:15:33.252Z"
   },
   {
    "duration": 26,
    "start_time": "2023-10-01T18:15:33.279Z"
   },
   {
    "duration": 21,
    "start_time": "2023-10-01T18:15:33.307Z"
   },
   {
    "duration": 192,
    "start_time": "2023-10-01T18:15:33.329Z"
   },
   {
    "duration": 8,
    "start_time": "2023-10-01T18:15:33.522Z"
   },
   {
    "duration": 204,
    "start_time": "2023-10-01T18:15:33.531Z"
   },
   {
    "duration": 9,
    "start_time": "2023-10-01T18:15:33.736Z"
   },
   {
    "duration": 230,
    "start_time": "2023-10-01T18:15:33.747Z"
   },
   {
    "duration": 21,
    "start_time": "2023-10-01T18:15:33.980Z"
   },
   {
    "duration": 452,
    "start_time": "2023-10-01T18:15:34.003Z"
   },
   {
    "duration": 10,
    "start_time": "2023-10-01T18:15:34.457Z"
   },
   {
    "duration": 369,
    "start_time": "2023-10-01T18:15:34.468Z"
   },
   {
    "duration": 17,
    "start_time": "2023-10-01T18:15:34.839Z"
   },
   {
    "duration": 57,
    "start_time": "2023-10-01T18:15:34.857Z"
   },
   {
    "duration": 53,
    "start_time": "2023-10-01T18:15:34.916Z"
   },
   {
    "duration": 346,
    "start_time": "2023-10-01T18:15:34.971Z"
   },
   {
    "duration": 307,
    "start_time": "2023-10-01T18:15:35.319Z"
   },
   {
    "duration": 25,
    "start_time": "2023-10-01T18:15:35.628Z"
   },
   {
    "duration": 9185,
    "start_time": "2023-10-01T18:15:35.655Z"
   },
   {
    "duration": 51,
    "start_time": "2023-10-01T18:18:47.274Z"
   },
   {
    "duration": 876,
    "start_time": "2023-10-01T18:18:58.430Z"
   },
   {
    "duration": 190,
    "start_time": "2023-10-01T18:18:59.308Z"
   },
   {
    "duration": 49,
    "start_time": "2023-10-01T18:18:59.503Z"
   },
   {
    "duration": 8,
    "start_time": "2023-10-01T18:18:59.554Z"
   },
   {
    "duration": 36,
    "start_time": "2023-10-01T18:18:59.564Z"
   },
   {
    "duration": 10,
    "start_time": "2023-10-01T18:18:59.602Z"
   },
   {
    "duration": 28,
    "start_time": "2023-10-01T18:18:59.614Z"
   },
   {
    "duration": 7,
    "start_time": "2023-10-01T18:18:59.644Z"
   },
   {
    "duration": 30,
    "start_time": "2023-10-01T18:18:59.655Z"
   },
   {
    "duration": 17,
    "start_time": "2023-10-01T18:18:59.686Z"
   },
   {
    "duration": 174,
    "start_time": "2023-10-01T18:18:59.704Z"
   },
   {
    "duration": 8,
    "start_time": "2023-10-01T18:18:59.880Z"
   },
   {
    "duration": 87,
    "start_time": "2023-10-01T18:18:59.889Z"
   },
   {
    "duration": 10,
    "start_time": "2023-10-01T18:18:59.978Z"
   },
   {
    "duration": 163,
    "start_time": "2023-10-01T18:19:00.001Z"
   },
   {
    "duration": 8,
    "start_time": "2023-10-01T18:19:00.166Z"
   },
   {
    "duration": 468,
    "start_time": "2023-10-01T18:19:00.176Z"
   },
   {
    "duration": 8,
    "start_time": "2023-10-01T18:19:00.646Z"
   },
   {
    "duration": 318,
    "start_time": "2023-10-01T18:19:00.655Z"
   },
   {
    "duration": 27,
    "start_time": "2023-10-01T18:19:00.974Z"
   },
   {
    "duration": 80,
    "start_time": "2023-10-01T18:19:01.003Z"
   },
   {
    "duration": 91,
    "start_time": "2023-10-01T18:19:01.085Z"
   },
   {
    "duration": 405,
    "start_time": "2023-10-01T18:19:01.179Z"
   },
   {
    "duration": 329,
    "start_time": "2023-10-01T18:19:01.586Z"
   },
   {
    "duration": 73,
    "start_time": "2023-10-01T18:19:01.917Z"
   },
   {
    "duration": 13849,
    "start_time": "2023-10-01T18:19:01.993Z"
   },
   {
    "duration": 1028,
    "start_time": "2023-10-02T18:38:46.273Z"
   },
   {
    "duration": 200,
    "start_time": "2023-10-02T18:38:47.303Z"
   },
   {
    "duration": 60,
    "start_time": "2023-10-02T18:38:47.505Z"
   },
   {
    "duration": 14,
    "start_time": "2023-10-02T18:38:47.568Z"
   },
   {
    "duration": 10,
    "start_time": "2023-10-02T18:38:47.584Z"
   },
   {
    "duration": 10,
    "start_time": "2023-10-02T18:38:47.596Z"
   },
   {
    "duration": 14,
    "start_time": "2023-10-02T18:38:47.608Z"
   },
   {
    "duration": 8,
    "start_time": "2023-10-02T18:38:47.623Z"
   },
   {
    "duration": 18,
    "start_time": "2023-10-02T18:38:47.633Z"
   },
   {
    "duration": 28,
    "start_time": "2023-10-02T18:38:47.654Z"
   },
   {
    "duration": 212,
    "start_time": "2023-10-02T18:38:47.683Z"
   },
   {
    "duration": 8,
    "start_time": "2023-10-02T18:38:47.897Z"
   },
   {
    "duration": 92,
    "start_time": "2023-10-02T18:38:47.906Z"
   },
   {
    "duration": 8,
    "start_time": "2023-10-02T18:38:48.000Z"
   },
   {
    "duration": 190,
    "start_time": "2023-10-02T18:38:48.010Z"
   },
   {
    "duration": 11,
    "start_time": "2023-10-02T18:38:48.202Z"
   },
   {
    "duration": 480,
    "start_time": "2023-10-02T18:38:48.215Z"
   },
   {
    "duration": 9,
    "start_time": "2023-10-02T18:38:48.697Z"
   },
   {
    "duration": 301,
    "start_time": "2023-10-02T18:38:48.708Z"
   },
   {
    "duration": 17,
    "start_time": "2023-10-02T18:38:49.011Z"
   },
   {
    "duration": 9,
    "start_time": "2023-10-02T18:38:49.030Z"
   },
   {
    "duration": 8,
    "start_time": "2023-10-02T18:38:49.041Z"
   },
   {
    "duration": 366,
    "start_time": "2023-10-02T18:38:49.050Z"
   },
   {
    "duration": 313,
    "start_time": "2023-10-02T18:38:49.418Z"
   },
   {
    "duration": 24,
    "start_time": "2023-10-02T18:38:49.733Z"
   },
   {
    "duration": 16015,
    "start_time": "2023-10-02T18:38:49.759Z"
   },
   {
    "duration": 21,
    "start_time": "2023-10-02T18:39:38.227Z"
   },
   {
    "duration": 84,
    "start_time": "2023-10-02T18:39:41.187Z"
   },
   {
    "duration": 91,
    "start_time": "2023-10-02T18:40:01.627Z"
   },
   {
    "duration": 21,
    "start_time": "2023-10-02T18:43:34.502Z"
   },
   {
    "duration": 96,
    "start_time": "2023-10-02T18:43:38.259Z"
   },
   {
    "duration": 20,
    "start_time": "2023-10-02T18:44:00.203Z"
   },
   {
    "duration": 18,
    "start_time": "2023-10-02T18:44:03.544Z"
   },
   {
    "duration": 35,
    "start_time": "2023-10-02T18:44:22.068Z"
   },
   {
    "duration": 31,
    "start_time": "2023-10-02T18:44:39.358Z"
   },
   {
    "duration": 22,
    "start_time": "2023-10-02T18:45:12.538Z"
   },
   {
    "duration": 28,
    "start_time": "2023-10-02T18:45:31.198Z"
   },
   {
    "duration": 1241,
    "start_time": "2023-10-02T18:45:51.412Z"
   },
   {
    "duration": 0,
    "start_time": "2023-10-02T18:46:58.835Z"
   },
   {
    "duration": 0,
    "start_time": "2023-10-02T18:46:58.836Z"
   },
   {
    "duration": 25,
    "start_time": "2023-10-02T18:47:04.636Z"
   },
   {
    "duration": 55,
    "start_time": "2023-10-02T18:47:46.350Z"
   },
   {
    "duration": 8,
    "start_time": "2023-10-02T18:50:24.018Z"
   },
   {
    "duration": 719,
    "start_time": "2023-10-02T18:50:32.962Z"
   },
   {
    "duration": 195,
    "start_time": "2023-10-02T18:50:33.684Z"
   },
   {
    "duration": 51,
    "start_time": "2023-10-02T18:50:33.882Z"
   },
   {
    "duration": 8,
    "start_time": "2023-10-02T18:50:33.936Z"
   },
   {
    "duration": 39,
    "start_time": "2023-10-02T18:50:33.946Z"
   },
   {
    "duration": 26,
    "start_time": "2023-10-02T18:50:33.987Z"
   },
   {
    "duration": 12,
    "start_time": "2023-10-02T18:50:34.016Z"
   },
   {
    "duration": 10,
    "start_time": "2023-10-02T18:50:34.030Z"
   },
   {
    "duration": 9,
    "start_time": "2023-10-02T18:50:34.041Z"
   },
   {
    "duration": 20,
    "start_time": "2023-10-02T18:50:34.053Z"
   },
   {
    "duration": 180,
    "start_time": "2023-10-02T18:50:34.074Z"
   },
   {
    "duration": 9,
    "start_time": "2023-10-02T18:50:34.256Z"
   },
   {
    "duration": 87,
    "start_time": "2023-10-02T18:50:34.266Z"
   },
   {
    "duration": 7,
    "start_time": "2023-10-02T18:50:34.356Z"
   },
   {
    "duration": 182,
    "start_time": "2023-10-02T18:50:34.364Z"
   },
   {
    "duration": 9,
    "start_time": "2023-10-02T18:50:34.548Z"
   },
   {
    "duration": 490,
    "start_time": "2023-10-02T18:50:34.558Z"
   },
   {
    "duration": 9,
    "start_time": "2023-10-02T18:50:35.050Z"
   },
   {
    "duration": 282,
    "start_time": "2023-10-02T18:50:35.060Z"
   },
   {
    "duration": 17,
    "start_time": "2023-10-02T18:50:35.344Z"
   },
   {
    "duration": 9,
    "start_time": "2023-10-02T18:50:35.382Z"
   },
   {
    "duration": 10,
    "start_time": "2023-10-02T18:50:35.393Z"
   },
   {
    "duration": 323,
    "start_time": "2023-10-02T18:50:35.404Z"
   },
   {
    "duration": 380,
    "start_time": "2023-10-02T18:50:35.728Z"
   },
   {
    "duration": 25,
    "start_time": "2023-10-02T18:50:36.109Z"
   },
   {
    "duration": 14592,
    "start_time": "2023-10-02T18:50:36.136Z"
   },
   {
    "duration": 14,
    "start_time": "2023-10-02T18:51:41.696Z"
   },
   {
    "duration": 19,
    "start_time": "2023-10-02T18:52:11.779Z"
   },
   {
    "duration": 27,
    "start_time": "2023-10-02T18:52:24.852Z"
   },
   {
    "duration": 13,
    "start_time": "2023-10-02T18:52:52.424Z"
   },
   {
    "duration": 12476,
    "start_time": "2023-10-02T18:53:51.416Z"
   },
   {
    "duration": 12451,
    "start_time": "2023-10-02T18:54:16.494Z"
   },
   {
    "duration": 26,
    "start_time": "2023-10-02T18:55:05.249Z"
   },
   {
    "duration": 13958,
    "start_time": "2023-10-02T18:56:06.313Z"
   },
   {
    "duration": 67,
    "start_time": "2023-10-02T19:04:47.994Z"
   },
   {
    "duration": 764,
    "start_time": "2023-10-02T19:05:36.541Z"
   },
   {
    "duration": 198,
    "start_time": "2023-10-02T19:05:37.307Z"
   },
   {
    "duration": 50,
    "start_time": "2023-10-02T19:05:37.507Z"
   },
   {
    "duration": 7,
    "start_time": "2023-10-02T19:05:37.560Z"
   },
   {
    "duration": 12,
    "start_time": "2023-10-02T19:05:37.569Z"
   },
   {
    "duration": 10,
    "start_time": "2023-10-02T19:05:37.582Z"
   },
   {
    "duration": 23,
    "start_time": "2023-10-02T19:05:37.594Z"
   },
   {
    "duration": 23,
    "start_time": "2023-10-02T19:05:37.619Z"
   },
   {
    "duration": 26,
    "start_time": "2023-10-02T19:05:37.644Z"
   },
   {
    "duration": 13,
    "start_time": "2023-10-02T19:05:37.672Z"
   },
   {
    "duration": 196,
    "start_time": "2023-10-02T19:05:37.687Z"
   },
   {
    "duration": 7,
    "start_time": "2023-10-02T19:05:37.885Z"
   },
   {
    "duration": 91,
    "start_time": "2023-10-02T19:05:37.894Z"
   },
   {
    "duration": 8,
    "start_time": "2023-10-02T19:05:37.987Z"
   },
   {
    "duration": 190,
    "start_time": "2023-10-02T19:05:37.997Z"
   },
   {
    "duration": 10,
    "start_time": "2023-10-02T19:05:38.188Z"
   },
   {
    "duration": 473,
    "start_time": "2023-10-02T19:05:38.199Z"
   },
   {
    "duration": 15,
    "start_time": "2023-10-02T19:05:38.674Z"
   },
   {
    "duration": 284,
    "start_time": "2023-10-02T19:05:38.691Z"
   },
   {
    "duration": 18,
    "start_time": "2023-10-02T19:05:38.977Z"
   },
   {
    "duration": 10,
    "start_time": "2023-10-02T19:05:38.997Z"
   },
   {
    "duration": 14,
    "start_time": "2023-10-02T19:05:39.009Z"
   },
   {
    "duration": 364,
    "start_time": "2023-10-02T19:05:39.024Z"
   },
   {
    "duration": 327,
    "start_time": "2023-10-02T19:05:39.390Z"
   },
   {
    "duration": 26,
    "start_time": "2023-10-02T19:05:39.719Z"
   },
   {
    "duration": 14056,
    "start_time": "2023-10-02T19:05:39.747Z"
   },
   {
    "duration": 1093,
    "start_time": "2023-10-03T06:49:51.894Z"
   },
   {
    "duration": 44,
    "start_time": "2023-10-03T06:49:52.989Z"
   },
   {
    "duration": 98,
    "start_time": "2023-10-03T06:49:53.035Z"
   },
   {
    "duration": 0,
    "start_time": "2023-10-03T06:49:53.135Z"
   },
   {
    "duration": 0,
    "start_time": "2023-10-03T06:49:53.136Z"
   },
   {
    "duration": 0,
    "start_time": "2023-10-03T06:49:53.139Z"
   },
   {
    "duration": 0,
    "start_time": "2023-10-03T06:49:53.141Z"
   },
   {
    "duration": 0,
    "start_time": "2023-10-03T06:49:53.142Z"
   },
   {
    "duration": 0,
    "start_time": "2023-10-03T06:49:53.143Z"
   },
   {
    "duration": 0,
    "start_time": "2023-10-03T06:49:53.149Z"
   },
   {
    "duration": 0,
    "start_time": "2023-10-03T06:49:53.151Z"
   },
   {
    "duration": 0,
    "start_time": "2023-10-03T06:49:53.152Z"
   },
   {
    "duration": 0,
    "start_time": "2023-10-03T06:49:53.154Z"
   },
   {
    "duration": 0,
    "start_time": "2023-10-03T06:49:53.156Z"
   },
   {
    "duration": 0,
    "start_time": "2023-10-03T06:49:53.157Z"
   },
   {
    "duration": 0,
    "start_time": "2023-10-03T06:49:53.158Z"
   },
   {
    "duration": 0,
    "start_time": "2023-10-03T06:49:53.159Z"
   },
   {
    "duration": 0,
    "start_time": "2023-10-03T06:49:53.161Z"
   },
   {
    "duration": 0,
    "start_time": "2023-10-03T06:49:53.162Z"
   },
   {
    "duration": 0,
    "start_time": "2023-10-03T06:49:53.163Z"
   },
   {
    "duration": 0,
    "start_time": "2023-10-03T06:49:53.164Z"
   },
   {
    "duration": 0,
    "start_time": "2023-10-03T06:49:53.164Z"
   },
   {
    "duration": 0,
    "start_time": "2023-10-03T06:49:53.165Z"
   },
   {
    "duration": 0,
    "start_time": "2023-10-03T06:49:53.166Z"
   },
   {
    "duration": 0,
    "start_time": "2023-10-03T06:49:53.167Z"
   },
   {
    "duration": 0,
    "start_time": "2023-10-03T06:49:53.168Z"
   },
   {
    "duration": 0,
    "start_time": "2023-10-03T06:49:53.169Z"
   },
   {
    "duration": 0,
    "start_time": "2023-10-03T06:49:53.169Z"
   },
   {
    "duration": 0,
    "start_time": "2023-10-03T06:49:53.170Z"
   },
   {
    "duration": 46,
    "start_time": "2023-10-03T09:04:14.661Z"
   },
   {
    "duration": 1241,
    "start_time": "2023-10-03T09:04:18.087Z"
   },
   {
    "duration": 1013,
    "start_time": "2023-10-03T09:04:36.381Z"
   },
   {
    "duration": 209,
    "start_time": "2023-10-03T09:04:37.396Z"
   },
   {
    "duration": 43,
    "start_time": "2023-10-03T09:04:37.606Z"
   },
   {
    "duration": 13,
    "start_time": "2023-10-03T09:04:37.651Z"
   },
   {
    "duration": 66,
    "start_time": "2023-10-03T09:04:37.665Z"
   },
   {
    "duration": 39,
    "start_time": "2023-10-03T09:04:37.733Z"
   },
   {
    "duration": 49,
    "start_time": "2023-10-03T09:04:37.774Z"
   },
   {
    "duration": 36,
    "start_time": "2023-10-03T09:04:37.824Z"
   },
   {
    "duration": 14,
    "start_time": "2023-10-03T09:04:37.862Z"
   },
   {
    "duration": 34,
    "start_time": "2023-10-03T09:04:37.878Z"
   },
   {
    "duration": 151,
    "start_time": "2023-10-03T09:04:37.913Z"
   },
   {
    "duration": 7,
    "start_time": "2023-10-03T09:04:38.065Z"
   },
   {
    "duration": 116,
    "start_time": "2023-10-03T09:04:38.073Z"
   },
   {
    "duration": 7,
    "start_time": "2023-10-03T09:04:38.190Z"
   },
   {
    "duration": 306,
    "start_time": "2023-10-03T09:04:38.199Z"
   },
   {
    "duration": 7,
    "start_time": "2023-10-03T09:04:38.506Z"
   },
   {
    "duration": 363,
    "start_time": "2023-10-03T09:04:38.515Z"
   },
   {
    "duration": 9,
    "start_time": "2023-10-03T09:04:38.880Z"
   },
   {
    "duration": 248,
    "start_time": "2023-10-03T09:04:38.890Z"
   },
   {
    "duration": 20,
    "start_time": "2023-10-03T09:04:39.140Z"
   },
   {
    "duration": 15,
    "start_time": "2023-10-03T09:04:39.162Z"
   },
   {
    "duration": 27,
    "start_time": "2023-10-03T09:04:39.179Z"
   },
   {
    "duration": 369,
    "start_time": "2023-10-03T09:04:39.207Z"
   },
   {
    "duration": 258,
    "start_time": "2023-10-03T09:04:39.578Z"
   },
   {
    "duration": 28,
    "start_time": "2023-10-03T09:04:39.838Z"
   },
   {
    "duration": 131,
    "start_time": "2023-10-03T09:04:39.868Z"
   },
   {
    "duration": 10,
    "start_time": "2023-10-03T09:04:40.000Z"
   },
   {
    "duration": 21,
    "start_time": "2023-10-03T09:04:40.013Z"
   },
   {
    "duration": 14,
    "start_time": "2023-10-03T09:04:40.035Z"
   },
   {
    "duration": 186,
    "start_time": "2023-10-03T09:05:58.836Z"
   },
   {
    "duration": 1143,
    "start_time": "2023-10-03T09:06:23.253Z"
   },
   {
    "duration": 73,
    "start_time": "2023-10-03T09:06:24.398Z"
   },
   {
    "duration": 45,
    "start_time": "2023-10-03T09:06:24.472Z"
   },
   {
    "duration": 8,
    "start_time": "2023-10-03T09:06:24.519Z"
   },
   {
    "duration": 26,
    "start_time": "2023-10-03T09:06:24.528Z"
   },
   {
    "duration": 10,
    "start_time": "2023-10-03T09:06:24.555Z"
   },
   {
    "duration": 14,
    "start_time": "2023-10-03T09:06:24.567Z"
   },
   {
    "duration": 40,
    "start_time": "2023-10-03T09:06:24.582Z"
   },
   {
    "duration": 14,
    "start_time": "2023-10-03T09:06:24.623Z"
   },
   {
    "duration": 29,
    "start_time": "2023-10-03T09:06:24.639Z"
   },
   {
    "duration": 178,
    "start_time": "2023-10-03T09:06:24.669Z"
   },
   {
    "duration": 7,
    "start_time": "2023-10-03T09:06:24.849Z"
   },
   {
    "duration": 74,
    "start_time": "2023-10-03T09:06:24.857Z"
   },
   {
    "duration": 23,
    "start_time": "2023-10-03T09:06:24.933Z"
   },
   {
    "duration": 155,
    "start_time": "2023-10-03T09:06:24.958Z"
   },
   {
    "duration": 8,
    "start_time": "2023-10-03T09:06:25.114Z"
   },
   {
    "duration": 354,
    "start_time": "2023-10-03T09:06:25.124Z"
   },
   {
    "duration": 8,
    "start_time": "2023-10-03T09:06:25.480Z"
   },
   {
    "duration": 302,
    "start_time": "2023-10-03T09:06:25.489Z"
   },
   {
    "duration": 14,
    "start_time": "2023-10-03T09:06:25.793Z"
   },
   {
    "duration": 47,
    "start_time": "2023-10-03T09:06:25.809Z"
   },
   {
    "duration": 31,
    "start_time": "2023-10-03T09:06:25.858Z"
   },
   {
    "duration": 450,
    "start_time": "2023-10-03T09:06:25.891Z"
   },
   {
    "duration": 287,
    "start_time": "2023-10-03T09:06:26.342Z"
   },
   {
    "duration": 30,
    "start_time": "2023-10-03T09:06:26.630Z"
   },
   {
    "duration": 130,
    "start_time": "2023-10-03T09:06:26.661Z"
   },
   {
    "duration": 10,
    "start_time": "2023-10-03T09:06:26.793Z"
   },
   {
    "duration": 27,
    "start_time": "2023-10-03T09:06:26.806Z"
   },
   {
    "duration": 14,
    "start_time": "2023-10-03T09:06:26.834Z"
   },
   {
    "duration": 1119,
    "start_time": "2023-10-03T17:36:36.580Z"
   },
   {
    "duration": 191,
    "start_time": "2023-10-03T17:36:37.701Z"
   },
   {
    "duration": 43,
    "start_time": "2023-10-03T17:36:37.893Z"
   },
   {
    "duration": 6,
    "start_time": "2023-10-03T17:36:37.938Z"
   },
   {
    "duration": 9,
    "start_time": "2023-10-03T17:36:37.946Z"
   },
   {
    "duration": 8,
    "start_time": "2023-10-03T17:36:37.957Z"
   },
   {
    "duration": 26,
    "start_time": "2023-10-03T17:36:37.966Z"
   },
   {
    "duration": 5,
    "start_time": "2023-10-03T17:36:37.994Z"
   },
   {
    "duration": 9,
    "start_time": "2023-10-03T17:36:38.001Z"
   },
   {
    "duration": 7,
    "start_time": "2023-10-03T17:36:38.011Z"
   },
   {
    "duration": 178,
    "start_time": "2023-10-03T17:36:38.020Z"
   },
   {
    "duration": 7,
    "start_time": "2023-10-03T17:36:38.200Z"
   },
   {
    "duration": 86,
    "start_time": "2023-10-03T17:36:38.209Z"
   },
   {
    "duration": 8,
    "start_time": "2023-10-03T17:36:38.298Z"
   },
   {
    "duration": 166,
    "start_time": "2023-10-03T17:36:38.307Z"
   },
   {
    "duration": 8,
    "start_time": "2023-10-03T17:36:38.474Z"
   },
   {
    "duration": 362,
    "start_time": "2023-10-03T17:36:38.484Z"
   },
   {
    "duration": 7,
    "start_time": "2023-10-03T17:36:38.848Z"
   },
   {
    "duration": 260,
    "start_time": "2023-10-03T17:36:38.857Z"
   },
   {
    "duration": 15,
    "start_time": "2023-10-03T17:36:39.118Z"
   },
   {
    "duration": 7,
    "start_time": "2023-10-03T17:36:39.143Z"
   },
   {
    "duration": 6,
    "start_time": "2023-10-03T17:36:39.151Z"
   },
   {
    "duration": 383,
    "start_time": "2023-10-03T17:36:39.158Z"
   },
   {
    "duration": 269,
    "start_time": "2023-10-03T17:36:39.543Z"
   },
   {
    "duration": 30,
    "start_time": "2023-10-03T17:36:39.814Z"
   },
   {
    "duration": 140,
    "start_time": "2023-10-03T17:36:39.846Z"
   },
   {
    "duration": 12,
    "start_time": "2023-10-03T17:36:39.988Z"
   },
   {
    "duration": 26,
    "start_time": "2023-10-03T17:36:40.002Z"
   },
   {
    "duration": 22,
    "start_time": "2023-10-03T17:36:40.030Z"
   },
   {
    "duration": 18,
    "start_time": "2023-10-03T17:49:01.820Z"
   },
   {
    "duration": 18,
    "start_time": "2023-10-03T17:49:08.397Z"
   },
   {
    "duration": 19,
    "start_time": "2023-10-03T17:49:22.037Z"
   },
   {
    "duration": 17,
    "start_time": "2023-10-03T17:49:25.672Z"
   },
   {
    "duration": 10,
    "start_time": "2023-10-03T17:50:41.652Z"
   },
   {
    "duration": 124,
    "start_time": "2023-10-03T19:17:35.346Z"
   },
   {
    "duration": 59,
    "start_time": "2023-10-03T19:27:55.879Z"
   },
   {
    "duration": 1250,
    "start_time": "2023-10-04T08:21:17.331Z"
   },
   {
    "duration": 77,
    "start_time": "2023-10-04T08:21:18.583Z"
   },
   {
    "duration": 51,
    "start_time": "2023-10-04T08:21:18.662Z"
   },
   {
    "duration": 3,
    "start_time": "2023-10-04T08:21:18.716Z"
   },
   {
    "duration": 12,
    "start_time": "2023-10-04T08:21:18.721Z"
   },
   {
    "duration": 9,
    "start_time": "2023-10-04T08:21:18.735Z"
   },
   {
    "duration": 11,
    "start_time": "2023-10-04T08:21:18.746Z"
   },
   {
    "duration": 11,
    "start_time": "2023-10-04T08:21:18.760Z"
   },
   {
    "duration": 48,
    "start_time": "2023-10-04T08:21:18.772Z"
   },
   {
    "duration": 11,
    "start_time": "2023-10-04T08:21:18.825Z"
   },
   {
    "duration": 247,
    "start_time": "2023-10-04T08:21:18.838Z"
   },
   {
    "duration": 5,
    "start_time": "2023-10-04T08:21:19.088Z"
   },
   {
    "duration": 31,
    "start_time": "2023-10-04T08:21:19.095Z"
   },
   {
    "duration": 110,
    "start_time": "2023-10-04T08:21:19.128Z"
   },
   {
    "duration": 9,
    "start_time": "2023-10-04T08:21:19.242Z"
   },
   {
    "duration": 231,
    "start_time": "2023-10-04T08:21:19.252Z"
   },
   {
    "duration": 9,
    "start_time": "2023-10-04T08:21:19.484Z"
   },
   {
    "duration": 468,
    "start_time": "2023-10-04T08:21:19.510Z"
   },
   {
    "duration": 9,
    "start_time": "2023-10-04T08:21:19.979Z"
   },
   {
    "duration": 345,
    "start_time": "2023-10-04T08:21:19.990Z"
   },
   {
    "duration": 16,
    "start_time": "2023-10-04T08:21:20.337Z"
   },
   {
    "duration": 8,
    "start_time": "2023-10-04T08:21:20.355Z"
   },
   {
    "duration": 6,
    "start_time": "2023-10-04T08:21:20.365Z"
   },
   {
    "duration": 6,
    "start_time": "2023-10-04T08:21:20.373Z"
   },
   {
    "duration": 519,
    "start_time": "2023-10-04T08:21:20.409Z"
   },
   {
    "duration": 386,
    "start_time": "2023-10-04T08:21:20.930Z"
   },
   {
    "duration": 32,
    "start_time": "2023-10-04T08:21:21.318Z"
   },
   {
    "duration": 188,
    "start_time": "2023-10-04T08:21:21.354Z"
   },
   {
    "duration": 12,
    "start_time": "2023-10-04T08:21:21.544Z"
   },
   {
    "duration": 19,
    "start_time": "2023-10-04T08:21:21.558Z"
   },
   {
    "duration": 31,
    "start_time": "2023-10-04T08:21:21.579Z"
   },
   {
    "duration": 1275,
    "start_time": "2023-10-04T08:24:11.840Z"
   },
   {
    "duration": 80,
    "start_time": "2023-10-04T08:24:13.118Z"
   },
   {
    "duration": 62,
    "start_time": "2023-10-04T08:24:13.199Z"
   },
   {
    "duration": 3,
    "start_time": "2023-10-04T08:24:13.263Z"
   },
   {
    "duration": 23,
    "start_time": "2023-10-04T08:24:13.268Z"
   },
   {
    "duration": 27,
    "start_time": "2023-10-04T08:24:13.293Z"
   },
   {
    "duration": 16,
    "start_time": "2023-10-04T08:24:13.322Z"
   },
   {
    "duration": 7,
    "start_time": "2023-10-04T08:24:13.340Z"
   },
   {
    "duration": 6,
    "start_time": "2023-10-04T08:24:13.349Z"
   },
   {
    "duration": 9,
    "start_time": "2023-10-04T08:24:13.357Z"
   },
   {
    "duration": 265,
    "start_time": "2023-10-04T08:24:13.368Z"
   },
   {
    "duration": 6,
    "start_time": "2023-10-04T08:24:13.635Z"
   },
   {
    "duration": 21,
    "start_time": "2023-10-04T08:24:13.643Z"
   },
   {
    "duration": 117,
    "start_time": "2023-10-04T08:24:13.666Z"
   },
   {
    "duration": 9,
    "start_time": "2023-10-04T08:24:13.785Z"
   },
   {
    "duration": 250,
    "start_time": "2023-10-04T08:24:13.796Z"
   },
   {
    "duration": 10,
    "start_time": "2023-10-04T08:24:14.048Z"
   },
   {
    "duration": 508,
    "start_time": "2023-10-04T08:24:14.060Z"
   },
   {
    "duration": 11,
    "start_time": "2023-10-04T08:24:14.570Z"
   },
   {
    "duration": 352,
    "start_time": "2023-10-04T08:24:14.583Z"
   },
   {
    "duration": 17,
    "start_time": "2023-10-04T08:24:14.937Z"
   },
   {
    "duration": 10,
    "start_time": "2023-10-04T08:24:14.955Z"
   },
   {
    "duration": 22,
    "start_time": "2023-10-04T08:24:14.967Z"
   },
   {
    "duration": 4,
    "start_time": "2023-10-04T08:24:14.991Z"
   },
   {
    "duration": 559,
    "start_time": "2023-10-04T08:24:14.997Z"
   },
   {
    "duration": 364,
    "start_time": "2023-10-04T08:24:15.557Z"
   },
   {
    "duration": 29,
    "start_time": "2023-10-04T08:24:15.924Z"
   },
   {
    "duration": 174,
    "start_time": "2023-10-04T08:24:15.956Z"
   },
   {
    "duration": 12,
    "start_time": "2023-10-04T08:24:16.132Z"
   },
   {
    "duration": 129,
    "start_time": "2023-10-04T08:24:16.146Z"
   },
   {
    "duration": 0,
    "start_time": "2023-10-04T08:24:16.277Z"
   },
   {
    "duration": 0,
    "start_time": "2023-10-04T08:24:16.278Z"
   },
   {
    "duration": 0,
    "start_time": "2023-10-04T08:24:16.280Z"
   },
   {
    "duration": 21,
    "start_time": "2023-10-04T08:24:24.326Z"
   },
   {
    "duration": 22,
    "start_time": "2023-10-04T08:24:31.991Z"
   },
   {
    "duration": 7,
    "start_time": "2023-10-04T08:24:39.800Z"
   },
   {
    "duration": 10,
    "start_time": "2023-10-04T08:25:13.060Z"
   },
   {
    "duration": 28,
    "start_time": "2023-10-04T08:26:02.203Z"
   },
   {
    "duration": 23,
    "start_time": "2023-10-04T08:26:33.576Z"
   },
   {
    "duration": 7,
    "start_time": "2023-10-04T08:26:46.355Z"
   },
   {
    "duration": 10,
    "start_time": "2023-10-04T08:27:12.456Z"
   },
   {
    "duration": 8,
    "start_time": "2023-10-04T08:27:25.565Z"
   },
   {
    "duration": 15,
    "start_time": "2023-10-04T08:27:34.813Z"
   },
   {
    "duration": 7,
    "start_time": "2023-10-04T08:28:23.472Z"
   },
   {
    "duration": 7,
    "start_time": "2023-10-04T08:28:51.671Z"
   },
   {
    "duration": 6,
    "start_time": "2023-10-04T08:29:10.385Z"
   },
   {
    "duration": 18,
    "start_time": "2023-10-04T08:29:37.301Z"
   },
   {
    "duration": 17,
    "start_time": "2023-10-04T08:29:50.220Z"
   },
   {
    "duration": 1241,
    "start_time": "2023-10-04T08:31:08.174Z"
   },
   {
    "duration": 82,
    "start_time": "2023-10-04T08:31:09.418Z"
   },
   {
    "duration": 171,
    "start_time": "2023-10-04T08:31:09.502Z"
   },
   {
    "duration": 3,
    "start_time": "2023-10-04T08:31:09.675Z"
   },
   {
    "duration": 10,
    "start_time": "2023-10-04T08:31:09.680Z"
   },
   {
    "duration": 37,
    "start_time": "2023-10-04T08:31:09.692Z"
   },
   {
    "duration": 14,
    "start_time": "2023-10-04T08:31:09.731Z"
   },
   {
    "duration": 5,
    "start_time": "2023-10-04T08:31:09.747Z"
   },
   {
    "duration": 27,
    "start_time": "2023-10-04T08:31:09.754Z"
   },
   {
    "duration": 24,
    "start_time": "2023-10-04T08:31:09.783Z"
   },
   {
    "duration": 238,
    "start_time": "2023-10-04T08:31:09.809Z"
   },
   {
    "duration": 5,
    "start_time": "2023-10-04T08:31:10.049Z"
   },
   {
    "duration": 47,
    "start_time": "2023-10-04T08:31:10.056Z"
   },
   {
    "duration": 126,
    "start_time": "2023-10-04T08:31:10.107Z"
   },
   {
    "duration": 9,
    "start_time": "2023-10-04T08:31:10.235Z"
   },
   {
    "duration": 247,
    "start_time": "2023-10-04T08:31:10.246Z"
   },
   {
    "duration": 17,
    "start_time": "2023-10-04T08:31:10.495Z"
   },
   {
    "duration": 474,
    "start_time": "2023-10-04T08:31:10.514Z"
   },
   {
    "duration": 19,
    "start_time": "2023-10-04T08:31:10.990Z"
   },
   {
    "duration": 341,
    "start_time": "2023-10-04T08:31:11.012Z"
   },
   {
    "duration": 20,
    "start_time": "2023-10-04T08:31:11.355Z"
   },
   {
    "duration": 11,
    "start_time": "2023-10-04T08:31:11.378Z"
   },
   {
    "duration": 12,
    "start_time": "2023-10-04T08:31:11.410Z"
   },
   {
    "duration": 7,
    "start_time": "2023-10-04T08:31:11.424Z"
   },
   {
    "duration": 535,
    "start_time": "2023-10-04T08:31:11.433Z"
   },
   {
    "duration": 405,
    "start_time": "2023-10-04T08:31:11.970Z"
   },
   {
    "duration": 53,
    "start_time": "2023-10-04T08:31:12.377Z"
   },
   {
    "duration": 216,
    "start_time": "2023-10-04T08:31:12.433Z"
   },
   {
    "duration": 18,
    "start_time": "2023-10-04T08:31:12.651Z"
   },
   {
    "duration": 11,
    "start_time": "2023-10-04T08:31:12.671Z"
   },
   {
    "duration": 43,
    "start_time": "2023-10-04T08:31:12.684Z"
   },
   {
    "duration": 113,
    "start_time": "2023-10-04T08:33:01.492Z"
   },
   {
    "duration": 14,
    "start_time": "2023-10-04T08:33:28.098Z"
   },
   {
    "duration": 11,
    "start_time": "2023-10-04T08:33:33.482Z"
   },
   {
    "duration": 49,
    "start_time": "2023-10-04T10:22:15.290Z"
   },
   {
    "duration": 8,
    "start_time": "2023-10-04T10:22:23.312Z"
   },
   {
    "duration": 1357,
    "start_time": "2023-10-04T10:22:34.176Z"
   },
   {
    "duration": 195,
    "start_time": "2023-10-04T10:22:35.535Z"
   },
   {
    "duration": 52,
    "start_time": "2023-10-04T10:22:35.732Z"
   },
   {
    "duration": 2,
    "start_time": "2023-10-04T10:22:35.786Z"
   },
   {
    "duration": 18,
    "start_time": "2023-10-04T10:22:35.789Z"
   },
   {
    "duration": 38,
    "start_time": "2023-10-04T10:22:35.808Z"
   },
   {
    "duration": 12,
    "start_time": "2023-10-04T10:22:35.848Z"
   },
   {
    "duration": 7,
    "start_time": "2023-10-04T10:22:35.862Z"
   },
   {
    "duration": 11,
    "start_time": "2023-10-04T10:22:35.871Z"
   },
   {
    "duration": 54,
    "start_time": "2023-10-04T10:22:35.884Z"
   },
   {
    "duration": 217,
    "start_time": "2023-10-04T10:22:35.939Z"
   },
   {
    "duration": 5,
    "start_time": "2023-10-04T10:22:36.158Z"
   },
   {
    "duration": 33,
    "start_time": "2023-10-04T10:22:36.165Z"
   },
   {
    "duration": 94,
    "start_time": "2023-10-04T10:22:36.199Z"
   },
   {
    "duration": 8,
    "start_time": "2023-10-04T10:22:36.294Z"
   },
   {
    "duration": 204,
    "start_time": "2023-10-04T10:22:36.304Z"
   },
   {
    "duration": 8,
    "start_time": "2023-10-04T10:22:36.510Z"
   },
   {
    "duration": 453,
    "start_time": "2023-10-04T10:22:36.520Z"
   },
   {
    "duration": 9,
    "start_time": "2023-10-04T10:22:36.975Z"
   },
   {
    "duration": 305,
    "start_time": "2023-10-04T10:22:36.986Z"
   },
   {
    "duration": 15,
    "start_time": "2023-10-04T10:22:37.293Z"
   },
   {
    "duration": 9,
    "start_time": "2023-10-04T10:22:37.309Z"
   },
   {
    "duration": 26,
    "start_time": "2023-10-04T10:22:37.319Z"
   },
   {
    "duration": 22,
    "start_time": "2023-10-04T10:22:37.347Z"
   },
   {
    "duration": 455,
    "start_time": "2023-10-04T10:22:37.371Z"
   },
   {
    "duration": 340,
    "start_time": "2023-10-04T10:22:37.827Z"
   },
   {
    "duration": 26,
    "start_time": "2023-10-04T10:22:38.169Z"
   },
   {
    "duration": 150,
    "start_time": "2023-10-04T10:22:38.198Z"
   },
   {
    "duration": 10,
    "start_time": "2023-10-04T10:22:38.350Z"
   },
   {
    "duration": 35,
    "start_time": "2023-10-04T10:22:38.362Z"
   },
   {
    "duration": 23,
    "start_time": "2023-10-04T10:22:38.398Z"
   },
   {
    "duration": 10,
    "start_time": "2023-10-04T10:29:17.322Z"
   },
   {
    "duration": 1197,
    "start_time": "2023-10-04T10:31:42.758Z"
   },
   {
    "duration": 72,
    "start_time": "2023-10-04T10:31:43.957Z"
   },
   {
    "duration": 61,
    "start_time": "2023-10-04T10:31:44.031Z"
   },
   {
    "duration": 2,
    "start_time": "2023-10-04T10:31:44.095Z"
   },
   {
    "duration": 44,
    "start_time": "2023-10-04T10:31:44.098Z"
   },
   {
    "duration": 36,
    "start_time": "2023-10-04T10:31:44.144Z"
   },
   {
    "duration": 55,
    "start_time": "2023-10-04T10:31:44.182Z"
   },
   {
    "duration": 31,
    "start_time": "2023-10-04T10:31:44.239Z"
   },
   {
    "duration": 41,
    "start_time": "2023-10-04T10:31:44.273Z"
   },
   {
    "duration": 22,
    "start_time": "2023-10-04T10:31:44.317Z"
   },
   {
    "duration": 253,
    "start_time": "2023-10-04T10:31:44.340Z"
   },
   {
    "duration": 6,
    "start_time": "2023-10-04T10:31:44.595Z"
   },
   {
    "duration": 25,
    "start_time": "2023-10-04T10:31:44.603Z"
   },
   {
    "duration": 101,
    "start_time": "2023-10-04T10:31:44.630Z"
   },
   {
    "duration": 12,
    "start_time": "2023-10-04T10:31:44.733Z"
   },
   {
    "duration": 226,
    "start_time": "2023-10-04T10:31:44.746Z"
   },
   {
    "duration": 9,
    "start_time": "2023-10-04T10:31:44.974Z"
   },
   {
    "duration": 512,
    "start_time": "2023-10-04T10:31:44.985Z"
   },
   {
    "duration": 9,
    "start_time": "2023-10-04T10:31:45.498Z"
   },
   {
    "duration": 295,
    "start_time": "2023-10-04T10:31:45.508Z"
   },
   {
    "duration": 15,
    "start_time": "2023-10-04T10:31:45.806Z"
   },
   {
    "duration": 23,
    "start_time": "2023-10-04T10:31:45.824Z"
   },
   {
    "duration": 37,
    "start_time": "2023-10-04T10:31:45.849Z"
   },
   {
    "duration": 18,
    "start_time": "2023-10-04T10:31:45.888Z"
   },
   {
    "duration": 479,
    "start_time": "2023-10-04T10:31:45.908Z"
   },
   {
    "duration": 329,
    "start_time": "2023-10-04T10:31:46.389Z"
   },
   {
    "duration": 35,
    "start_time": "2023-10-04T10:31:46.719Z"
   },
   {
    "duration": 154,
    "start_time": "2023-10-04T10:31:46.757Z"
   },
   {
    "duration": 13,
    "start_time": "2023-10-04T10:31:46.912Z"
   },
   {
    "duration": 16,
    "start_time": "2023-10-04T10:31:46.927Z"
   },
   {
    "duration": 21,
    "start_time": "2023-10-04T10:31:46.945Z"
   },
   {
    "duration": 2251,
    "start_time": "2023-10-04T10:57:31.068Z"
   },
   {
    "duration": 169,
    "start_time": "2023-10-04T10:57:33.324Z"
   },
   {
    "duration": 175,
    "start_time": "2023-10-04T10:57:33.499Z"
   },
   {
    "duration": 3,
    "start_time": "2023-10-04T10:57:33.676Z"
   },
   {
    "duration": 13,
    "start_time": "2023-10-04T10:57:33.682Z"
   },
   {
    "duration": 50,
    "start_time": "2023-10-04T10:57:33.697Z"
   },
   {
    "duration": 31,
    "start_time": "2023-10-04T10:57:33.748Z"
   },
   {
    "duration": 20,
    "start_time": "2023-10-04T10:57:33.783Z"
   },
   {
    "duration": 49,
    "start_time": "2023-10-04T10:57:33.805Z"
   },
   {
    "duration": 33,
    "start_time": "2023-10-04T10:57:33.861Z"
   },
   {
    "duration": 573,
    "start_time": "2023-10-04T10:57:33.897Z"
   },
   {
    "duration": 11,
    "start_time": "2023-10-04T10:57:34.476Z"
   },
   {
    "duration": 59,
    "start_time": "2023-10-04T10:57:34.492Z"
   },
   {
    "duration": 220,
    "start_time": "2023-10-04T10:57:34.558Z"
   },
   {
    "duration": 19,
    "start_time": "2023-10-04T10:57:34.783Z"
   },
   {
    "duration": 634,
    "start_time": "2023-10-04T10:57:34.811Z"
   },
   {
    "duration": 23,
    "start_time": "2023-10-04T10:57:35.447Z"
   },
   {
    "duration": 1192,
    "start_time": "2023-10-04T10:57:35.472Z"
   },
   {
    "duration": 21,
    "start_time": "2023-10-04T10:57:36.669Z"
   },
   {
    "duration": 885,
    "start_time": "2023-10-04T10:57:36.695Z"
   },
   {
    "duration": 21,
    "start_time": "2023-10-04T10:57:37.588Z"
   },
   {
    "duration": 39,
    "start_time": "2023-10-04T10:57:37.611Z"
   },
   {
    "duration": 10,
    "start_time": "2023-10-04T10:57:37.652Z"
   },
   {
    "duration": 7,
    "start_time": "2023-10-04T10:57:37.664Z"
   },
   {
    "duration": 1109,
    "start_time": "2023-10-04T10:57:37.673Z"
   },
   {
    "duration": 1059,
    "start_time": "2023-10-04T10:57:38.787Z"
   },
   {
    "duration": 111,
    "start_time": "2023-10-04T10:57:39.849Z"
   },
   {
    "duration": 409,
    "start_time": "2023-10-04T10:57:39.977Z"
   },
   {
    "duration": 89,
    "start_time": "2023-10-04T10:57:40.393Z"
   },
   {
    "duration": 15,
    "start_time": "2023-10-04T10:57:40.497Z"
   },
   {
    "duration": 78,
    "start_time": "2023-10-04T10:57:40.514Z"
   }
  ],
  "kernelspec": {
   "display_name": "Python 3 (ipykernel)",
   "language": "python",
   "name": "python3"
  },
  "language_info": {
   "codemirror_mode": {
    "name": "ipython",
    "version": 3
   },
   "file_extension": ".py",
   "mimetype": "text/x-python",
   "name": "python",
   "nbconvert_exporter": "python",
   "pygments_lexer": "ipython3",
   "version": "3.9.5"
  },
  "toc": {
   "base_numbering": 1,
   "nav_menu": {},
   "number_sections": true,
   "sideBar": true,
   "skip_h1_title": true,
   "title_cell": "Table of Contents",
   "title_sidebar": "Contents",
   "toc_cell": false,
   "toc_position": {},
   "toc_section_display": true,
   "toc_window_display": false
  }
 },
 "nbformat": 4,
 "nbformat_minor": 5
}
