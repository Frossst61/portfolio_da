{
 "cells": [
  {
   "cell_type": "markdown",
   "metadata": {},
   "source": [
    "# Исследование объявлений о продаже квартир\n",
    "\n",
    "В нашем распоряжении данные сервиса Яндекс.Недвижимость — архив объявлений о продаже квартир в Санкт-Петербурге и соседних населённых пунктов за несколько лет. Нужно научиться определять рыночную стоимость объектов недвижимости. Наша задача — установить параметры. Это позволит построить автоматизированную систему: она отследит аномалии и мошенническую деятельность. \n",
    "\n",
    "По каждой квартире на продажу доступны два вида данных. Первые вписаны пользователем, вторые — получены автоматически на основе картографических данных. Например, расстояние до центра, аэропорта, ближайшего парка и водоёма.\n",
    "\n",
    "Пользователькие данные содержат такую информацию как: общая и жилая площадь, площадь кухни, этаж, стоимость, населенный пункт и т.д.\n",
    "\n",
    "План работ:\n",
    "1. Выполним предобработку данных: найдем и заполним по возможности пропуски, удалим дубликаты, исправим типы данных и т.д.\n",
    "2. Выполним исследовательский анализ: изучим основные параметры объектов и построим для них гистограммы, выявим зависимости одних параметров от других и т.д. "
   ]
  },
  {
   "cell_type": "markdown",
   "metadata": {},
   "source": [
    "### Изучим данные. "
   ]
  },
  {
   "cell_type": "code",
   "execution_count": 1,
   "metadata": {},
   "outputs": [],
   "source": [
    "import pandas as pd\n",
    "import matplotlib.pyplot as plt\n",
    "import os\n",
    "pd.set_option('display.max_columns', 50)\n",
    "pd.options.mode.chained_assignment = None"
   ]
  },
  {
   "cell_type": "code",
   "execution_count": 2,
   "metadata": {},
   "outputs": [
    {
     "data": {
      "text/html": [
       "<div>\n",
       "<style scoped>\n",
       "    .dataframe tbody tr th:only-of-type {\n",
       "        vertical-align: middle;\n",
       "    }\n",
       "\n",
       "    .dataframe tbody tr th {\n",
       "        vertical-align: top;\n",
       "    }\n",
       "\n",
       "    .dataframe thead th {\n",
       "        text-align: right;\n",
       "    }\n",
       "</style>\n",
       "<table border=\"1\" class=\"dataframe\">\n",
       "  <thead>\n",
       "    <tr style=\"text-align: right;\">\n",
       "      <th></th>\n",
       "      <th>total_images</th>\n",
       "      <th>last_price</th>\n",
       "      <th>total_area</th>\n",
       "      <th>first_day_exposition</th>\n",
       "      <th>rooms</th>\n",
       "      <th>ceiling_height</th>\n",
       "      <th>floors_total</th>\n",
       "      <th>living_area</th>\n",
       "      <th>floor</th>\n",
       "      <th>is_apartment</th>\n",
       "      <th>studio</th>\n",
       "      <th>open_plan</th>\n",
       "      <th>kitchen_area</th>\n",
       "      <th>balcony</th>\n",
       "      <th>locality_name</th>\n",
       "      <th>airports_nearest</th>\n",
       "      <th>cityCenters_nearest</th>\n",
       "      <th>parks_around3000</th>\n",
       "      <th>parks_nearest</th>\n",
       "      <th>ponds_around3000</th>\n",
       "      <th>ponds_nearest</th>\n",
       "      <th>days_exposition</th>\n",
       "    </tr>\n",
       "  </thead>\n",
       "  <tbody>\n",
       "    <tr>\n",
       "      <th>0</th>\n",
       "      <td>20</td>\n",
       "      <td>13000000.0</td>\n",
       "      <td>108.0</td>\n",
       "      <td>2019-03-07T00:00:00</td>\n",
       "      <td>3</td>\n",
       "      <td>2.70</td>\n",
       "      <td>16.0</td>\n",
       "      <td>51.0</td>\n",
       "      <td>8</td>\n",
       "      <td>NaN</td>\n",
       "      <td>False</td>\n",
       "      <td>False</td>\n",
       "      <td>25.0</td>\n",
       "      <td>NaN</td>\n",
       "      <td>Санкт-Петербург</td>\n",
       "      <td>18863.0</td>\n",
       "      <td>16028.0</td>\n",
       "      <td>1.0</td>\n",
       "      <td>482.0</td>\n",
       "      <td>2.0</td>\n",
       "      <td>755.0</td>\n",
       "      <td>NaN</td>\n",
       "    </tr>\n",
       "    <tr>\n",
       "      <th>1</th>\n",
       "      <td>7</td>\n",
       "      <td>3350000.0</td>\n",
       "      <td>40.4</td>\n",
       "      <td>2018-12-04T00:00:00</td>\n",
       "      <td>1</td>\n",
       "      <td>NaN</td>\n",
       "      <td>11.0</td>\n",
       "      <td>18.6</td>\n",
       "      <td>1</td>\n",
       "      <td>NaN</td>\n",
       "      <td>False</td>\n",
       "      <td>False</td>\n",
       "      <td>11.0</td>\n",
       "      <td>2.0</td>\n",
       "      <td>посёлок Шушары</td>\n",
       "      <td>12817.0</td>\n",
       "      <td>18603.0</td>\n",
       "      <td>0.0</td>\n",
       "      <td>NaN</td>\n",
       "      <td>0.0</td>\n",
       "      <td>NaN</td>\n",
       "      <td>81.0</td>\n",
       "    </tr>\n",
       "    <tr>\n",
       "      <th>2</th>\n",
       "      <td>10</td>\n",
       "      <td>5196000.0</td>\n",
       "      <td>56.0</td>\n",
       "      <td>2015-08-20T00:00:00</td>\n",
       "      <td>2</td>\n",
       "      <td>NaN</td>\n",
       "      <td>5.0</td>\n",
       "      <td>34.3</td>\n",
       "      <td>4</td>\n",
       "      <td>NaN</td>\n",
       "      <td>False</td>\n",
       "      <td>False</td>\n",
       "      <td>8.3</td>\n",
       "      <td>0.0</td>\n",
       "      <td>Санкт-Петербург</td>\n",
       "      <td>21741.0</td>\n",
       "      <td>13933.0</td>\n",
       "      <td>1.0</td>\n",
       "      <td>90.0</td>\n",
       "      <td>2.0</td>\n",
       "      <td>574.0</td>\n",
       "      <td>558.0</td>\n",
       "    </tr>\n",
       "    <tr>\n",
       "      <th>3</th>\n",
       "      <td>0</td>\n",
       "      <td>64900000.0</td>\n",
       "      <td>159.0</td>\n",
       "      <td>2015-07-24T00:00:00</td>\n",
       "      <td>3</td>\n",
       "      <td>NaN</td>\n",
       "      <td>14.0</td>\n",
       "      <td>NaN</td>\n",
       "      <td>9</td>\n",
       "      <td>NaN</td>\n",
       "      <td>False</td>\n",
       "      <td>False</td>\n",
       "      <td>NaN</td>\n",
       "      <td>0.0</td>\n",
       "      <td>Санкт-Петербург</td>\n",
       "      <td>28098.0</td>\n",
       "      <td>6800.0</td>\n",
       "      <td>2.0</td>\n",
       "      <td>84.0</td>\n",
       "      <td>3.0</td>\n",
       "      <td>234.0</td>\n",
       "      <td>424.0</td>\n",
       "    </tr>\n",
       "    <tr>\n",
       "      <th>4</th>\n",
       "      <td>2</td>\n",
       "      <td>10000000.0</td>\n",
       "      <td>100.0</td>\n",
       "      <td>2018-06-19T00:00:00</td>\n",
       "      <td>2</td>\n",
       "      <td>3.03</td>\n",
       "      <td>14.0</td>\n",
       "      <td>32.0</td>\n",
       "      <td>13</td>\n",
       "      <td>NaN</td>\n",
       "      <td>False</td>\n",
       "      <td>False</td>\n",
       "      <td>41.0</td>\n",
       "      <td>NaN</td>\n",
       "      <td>Санкт-Петербург</td>\n",
       "      <td>31856.0</td>\n",
       "      <td>8098.0</td>\n",
       "      <td>2.0</td>\n",
       "      <td>112.0</td>\n",
       "      <td>1.0</td>\n",
       "      <td>48.0</td>\n",
       "      <td>121.0</td>\n",
       "    </tr>\n",
       "  </tbody>\n",
       "</table>\n",
       "</div>"
      ],
      "text/plain": [
       "   total_images  last_price  total_area first_day_exposition  rooms  \\\n",
       "0            20  13000000.0       108.0  2019-03-07T00:00:00      3   \n",
       "1             7   3350000.0        40.4  2018-12-04T00:00:00      1   \n",
       "2            10   5196000.0        56.0  2015-08-20T00:00:00      2   \n",
       "3             0  64900000.0       159.0  2015-07-24T00:00:00      3   \n",
       "4             2  10000000.0       100.0  2018-06-19T00:00:00      2   \n",
       "\n",
       "   ceiling_height  floors_total  living_area  floor is_apartment  studio  \\\n",
       "0            2.70          16.0         51.0      8          NaN   False   \n",
       "1             NaN          11.0         18.6      1          NaN   False   \n",
       "2             NaN           5.0         34.3      4          NaN   False   \n",
       "3             NaN          14.0          NaN      9          NaN   False   \n",
       "4            3.03          14.0         32.0     13          NaN   False   \n",
       "\n",
       "   open_plan  kitchen_area  balcony    locality_name  airports_nearest  \\\n",
       "0      False          25.0      NaN  Санкт-Петербург           18863.0   \n",
       "1      False          11.0      2.0   посёлок Шушары           12817.0   \n",
       "2      False           8.3      0.0  Санкт-Петербург           21741.0   \n",
       "3      False           NaN      0.0  Санкт-Петербург           28098.0   \n",
       "4      False          41.0      NaN  Санкт-Петербург           31856.0   \n",
       "\n",
       "   cityCenters_nearest  parks_around3000  parks_nearest  ponds_around3000  \\\n",
       "0              16028.0               1.0          482.0               2.0   \n",
       "1              18603.0               0.0            NaN               0.0   \n",
       "2              13933.0               1.0           90.0               2.0   \n",
       "3               6800.0               2.0           84.0               3.0   \n",
       "4               8098.0               2.0          112.0               1.0   \n",
       "\n",
       "   ponds_nearest  days_exposition  \n",
       "0          755.0              NaN  \n",
       "1            NaN             81.0  \n",
       "2          574.0            558.0  \n",
       "3          234.0            424.0  \n",
       "4           48.0            121.0  "
      ]
     },
     "metadata": {},
     "output_type": "display_data"
    },
    {
     "name": "stdout",
     "output_type": "stream",
     "text": [
      "<class 'pandas.core.frame.DataFrame'>\n",
      "RangeIndex: 23699 entries, 0 to 23698\n",
      "Data columns (total 22 columns):\n",
      " #   Column                Non-Null Count  Dtype  \n",
      "---  ------                --------------  -----  \n",
      " 0   total_images          23699 non-null  int64  \n",
      " 1   last_price            23699 non-null  float64\n",
      " 2   total_area            23699 non-null  float64\n",
      " 3   first_day_exposition  23699 non-null  object \n",
      " 4   rooms                 23699 non-null  int64  \n",
      " 5   ceiling_height        14504 non-null  float64\n",
      " 6   floors_total          23613 non-null  float64\n",
      " 7   living_area           21796 non-null  float64\n",
      " 8   floor                 23699 non-null  int64  \n",
      " 9   is_apartment          2775 non-null   object \n",
      " 10  studio                23699 non-null  bool   \n",
      " 11  open_plan             23699 non-null  bool   \n",
      " 12  kitchen_area          21421 non-null  float64\n",
      " 13  balcony               12180 non-null  float64\n",
      " 14  locality_name         23650 non-null  object \n",
      " 15  airports_nearest      18157 non-null  float64\n",
      " 16  cityCenters_nearest   18180 non-null  float64\n",
      " 17  parks_around3000      18181 non-null  float64\n",
      " 18  parks_nearest         8079 non-null   float64\n",
      " 19  ponds_around3000      18181 non-null  float64\n",
      " 20  ponds_nearest         9110 non-null   float64\n",
      " 21  days_exposition       20518 non-null  float64\n",
      "dtypes: bool(2), float64(14), int64(3), object(3)\n",
      "memory usage: 3.7+ MB\n"
     ]
    },
    {
     "data": {
      "image/png": "[encoded data removed]",
      "text/plain": [
       "<Figure size 1080x1440 with 20 Axes>"
      ]
     },
     "metadata": {
      "needs_background": "light"
     },
     "output_type": "display_data"
    }
   ],
   "source": [
    "pth1 = 'datasets/real_estate_data.csv'\n",
    "if os.path.exists(pth1):\n",
    "    data = pd.read_csv(pth1, sep='\\t')\n",
    "else:\n",
    "    print('Something is wrong')\n",
    "display(data.head())\n",
    "data.info()\n",
    "data.hist(figsize=(15, 20))\n",
    "None"
   ]
  },
  {
   "cell_type": "markdown",
   "metadata": {},
   "source": [
    "**Общий вывод: Таблица состоит из 23699 строк и 21 столбец, имеются пропущенные значения, есть ошибки в типах данных, данных из геосервисов гораздо меньше чем пользовательских. Есть необходимость в проверке данных, где и чем мы можем восполнить недостающие данные или придется удалять всю строку.**"
   ]
  },
  {
   "cell_type": "markdown",
   "metadata": {},
   "source": [
    "### Предобработка данных"
   ]
  },
  {
   "cell_type": "code",
   "execution_count": 3,
   "metadata": {},
   "outputs": [
    {
     "name": "stdout",
     "output_type": "stream",
     "text": [
      "total_images                0\n",
      "last_price                  0\n",
      "total_area                  0\n",
      "first_day_exposition        0\n",
      "rooms                       0\n",
      "ceiling_height           9195\n",
      "floors_total               86\n",
      "living_area              1903\n",
      "floor                       0\n",
      "is_apartment            20924\n",
      "studio                      0\n",
      "open_plan                   0\n",
      "kitchen_area             2278\n",
      "balcony                 11519\n",
      "locality_name              49\n",
      "airports_nearest         5542\n",
      "cityCenters_nearest      5519\n",
      "parks_around3000         5518\n",
      "parks_nearest           15620\n",
      "ponds_around3000         5518\n",
      "ponds_nearest           14589\n",
      "days_exposition          3181\n",
      "dtype: int64\n",
      "\n",
      "total_images             0.000000\n",
      "last_price               0.000000\n",
      "total_area               0.000000\n",
      "first_day_exposition     0.000000\n",
      "rooms                    0.000000\n",
      "ceiling_height          38.799105\n",
      "floors_total             0.362885\n",
      "living_area              8.029875\n",
      "floor                    0.000000\n",
      "is_apartment            88.290645\n",
      "studio                   0.000000\n",
      "open_plan                0.000000\n",
      "kitchen_area             9.612220\n",
      "balcony                 48.605426\n",
      "locality_name            0.206760\n",
      "airports_nearest        23.384953\n",
      "cityCenters_nearest     23.287902\n",
      "parks_around3000        23.283683\n",
      "parks_nearest           65.909954\n",
      "ponds_around3000        23.283683\n",
      "ponds_nearest           61.559559\n",
      "days_exposition         13.422507\n",
      "dtype: float64\n"
     ]
    }
   ],
   "source": [
    "print(data.isnull().sum())\n",
    "print()\n",
    "print(data.isnull().sum ()/ len(data) * 100)"
   ]
  },
  {
   "cell_type": "code",
   "execution_count": 4,
   "metadata": {},
   "outputs": [
    {
     "name": "stdout",
     "output_type": "stream",
     "text": [
      "<class 'pandas.core.frame.DataFrame'>\n",
      "RangeIndex: 23699 entries, 0 to 23698\n",
      "Data columns (total 22 columns):\n",
      " #   Column                Non-Null Count  Dtype  \n",
      "---  ------                --------------  -----  \n",
      " 0   total_images          23699 non-null  int64  \n",
      " 1   last_price            23699 non-null  float64\n",
      " 2   total_area            23699 non-null  float64\n",
      " 3   first_day_exposition  23699 non-null  object \n",
      " 4   rooms                 23699 non-null  int64  \n",
      " 5   ceiling_height        23699 non-null  float64\n",
      " 6   floors_total          23699 non-null  float64\n",
      " 7   living_area           23699 non-null  float64\n",
      " 8   floor                 23699 non-null  int64  \n",
      " 9   is_apartment          23699 non-null  bool   \n",
      " 10  studio                23699 non-null  bool   \n",
      " 11  open_plan             23699 non-null  bool   \n",
      " 12  kitchen_area          23699 non-null  float64\n",
      " 13  balcony               23699 non-null  float64\n",
      " 14  locality_name         23650 non-null  object \n",
      " 15  airports_nearest      18157 non-null  float64\n",
      " 16  cityCenters_nearest   18180 non-null  float64\n",
      " 17  parks_around3000      23699 non-null  float64\n",
      " 18  parks_nearest         8079 non-null   float64\n",
      " 19  ponds_around3000      23699 non-null  float64\n",
      " 20  ponds_nearest         9110 non-null   float64\n",
      " 21  days_exposition       23699 non-null  float64\n",
      "dtypes: bool(3), float64(14), int64(3), object(2)\n",
      "memory usage: 3.5+ MB\n"
     ]
    }
   ],
   "source": [
    "data.duplicated().sum() #подсчёт дупликатов\n",
    "data['ceiling_height'] = data['ceiling_height'].fillna(data['ceiling_height'].mean()) #заполняем высоту потолков средним значением\n",
    "data['floors_total'] = data['floors_total'].fillna(data['floors_total'].mean()) #заполняем этажность средним значением\n",
    "data['is_apartment'] = data['is_apartment'].fillna(False) #заполняем пропуски False\n",
    "data['kitchen_area'] = data['kitchen_area'].fillna(data['kitchen_area'].mean()) #заполняем площадь кухни средним значением\n",
    "data['balcony'] = data['balcony'].fillna(0)\n",
    "data['parks_around3000'] = data['parks_around3000'].fillna(0)\n",
    "data['ponds_around3000'] = data['ponds_around3000'].fillna(0)\n",
    "data['days_exposition'] = data['days_exposition'].fillna(data['days_exposition'].mean()) #заполняем число дней на размещении средним значением\n",
    "data['living_area'] = data['living_area'].fillna(data['total_area'] - data['kitchen_area'])\n",
    "data.info()"
   ]
  },
  {
   "cell_type": "markdown",
   "metadata": {},
   "source": [
    "Пропущенные значения есть в следующих столбцах:\n",
    "1. ceiling_height - высота потолков (м) - можно взять среднее значение от имеющихся данных\n",
    "2. floors_total - всего этажей в доме - слишком большой разбег в этажности и хотя пропусков мало (заполним)\n",
    "3. living_area - жилая площадь в квадратных метрах (м²) - сгруппировать по rooms и взять среднее??\n",
    "4. is_apartment - апартаменты (булев тип) - пропуски == False\n",
    "5. kitchen_area - площадь кухни в квадратных метрах (м²) - можно взять среднее значение от имеющихся данных\n",
    "6. balcony - число балконов - пропуски == 0 \n",
    "7. locality_name - название населённого пункта - ничего \n",
    "8. airports_nearest - расстояние до ближайшего аэропорта в метрах (м) - ничего\n",
    "9. cityCenters_nearest - расстояние до центра города (м) - ничего\n",
    "10. parks_around3000 - число парков в радиусе 3 км - пропуски == 0\n",
    "11. parks_nearest - расстояние до ближайшего парка (м) - ничего\n",
    "12. ponds_around3000 - число водоёмов в радиусе 3 км - пропуски == 0\n",
    "13. ponds_nearest - расстояние до ближайшего водоёма (м) - ничего\n",
    "14. days_exposition - сколько дней было размещено объявление (от публикации до снятия) - можно взять среднее значение от имеющихся данных"
   ]
  },
  {
   "cell_type": "code",
   "execution_count": 5,
   "metadata": {},
   "outputs": [
    {
     "name": "stdout",
     "output_type": "stream",
     "text": [
      "<class 'pandas.core.frame.DataFrame'>\n",
      "RangeIndex: 23699 entries, 0 to 23698\n",
      "Data columns (total 22 columns):\n",
      " #   Column                Non-Null Count  Dtype         \n",
      "---  ------                --------------  -----         \n",
      " 0   total_images          23699 non-null  int64         \n",
      " 1   last_price            23699 non-null  float64       \n",
      " 2   total_area            23699 non-null  float64       \n",
      " 3   first_day_exposition  23699 non-null  datetime64[ns]\n",
      " 4   rooms                 23699 non-null  int64         \n",
      " 5   ceiling_height        23699 non-null  float64       \n",
      " 6   floors_total          23699 non-null  int32         \n",
      " 7   living_area           23699 non-null  float64       \n",
      " 8   floor                 23699 non-null  int64         \n",
      " 9   is_apartment          23699 non-null  bool          \n",
      " 10  studio                23699 non-null  bool          \n",
      " 11  open_plan             23699 non-null  bool          \n",
      " 12  kitchen_area          23699 non-null  float64       \n",
      " 13  balcony               23699 non-null  float64       \n",
      " 14  locality_name         23650 non-null  object        \n",
      " 15  airports_nearest      18157 non-null  float64       \n",
      " 16  cityCenters_nearest   18180 non-null  float64       \n",
      " 17  parks_around3000      23699 non-null  float64       \n",
      " 18  parks_nearest         8079 non-null   float64       \n",
      " 19  ponds_around3000      23699 non-null  float64       \n",
      " 20  ponds_nearest         9110 non-null   float64       \n",
      " 21  days_exposition       23699 non-null  float64       \n",
      "dtypes: bool(3), datetime64[ns](1), float64(13), int32(1), int64(3), object(1)\n",
      "memory usage: 3.4+ MB\n"
     ]
    }
   ],
   "source": [
    "data['first_day_exposition'] = pd.to_datetime(data['first_day_exposition'], format='%Y-%m-%dT%H:%M:%S')\n",
    "data['is_apartment'] = data['is_apartment'].astype(bool)\n",
    "data['floors_total'] = data['floors_total'].astype(int)\n",
    "data.info()"
   ]
  },
  {
   "cell_type": "markdown",
   "metadata": {},
   "source": [
    "Изменяем тип данных из строковых в дате публикации объявлений. Также меняем is_apartment в булев тип."
   ]
  },
  {
   "cell_type": "code",
   "execution_count": 6,
   "metadata": {},
   "outputs": [
    {
     "name": "stdout",
     "output_type": "stream",
     "text": [
      "['Санкт-Петербург' 'Шушары' 'Янино-1' 'Парголово' 'Мурино' 'Ломоносов'\n",
      " 'Сертолово' 'Петергоф' 'Пушкин' 'Кудрово' 'Коммунар' 'Колпино'\n",
      " 'Красный Бор' 'Гатчина' 'Фёдоровское' 'Выборг' 'Кронштадт' 'Кировск'\n",
      " 'Новое Девяткино' 'Металлострой' 'Лебяжье' 'Сиверский' 'Молодцово'\n",
      " 'Кузьмоловский' 'Новая Ропша' 'Павловск' 'Пикколово' 'Всеволожск'\n",
      " 'Волхов' 'Кингисепп' 'Приозерск' 'Сестрорецк' 'Куттузи' 'Аннино'\n",
      " 'Ефимовский' 'Плодовое' 'Заклинье' 'Торковичи' 'Первомайское'\n",
      " 'Красное Село' 'Понтонный' 'Сясьстрой' 'Старая' 'Лесколово' 'Новый Свет'\n",
      " 'Сланцы' 'Путилово' 'Ивангород' 'Шлиссельбург' 'Никольское' 'Зеленогорск'\n",
      " 'Сосновый Бор' 'Оржицы' 'Кальтино' 'Романовка' 'Бугры' 'Рощино' 'Кириши'\n",
      " 'Луга' 'Волосово' 'Отрадное' 'Павлово' 'Оредеж' 'Копорье' 'Молодёжное'\n",
      " 'Тихвин' 'Победа' 'Нурма' 'Синявино' 'Тосно' 'Стрельна' 'Бокситогорск'\n",
      " 'Александровская' 'Лопухинка' 'Пикалёво' 'Терволово' 'Советский'\n",
      " 'Подпорожье' 'Петровское' 'Токсово' 'Сельцо' 'Вырица' 'Кипень' 'Келози'\n",
      " 'Вартемяги' 'Тельмана' 'Севастьяново' 'Большая Ижора' nan 'Агалатово'\n",
      " 'Новогорелово' 'Лесогорский' 'Лаголово' 'Цвелодубово' 'Рахья' 'Белогорка'\n",
      " 'Заводской' 'Новоселье' 'Большие Колпаны' 'Горбунки' 'Батово' 'Заневка'\n",
      " 'Иссад' 'Приморск' 'Мистолово' 'Новая Ладога' 'Зимитицы' 'Барышево'\n",
      " 'Разметелево' 'имени Свердлова' 'Пеники' 'Рябово' 'Пудомяги' 'Корнево'\n",
      " 'Низино' 'Бегуницы' 'Поляны' 'Мга' 'Елизаветино' 'Кузнечное' 'Колтуши'\n",
      " 'Запорожское' 'Гостилицы' 'Малое Карлино' 'Мичуринское' 'имени Морозова'\n",
      " 'Песочный' 'Сосново' 'Аро' 'Ильичёво' 'Тайцы' 'Малое Верево' 'Извара'\n",
      " 'Вещево' 'Паша' 'Калитино' 'Ульяновка' 'Чудской Бор' 'Дубровка' 'Мины'\n",
      " 'Войсковицы' 'Коркино' 'Ропша' 'Приладожский' 'Щеглово' 'Гаврилово'\n",
      " 'Лодейное Поле' 'Рабитицы' 'Никольский' 'Кузьмолово' 'Малые Колпаны'\n",
      " 'Петро-Славянка' 'Назия' 'Репино' 'Углово' 'Старая Малукса' 'Меньково'\n",
      " 'Старые Бегуницы' 'Сапёрный' 'Семрино' 'Глажево' 'Кобринское' 'Гарболово'\n",
      " 'Юкки' 'Приветнинское' 'Мануйлово' 'Пчева' 'Цвылёво' 'Мельниково'\n",
      " 'Пудость' 'Усть-Луга' 'Светогорск' 'Любань' 'Селезнёво' 'Каменногорск'\n",
      " 'Кривко' 'Глебычево' 'Парицы' 'Жилпосёлок' 'Войскорово' 'Стеклянный'\n",
      " 'Важины' 'Мыза-Ивановка' 'Русско-Высоцкое' 'Форносово' 'Старая Ладога'\n",
      " 'Житково' 'Виллози' 'Лампово' 'Шпаньково' 'Лаврики' 'Сумино'\n",
      " 'Возрождение' 'Старосиверская' 'Кикерино' 'Старое Хинколово'\n",
      " 'Пригородный' 'Торфяное' 'Будогощь' 'Суходолье' 'Красная Долина'\n",
      " 'Хапо-Ое' 'Дружная Горка' 'Лисий Нос' 'Яльгелево' 'Рождествено'\n",
      " 'Старополье' 'Левашово' 'Сяськелево' 'Камышовка'\n",
      " 'садоводческое некоммерческое товарищество Лесная Поляна' 'Хязельки'\n",
      " 'Жилгородок' 'Ялгино' 'Новый Учхоз' 'Гончарово' 'Почап' 'Сапёрное'\n",
      " 'Платформа 69-й километр' 'Каложицы' 'Фалилеево' 'Пельгора' 'Торошковичи'\n",
      " 'Белоостров' 'Алексеевка' 'Серебрянский' 'Лукаши' 'Тарасово'\n",
      " 'Кингисеппский' 'Ушаки' 'Котлы' 'Сижно' 'Торосово' 'Форт Красная Горка'\n",
      " 'Новолисино' 'Громово' 'Глинка' 'Старая Пустошь' 'Коммунары' 'Починок'\n",
      " 'Вознесенье' 'Разбегаево' 'Гладкое' 'Тёсово-4' 'Бор' 'Коробицыно'\n",
      " 'Большая Вруда' 'Курковицы' 'Кобралово' 'Суоранда' 'Кондратьево'\n",
      " 'Счастье' 'Реброво' 'Тойворово' 'Семиозерье' 'Лесное' 'Совхозный'\n",
      " 'Ленинское' 'Суйда' 'Нижние Осельки' 'Свирь' 'Перово' 'Высоцк' 'Шум'\n",
      " 'Котельский' 'Лужайка' 'Большая Пустомержа' 'Красносельское'\n",
      " 'Вахнова Кара' 'Пижма' 'Кивеннапа Север' 'Ромашки' 'Каськово' 'Куровицы'\n",
      " 'Плоское' 'Кирпичное' 'Ям-Тесово' 'Раздолье' 'Терпилицы' 'Шугозеро'\n",
      " 'Ваганово' 'Пушное' 'Садко' 'Усть-Ижора' 'Выскатка' 'Свирьстрой'\n",
      " 'Кисельня' 'Трубников Бор' 'Высокоключевой' 'Пансионат Зелёный Бор'\n",
      " 'Ненимяки' 'Снегирёвка' 'Рапполово' 'Пустынка' 'Большой Сабск' 'Русско'\n",
      " 'Лупполово' 'Большое Рейзино' 'Малая Романовка' 'Дружноселье' 'Пчевжа'\n",
      " 'Володарское' 'Нижняя' 'Тихковицы' 'Борисова Грива' 'Дзержинского']\n"
     ]
    }
   ],
   "source": [
    "data['locality_name'] = (\n",
    "    data['locality_name']\n",
    "    .replace(['посёлок ', 'поселок ', 'поселок городского типа ', 'городской посёлок ', 'деревня ', 'садовое товарищество ', 'поселок городского типа ', 'село '], '', regex=True)\n",
    ")\n",
    "\n",
    "data['locality_name'] = (\n",
    "    data['locality_name']\n",
    "    .replace(['городской ', 'городского типа ', 'станции ', 'коттеджный ', 'при железнодорожной '], '', regex=True)\n",
    ")\n",
    "print(data['locality_name'].unique())"
   ]
  },
  {
   "cell_type": "markdown",
   "metadata": {},
   "source": [
    "Удаляем неявные дубликаты в названиях населенных пунктов. Решил вообще убрать тип населенного пункта."
   ]
  },
  {
   "cell_type": "markdown",
   "metadata": {},
   "source": [
    "### Посчитаем и добавим в таблицу новые столбцы"
   ]
  },
  {
   "cell_type": "markdown",
   "metadata": {},
   "source": [
    "Добавляем новые столбцы со следующей информацией:\n",
    "1. цена одного квадратного метра (нужно поделить стоимость объекта на его общую площадь, а затем округлить до двух знаков после запятой);\n",
    "2. день недели публикации объявления (0 — понедельник, 1 — вторник и так далее);\n",
    "3. месяц публикации объявления;\n",
    "4. год публикации объявления;\n",
    "5. тип этажа квартиры (значения — «первый», «последний», «другой»);\n",
    "6. расстояние до центра города в километрах (переведите из м в км и округлите до ближайших целых значений)."
   ]
  },
  {
   "cell_type": "code",
   "execution_count": 7,
   "metadata": {},
   "outputs": [],
   "source": [
    "data['price_one_m'] = round(data['last_price'] / data['total_area'], 2) #цена одного квадратного метра\n",
    "data['day_of_week'] = data['first_day_exposition'].dt.weekday #день недели публикации объявления\n",
    "data['month'] = data['first_day_exposition'].dt.month #месяц\n",
    "data['year'] = data['first_day_exposition'].dt.year #год\n",
    "# присваиваем тип этажа\n",
    "def floor_type(row):\n",
    "    if row['floor'] == 1:\n",
    "        return 'первый'\n",
    "    if row['floor'] == row['floors_total']:\n",
    "        return 'последний'\n",
    "    else:\n",
    "        return 'другой'   \n",
    "data['floor_type'] = data.apply(floor_type, axis=1)\n",
    "data['cityCenters_nearest_in_m'] = round(data['cityCenters_nearest'] /1000, 0) #расстояние до центра города в км"
   ]
  },
  {
   "cell_type": "markdown",
   "metadata": {},
   "source": [
    "### Проведите исследовательский анализ данных"
   ]
  },
  {
   "cell_type": "markdown",
   "metadata": {},
   "source": [
    "#### Изучим параметры объектов"
   ]
  },
  {
   "cell_type": "markdown",
   "metadata": {},
   "source": [
    "Изучаем следующие параметры:\n",
    "1. Общая площадь\n",
    "2. Жилая площадь\n",
    "3. Площадь кухни\n",
    "4. Цена объекта\n",
    "5. Количество комнат\n",
    "6. Высота потолков\n",
    "7. Тип этажа квартиры\n",
    "8. Общее количество этажей в доме\n",
    "9. Расстояние до центра города в метрах\n",
    "10. Расстояние до ближайшего парка"
   ]
  },
  {
   "cell_type": "markdown",
   "metadata": {},
   "source": [
    "**Анализ общей площади квартир.**"
   ]
  },
  {
   "cell_type": "code",
   "execution_count": 8,
   "metadata": {},
   "outputs": [
    {
     "data": {
      "text/plain": [
       "count    23699.000000\n",
       "mean        60.348651\n",
       "std         35.654083\n",
       "min         12.000000\n",
       "25%         40.000000\n",
       "50%         52.000000\n",
       "75%         69.900000\n",
       "max        900.000000\n",
       "Name: total_area, dtype: float64"
      ]
     },
     "execution_count": 8,
     "metadata": {},
     "output_type": "execute_result"
    }
   ],
   "source": [
    "data['total_area'].describe()"
   ]
  },
  {
   "cell_type": "markdown",
   "metadata": {},
   "source": [
    "Максимальная площадь 900м? Живут же люди...\n",
    "При изучении гистограммы были выявлено, что основная масса квартир до 200 м. Рассмотрим только до 200м."
   ]
  },
  {
   "cell_type": "code",
   "execution_count": 9,
   "metadata": {},
   "outputs": [
    {
     "data": {
      "text/plain": [
       "<AxesSubplot:>"
      ]
     },
     "execution_count": 9,
     "metadata": {},
     "output_type": "execute_result"
    },
    {
     "data": {
      "image/png": "[encoded data removed]",
      "text/plain": [
       "<Figure size 432x288 with 1 Axes>"
      ]
     },
     "metadata": {
      "needs_background": "light"
     },
     "output_type": "display_data"
    }
   ],
   "source": [
    "data = data.query('total_area < 200') #не будем учитывать квартиры более 200м, их менее 1%\n",
    "data = data.query('total_area > 20') #не будем учитывать квартиры менее 20м, их менее 1%\n",
    "data['total_area'].hist(bins=100, range=(20, 200))"
   ]
  },
  {
   "cell_type": "markdown",
   "metadata": {},
   "source": [
    "**Анализ жилой площади**"
   ]
  },
  {
   "cell_type": "code",
   "execution_count": 10,
   "metadata": {},
   "outputs": [
    {
     "data": {
      "text/plain": [
       "count    23433.000000\n",
       "mean        34.475230\n",
       "std         18.817135\n",
       "min          2.000000\n",
       "25%         19.000000\n",
       "50%         30.500000\n",
       "75%         43.000000\n",
       "max        188.630193\n",
       "Name: living_area, dtype: float64"
      ]
     },
     "execution_count": 10,
     "metadata": {},
     "output_type": "execute_result"
    }
   ],
   "source": [
    "data['living_area'].describe()"
   ]
  },
  {
   "cell_type": "markdown",
   "metadata": {},
   "source": [
    "Видим аномалии в виде минимальной жилой площади в 2м. В анализе общей площади мы исключили из расчета квартиры менее 20 м и более 200. Посмотрим на график."
   ]
  },
  {
   "cell_type": "code",
   "execution_count": 11,
   "metadata": {},
   "outputs": [
    {
     "data": {
      "text/plain": [
       "<AxesSubplot:>"
      ]
     },
     "execution_count": 11,
     "metadata": {},
     "output_type": "execute_result"
    },
    {
     "data": {
      "image/png": "[encoded data removed]",
      "text/plain": [
       "<Figure size 432x288 with 1 Axes>"
      ]
     },
     "metadata": {
      "needs_background": "light"
     },
     "output_type": "display_data"
    }
   ],
   "source": [
    "data['total_area'].hist(bins=100, range=(0, 200))"
   ]
  },
  {
   "cell_type": "markdown",
   "metadata": {},
   "source": [
    "**Анализ площади кухни**"
   ]
  },
  {
   "cell_type": "code",
   "execution_count": 12,
   "metadata": {},
   "outputs": [
    {
     "data": {
      "text/plain": [
       "count    23433.000000\n",
       "mean        10.404351\n",
       "std          5.107461\n",
       "min          1.300000\n",
       "25%          7.300000\n",
       "50%         10.000000\n",
       "75%         11.300000\n",
       "max         93.200000\n",
       "Name: kitchen_area, dtype: float64"
      ]
     },
     "execution_count": 12,
     "metadata": {},
     "output_type": "execute_result"
    }
   ],
   "source": [
    "data['kitchen_area'].describe()"
   ]
  },
  {
   "cell_type": "markdown",
   "metadata": {},
   "source": [
    "1.3 метра для кухни маловато. Посмотрим на график"
   ]
  },
  {
   "cell_type": "code",
   "execution_count": 13,
   "metadata": {},
   "outputs": [
    {
     "data": {
      "text/plain": [
       "<AxesSubplot:>"
      ]
     },
     "execution_count": 13,
     "metadata": {},
     "output_type": "execute_result"
    },
    {
     "data": {
      "image/png": "[encoded data removed]",
      "text/plain": [
       "<Figure size 432x288 with 1 Axes>"
      ]
     },
     "metadata": {
      "needs_background": "light"
     },
     "output_type": "display_data"
    }
   ],
   "source": [
    "data = data.query('kitchen_area < 40') #\n",
    "data = data.query('kitchen_area > 5') #\n",
    "data['kitchen_area'].hist(bins=100, range=(5, 40))"
   ]
  },
  {
   "cell_type": "code",
   "execution_count": 14,
   "metadata": {},
   "outputs": [
    {
     "name": "stdout",
     "output_type": "stream",
     "text": [
      "Нижняя граница last_price 1016200.0\n",
      "Верхняя граница last_price 26521660.00000006\n",
      "Процент отброшенных значений =  2.0 %\n"
     ]
    }
   ],
   "source": [
    "low_percentele = 0.01\n",
    "hihg_percentele = 0.99\n",
    "\n",
    "last_price_low = data['last_price'].quantile(low_percentele)\n",
    "last_price_high = data['last_price'].quantile(hihg_percentele)\n",
    "\n",
    "print(f'Нижняя граница last_price {last_price_low}')\n",
    "print(f'Верхняя граница last_price {last_price_high}')\n",
    "\n",
    "print(\n",
    "    'Процент отброшенных значений = ',\n",
    "    round(\n",
    "        100 - len(data.query('@last_price_low <= last_price <= @last_price_high'))\n",
    "        / len(data['last_price']) * 100,\n",
    "        2\n",
    "    ),\n",
    "    '%'\n",
    ")"
   ]
  },
  {
   "cell_type": "markdown",
   "metadata": {},
   "source": [
    "Кухнями более 40м и менее 5м можно пренебречь."
   ]
  },
  {
   "cell_type": "markdown",
   "metadata": {},
   "source": [
    "**Анализ цен на объекты**"
   ]
  },
  {
   "cell_type": "code",
   "execution_count": 15,
   "metadata": {},
   "outputs": [
    {
     "data": {
      "text/plain": [
       "count    22863.000000\n",
       "mean         5.972116\n",
       "std          5.582125\n",
       "min          0.430000\n",
       "25%          3.450000\n",
       "50%          4.650000\n",
       "75%          6.700000\n",
       "max        289.238400\n",
       "Name: last_price_mln, dtype: float64"
      ]
     },
     "execution_count": 15,
     "metadata": {},
     "output_type": "execute_result"
    }
   ],
   "source": [
    "data['last_price_mln'] = data['last_price'] / 1000000 #для наглядности переведем стоимость в млн рублей\n",
    "data['last_price_mln'].describe()"
   ]
  },
  {
   "cell_type": "code",
   "execution_count": 16,
   "metadata": {},
   "outputs": [
    {
     "data": {
      "text/plain": [
       "<AxesSubplot:>"
      ]
     },
     "execution_count": 16,
     "metadata": {},
     "output_type": "execute_result"
    },
    {
     "data": {
      "image/png": "[encoded data removed]",
      "text/plain": [
       "<Figure size 432x288 with 1 Axes>"
      ]
     },
     "metadata": {
      "needs_background": "light"
     },
     "output_type": "display_data"
    }
   ],
   "source": [
    "data['last_price_mln'].hist(bins=100, range=(0, 50))"
   ]
  },
  {
   "cell_type": "markdown",
   "metadata": {},
   "source": [
    "Видим, что данными с ценами выше 40 млн можно смело пренебречь."
   ]
  },
  {
   "cell_type": "code",
   "execution_count": 17,
   "metadata": {},
   "outputs": [
    {
     "data": {
      "text/plain": [
       "count    22787.000000\n",
       "mean         5.788030\n",
       "std          4.212536\n",
       "min          0.430000\n",
       "25%          3.450000\n",
       "50%          4.630000\n",
       "75%          6.680000\n",
       "max         39.990000\n",
       "Name: last_price_mln, dtype: float64"
      ]
     },
     "execution_count": 17,
     "metadata": {},
     "output_type": "execute_result"
    }
   ],
   "source": [
    "data = data.query('last_price_mln < 40') #избавляемся от астрономических сумм\n",
    "data['last_price_mln'].describe()"
   ]
  },
  {
   "cell_type": "markdown",
   "metadata": {},
   "source": [
    "**Анализ количества комнат**"
   ]
  },
  {
   "cell_type": "code",
   "execution_count": 18,
   "metadata": {},
   "outputs": [
    {
     "data": {
      "text/plain": [
       "count    22787.000000\n",
       "mean         2.029359\n",
       "std          0.992497\n",
       "min          0.000000\n",
       "25%          1.000000\n",
       "50%          2.000000\n",
       "75%          3.000000\n",
       "max         11.000000\n",
       "Name: rooms, dtype: float64"
      ]
     },
     "execution_count": 18,
     "metadata": {},
     "output_type": "execute_result"
    }
   ],
   "source": [
    "data['rooms'].describe()"
   ]
  },
  {
   "cell_type": "markdown",
   "metadata": {},
   "source": [
    "Минимум 0 комнат? Что-то здесь не чисто..."
   ]
  },
  {
   "cell_type": "code",
   "execution_count": 19,
   "metadata": {},
   "outputs": [
    {
     "name": "stdout",
     "output_type": "stream",
     "text": [
      "total_images            186\n",
      "last_price              186\n",
      "total_area              186\n",
      "first_day_exposition    186\n",
      "rooms                   186\n",
      "dtype: int64\n"
     ]
    }
   ],
   "source": [
    "print(data[data['rooms'] < 1].count().head())"
   ]
  },
  {
   "cell_type": "markdown",
   "metadata": {},
   "source": [
    "186 квартир не имют ни одной комнаты, чтож кто-то действительно живет только на кухне... Удаляем таких."
   ]
  },
  {
   "cell_type": "code",
   "execution_count": 20,
   "metadata": {},
   "outputs": [
    {
     "data": {
      "text/plain": [
       "count    22601.000000\n",
       "mean         2.046060\n",
       "std          0.979278\n",
       "min          1.000000\n",
       "25%          1.000000\n",
       "50%          2.000000\n",
       "75%          3.000000\n",
       "max         11.000000\n",
       "Name: rooms, dtype: float64"
      ]
     },
     "execution_count": 20,
     "metadata": {},
     "output_type": "execute_result"
    }
   ],
   "source": [
    "data = data.query('rooms >= 1')\n",
    "data['rooms'].describe()"
   ]
  },
  {
   "cell_type": "code",
   "execution_count": 21,
   "metadata": {},
   "outputs": [
    {
     "data": {
      "text/plain": [
       "<AxesSubplot:>"
      ]
     },
     "execution_count": 21,
     "metadata": {},
     "output_type": "execute_result"
    },
    {
     "data": {
      "image/png": "[encoded data removed]",
      "text/plain": [
       "<Figure size 432x288 with 1 Axes>"
      ]
     },
     "metadata": {
      "needs_background": "light"
     },
     "output_type": "display_data"
    }
   ],
   "source": [
    "data['rooms'].hist(bins=25, range=(0, 12))"
   ]
  },
  {
   "cell_type": "markdown",
   "metadata": {},
   "source": [
    "Однушек и двушек больше всего, это нормальная ситуация..."
   ]
  },
  {
   "cell_type": "markdown",
   "metadata": {},
   "source": [
    "**Анализ высоты потолков**"
   ]
  },
  {
   "cell_type": "code",
   "execution_count": 22,
   "metadata": {},
   "outputs": [
    {
     "data": {
      "text/plain": [
       "count    22601.000000\n",
       "mean         2.766199\n",
       "std          0.993444\n",
       "min          1.000000\n",
       "25%          2.600000\n",
       "50%          2.771499\n",
       "75%          2.771499\n",
       "max        100.000000\n",
       "Name: ceiling_height, dtype: float64"
      ]
     },
     "execution_count": 22,
     "metadata": {},
     "output_type": "execute_result"
    }
   ],
   "source": [
    "data['ceiling_height'].describe()"
   ]
  },
  {
   "cell_type": "markdown",
   "metadata": {},
   "source": [
    "Явно есть аномальные значения в виде высоты потолка в 1м и 100м. Посмтрим на гистограмму."
   ]
  },
  {
   "cell_type": "code",
   "execution_count": 23,
   "metadata": {},
   "outputs": [
    {
     "data": {
      "text/plain": [
       "<AxesSubplot:>"
      ]
     },
     "execution_count": 23,
     "metadata": {},
     "output_type": "execute_result"
    },
    {
     "data": {
      "image/png": "[encoded data removed]",
      "text/plain": [
       "<Figure size 432x288 with 1 Axes>"
      ]
     },
     "metadata": {
      "needs_background": "light"
     },
     "output_type": "display_data"
    }
   ],
   "source": [
    "data = data.query('ceiling_height >= 2.5') #избавляемся от слишком низких квартир.\n",
    "data = data.query('ceiling_height < 4') #не вижу смысла исправлять высоту (делить на 10), так как таких квартир очень мало(сильно меньше 5%)\n",
    "data['ceiling_height'].hist()"
   ]
  },
  {
   "cell_type": "markdown",
   "metadata": {},
   "source": [
    "В итоге оставляем высоту потолков в пределах от 2,5 до 4 метров, остальные считаем ошибками в данных."
   ]
  },
  {
   "cell_type": "markdown",
   "metadata": {},
   "source": [
    "**Анализ по типу этажа**"
   ]
  },
  {
   "cell_type": "code",
   "execution_count": 24,
   "metadata": {},
   "outputs": [
    {
     "data": {
      "text/plain": [
       "count      22442\n",
       "unique         3\n",
       "top       другой\n",
       "freq       16629\n",
       "Name: floor_type, dtype: object"
      ]
     },
     "execution_count": 24,
     "metadata": {},
     "output_type": "execute_result"
    }
   ],
   "source": [
    "data['floor_type'].describe()"
   ]
  },
  {
   "cell_type": "code",
   "execution_count": 25,
   "metadata": {},
   "outputs": [
    {
     "data": {
      "text/plain": [
       "<AxesSubplot:>"
      ]
     },
     "execution_count": 25,
     "metadata": {},
     "output_type": "execute_result"
    },
    {
     "data": {
      "image/png": "[encoded data removed]",
      "text/plain": [
       "<Figure size 432x288 with 1 Axes>"
      ]
     },
     "metadata": {
      "needs_background": "light"
     },
     "output_type": "display_data"
    }
   ],
   "source": [
    "data['floor_type'].hist()"
   ]
  },
  {
   "cell_type": "markdown",
   "metadata": {},
   "source": [
    "Тут все понятно, двух и трехэтажных домов все меньше и меньше..."
   ]
  },
  {
   "cell_type": "markdown",
   "metadata": {},
   "source": [
    "**Анализ этажности домов**"
   ]
  },
  {
   "cell_type": "code",
   "execution_count": 26,
   "metadata": {},
   "outputs": [
    {
     "data": {
      "text/plain": [
       "count    22442.000000\n",
       "mean        10.800731\n",
       "std          6.579717\n",
       "min          1.000000\n",
       "25%          5.000000\n",
       "50%          9.000000\n",
       "75%         16.000000\n",
       "max         60.000000\n",
       "Name: floors_total, dtype: float64"
      ]
     },
     "execution_count": 26,
     "metadata": {},
     "output_type": "execute_result"
    }
   ],
   "source": [
    "data['floors_total'].describe()"
   ]
  },
  {
   "cell_type": "markdown",
   "metadata": {},
   "source": [
    "Загуглив (можно такое писать в сервисе Яндекса?) самый высокий жилой дом в Питере, выидим, что максимум 35 этажей, остальное выбросим. По графику ниже понимаем, что смело можно так поступить."
   ]
  },
  {
   "cell_type": "code",
   "execution_count": 27,
   "metadata": {},
   "outputs": [
    {
     "data": {
      "text/plain": [
       "<AxesSubplot:>"
      ]
     },
     "execution_count": 27,
     "metadata": {},
     "output_type": "execute_result"
    },
    {
     "data": {
      "image/png": "[encoded data removed]",
      "text/plain": [
       "<Figure size 432x288 with 1 Axes>"
      ]
     },
     "metadata": {
      "needs_background": "light"
     },
     "output_type": "display_data"
    }
   ],
   "source": [
    "data['floors_total'].hist()"
   ]
  },
  {
   "cell_type": "code",
   "execution_count": 28,
   "metadata": {},
   "outputs": [],
   "source": [
    "data = data.query('floors_total <= 35')"
   ]
  },
  {
   "cell_type": "markdown",
   "metadata": {},
   "source": [
    "Посмотрим еще раз на обновленную гистграмму."
   ]
  },
  {
   "cell_type": "code",
   "execution_count": 29,
   "metadata": {},
   "outputs": [
    {
     "data": {
      "text/plain": [
       "<AxesSubplot:>"
      ]
     },
     "execution_count": 29,
     "metadata": {},
     "output_type": "execute_result"
    },
    {
     "data": {
      "image/png": "[encoded data removed]",
      "text/plain": [
       "<Figure size 432x288 with 1 Axes>"
      ]
     },
     "metadata": {
      "needs_background": "light"
     },
     "output_type": "display_data"
    }
   ],
   "source": [
    "data['floors_total'].hist(bins=35)"
   ]
  },
  {
   "cell_type": "markdown",
   "metadata": {},
   "source": [
    "Пятидевятиэтажный Питер. Как и вся Россия..."
   ]
  },
  {
   "cell_type": "markdown",
   "metadata": {},
   "source": [
    "**Анализ близости к центру**"
   ]
  },
  {
   "cell_type": "code",
   "execution_count": 30,
   "metadata": {},
   "outputs": [
    {
     "data": {
      "text/plain": [
       "count    17228.000000\n",
       "mean     14285.512712\n",
       "std       8458.612993\n",
       "min        181.000000\n",
       "25%       9567.000000\n",
       "50%      13195.000000\n",
       "75%      16316.000000\n",
       "max      65968.000000\n",
       "Name: cityCenters_nearest, dtype: float64"
      ]
     },
     "execution_count": 30,
     "metadata": {},
     "output_type": "execute_result"
    }
   ],
   "source": [
    "data['cityCenters_nearest'].describe()"
   ]
  },
  {
   "cell_type": "code",
   "execution_count": 31,
   "metadata": {},
   "outputs": [
    {
     "data": {
      "text/plain": [
       "<AxesSubplot:>"
      ]
     },
     "execution_count": 31,
     "metadata": {},
     "output_type": "execute_result"
    },
    {
     "data": {
      "image/png": "[encoded data removed]",
      "text/plain": [
       "<Figure size 432x288 with 1 Axes>"
      ]
     },
     "metadata": {
      "needs_background": "light"
     },
     "output_type": "display_data"
    }
   ],
   "source": [
    "data['cityCenters_nearest'].hist()"
   ]
  },
  {
   "cell_type": "markdown",
   "metadata": {},
   "source": [
    "Тут не видно ничего аномального."
   ]
  },
  {
   "cell_type": "markdown",
   "metadata": {},
   "source": [
    "**Анализ близости парков**"
   ]
  },
  {
   "cell_type": "code",
   "execution_count": 32,
   "metadata": {},
   "outputs": [
    {
     "data": {
      "text/plain": [
       "count    7559.000000\n",
       "mean      493.911232\n",
       "std       345.805455\n",
       "min         1.000000\n",
       "25%       288.000000\n",
       "50%       456.000000\n",
       "75%       615.000000\n",
       "max      3190.000000\n",
       "Name: parks_nearest, dtype: float64"
      ]
     },
     "execution_count": 32,
     "metadata": {},
     "output_type": "execute_result"
    }
   ],
   "source": [
    "data['parks_nearest'].describe()"
   ]
  },
  {
   "cell_type": "markdown",
   "metadata": {},
   "source": [
    "Кому-то повезло жить в парке..."
   ]
  },
  {
   "cell_type": "code",
   "execution_count": 33,
   "metadata": {},
   "outputs": [
    {
     "data": {
      "text/plain": [
       "<AxesSubplot:>"
      ]
     },
     "execution_count": 33,
     "metadata": {},
     "output_type": "execute_result"
    },
    {
     "data": {
      "image/png": "[encoded data removed]",
      "text/plain": [
       "<Figure size 432x288 with 1 Axes>"
      ]
     },
     "metadata": {
      "needs_background": "light"
     },
     "output_type": "display_data"
    }
   ],
   "source": [
    "data['parks_nearest'].hist(range=(0, 2000))"
   ]
  },
  {
   "cell_type": "markdown",
   "metadata": {},
   "source": [
    "Тут тоже особо сказать нечего. Разве что хочется посмотреть на усы.."
   ]
  },
  {
   "cell_type": "code",
   "execution_count": 34,
   "metadata": {},
   "outputs": [
    {
     "data": {
      "text/plain": [
       "<AxesSubplot:>"
      ]
     },
     "execution_count": 34,
     "metadata": {},
     "output_type": "execute_result"
    },
    {
     "data": {
      "image/png": "[encoded data removed]",
      "text/plain": [
       "<Figure size 432x288 with 1 Axes>"
      ]
     },
     "metadata": {
      "needs_background": "light"
     },
     "output_type": "display_data"
    }
   ],
   "source": [
    "data.boxplot(column='parks_nearest')"
   ]
  },
  {
   "cell_type": "markdown",
   "metadata": {},
   "source": [
    "Можно ли тут считать плохими данными все что выше 1100?"
   ]
  },
  {
   "cell_type": "markdown",
   "metadata": {},
   "source": [
    "#### Изучаем скорость продажи квартиры"
   ]
  },
  {
   "cell_type": "markdown",
   "metadata": {},
   "source": [
    "**Рассмотрим как быстро продавались квартиры**"
   ]
  },
  {
   "cell_type": "code",
   "execution_count": 35,
   "metadata": {},
   "outputs": [
    {
     "data": {
      "text/plain": [
       "<AxesSubplot:>"
      ]
     },
     "execution_count": 35,
     "metadata": {},
     "output_type": "execute_result"
    },
    {
     "data": {
      "image/png": "[encoded data removed]",
      "text/plain": [
       "<Figure size 432x288 with 1 Axes>"
      ]
     },
     "metadata": {
      "needs_background": "light"
     },
     "output_type": "display_data"
    }
   ],
   "source": [
    "data['days_exposition'].hist(bins=50) #стрим гистограмму"
   ]
  },
  {
   "cell_type": "code",
   "execution_count": 36,
   "metadata": {},
   "outputs": [
    {
     "name": "stdout",
     "output_type": "stream",
     "text": [
      "Среднее арифметическое срока продажи квартир: 179.66873763273964\n",
      "Медиана срока продажи квартир: 123.0\n"
     ]
    }
   ],
   "source": [
    "print('Среднее арифметическое срока продажи квартир:', data['days_exposition'].mean())\n",
    "print('Медиана срока продажи квартир:', data['days_exposition'].median())"
   ]
  },
  {
   "cell_type": "markdown",
   "metadata": {},
   "source": [
    "Продажа квартир занимает в среднем 4 месяца."
   ]
  },
  {
   "cell_type": "code",
   "execution_count": 37,
   "metadata": {},
   "outputs": [
    {
     "data": {
      "text/plain": [
       "count    22438.000000\n",
       "mean       179.668738\n",
       "std        202.978876\n",
       "min          1.000000\n",
       "25%         45.000000\n",
       "50%        123.000000\n",
       "75%        197.000000\n",
       "max       1580.000000\n",
       "Name: days_exposition, dtype: float64"
      ]
     },
     "execution_count": 37,
     "metadata": {},
     "output_type": "execute_result"
    }
   ],
   "source": [
    "data['days_exposition'].describe()"
   ]
  },
  {
   "cell_type": "markdown",
   "metadata": {},
   "source": [
    "Как за день можно продать квартиру? Что-то здесь не чисто..."
   ]
  },
  {
   "cell_type": "code",
   "execution_count": 38,
   "metadata": {
    "scrolled": true
   },
   "outputs": [
    {
     "data": {
      "text/html": [
       "<div>\n",
       "<style scoped>\n",
       "    .dataframe tbody tr th:only-of-type {\n",
       "        vertical-align: middle;\n",
       "    }\n",
       "\n",
       "    .dataframe tbody tr th {\n",
       "        vertical-align: top;\n",
       "    }\n",
       "\n",
       "    .dataframe thead th {\n",
       "        text-align: right;\n",
       "    }\n",
       "</style>\n",
       "<table border=\"1\" class=\"dataframe\">\n",
       "  <thead>\n",
       "    <tr style=\"text-align: right;\">\n",
       "      <th></th>\n",
       "      <th>total_images</th>\n",
       "      <th>last_price</th>\n",
       "      <th>total_area</th>\n",
       "      <th>first_day_exposition</th>\n",
       "      <th>rooms</th>\n",
       "      <th>ceiling_height</th>\n",
       "      <th>floors_total</th>\n",
       "      <th>living_area</th>\n",
       "      <th>floor</th>\n",
       "      <th>is_apartment</th>\n",
       "      <th>studio</th>\n",
       "      <th>open_plan</th>\n",
       "      <th>kitchen_area</th>\n",
       "      <th>balcony</th>\n",
       "      <th>locality_name</th>\n",
       "      <th>airports_nearest</th>\n",
       "      <th>cityCenters_nearest</th>\n",
       "      <th>parks_around3000</th>\n",
       "      <th>parks_nearest</th>\n",
       "      <th>ponds_around3000</th>\n",
       "      <th>ponds_nearest</th>\n",
       "      <th>days_exposition</th>\n",
       "      <th>price_one_m</th>\n",
       "      <th>day_of_week</th>\n",
       "      <th>month</th>\n",
       "      <th>year</th>\n",
       "      <th>floor_type</th>\n",
       "      <th>cityCenters_nearest_in_m</th>\n",
       "      <th>last_price_mln</th>\n",
       "    </tr>\n",
       "  </thead>\n",
       "  <tbody>\n",
       "    <tr>\n",
       "      <th>1632</th>\n",
       "      <td>19</td>\n",
       "      <td>4000000.0</td>\n",
       "      <td>49.9</td>\n",
       "      <td>2019-05-01</td>\n",
       "      <td>2</td>\n",
       "      <td>2.500000</td>\n",
       "      <td>9</td>\n",
       "      <td>25.000000</td>\n",
       "      <td>1</td>\n",
       "      <td>False</td>\n",
       "      <td>False</td>\n",
       "      <td>False</td>\n",
       "      <td>10.000000</td>\n",
       "      <td>0.0</td>\n",
       "      <td>Санкт-Петербург</td>\n",
       "      <td>13567.0</td>\n",
       "      <td>14384.0</td>\n",
       "      <td>1.0</td>\n",
       "      <td>20.0</td>\n",
       "      <td>1.0</td>\n",
       "      <td>681.0</td>\n",
       "      <td>1.0</td>\n",
       "      <td>80160.32</td>\n",
       "      <td>2</td>\n",
       "      <td>5</td>\n",
       "      <td>2019</td>\n",
       "      <td>первый</td>\n",
       "      <td>14.0</td>\n",
       "      <td>4.000</td>\n",
       "    </tr>\n",
       "    <tr>\n",
       "      <th>13061</th>\n",
       "      <td>20</td>\n",
       "      <td>6100000.0</td>\n",
       "      <td>51.4</td>\n",
       "      <td>2019-04-29</td>\n",
       "      <td>2</td>\n",
       "      <td>3.000000</td>\n",
       "      <td>5</td>\n",
       "      <td>31.700000</td>\n",
       "      <td>4</td>\n",
       "      <td>False</td>\n",
       "      <td>False</td>\n",
       "      <td>False</td>\n",
       "      <td>6.900000</td>\n",
       "      <td>1.0</td>\n",
       "      <td>Санкт-Петербург</td>\n",
       "      <td>10776.0</td>\n",
       "      <td>9389.0</td>\n",
       "      <td>0.0</td>\n",
       "      <td>NaN</td>\n",
       "      <td>0.0</td>\n",
       "      <td>NaN</td>\n",
       "      <td>2.0</td>\n",
       "      <td>118677.04</td>\n",
       "      <td>0</td>\n",
       "      <td>4</td>\n",
       "      <td>2019</td>\n",
       "      <td>другой</td>\n",
       "      <td>9.0</td>\n",
       "      <td>6.100</td>\n",
       "    </tr>\n",
       "    <tr>\n",
       "      <th>16053</th>\n",
       "      <td>4</td>\n",
       "      <td>4070000.0</td>\n",
       "      <td>45.1</td>\n",
       "      <td>2019-04-30</td>\n",
       "      <td>2</td>\n",
       "      <td>2.771499</td>\n",
       "      <td>5</td>\n",
       "      <td>22.700000</td>\n",
       "      <td>3</td>\n",
       "      <td>False</td>\n",
       "      <td>False</td>\n",
       "      <td>False</td>\n",
       "      <td>6.600000</td>\n",
       "      <td>0.0</td>\n",
       "      <td>Санкт-Петербург</td>\n",
       "      <td>40859.0</td>\n",
       "      <td>11668.0</td>\n",
       "      <td>2.0</td>\n",
       "      <td>485.0</td>\n",
       "      <td>0.0</td>\n",
       "      <td>NaN</td>\n",
       "      <td>2.0</td>\n",
       "      <td>90243.90</td>\n",
       "      <td>1</td>\n",
       "      <td>4</td>\n",
       "      <td>2019</td>\n",
       "      <td>другой</td>\n",
       "      <td>12.0</td>\n",
       "      <td>4.070</td>\n",
       "    </tr>\n",
       "    <tr>\n",
       "      <th>16212</th>\n",
       "      <td>0</td>\n",
       "      <td>7806000.0</td>\n",
       "      <td>25.0</td>\n",
       "      <td>2019-04-30</td>\n",
       "      <td>1</td>\n",
       "      <td>3.000000</td>\n",
       "      <td>5</td>\n",
       "      <td>14.430193</td>\n",
       "      <td>5</td>\n",
       "      <td>False</td>\n",
       "      <td>False</td>\n",
       "      <td>False</td>\n",
       "      <td>10.569807</td>\n",
       "      <td>0.0</td>\n",
       "      <td>Санкт-Петербург</td>\n",
       "      <td>36525.0</td>\n",
       "      <td>10302.0</td>\n",
       "      <td>0.0</td>\n",
       "      <td>NaN</td>\n",
       "      <td>0.0</td>\n",
       "      <td>NaN</td>\n",
       "      <td>2.0</td>\n",
       "      <td>312240.00</td>\n",
       "      <td>1</td>\n",
       "      <td>4</td>\n",
       "      <td>2019</td>\n",
       "      <td>последний</td>\n",
       "      <td>10.0</td>\n",
       "      <td>7.806</td>\n",
       "    </tr>\n",
       "  </tbody>\n",
       "</table>\n",
       "</div>"
      ],
      "text/plain": [
       "       total_images  last_price  total_area first_day_exposition  rooms  \\\n",
       "1632             19   4000000.0        49.9           2019-05-01      2   \n",
       "13061            20   6100000.0        51.4           2019-04-29      2   \n",
       "16053             4   4070000.0        45.1           2019-04-30      2   \n",
       "16212             0   7806000.0        25.0           2019-04-30      1   \n",
       "\n",
       "       ceiling_height  floors_total  living_area  floor  is_apartment  studio  \\\n",
       "1632         2.500000             9    25.000000      1         False   False   \n",
       "13061        3.000000             5    31.700000      4         False   False   \n",
       "16053        2.771499             5    22.700000      3         False   False   \n",
       "16212        3.000000             5    14.430193      5         False   False   \n",
       "\n",
       "       open_plan  kitchen_area  balcony    locality_name  airports_nearest  \\\n",
       "1632       False     10.000000      0.0  Санкт-Петербург           13567.0   \n",
       "13061      False      6.900000      1.0  Санкт-Петербург           10776.0   \n",
       "16053      False      6.600000      0.0  Санкт-Петербург           40859.0   \n",
       "16212      False     10.569807      0.0  Санкт-Петербург           36525.0   \n",
       "\n",
       "       cityCenters_nearest  parks_around3000  parks_nearest  ponds_around3000  \\\n",
       "1632               14384.0               1.0           20.0               1.0   \n",
       "13061               9389.0               0.0            NaN               0.0   \n",
       "16053              11668.0               2.0          485.0               0.0   \n",
       "16212              10302.0               0.0            NaN               0.0   \n",
       "\n",
       "       ponds_nearest  days_exposition  price_one_m  day_of_week  month  year  \\\n",
       "1632           681.0              1.0     80160.32            2      5  2019   \n",
       "13061            NaN              2.0    118677.04            0      4  2019   \n",
       "16053            NaN              2.0     90243.90            1      4  2019   \n",
       "16212            NaN              2.0    312240.00            1      4  2019   \n",
       "\n",
       "      floor_type  cityCenters_nearest_in_m  last_price_mln  \n",
       "1632      первый                      14.0           4.000  \n",
       "13061     другой                       9.0           6.100  \n",
       "16053     другой                      12.0           4.070  \n",
       "16212  последний                      10.0           7.806  "
      ]
     },
     "metadata": {},
     "output_type": "display_data"
    }
   ],
   "source": [
    "pd.set_option('max_columns', None)\n",
    "display(data.query('days_exposition < 3'))"
   ]
  },
  {
   "cell_type": "markdown",
   "metadata": {},
   "source": [
    "Четыре квартиры продались очень быстро за 1-2 дня. Наблюдаем следющую картину:\n",
    "1. Все 4 квартиры были куплены за 3 дня с 29 апреля по 1 мая 2019\n",
    "2. Все 4 квартиры находятся в самом центре Питера.\n",
    "3. Квартира которая продалась за один день находится на первом этаже девятиэтажного дома в самом центре Питера. Купили ее за 4 млн. Это супер-цена за такую недвижимость, которую можно перевести под коммерцию.\n",
    "4. А вот три остальных квартиры очень похоже что находятся в одном доме. Неужели кто-то решил сделать себе трехуровневую квартиру или может организовать там мини-отель? Но в квартире на 5 этаже может жил сам Цой?"
   ]
  },
  {
   "cell_type": "markdown",
   "metadata": {},
   "source": [
    "Посмотрим на самые затяжные продажи"
   ]
  },
  {
   "cell_type": "code",
   "execution_count": 39,
   "metadata": {},
   "outputs": [
    {
     "data": {
      "text/html": [
       "<div>\n",
       "<style scoped>\n",
       "    .dataframe tbody tr th:only-of-type {\n",
       "        vertical-align: middle;\n",
       "    }\n",
       "\n",
       "    .dataframe tbody tr th {\n",
       "        vertical-align: top;\n",
       "    }\n",
       "\n",
       "    .dataframe thead th {\n",
       "        text-align: right;\n",
       "    }\n",
       "</style>\n",
       "<table border=\"1\" class=\"dataframe\">\n",
       "  <thead>\n",
       "    <tr style=\"text-align: right;\">\n",
       "      <th></th>\n",
       "      <th>total_images</th>\n",
       "      <th>last_price</th>\n",
       "      <th>total_area</th>\n",
       "      <th>first_day_exposition</th>\n",
       "      <th>rooms</th>\n",
       "      <th>ceiling_height</th>\n",
       "      <th>floors_total</th>\n",
       "      <th>living_area</th>\n",
       "      <th>floor</th>\n",
       "      <th>is_apartment</th>\n",
       "      <th>studio</th>\n",
       "      <th>open_plan</th>\n",
       "      <th>kitchen_area</th>\n",
       "      <th>balcony</th>\n",
       "      <th>locality_name</th>\n",
       "      <th>airports_nearest</th>\n",
       "      <th>cityCenters_nearest</th>\n",
       "      <th>parks_around3000</th>\n",
       "      <th>parks_nearest</th>\n",
       "      <th>ponds_around3000</th>\n",
       "      <th>ponds_nearest</th>\n",
       "      <th>days_exposition</th>\n",
       "      <th>price_one_m</th>\n",
       "      <th>day_of_week</th>\n",
       "      <th>month</th>\n",
       "      <th>year</th>\n",
       "      <th>floor_type</th>\n",
       "      <th>cityCenters_nearest_in_m</th>\n",
       "      <th>last_price_mln</th>\n",
       "    </tr>\n",
       "  </thead>\n",
       "  <tbody>\n",
       "    <tr>\n",
       "      <th>1109</th>\n",
       "      <td>1</td>\n",
       "      <td>34878556.0</td>\n",
       "      <td>95.80</td>\n",
       "      <td>2014-12-09</td>\n",
       "      <td>2</td>\n",
       "      <td>2.771499</td>\n",
       "      <td>6</td>\n",
       "      <td>58.30</td>\n",
       "      <td>5</td>\n",
       "      <td>True</td>\n",
       "      <td>False</td>\n",
       "      <td>False</td>\n",
       "      <td>20.00</td>\n",
       "      <td>1.0</td>\n",
       "      <td>Санкт-Петербург</td>\n",
       "      <td>21860.0</td>\n",
       "      <td>318.0</td>\n",
       "      <td>2.0</td>\n",
       "      <td>160.0</td>\n",
       "      <td>3.0</td>\n",
       "      <td>569.0</td>\n",
       "      <td>1572.0</td>\n",
       "      <td>364076.78</td>\n",
       "      <td>1</td>\n",
       "      <td>12</td>\n",
       "      <td>2014</td>\n",
       "      <td>другой</td>\n",
       "      <td>0.0</td>\n",
       "      <td>34.878556</td>\n",
       "    </tr>\n",
       "    <tr>\n",
       "      <th>1885</th>\n",
       "      <td>2</td>\n",
       "      <td>13300000.0</td>\n",
       "      <td>79.60</td>\n",
       "      <td>2014-12-09</td>\n",
       "      <td>2</td>\n",
       "      <td>3.000000</td>\n",
       "      <td>8</td>\n",
       "      <td>42.70</td>\n",
       "      <td>7</td>\n",
       "      <td>False</td>\n",
       "      <td>False</td>\n",
       "      <td>False</td>\n",
       "      <td>18.00</td>\n",
       "      <td>0.0</td>\n",
       "      <td>Санкт-Петербург</td>\n",
       "      <td>39393.0</td>\n",
       "      <td>11096.0</td>\n",
       "      <td>1.0</td>\n",
       "      <td>537.0</td>\n",
       "      <td>0.0</td>\n",
       "      <td>NaN</td>\n",
       "      <td>1513.0</td>\n",
       "      <td>167085.43</td>\n",
       "      <td>1</td>\n",
       "      <td>12</td>\n",
       "      <td>2014</td>\n",
       "      <td>другой</td>\n",
       "      <td>11.0</td>\n",
       "      <td>13.300000</td>\n",
       "    </tr>\n",
       "    <tr>\n",
       "      <th>9553</th>\n",
       "      <td>11</td>\n",
       "      <td>10600000.0</td>\n",
       "      <td>80.00</td>\n",
       "      <td>2014-12-09</td>\n",
       "      <td>3</td>\n",
       "      <td>2.850000</td>\n",
       "      <td>17</td>\n",
       "      <td>44.00</td>\n",
       "      <td>9</td>\n",
       "      <td>False</td>\n",
       "      <td>False</td>\n",
       "      <td>False</td>\n",
       "      <td>15.00</td>\n",
       "      <td>0.0</td>\n",
       "      <td>Санкт-Петербург</td>\n",
       "      <td>17101.0</td>\n",
       "      <td>17110.0</td>\n",
       "      <td>0.0</td>\n",
       "      <td>NaN</td>\n",
       "      <td>0.0</td>\n",
       "      <td>NaN</td>\n",
       "      <td>1553.0</td>\n",
       "      <td>132500.00</td>\n",
       "      <td>1</td>\n",
       "      <td>12</td>\n",
       "      <td>2014</td>\n",
       "      <td>другой</td>\n",
       "      <td>17.0</td>\n",
       "      <td>10.600000</td>\n",
       "    </tr>\n",
       "    <tr>\n",
       "      <th>6691</th>\n",
       "      <td>3</td>\n",
       "      <td>4400000.0</td>\n",
       "      <td>42.98</td>\n",
       "      <td>2014-12-12</td>\n",
       "      <td>1</td>\n",
       "      <td>2.771499</td>\n",
       "      <td>5</td>\n",
       "      <td>18.72</td>\n",
       "      <td>1</td>\n",
       "      <td>False</td>\n",
       "      <td>False</td>\n",
       "      <td>False</td>\n",
       "      <td>11.31</td>\n",
       "      <td>0.0</td>\n",
       "      <td>Пушкин</td>\n",
       "      <td>19715.0</td>\n",
       "      <td>30358.0</td>\n",
       "      <td>1.0</td>\n",
       "      <td>439.0</td>\n",
       "      <td>3.0</td>\n",
       "      <td>232.0</td>\n",
       "      <td>1512.0</td>\n",
       "      <td>102373.20</td>\n",
       "      <td>4</td>\n",
       "      <td>12</td>\n",
       "      <td>2014</td>\n",
       "      <td>первый</td>\n",
       "      <td>30.0</td>\n",
       "      <td>4.400000</td>\n",
       "    </tr>\n",
       "    <tr>\n",
       "      <th>18843</th>\n",
       "      <td>11</td>\n",
       "      <td>3500000.0</td>\n",
       "      <td>48.20</td>\n",
       "      <td>2014-12-15</td>\n",
       "      <td>2</td>\n",
       "      <td>2.500000</td>\n",
       "      <td>5</td>\n",
       "      <td>27.40</td>\n",
       "      <td>2</td>\n",
       "      <td>False</td>\n",
       "      <td>False</td>\n",
       "      <td>False</td>\n",
       "      <td>7.70</td>\n",
       "      <td>3.0</td>\n",
       "      <td>Новое Девяткино</td>\n",
       "      <td>NaN</td>\n",
       "      <td>NaN</td>\n",
       "      <td>0.0</td>\n",
       "      <td>NaN</td>\n",
       "      <td>0.0</td>\n",
       "      <td>NaN</td>\n",
       "      <td>1580.0</td>\n",
       "      <td>72614.11</td>\n",
       "      <td>0</td>\n",
       "      <td>12</td>\n",
       "      <td>2014</td>\n",
       "      <td>другой</td>\n",
       "      <td>NaN</td>\n",
       "      <td>3.500000</td>\n",
       "    </tr>\n",
       "  </tbody>\n",
       "</table>\n",
       "</div>"
      ],
      "text/plain": [
       "       total_images  last_price  total_area first_day_exposition  rooms  \\\n",
       "1109              1  34878556.0       95.80           2014-12-09      2   \n",
       "1885              2  13300000.0       79.60           2014-12-09      2   \n",
       "9553             11  10600000.0       80.00           2014-12-09      3   \n",
       "6691              3   4400000.0       42.98           2014-12-12      1   \n",
       "18843            11   3500000.0       48.20           2014-12-15      2   \n",
       "\n",
       "       ceiling_height  floors_total  living_area  floor  is_apartment  studio  \\\n",
       "1109         2.771499             6        58.30      5          True   False   \n",
       "1885         3.000000             8        42.70      7         False   False   \n",
       "9553         2.850000            17        44.00      9         False   False   \n",
       "6691         2.771499             5        18.72      1         False   False   \n",
       "18843        2.500000             5        27.40      2         False   False   \n",
       "\n",
       "       open_plan  kitchen_area  balcony    locality_name  airports_nearest  \\\n",
       "1109       False         20.00      1.0  Санкт-Петербург           21860.0   \n",
       "1885       False         18.00      0.0  Санкт-Петербург           39393.0   \n",
       "9553       False         15.00      0.0  Санкт-Петербург           17101.0   \n",
       "6691       False         11.31      0.0           Пушкин           19715.0   \n",
       "18843      False          7.70      3.0  Новое Девяткино               NaN   \n",
       "\n",
       "       cityCenters_nearest  parks_around3000  parks_nearest  ponds_around3000  \\\n",
       "1109                 318.0               2.0          160.0               3.0   \n",
       "1885               11096.0               1.0          537.0               0.0   \n",
       "9553               17110.0               0.0            NaN               0.0   \n",
       "6691               30358.0               1.0          439.0               3.0   \n",
       "18843                  NaN               0.0            NaN               0.0   \n",
       "\n",
       "       ponds_nearest  days_exposition  price_one_m  day_of_week  month  year  \\\n",
       "1109           569.0           1572.0    364076.78            1     12  2014   \n",
       "1885             NaN           1513.0    167085.43            1     12  2014   \n",
       "9553             NaN           1553.0    132500.00            1     12  2014   \n",
       "6691           232.0           1512.0    102373.20            4     12  2014   \n",
       "18843            NaN           1580.0     72614.11            0     12  2014   \n",
       "\n",
       "      floor_type  cityCenters_nearest_in_m  last_price_mln  \n",
       "1109      другой                       0.0       34.878556  \n",
       "1885      другой                      11.0       13.300000  \n",
       "9553      другой                      17.0       10.600000  \n",
       "6691      первый                      30.0        4.400000  \n",
       "18843     другой                       NaN        3.500000  "
      ]
     },
     "metadata": {},
     "output_type": "display_data"
    }
   ],
   "source": [
    "display(data.query('days_exposition > 1500').sort_values(by='first_day_exposition'))"
   ]
  },
  {
   "cell_type": "markdown",
   "metadata": {},
   "source": [
    "Тут конечно выбивается квартира за 34+млн. И в Новое Девяткино никто не хочет ехать."
   ]
  },
  {
   "cell_type": "markdown",
   "metadata": {},
   "source": [
    "#### Факторы, влияющие на стоимость объекта"
   ]
  },
  {
   "cell_type": "markdown",
   "metadata": {},
   "source": [
    "Изучим, зависит ли цена от:\n",
    "1. общей площади;\n",
    "2. жилой площади;\n",
    "3. площади кухни;\n",
    "4. количества комнат;\n",
    "5. этажа, на котором расположена квартира (первый, последний, другой);\n",
    "6. даты размещения (день недели, месяц, год)."
   ]
  },
  {
   "cell_type": "markdown",
   "metadata": {},
   "source": [
    "##### Зависимость цены от общей площади"
   ]
  },
  {
   "cell_type": "code",
   "execution_count": 40,
   "metadata": {},
   "outputs": [
    {
     "data": {
      "image/png": "[encoded data removed]",
      "text/plain": [
       "<Figure size 576x432 with 1 Axes>"
      ]
     },
     "metadata": {
      "needs_background": "light"
     },
     "output_type": "display_data"
    }
   ],
   "source": [
    "data_corr = data.pivot_table(index='total_area', values='last_price', aggfunc=['first', 'median'])\n",
    "data_corr.columns = ['total_area' , 'last_price']\n",
    "data_corr.plot(x='total_area', y='last_price', kind='scatter', alpha=0.05, figsize=(8, 6), grid=True) # Тут сомнения есть, что сделал правильно\n",
    "None"
   ]
  },
  {
   "cell_type": "markdown",
   "metadata": {},
   "source": [
    "Посчитаем корреляцию"
   ]
  },
  {
   "cell_type": "code",
   "execution_count": 41,
   "metadata": {},
   "outputs": [
    {
     "name": "stdout",
     "output_type": "stream",
     "text": [
      "0.7698890102653946\n"
     ]
    }
   ],
   "source": [
    "print(data['total_area'].corr(data['last_price']))"
   ]
  },
  {
   "cell_type": "markdown",
   "metadata": {},
   "source": [
    "Наблюдается положительная корреляция"
   ]
  },
  {
   "cell_type": "markdown",
   "metadata": {},
   "source": [
    "##### Зависимость цены от жилой площади"
   ]
  },
  {
   "cell_type": "code",
   "execution_count": 42,
   "metadata": {},
   "outputs": [
    {
     "data": {
      "image/png": "[encoded data removed]",
      "text/plain": [
       "<Figure size 576x432 with 1 Axes>"
      ]
     },
     "metadata": {
      "needs_background": "light"
     },
     "output_type": "display_data"
    }
   ],
   "source": [
    "data.plot(x='living_area', y='last_price', kind='scatter', alpha=0.05, figsize=(8, 6), grid=True)\n",
    "None"
   ]
  },
  {
   "cell_type": "code",
   "execution_count": 43,
   "metadata": {},
   "outputs": [
    {
     "name": "stdout",
     "output_type": "stream",
     "text": [
      "0.659463412183142\n"
     ]
    }
   ],
   "source": [
    "print(data['living_area'].corr(data['last_price']))"
   ]
  },
  {
   "cell_type": "markdown",
   "metadata": {},
   "source": [
    "Также наблюдается положительная корреляция"
   ]
  },
  {
   "cell_type": "markdown",
   "metadata": {},
   "source": [
    "##### Зависимость цены от площади кухни"
   ]
  },
  {
   "cell_type": "code",
   "execution_count": 44,
   "metadata": {},
   "outputs": [
    {
     "data": {
      "image/png": "[encoded data removed]",
      "text/plain": [
       "<Figure size 576x432 with 1 Axes>"
      ]
     },
     "metadata": {
      "needs_background": "light"
     },
     "output_type": "display_data"
    }
   ],
   "source": [
    "data.plot(x='kitchen_area', y='last_price', kind='scatter', alpha=0.05, figsize=(8, 6), grid=True)\n",
    "None"
   ]
  },
  {
   "cell_type": "code",
   "execution_count": 45,
   "metadata": {},
   "outputs": [
    {
     "name": "stdout",
     "output_type": "stream",
     "text": [
      "0.5374979220960652\n"
     ]
    }
   ],
   "source": [
    "print(data['kitchen_area'].corr(data['last_price']))"
   ]
  },
  {
   "cell_type": "markdown",
   "metadata": {},
   "source": [
    "Здесь зависимость слабее, но она есть."
   ]
  },
  {
   "cell_type": "markdown",
   "metadata": {},
   "source": [
    "##### Зависимсоть цены от количества комнат"
   ]
  },
  {
   "cell_type": "code",
   "execution_count": 46,
   "metadata": {},
   "outputs": [
    {
     "data": {
      "image/png": "[encoded data removed]",
      "text/plain": [
       "<Figure size 576x432 with 1 Axes>"
      ]
     },
     "metadata": {
      "needs_background": "light"
     },
     "output_type": "display_data"
    }
   ],
   "source": [
    "data.plot(x='rooms', y='last_price', kind='scatter', alpha=0.05, figsize=(8, 6), grid=True)\n",
    "None"
   ]
  },
  {
   "cell_type": "code",
   "execution_count": 47,
   "metadata": {},
   "outputs": [
    {
     "name": "stdout",
     "output_type": "stream",
     "text": [
      "0.48588027715184395\n"
     ]
    }
   ],
   "source": [
    "print(data['rooms'].corr(data['last_price']))"
   ]
  },
  {
   "cell_type": "markdown",
   "metadata": {},
   "source": [
    "##### Зависимость этажа на стоимость"
   ]
  },
  {
   "cell_type": "code",
   "execution_count": 48,
   "metadata": {},
   "outputs": [
    {
     "data": {
      "image/png": "[encoded data removed]",
      "text/plain": [
       "<Figure size 432x288 with 1 Axes>"
      ]
     },
     "metadata": {
      "needs_background": "light"
     },
     "output_type": "display_data"
    }
   ],
   "source": [
    "data.groupby('floor')['last_price'].median().plot.bar()\n",
    "None"
   ]
  },
  {
   "cell_type": "code",
   "execution_count": 49,
   "metadata": {},
   "outputs": [
    {
     "data": {
      "image/png": "[encoded data removed]",
      "text/plain": [
       "<Figure size 432x288 with 1 Axes>"
      ]
     },
     "metadata": {
      "needs_background": "light"
     },
     "output_type": "display_data"
    }
   ],
   "source": [
    "data.groupby('floor_type')['last_price'].median().plot.bar()\n",
    "None"
   ]
  },
  {
   "cell_type": "code",
   "execution_count": 50,
   "metadata": {},
   "outputs": [
    {
     "data": {
      "image/png": "[encoded data removed]",
      "text/plain": [
       "<Figure size 432x288 with 1 Axes>"
      ]
     },
     "metadata": {
      "needs_background": "light"
     },
     "output_type": "display_data"
    }
   ],
   "source": [
    "data.groupby('day_of_week')['last_price'].median().plot.bar()\n",
    "None"
   ]
  },
  {
   "cell_type": "code",
   "execution_count": 51,
   "metadata": {},
   "outputs": [
    {
     "data": {
      "image/png": "[encoded data removed]",
      "text/plain": [
       "<Figure size 432x288 with 1 Axes>"
      ]
     },
     "metadata": {
      "needs_background": "light"
     },
     "output_type": "display_data"
    }
   ],
   "source": [
    "data.groupby('month')['last_price'].median().plot.bar()\n",
    "None"
   ]
  },
  {
   "cell_type": "code",
   "execution_count": 52,
   "metadata": {},
   "outputs": [
    {
     "data": {
      "image/png": "[encoded data removed]",
      "text/plain": [
       "<Figure size 432x288 with 1 Axes>"
      ]
     },
     "metadata": {
      "needs_background": "light"
     },
     "output_type": "display_data"
    }
   ],
   "source": [
    "data.groupby('year')['last_price'].median().plot.bar()\n",
    "None"
   ]
  },
  {
   "cell_type": "markdown",
   "metadata": {},
   "source": [
    "#### Средняя цена по населенным пунктам"
   ]
  },
  {
   "cell_type": "markdown",
   "metadata": {},
   "source": [
    "Выявим населенные пункты с самым дорогим и самым дешевым квадратным метром."
   ]
  },
  {
   "cell_type": "code",
   "execution_count": 53,
   "metadata": {},
   "outputs": [
    {
     "name": "stdout",
     "output_type": "stream",
     "text": [
      "                   price_one_m\n",
      "locality_name                 \n",
      "Зеленогорск      116185.257391\n",
      "Санкт-Петербург  111195.478564\n",
      "Репино           104238.612500\n",
      "Пушкин           103619.376269\n",
      "Сестрорецк       101656.010904\n",
      "Лисий Нос        100660.816667\n",
      "Мистолово         98549.977273\n",
      "Левашово          96997.690000\n",
      "Кудрово           94999.006421\n",
      "Парголово         90382.525656\n"
     ]
    }
   ],
   "source": [
    "print(data.pivot_table(index='locality_name', values='price_one_m').sort_values(by='price_one_m', ascending=False).head(10))"
   ]
  },
  {
   "cell_type": "markdown",
   "metadata": {},
   "source": [
    "Как оказывается, самые дорогой квадратный метр в Зеленогорске. А как же вторая столица?"
   ]
  },
  {
   "cell_type": "code",
   "execution_count": 54,
   "metadata": {},
   "outputs": [
    {
     "name": "stdout",
     "output_type": "stream",
     "text": [
      "                 price_one_m\n",
      "locality_name               \n",
      "Старополье         11206.220\n",
      "Свирь              11481.480\n",
      "Вахнова Кара       11688.310\n",
      "Выскатка           12335.480\n",
      "Совхозный          12629.130\n",
      "Малая Романовка    12724.550\n",
      "Тёсово-4           12931.030\n",
      "Сижно              13709.680\n",
      "Ям-Тесово          13711.555\n",
      "Житково            14956.275\n"
     ]
    }
   ],
   "source": [
    "print(data.pivot_table(index='locality_name', values='price_one_m').sort_values(by='price_one_m').head(10))"
   ]
  },
  {
   "cell_type": "code",
   "execution_count": 55,
   "metadata": {},
   "outputs": [
    {
     "data": {
      "image/png": "[encoded data removed]",
      "text/plain": [
       "<Figure size 432x288 with 1 Axes>"
      ]
     },
     "metadata": {
      "needs_background": "light"
     },
     "output_type": "display_data"
    }
   ],
   "source": [
    "data.pivot_table(index='locality_name', values='price_one_m').sort_values(by='price_one_m', ascending=False).head(10).plot.bar()\n",
    "None"
   ]
  },
  {
   "cell_type": "markdown",
   "metadata": {},
   "source": [
    "А самый дешевый кваратный метр в Старополье."
   ]
  },
  {
   "cell_type": "markdown",
   "metadata": {},
   "source": [
    "#### Изучаем Питер"
   ]
  },
  {
   "cell_type": "markdown",
   "metadata": {},
   "source": [
    "Вычислим как удаленность от центра влияет на стоимость."
   ]
  },
  {
   "cell_type": "code",
   "execution_count": 56,
   "metadata": {},
   "outputs": [],
   "source": [
    "data_piter = data.query('locality_name == \"Санкт-Петербург\"')\n",
    "data_piter['price_center_km'] = round(data_piter['last_price'] / data_piter['cityCenters_nearest_in_m'], 2) #вычисли среднюю стоимость километра"
   ]
  },
  {
   "cell_type": "markdown",
   "metadata": {},
   "source": [
    "Построим график зависимости близости к центру и ценой квадратного метра"
   ]
  },
  {
   "cell_type": "code",
   "execution_count": 57,
   "metadata": {},
   "outputs": [
    {
     "data": {
      "image/png": "[encoded data removed]",
      "text/plain": [
       "<Figure size 576x432 with 1 Axes>"
      ]
     },
     "metadata": {
      "needs_background": "light"
     },
     "output_type": "display_data"
    }
   ],
   "source": [
    "data_piter.plot(x='cityCenters_nearest_in_m', y='price_center_km', kind='scatter', alpha=0.05, figsize=(8, 6), grid=True)\n",
    "None"
   ]
  },
  {
   "cell_type": "code",
   "execution_count": 58,
   "metadata": {},
   "outputs": [
    {
     "data": {
      "image/png": "[encoded data removed]",
      "text/plain": [
       "<Figure size 432x288 with 1 Axes>"
      ]
     },
     "metadata": {
      "needs_background": "light"
     },
     "output_type": "display_data"
    }
   ],
   "source": [
    "data_piter.groupby('cityCenters_nearest_in_m')['last_price'].mean().plot()\n",
    "None"
   ]
  },
  {
   "cell_type": "markdown",
   "metadata": {},
   "source": [
    "Связь очевидна, чем ближе к центру, тем дороже квартиры."
   ]
  },
  {
   "cell_type": "markdown",
   "metadata": {},
   "source": [
    "### Общий вывод"
   ]
  },
  {
   "cell_type": "markdown",
   "metadata": {},
   "source": [
    "Мы провели анализ данных архива объявлений о продаже недвижимости в Ленинградской области.\n",
    "Выявили некоторое количество отсутствующих данных и заполнили там, где уместно.\n",
    "Удалили явные дубликаты.\n",
    "Привели в порядок неявные дубликаты в названия населенных пунктов.\n",
    "Посчитали среднюю ценю квадратного метра.\n",
    "Категоризовали этажность объектов.\n",
    "\n",
    "**Сделали анализ данных, выявили выбросы и построили гистграммы в следующих наборах:**\n",
    "1. Общая площадь\n",
    "2. Жилая площадь\n",
    "3. Площадь кухни\n",
    "4. Цена объекта\n",
    "5. Количество комнат\n",
    "6. Высота потолков\n",
    "7. Тип этажа квартиры\n",
    "8. Общее количество этажей в доме\n",
    "9. Расстояние до центра города в метрах\n",
    "10. Расстояние до ближайшего парка\n",
    "\n",
    "**Изучили как быстро (медленно) продавались квартиры.**\n",
    "\n",
    "**Изучили факторы влияющие на стоимость объекта такие как:**\n",
    "1. общая площади - есть сильная прямая положительная зависимость\n",
    "2. жилая площади - есть средняя прямая положительная зависимость\n",
    "3. площади кухни - есть средняя прямая положительная зависимость\n",
    "4. количество комнат - есть средняя прямая положительная зависимость\n",
    "5. тип этажа (первый, последний, другой) - ???\n",
    "6. дата размещения (день недели, месяц, год) - зависимости нет\n",
    "\n",
    "**Выявили Топ-10 самых дорогих квадратных метров по населенным пунктам:**\n",
    "1. Зеленогорск      116185.257391\n",
    "2. Санкт-Петербург  111195.478564\n",
    "3. Репино           104238.612500\n",
    "4. Пушкин           103619.376269\n",
    "5. Сестрорецк       101656.010904\n",
    "6. Лисий Нос        100660.816667\n",
    "7. Мистолово         98549.977273\n",
    "8. Левашово          96997.690000\n",
    "9. Кудрово           94999.006421\n",
    "10. Парголово         90382.525656\n",
    "\n",
    "**Выявили Топ-10 самых дешевых квадратных метров по населенным пунктам:**\n",
    "1. Старополье         11206.220\n",
    "2. Свирь              11481.480\n",
    "3. Вахнова Кара       11688.310\n",
    "4. Выскатка           12335.480\n",
    "5. Совхозный          12629.130\n",
    "6. Малая Романовка    12724.550\n",
    "7. Тёсово-4           12931.030\n",
    "8. Сижно              13709.680\n",
    "9. Ям-Тесово          13711.555\n",
    "10. Житково            14956.275\n",
    "\n",
    "В заключение подтвердили теорию, что удаленность от центра влияет на стоимость квартир."
   ]
  }
 ],
 "metadata": {
  "ExecuteTimeLog": [
   {
    "duration": 492,
    "start_time": "2023-09-10T17:17:45.204Z"
   },
   {
    "duration": 294,
    "start_time": "2023-09-10T17:19:22.098Z"
   },
   {
    "duration": 91,
    "start_time": "2023-09-10T17:19:41.051Z"
   },
   {
    "duration": 196,
    "start_time": "2023-09-10T17:20:06.397Z"
   },
   {
    "duration": 80,
    "start_time": "2023-09-10T17:20:14.480Z"
   },
   {
    "duration": 78,
    "start_time": "2023-09-10T17:25:22.388Z"
   },
   {
    "duration": 70,
    "start_time": "2023-09-10T17:25:31.773Z"
   },
   {
    "duration": 76,
    "start_time": "2023-09-10T17:25:46.005Z"
   },
   {
    "duration": 89,
    "start_time": "2023-09-10T17:25:54.890Z"
   },
   {
    "duration": 98,
    "start_time": "2023-09-10T17:28:04.872Z"
   },
   {
    "duration": 76,
    "start_time": "2023-09-10T17:28:11.256Z"
   },
   {
    "duration": 78,
    "start_time": "2023-09-10T17:28:17.310Z"
   },
   {
    "duration": 89,
    "start_time": "2023-09-10T17:38:03.320Z"
   },
   {
    "duration": 76,
    "start_time": "2023-09-10T17:38:19.060Z"
   },
   {
    "duration": 88,
    "start_time": "2023-09-10T17:38:24.992Z"
   },
   {
    "duration": 89,
    "start_time": "2023-09-10T17:42:08.917Z"
   },
   {
    "duration": 87,
    "start_time": "2023-09-10T17:42:41.904Z"
   },
   {
    "duration": 89,
    "start_time": "2023-09-10T17:42:45.034Z"
   },
   {
    "duration": 88,
    "start_time": "2023-09-10T17:43:27.212Z"
   },
   {
    "duration": 86,
    "start_time": "2023-09-10T17:43:28.245Z"
   },
   {
    "duration": 1808,
    "start_time": "2023-09-10T18:01:49.108Z"
   },
   {
    "duration": 114,
    "start_time": "2023-09-10T18:02:24.511Z"
   },
   {
    "duration": 85,
    "start_time": "2023-09-10T18:03:05.983Z"
   },
   {
    "duration": 105,
    "start_time": "2023-09-10T18:03:38.565Z"
   },
   {
    "duration": 2512,
    "start_time": "2023-09-10T18:05:08.690Z"
   },
   {
    "duration": 3308,
    "start_time": "2023-09-11T17:29:33.903Z"
   },
   {
    "duration": 8534,
    "start_time": "2023-09-13T18:35:56.621Z"
   },
   {
    "duration": 1383,
    "start_time": "2023-09-13T19:03:04.639Z"
   },
   {
    "duration": 697,
    "start_time": "2023-09-13T19:03:33.542Z"
   },
   {
    "duration": 2230,
    "start_time": "2023-09-13T19:03:57.237Z"
   },
   {
    "duration": 5,
    "start_time": "2023-09-13T19:04:53.635Z"
   },
   {
    "duration": 7,
    "start_time": "2023-09-13T19:06:45.340Z"
   },
   {
    "duration": 7,
    "start_time": "2023-09-13T19:08:08.161Z"
   },
   {
    "duration": 7,
    "start_time": "2023-09-13T19:09:16.468Z"
   },
   {
    "duration": 6,
    "start_time": "2023-09-13T19:11:41.920Z"
   },
   {
    "duration": 8,
    "start_time": "2023-09-13T19:12:09.265Z"
   },
   {
    "duration": 8,
    "start_time": "2023-09-13T19:13:50.542Z"
   },
   {
    "duration": 115,
    "start_time": "2023-09-13T19:14:51.442Z"
   },
   {
    "duration": 4,
    "start_time": "2023-09-13T19:16:02.961Z"
   },
   {
    "duration": 8,
    "start_time": "2023-09-13T19:16:14.235Z"
   },
   {
    "duration": 26,
    "start_time": "2023-09-13T19:17:30.077Z"
   },
   {
    "duration": 42,
    "start_time": "2023-09-13T19:19:46.146Z"
   },
   {
    "duration": 215,
    "start_time": "2023-09-13T19:21:15.817Z"
   },
   {
    "duration": 40,
    "start_time": "2023-09-13T19:21:33.219Z"
   },
   {
    "duration": 34,
    "start_time": "2023-09-13T19:21:39.379Z"
   },
   {
    "duration": 37,
    "start_time": "2023-09-13T19:21:54.502Z"
   },
   {
    "duration": 41,
    "start_time": "2023-09-13T19:22:14.640Z"
   },
   {
    "duration": 29,
    "start_time": "2023-09-13T19:22:35.723Z"
   },
   {
    "duration": 37,
    "start_time": "2023-09-13T19:22:51.237Z"
   },
   {
    "duration": 36,
    "start_time": "2023-09-13T19:32:12.161Z"
   },
   {
    "duration": 24,
    "start_time": "2023-09-13T19:32:26.688Z"
   },
   {
    "duration": 24,
    "start_time": "2023-09-13T19:32:39.459Z"
   },
   {
    "duration": 27,
    "start_time": "2023-09-13T19:33:01.824Z"
   },
   {
    "duration": 34,
    "start_time": "2023-09-13T19:33:45.168Z"
   },
   {
    "duration": 3103,
    "start_time": "2023-09-13T19:33:57.892Z"
   },
   {
    "duration": 29,
    "start_time": "2023-09-13T19:34:00.998Z"
   },
   {
    "duration": 27,
    "start_time": "2023-09-13T19:34:25.761Z"
   },
   {
    "duration": 27,
    "start_time": "2023-09-13T19:35:08.911Z"
   },
   {
    "duration": 86,
    "start_time": "2023-09-13T19:36:20.660Z"
   },
   {
    "duration": 32,
    "start_time": "2023-09-13T19:36:49.063Z"
   },
   {
    "duration": 26,
    "start_time": "2023-09-13T19:37:03.883Z"
   },
   {
    "duration": 33,
    "start_time": "2023-09-13T19:37:29.691Z"
   },
   {
    "duration": 38,
    "start_time": "2023-09-13T19:38:57.691Z"
   },
   {
    "duration": 23,
    "start_time": "2023-09-13T19:39:51.179Z"
   },
   {
    "duration": 53,
    "start_time": "2023-09-13T19:42:10.860Z"
   },
   {
    "duration": 5,
    "start_time": "2023-09-13T20:27:00.210Z"
   },
   {
    "duration": 14,
    "start_time": "2023-09-13T20:27:36.171Z"
   },
   {
    "duration": 15,
    "start_time": "2023-09-13T20:27:52.032Z"
   },
   {
    "duration": 3544,
    "start_time": "2023-09-13T20:28:01.915Z"
   },
   {
    "duration": 56,
    "start_time": "2023-09-13T20:28:05.461Z"
   },
   {
    "duration": 19,
    "start_time": "2023-09-13T20:28:05.519Z"
   },
   {
    "duration": 9,
    "start_time": "2023-09-13T20:30:33.208Z"
   },
   {
    "duration": 217,
    "start_time": "2023-09-13T20:38:49.997Z"
   },
   {
    "duration": 235,
    "start_time": "2023-09-13T20:39:08.435Z"
   },
   {
    "duration": 282,
    "start_time": "2023-09-13T20:43:18.191Z"
   },
   {
    "duration": 382,
    "start_time": "2023-09-13T20:43:44.983Z"
   },
   {
    "duration": 88,
    "start_time": "2023-09-15T12:11:20.313Z"
   },
   {
    "duration": 3636,
    "start_time": "2023-09-15T12:11:26.674Z"
   },
   {
    "duration": 71,
    "start_time": "2023-09-15T12:11:30.313Z"
   },
   {
    "duration": 15,
    "start_time": "2023-09-15T12:11:30.386Z"
   },
   {
    "duration": 382,
    "start_time": "2023-09-15T12:11:30.403Z"
   },
   {
    "duration": 22,
    "start_time": "2023-09-15T12:11:48.298Z"
   },
   {
    "duration": 6,
    "start_time": "2023-09-15T12:28:58.568Z"
   },
   {
    "duration": 7,
    "start_time": "2023-09-15T12:29:18.161Z"
   },
   {
    "duration": 119,
    "start_time": "2023-09-15T12:34:18.355Z"
   },
   {
    "duration": 1596,
    "start_time": "2023-09-15T12:35:42.097Z"
   },
   {
    "duration": 11,
    "start_time": "2023-09-15T12:35:52.277Z"
   },
   {
    "duration": 14,
    "start_time": "2023-09-15T12:37:46.678Z"
   },
   {
    "duration": 13,
    "start_time": "2023-09-15T14:04:10.766Z"
   },
   {
    "duration": 3191,
    "start_time": "2023-09-15T14:05:18.527Z"
   },
   {
    "duration": 62,
    "start_time": "2023-09-15T14:05:21.720Z"
   },
   {
    "duration": 17,
    "start_time": "2023-09-15T14:05:21.783Z"
   },
   {
    "duration": 558,
    "start_time": "2023-09-15T14:05:21.802Z"
   },
   {
    "duration": 88,
    "start_time": "2023-09-15T14:05:22.361Z"
   },
   {
    "duration": 13,
    "start_time": "2023-09-15T14:05:23.481Z"
   },
   {
    "duration": 22,
    "start_time": "2023-09-15T14:07:37.753Z"
   },
   {
    "duration": 21,
    "start_time": "2023-09-15T14:07:54.212Z"
   },
   {
    "duration": 12,
    "start_time": "2023-09-15T14:08:21.801Z"
   },
   {
    "duration": 23,
    "start_time": "2023-09-15T14:19:40.110Z"
   },
   {
    "duration": 17,
    "start_time": "2023-09-15T14:19:46.199Z"
   },
   {
    "duration": 32,
    "start_time": "2023-09-15T14:20:14.551Z"
   },
   {
    "duration": 37,
    "start_time": "2023-09-15T14:20:20.917Z"
   },
   {
    "duration": 32,
    "start_time": "2023-09-15T14:20:48.440Z"
   },
   {
    "duration": 28,
    "start_time": "2023-09-15T14:20:55.061Z"
   },
   {
    "duration": 20,
    "start_time": "2023-09-15T14:22:36.752Z"
   },
   {
    "duration": 15,
    "start_time": "2023-09-15T14:23:11.882Z"
   },
   {
    "duration": 39,
    "start_time": "2023-09-15T14:33:08.243Z"
   },
   {
    "duration": 42,
    "start_time": "2023-09-15T14:33:43.255Z"
   },
   {
    "duration": 22,
    "start_time": "2023-09-15T14:45:27.689Z"
   },
   {
    "duration": 47,
    "start_time": "2023-09-15T14:51:03.842Z"
   },
   {
    "duration": 57,
    "start_time": "2023-09-15T14:54:06.323Z"
   },
   {
    "duration": 33,
    "start_time": "2023-09-15T14:55:13.554Z"
   },
   {
    "duration": 60,
    "start_time": "2023-09-15T15:03:32.914Z"
   },
   {
    "duration": 23,
    "start_time": "2023-09-15T15:03:47.782Z"
   },
   {
    "duration": 3554,
    "start_time": "2023-09-15T15:03:58.212Z"
   },
   {
    "duration": 54,
    "start_time": "2023-09-15T15:04:01.779Z"
   },
   {
    "duration": 43,
    "start_time": "2023-09-15T15:04:01.838Z"
   },
   {
    "duration": 436,
    "start_time": "2023-09-15T15:04:01.883Z"
   },
   {
    "duration": 138,
    "start_time": "2023-09-15T15:04:02.321Z"
   },
   {
    "duration": 33,
    "start_time": "2023-09-15T15:04:04.952Z"
   },
   {
    "duration": 16,
    "start_time": "2023-09-15T15:04:30.500Z"
   },
   {
    "duration": 512,
    "start_time": "2023-09-15T15:04:56.304Z"
   },
   {
    "duration": 26,
    "start_time": "2023-09-15T15:06:08.306Z"
   },
   {
    "duration": 49,
    "start_time": "2023-09-15T15:30:09.067Z"
   },
   {
    "duration": 44,
    "start_time": "2023-09-15T15:31:17.149Z"
   },
   {
    "duration": 33,
    "start_time": "2023-09-15T15:32:08.639Z"
   },
   {
    "duration": 36,
    "start_time": "2023-09-15T15:32:41.442Z"
   },
   {
    "duration": 25,
    "start_time": "2023-09-15T15:42:45.090Z"
   },
   {
    "duration": 2817,
    "start_time": "2023-09-15T15:50:04.602Z"
   },
   {
    "duration": 28,
    "start_time": "2023-09-15T16:32:03.346Z"
   },
   {
    "duration": 23,
    "start_time": "2023-09-15T16:32:37.091Z"
   },
   {
    "duration": 24,
    "start_time": "2023-09-15T16:34:11.286Z"
   },
   {
    "duration": 11,
    "start_time": "2023-09-15T16:35:09.598Z"
   },
   {
    "duration": 40,
    "start_time": "2023-09-15T16:35:36.554Z"
   },
   {
    "duration": 3534,
    "start_time": "2023-09-15T16:35:42.770Z"
   },
   {
    "duration": 79,
    "start_time": "2023-09-15T16:35:46.307Z"
   },
   {
    "duration": 26,
    "start_time": "2023-09-15T16:35:46.390Z"
   },
   {
    "duration": 500,
    "start_time": "2023-09-15T16:35:46.418Z"
   },
   {
    "duration": 31,
    "start_time": "2023-09-15T16:35:46.920Z"
   },
   {
    "duration": 19,
    "start_time": "2023-09-15T16:41:51.897Z"
   },
   {
    "duration": 18,
    "start_time": "2023-09-15T16:41:59.072Z"
   },
   {
    "duration": 103,
    "start_time": "2023-09-15T16:47:07.569Z"
   },
   {
    "duration": 19,
    "start_time": "2023-09-15T16:47:27.889Z"
   },
   {
    "duration": 21,
    "start_time": "2023-09-15T16:49:56.468Z"
   },
   {
    "duration": 19,
    "start_time": "2023-09-15T16:56:41.376Z"
   },
   {
    "duration": 17,
    "start_time": "2023-09-15T17:01:21.868Z"
   },
   {
    "duration": 28,
    "start_time": "2023-09-15T17:01:39.856Z"
   },
   {
    "duration": 425,
    "start_time": "2023-09-15T17:30:36.368Z"
   },
   {
    "duration": 395,
    "start_time": "2023-09-15T17:38:06.865Z"
   },
   {
    "duration": 488,
    "start_time": "2023-09-15T17:40:02.311Z"
   },
   {
    "duration": 374,
    "start_time": "2023-09-15T17:40:10.863Z"
   },
   {
    "duration": 455,
    "start_time": "2023-09-15T17:40:40.281Z"
   },
   {
    "duration": 473,
    "start_time": "2023-09-15T17:40:59.213Z"
   },
   {
    "duration": 9,
    "start_time": "2023-09-15T17:47:46.559Z"
   },
   {
    "duration": 225,
    "start_time": "2023-09-15T17:49:20.561Z"
   },
   {
    "duration": 135,
    "start_time": "2023-09-15T17:52:07.572Z"
   },
   {
    "duration": 133,
    "start_time": "2023-09-15T17:52:24.479Z"
   },
   {
    "duration": 12,
    "start_time": "2023-09-15T17:52:31.515Z"
   },
   {
    "duration": 16,
    "start_time": "2023-09-15T17:56:20.598Z"
   },
   {
    "duration": 47,
    "start_time": "2023-09-16T04:57:44.837Z"
   },
   {
    "duration": 3336,
    "start_time": "2023-09-16T04:57:51.705Z"
   },
   {
    "duration": 43,
    "start_time": "2023-09-16T04:57:55.043Z"
   },
   {
    "duration": 63,
    "start_time": "2023-09-16T04:57:55.087Z"
   },
   {
    "duration": 374,
    "start_time": "2023-09-16T04:57:55.152Z"
   },
   {
    "duration": 347,
    "start_time": "2023-09-16T04:57:55.539Z"
   },
   {
    "duration": 134,
    "start_time": "2023-09-16T04:57:55.888Z"
   },
   {
    "duration": 189,
    "start_time": "2023-09-16T04:57:56.024Z"
   },
   {
    "duration": 410,
    "start_time": "2023-09-16T05:00:02.943Z"
   },
   {
    "duration": 150,
    "start_time": "2023-09-16T05:00:09.176Z"
   },
   {
    "duration": 155,
    "start_time": "2023-09-16T05:00:54.029Z"
   },
   {
    "duration": 239,
    "start_time": "2023-09-16T05:01:17.621Z"
   },
   {
    "duration": 9,
    "start_time": "2023-09-16T05:06:52.871Z"
   },
   {
    "duration": 108,
    "start_time": "2023-09-16T05:08:49.783Z"
   },
   {
    "duration": 3484,
    "start_time": "2023-09-16T09:13:23.975Z"
   },
   {
    "duration": 49,
    "start_time": "2023-09-16T09:13:27.462Z"
   },
   {
    "duration": 21,
    "start_time": "2023-09-16T09:13:27.513Z"
   },
   {
    "duration": 349,
    "start_time": "2023-09-16T09:13:27.537Z"
   },
   {
    "duration": 366,
    "start_time": "2023-09-16T09:13:27.888Z"
   },
   {
    "duration": 9,
    "start_time": "2023-09-16T09:13:28.256Z"
   },
   {
    "duration": 203,
    "start_time": "2023-09-16T09:13:28.267Z"
   },
   {
    "duration": 10,
    "start_time": "2023-09-16T09:13:28.472Z"
   },
   {
    "duration": 153,
    "start_time": "2023-09-16T09:13:28.484Z"
   },
   {
    "duration": 48,
    "start_time": "2023-09-16T10:55:36.381Z"
   },
   {
    "duration": 3436,
    "start_time": "2023-09-16T10:55:42.807Z"
   },
   {
    "duration": 58,
    "start_time": "2023-09-16T10:55:46.247Z"
   },
   {
    "duration": 22,
    "start_time": "2023-09-16T10:55:46.307Z"
   },
   {
    "duration": 319,
    "start_time": "2023-09-16T10:55:46.332Z"
   },
   {
    "duration": 328,
    "start_time": "2023-09-16T10:55:46.653Z"
   },
   {
    "duration": 9,
    "start_time": "2023-09-16T10:55:46.982Z"
   },
   {
    "duration": 175,
    "start_time": "2023-09-16T10:55:46.992Z"
   },
   {
    "duration": 8,
    "start_time": "2023-09-16T10:55:47.169Z"
   },
   {
    "duration": 120,
    "start_time": "2023-09-16T10:55:47.179Z"
   },
   {
    "duration": 347,
    "start_time": "2023-09-16T10:56:02.038Z"
   },
   {
    "duration": 180,
    "start_time": "2023-09-16T10:57:53.508Z"
   },
   {
    "duration": 220,
    "start_time": "2023-09-16T11:33:57.376Z"
   },
   {
    "duration": 306,
    "start_time": "2023-09-16T11:34:16.038Z"
   },
   {
    "duration": 246,
    "start_time": "2023-09-16T11:35:24.016Z"
   },
   {
    "duration": 320,
    "start_time": "2023-09-16T11:35:35.950Z"
   },
   {
    "duration": 312,
    "start_time": "2023-09-16T11:35:43.702Z"
   },
   {
    "duration": 252,
    "start_time": "2023-09-16T11:37:51.614Z"
   },
   {
    "duration": 224,
    "start_time": "2023-09-16T11:38:34.556Z"
   },
   {
    "duration": 2940,
    "start_time": "2023-09-16T11:38:57.426Z"
   },
   {
    "duration": 54,
    "start_time": "2023-09-16T11:39:00.368Z"
   },
   {
    "duration": 23,
    "start_time": "2023-09-16T11:39:00.424Z"
   },
   {
    "duration": 274,
    "start_time": "2023-09-16T11:39:00.449Z"
   },
   {
    "duration": 338,
    "start_time": "2023-09-16T11:39:00.725Z"
   },
   {
    "duration": 11,
    "start_time": "2023-09-16T11:39:01.065Z"
   },
   {
    "duration": 328,
    "start_time": "2023-09-16T11:39:01.078Z"
   },
   {
    "duration": 17,
    "start_time": "2023-09-16T11:39:01.408Z"
   },
   {
    "duration": 262,
    "start_time": "2023-09-16T11:39:01.428Z"
   },
   {
    "duration": 339,
    "start_time": "2023-09-16T11:39:56.395Z"
   },
   {
    "duration": 252,
    "start_time": "2023-09-16T11:40:40.047Z"
   },
   {
    "duration": 235,
    "start_time": "2023-09-16T11:40:52.362Z"
   },
   {
    "duration": 243,
    "start_time": "2023-09-16T11:41:04.141Z"
   },
   {
    "duration": 259,
    "start_time": "2023-09-16T11:41:40.884Z"
   },
   {
    "duration": 9,
    "start_time": "2023-09-16T11:42:55.355Z"
   },
   {
    "duration": 6,
    "start_time": "2023-09-16T11:44:51.429Z"
   },
   {
    "duration": 8,
    "start_time": "2023-09-16T11:45:01.931Z"
   },
   {
    "duration": 9,
    "start_time": "2023-09-16T11:45:13.693Z"
   },
   {
    "duration": 6,
    "start_time": "2023-09-16T11:45:27.895Z"
   },
   {
    "duration": 364,
    "start_time": "2023-09-16T11:45:36.489Z"
   },
   {
    "duration": 258,
    "start_time": "2023-09-16T11:45:56.939Z"
   },
   {
    "duration": 11,
    "start_time": "2023-09-16T11:46:05.898Z"
   },
   {
    "duration": 5,
    "start_time": "2023-09-16T11:46:53.409Z"
   },
   {
    "duration": 9,
    "start_time": "2023-09-16T11:47:04.287Z"
   },
   {
    "duration": 9,
    "start_time": "2023-09-16T11:48:19.480Z"
   },
   {
    "duration": 8,
    "start_time": "2023-09-16T12:13:29.693Z"
   },
   {
    "duration": 9,
    "start_time": "2023-09-16T12:13:34.574Z"
   },
   {
    "duration": 232,
    "start_time": "2023-09-16T12:14:42.137Z"
   },
   {
    "duration": 220,
    "start_time": "2023-09-16T12:17:06.366Z"
   },
   {
    "duration": 232,
    "start_time": "2023-09-16T12:17:12.655Z"
   },
   {
    "duration": 245,
    "start_time": "2023-09-16T12:17:23.438Z"
   },
   {
    "duration": 379,
    "start_time": "2023-09-16T12:17:29.238Z"
   },
   {
    "duration": 227,
    "start_time": "2023-09-16T12:17:34.965Z"
   },
   {
    "duration": 259,
    "start_time": "2023-09-16T12:17:56.006Z"
   },
   {
    "duration": 269,
    "start_time": "2023-09-16T12:18:02.991Z"
   },
   {
    "duration": 262,
    "start_time": "2023-09-16T12:18:07.974Z"
   },
   {
    "duration": 344,
    "start_time": "2023-09-16T12:18:24.529Z"
   },
   {
    "duration": 212,
    "start_time": "2023-09-16T12:18:29.575Z"
   },
   {
    "duration": 295,
    "start_time": "2023-09-16T12:19:44.433Z"
   },
   {
    "duration": 223,
    "start_time": "2023-09-16T12:19:57.598Z"
   },
   {
    "duration": 361,
    "start_time": "2023-09-16T12:20:14.069Z"
   },
   {
    "duration": 508,
    "start_time": "2023-09-16T12:20:31.126Z"
   },
   {
    "duration": 2806,
    "start_time": "2023-09-16T12:20:41.916Z"
   },
   {
    "duration": 45,
    "start_time": "2023-09-16T12:20:44.724Z"
   },
   {
    "duration": 19,
    "start_time": "2023-09-16T12:20:44.770Z"
   },
   {
    "duration": 271,
    "start_time": "2023-09-16T12:20:44.791Z"
   },
   {
    "duration": 325,
    "start_time": "2023-09-16T12:20:45.064Z"
   },
   {
    "duration": 9,
    "start_time": "2023-09-16T12:20:45.390Z"
   },
   {
    "duration": 262,
    "start_time": "2023-09-16T12:20:45.401Z"
   },
   {
    "duration": 9,
    "start_time": "2023-09-16T12:20:45.665Z"
   },
   {
    "duration": 355,
    "start_time": "2023-09-16T12:20:45.675Z"
   },
   {
    "duration": 10,
    "start_time": "2023-09-16T12:20:46.033Z"
   },
   {
    "duration": 405,
    "start_time": "2023-09-16T12:20:46.045Z"
   },
   {
    "duration": 244,
    "start_time": "2023-09-16T12:21:25.433Z"
   },
   {
    "duration": 257,
    "start_time": "2023-09-16T12:21:45.075Z"
   },
   {
    "duration": 256,
    "start_time": "2023-09-16T12:21:55.946Z"
   },
   {
    "duration": 10,
    "start_time": "2023-09-16T12:26:21.708Z"
   },
   {
    "duration": 13,
    "start_time": "2023-09-16T13:31:34.769Z"
   },
   {
    "duration": 343,
    "start_time": "2023-09-16T13:32:28.033Z"
   },
   {
    "duration": 271,
    "start_time": "2023-09-16T13:32:50.127Z"
   },
   {
    "duration": 234,
    "start_time": "2023-09-16T13:33:07.971Z"
   },
   {
    "duration": 259,
    "start_time": "2023-09-16T13:33:51.078Z"
   },
   {
    "duration": 247,
    "start_time": "2023-09-16T13:33:57.707Z"
   },
   {
    "duration": 260,
    "start_time": "2023-09-16T13:34:07.711Z"
   },
   {
    "duration": 414,
    "start_time": "2023-09-16T13:34:11.897Z"
   },
   {
    "duration": 234,
    "start_time": "2023-09-16T13:34:17.745Z"
   },
   {
    "duration": 243,
    "start_time": "2023-09-16T13:35:22.278Z"
   },
   {
    "duration": 308,
    "start_time": "2023-09-16T13:35:42.477Z"
   },
   {
    "duration": 316,
    "start_time": "2023-09-16T13:35:59.470Z"
   },
   {
    "duration": 16,
    "start_time": "2023-09-16T13:36:56.671Z"
   },
   {
    "duration": 335,
    "start_time": "2023-09-16T14:53:46.806Z"
   },
   {
    "duration": 405,
    "start_time": "2023-09-16T14:53:59.153Z"
   },
   {
    "duration": 10,
    "start_time": "2023-09-16T14:54:21.862Z"
   },
   {
    "duration": 15,
    "start_time": "2023-09-16T14:54:45.088Z"
   },
   {
    "duration": 16,
    "start_time": "2023-09-16T14:55:00.798Z"
   },
   {
    "duration": 9,
    "start_time": "2023-09-16T14:56:44.336Z"
   },
   {
    "duration": 8,
    "start_time": "2023-09-16T14:58:32.040Z"
   },
   {
    "duration": 14,
    "start_time": "2023-09-16T15:00:59.763Z"
   },
   {
    "duration": 166,
    "start_time": "2023-09-16T15:01:46.780Z"
   },
   {
    "duration": 212,
    "start_time": "2023-09-16T15:01:58.883Z"
   },
   {
    "duration": 210,
    "start_time": "2023-09-16T15:02:10.218Z"
   },
   {
    "duration": 44,
    "start_time": "2023-09-17T12:37:05.879Z"
   },
   {
    "duration": 2809,
    "start_time": "2023-09-17T12:37:12.013Z"
   },
   {
    "duration": 43,
    "start_time": "2023-09-17T12:37:14.823Z"
   },
   {
    "duration": 19,
    "start_time": "2023-09-17T12:37:14.868Z"
   },
   {
    "duration": 277,
    "start_time": "2023-09-17T12:37:14.890Z"
   },
   {
    "duration": 342,
    "start_time": "2023-09-17T12:37:15.168Z"
   },
   {
    "duration": 8,
    "start_time": "2023-09-17T12:37:15.511Z"
   },
   {
    "duration": 236,
    "start_time": "2023-09-17T12:37:15.520Z"
   },
   {
    "duration": 8,
    "start_time": "2023-09-17T12:37:15.757Z"
   },
   {
    "duration": 295,
    "start_time": "2023-09-17T12:37:15.766Z"
   },
   {
    "duration": 8,
    "start_time": "2023-09-17T12:37:16.063Z"
   },
   {
    "duration": 272,
    "start_time": "2023-09-17T12:37:16.072Z"
   },
   {
    "duration": 13,
    "start_time": "2023-09-17T12:37:16.346Z"
   },
   {
    "duration": 226,
    "start_time": "2023-09-17T12:37:16.360Z"
   },
   {
    "duration": 16,
    "start_time": "2023-09-17T12:37:16.588Z"
   },
   {
    "duration": 7,
    "start_time": "2023-09-17T12:37:16.606Z"
   },
   {
    "duration": 29,
    "start_time": "2023-09-17T12:37:16.615Z"
   },
   {
    "duration": 13,
    "start_time": "2023-09-17T12:37:16.646Z"
   },
   {
    "duration": 154,
    "start_time": "2023-09-17T12:37:16.660Z"
   },
   {
    "duration": 5,
    "start_time": "2023-09-17T12:37:16.816Z"
   },
   {
    "duration": 11,
    "start_time": "2023-09-17T12:37:29.050Z"
   },
   {
    "duration": 161,
    "start_time": "2023-09-17T12:39:21.883Z"
   },
   {
    "duration": 237,
    "start_time": "2023-09-17T12:42:26.040Z"
   },
   {
    "duration": 190,
    "start_time": "2023-09-17T12:42:43.319Z"
   },
   {
    "duration": 172,
    "start_time": "2023-09-17T12:43:34.227Z"
   },
   {
    "duration": 256,
    "start_time": "2023-09-17T12:43:59.410Z"
   },
   {
    "duration": 163,
    "start_time": "2023-09-17T12:44:07.096Z"
   },
   {
    "duration": 175,
    "start_time": "2023-09-17T12:44:45.565Z"
   },
   {
    "duration": 166,
    "start_time": "2023-09-17T12:44:50.780Z"
   },
   {
    "duration": 160,
    "start_time": "2023-09-17T12:45:01.824Z"
   },
   {
    "duration": 165,
    "start_time": "2023-09-17T12:46:06.524Z"
   },
   {
    "duration": 73,
    "start_time": "2023-09-17T16:02:34.262Z"
   },
   {
    "duration": 3509,
    "start_time": "2023-09-17T16:02:39.926Z"
   },
   {
    "duration": 50,
    "start_time": "2023-09-17T16:02:43.438Z"
   },
   {
    "duration": 22,
    "start_time": "2023-09-17T16:02:43.490Z"
   },
   {
    "duration": 284,
    "start_time": "2023-09-17T16:02:43.514Z"
   },
   {
    "duration": 382,
    "start_time": "2023-09-17T16:02:43.800Z"
   },
   {
    "duration": 11,
    "start_time": "2023-09-17T16:02:44.184Z"
   },
   {
    "duration": 288,
    "start_time": "2023-09-17T16:02:44.197Z"
   },
   {
    "duration": 23,
    "start_time": "2023-09-17T16:02:44.487Z"
   },
   {
    "duration": 365,
    "start_time": "2023-09-17T16:02:44.512Z"
   },
   {
    "duration": 16,
    "start_time": "2023-09-17T16:02:44.880Z"
   },
   {
    "duration": 303,
    "start_time": "2023-09-17T16:02:44.910Z"
   },
   {
    "duration": 12,
    "start_time": "2023-09-17T16:02:45.214Z"
   },
   {
    "duration": 293,
    "start_time": "2023-09-17T16:02:45.228Z"
   },
   {
    "duration": 16,
    "start_time": "2023-09-17T16:02:45.523Z"
   },
   {
    "duration": 17,
    "start_time": "2023-09-17T16:02:45.541Z"
   },
   {
    "duration": 8,
    "start_time": "2023-09-17T16:02:45.559Z"
   },
   {
    "duration": 49,
    "start_time": "2023-09-17T16:02:45.569Z"
   },
   {
    "duration": 191,
    "start_time": "2023-09-17T16:02:45.620Z"
   },
   {
    "duration": 10,
    "start_time": "2023-09-17T16:02:45.813Z"
   },
   {
    "duration": 228,
    "start_time": "2023-09-17T16:02:45.824Z"
   },
   {
    "duration": 214,
    "start_time": "2023-09-17T16:03:16.393Z"
   },
   {
    "duration": 202,
    "start_time": "2023-09-17T16:03:32.139Z"
   },
   {
    "duration": 184,
    "start_time": "2023-09-17T16:04:34.703Z"
   },
   {
    "duration": 255,
    "start_time": "2023-09-17T16:07:41.341Z"
   },
   {
    "duration": 288,
    "start_time": "2023-09-17T16:07:59.480Z"
   },
   {
    "duration": 199,
    "start_time": "2023-09-17T16:08:10.824Z"
   },
   {
    "duration": 181,
    "start_time": "2023-09-17T16:09:06.146Z"
   },
   {
    "duration": 194,
    "start_time": "2023-09-17T16:09:15.846Z"
   },
   {
    "duration": 190,
    "start_time": "2023-09-17T16:09:25.798Z"
   },
   {
    "duration": 193,
    "start_time": "2023-09-17T16:09:54.022Z"
   },
   {
    "duration": 198,
    "start_time": "2023-09-17T16:10:12.928Z"
   },
   {
    "duration": 226,
    "start_time": "2023-09-17T16:10:22.686Z"
   },
   {
    "duration": 193,
    "start_time": "2023-09-17T16:10:38.429Z"
   },
   {
    "duration": 188,
    "start_time": "2023-09-17T16:11:16.690Z"
   },
   {
    "duration": 194,
    "start_time": "2023-09-17T16:11:21.588Z"
   },
   {
    "duration": 367,
    "start_time": "2023-09-17T16:12:06.342Z"
   },
   {
    "duration": 177,
    "start_time": "2023-09-17T16:17:16.750Z"
   },
   {
    "duration": 180,
    "start_time": "2023-09-17T16:17:46.268Z"
   },
   {
    "duration": 175,
    "start_time": "2023-09-17T16:17:49.195Z"
   },
   {
    "duration": 199,
    "start_time": "2023-09-17T16:18:28.537Z"
   },
   {
    "duration": 203,
    "start_time": "2023-09-17T16:18:36.196Z"
   },
   {
    "duration": 223,
    "start_time": "2023-09-17T16:18:42.342Z"
   },
   {
    "duration": 228,
    "start_time": "2023-09-17T16:19:44.253Z"
   },
   {
    "duration": 204,
    "start_time": "2023-09-17T16:20:49.530Z"
   },
   {
    "duration": 218,
    "start_time": "2023-09-17T16:22:28.517Z"
   },
   {
    "duration": 92,
    "start_time": "2023-09-17T16:22:32.086Z"
   },
   {
    "duration": 212,
    "start_time": "2023-09-17T16:22:40.270Z"
   },
   {
    "duration": 371,
    "start_time": "2023-09-17T16:22:57.458Z"
   },
   {
    "duration": 267,
    "start_time": "2023-09-17T16:23:15.176Z"
   },
   {
    "duration": 221,
    "start_time": "2023-09-17T16:26:46.735Z"
   },
   {
    "duration": 210,
    "start_time": "2023-09-17T16:28:53.032Z"
   },
   {
    "duration": 214,
    "start_time": "2023-09-17T16:29:15.427Z"
   },
   {
    "duration": 205,
    "start_time": "2023-09-17T16:30:07.025Z"
   },
   {
    "duration": 203,
    "start_time": "2023-09-17T16:30:11.691Z"
   },
   {
    "duration": 217,
    "start_time": "2023-09-17T16:30:56.476Z"
   },
   {
    "duration": 300,
    "start_time": "2023-09-17T16:31:16.409Z"
   },
   {
    "duration": 199,
    "start_time": "2023-09-17T16:32:51.291Z"
   },
   {
    "duration": 386,
    "start_time": "2023-09-17T16:35:39.148Z"
   },
   {
    "duration": 219,
    "start_time": "2023-09-17T16:36:10.408Z"
   },
   {
    "duration": 3081,
    "start_time": "2023-09-17T16:36:17.469Z"
   },
   {
    "duration": 82,
    "start_time": "2023-09-17T16:36:20.552Z"
   },
   {
    "duration": 21,
    "start_time": "2023-09-17T16:36:20.636Z"
   },
   {
    "duration": 305,
    "start_time": "2023-09-17T16:36:20.660Z"
   },
   {
    "duration": 387,
    "start_time": "2023-09-17T16:36:20.967Z"
   },
   {
    "duration": 9,
    "start_time": "2023-09-17T16:36:21.356Z"
   },
   {
    "duration": 300,
    "start_time": "2023-09-17T16:36:21.366Z"
   },
   {
    "duration": 10,
    "start_time": "2023-09-17T16:36:21.668Z"
   },
   {
    "duration": 402,
    "start_time": "2023-09-17T16:36:21.679Z"
   },
   {
    "duration": 10,
    "start_time": "2023-09-17T16:36:22.084Z"
   },
   {
    "duration": 309,
    "start_time": "2023-09-17T16:36:22.096Z"
   },
   {
    "duration": 13,
    "start_time": "2023-09-17T16:36:22.410Z"
   },
   {
    "duration": 338,
    "start_time": "2023-09-17T16:36:22.425Z"
   },
   {
    "duration": 20,
    "start_time": "2023-09-17T16:36:22.766Z"
   },
   {
    "duration": 39,
    "start_time": "2023-09-17T16:36:22.787Z"
   },
   {
    "duration": 15,
    "start_time": "2023-09-17T16:36:22.828Z"
   },
   {
    "duration": 25,
    "start_time": "2023-09-17T16:36:22.845Z"
   },
   {
    "duration": 285,
    "start_time": "2023-09-17T16:36:22.873Z"
   },
   {
    "duration": 10,
    "start_time": "2023-09-17T16:36:23.160Z"
   },
   {
    "duration": 228,
    "start_time": "2023-09-17T16:36:23.171Z"
   },
   {
    "duration": 289,
    "start_time": "2023-09-17T16:36:56.436Z"
   },
   {
    "duration": 213,
    "start_time": "2023-09-17T16:37:16.426Z"
   },
   {
    "duration": 233,
    "start_time": "2023-09-17T16:40:51.302Z"
   },
   {
    "duration": 237,
    "start_time": "2023-09-17T16:41:17.096Z"
   },
   {
    "duration": 393,
    "start_time": "2023-09-17T16:41:43.105Z"
   },
   {
    "duration": 197,
    "start_time": "2023-09-17T16:43:44.703Z"
   },
   {
    "duration": 296,
    "start_time": "2023-09-17T16:44:10.303Z"
   },
   {
    "duration": 284,
    "start_time": "2023-09-17T16:44:18.455Z"
   },
   {
    "duration": 233,
    "start_time": "2023-09-17T16:44:26.191Z"
   },
   {
    "duration": 15,
    "start_time": "2023-09-17T16:48:31.441Z"
   },
   {
    "duration": 10,
    "start_time": "2023-09-17T16:48:52.307Z"
   },
   {
    "duration": 10,
    "start_time": "2023-09-17T16:48:57.055Z"
   },
   {
    "duration": 13,
    "start_time": "2023-09-17T16:51:16.088Z"
   },
   {
    "duration": 13,
    "start_time": "2023-09-17T16:51:25.727Z"
   },
   {
    "duration": 11,
    "start_time": "2023-09-17T16:51:33.833Z"
   },
   {
    "duration": 242,
    "start_time": "2023-09-17T16:52:02.154Z"
   },
   {
    "duration": 214,
    "start_time": "2023-09-17T16:52:15.578Z"
   },
   {
    "duration": 151,
    "start_time": "2023-09-17T16:52:59.546Z"
   },
   {
    "duration": 175,
    "start_time": "2023-09-17T16:53:26.894Z"
   },
   {
    "duration": 269,
    "start_time": "2023-09-17T16:53:37.174Z"
   },
   {
    "duration": 91,
    "start_time": "2023-09-17T16:54:22.931Z"
   },
   {
    "duration": 14,
    "start_time": "2023-09-17T17:09:06.418Z"
   },
   {
    "duration": 0,
    "start_time": "2023-09-17T17:09:18.668Z"
   },
   {
    "duration": 2287,
    "start_time": "2023-09-17T17:09:21.864Z"
   },
   {
    "duration": 10,
    "start_time": "2023-09-17T17:10:14.987Z"
   },
   {
    "duration": 237,
    "start_time": "2023-09-17T17:11:15.442Z"
   },
   {
    "duration": 10,
    "start_time": "2023-09-17T17:11:32.096Z"
   },
   {
    "duration": 160,
    "start_time": "2023-09-17T17:11:34.838Z"
   },
   {
    "duration": 16,
    "start_time": "2023-09-17T17:16:45.929Z"
   },
   {
    "duration": 205,
    "start_time": "2023-09-17T17:17:45.086Z"
   },
   {
    "duration": 13,
    "start_time": "2023-09-17T17:19:41.776Z"
   },
   {
    "duration": 165,
    "start_time": "2023-09-17T17:20:36.560Z"
   },
   {
    "duration": 11,
    "start_time": "2023-09-17T17:22:30.577Z"
   },
   {
    "duration": 165,
    "start_time": "2023-09-17T17:23:28.840Z"
   },
   {
    "duration": 161,
    "start_time": "2023-09-17T17:28:00.628Z"
   },
   {
    "duration": 182,
    "start_time": "2023-09-17T17:28:36.768Z"
   },
   {
    "duration": 168,
    "start_time": "2023-09-17T17:29:23.221Z"
   },
   {
    "duration": 170,
    "start_time": "2023-09-17T17:29:39.092Z"
   },
   {
    "duration": 13,
    "start_time": "2023-09-17T17:31:43.565Z"
   },
   {
    "duration": 10,
    "start_time": "2023-09-17T17:31:58.685Z"
   },
   {
    "duration": 10,
    "start_time": "2023-09-17T17:32:02.943Z"
   },
   {
    "duration": 971,
    "start_time": "2023-09-17T17:33:14.550Z"
   },
   {
    "duration": 1047,
    "start_time": "2023-09-17T17:34:01.383Z"
   },
   {
    "duration": 123,
    "start_time": "2023-09-17T17:35:25.066Z"
   },
   {
    "duration": 162,
    "start_time": "2023-09-17T17:47:25.350Z"
   },
   {
    "duration": 6,
    "start_time": "2023-09-17T17:48:22.177Z"
   },
   {
    "duration": 5,
    "start_time": "2023-09-17T17:48:51.748Z"
   },
   {
    "duration": 5,
    "start_time": "2023-09-17T17:49:13.530Z"
   },
   {
    "duration": 225,
    "start_time": "2023-09-17T17:51:09.484Z"
   },
   {
    "duration": 12,
    "start_time": "2023-09-17T17:52:09.902Z"
   },
   {
    "duration": 18,
    "start_time": "2023-09-17T18:00:46.749Z"
   },
   {
    "duration": 25,
    "start_time": "2023-09-17T18:01:14.254Z"
   },
   {
    "duration": 27,
    "start_time": "2023-09-17T18:02:53.581Z"
   },
   {
    "duration": 117,
    "start_time": "2023-09-17T18:04:21.421Z"
   },
   {
    "duration": 29,
    "start_time": "2023-09-17T18:05:47.805Z"
   },
   {
    "duration": 22,
    "start_time": "2023-09-17T18:06:10.206Z"
   },
   {
    "duration": 11,
    "start_time": "2023-09-17T18:06:35.939Z"
   },
   {
    "duration": 10,
    "start_time": "2023-09-17T18:06:44.841Z"
   },
   {
    "duration": 13,
    "start_time": "2023-09-17T18:06:51.601Z"
   },
   {
    "duration": 13,
    "start_time": "2023-09-17T18:06:57.234Z"
   },
   {
    "duration": 25,
    "start_time": "2023-09-17T18:07:02.546Z"
   },
   {
    "duration": 26,
    "start_time": "2023-09-17T18:07:34.828Z"
   },
   {
    "duration": 9,
    "start_time": "2023-09-17T18:07:49.225Z"
   },
   {
    "duration": 25,
    "start_time": "2023-09-17T18:08:01.035Z"
   },
   {
    "duration": 17,
    "start_time": "2023-09-17T18:08:15.583Z"
   },
   {
    "duration": 18,
    "start_time": "2023-09-17T18:18:47.833Z"
   },
   {
    "duration": 18,
    "start_time": "2023-09-17T18:19:37.788Z"
   },
   {
    "duration": 66,
    "start_time": "2023-09-17T18:20:27.661Z"
   },
   {
    "duration": 18,
    "start_time": "2023-09-17T18:21:03.445Z"
   },
   {
    "duration": 23,
    "start_time": "2023-09-17T18:21:14.475Z"
   },
   {
    "duration": 52,
    "start_time": "2023-09-17T18:22:20.135Z"
   },
   {
    "duration": 25,
    "start_time": "2023-09-17T18:24:17.994Z"
   },
   {
    "duration": 29,
    "start_time": "2023-09-17T18:29:46.826Z"
   },
   {
    "duration": 44,
    "start_time": "2023-09-17T18:40:38.288Z"
   },
   {
    "duration": 43,
    "start_time": "2023-09-17T18:40:50.830Z"
   },
   {
    "duration": 79,
    "start_time": "2023-09-17T18:44:40.503Z"
   },
   {
    "duration": 36,
    "start_time": "2023-09-17T18:44:51.169Z"
   },
   {
    "duration": 29,
    "start_time": "2023-09-17T18:44:58.416Z"
   },
   {
    "duration": 44,
    "start_time": "2023-09-17T18:46:07.832Z"
   },
   {
    "duration": 28,
    "start_time": "2023-09-17T18:48:19.263Z"
   },
   {
    "duration": 34,
    "start_time": "2023-09-17T18:48:35.687Z"
   },
   {
    "duration": 45,
    "start_time": "2023-09-17T18:50:12.471Z"
   },
   {
    "duration": 18,
    "start_time": "2023-09-17T18:55:48.538Z"
   },
   {
    "duration": 17,
    "start_time": "2023-09-17T18:56:36.650Z"
   },
   {
    "duration": 28,
    "start_time": "2023-09-17T18:57:40.783Z"
   },
   {
    "duration": 31,
    "start_time": "2023-09-17T18:59:03.494Z"
   },
   {
    "duration": 46,
    "start_time": "2023-09-17T18:59:22.006Z"
   },
   {
    "duration": 35,
    "start_time": "2023-09-17T18:59:35.234Z"
   },
   {
    "duration": 29,
    "start_time": "2023-09-17T18:59:44.338Z"
   },
   {
    "duration": 3091,
    "start_time": "2023-09-18T18:54:02.375Z"
   },
   {
    "duration": 42,
    "start_time": "2023-09-18T18:54:05.469Z"
   },
   {
    "duration": 20,
    "start_time": "2023-09-18T18:54:05.513Z"
   },
   {
    "duration": 286,
    "start_time": "2023-09-18T18:54:05.536Z"
   },
   {
    "duration": 454,
    "start_time": "2023-09-18T18:54:05.824Z"
   },
   {
    "duration": 9,
    "start_time": "2023-09-18T18:54:06.280Z"
   },
   {
    "duration": 310,
    "start_time": "2023-09-18T18:54:06.291Z"
   },
   {
    "duration": 8,
    "start_time": "2023-09-18T18:54:06.602Z"
   },
   {
    "duration": 333,
    "start_time": "2023-09-18T18:54:06.612Z"
   },
   {
    "duration": 19,
    "start_time": "2023-09-18T18:54:06.954Z"
   },
   {
    "duration": 255,
    "start_time": "2023-09-18T18:54:06.975Z"
   },
   {
    "duration": 10,
    "start_time": "2023-09-18T18:54:07.231Z"
   },
   {
    "duration": 236,
    "start_time": "2023-09-18T18:54:07.251Z"
   },
   {
    "duration": 15,
    "start_time": "2023-09-18T18:54:07.489Z"
   },
   {
    "duration": 9,
    "start_time": "2023-09-18T18:54:07.506Z"
   },
   {
    "duration": 7,
    "start_time": "2023-09-18T18:54:07.517Z"
   },
   {
    "duration": 13,
    "start_time": "2023-09-18T18:54:07.549Z"
   },
   {
    "duration": 191,
    "start_time": "2023-09-18T18:54:07.564Z"
   },
   {
    "duration": 14,
    "start_time": "2023-09-18T18:54:07.758Z"
   },
   {
    "duration": 175,
    "start_time": "2023-09-18T18:54:07.774Z"
   },
   {
    "duration": 15,
    "start_time": "2023-09-18T18:54:07.951Z"
   },
   {
    "duration": 143,
    "start_time": "2023-09-18T18:54:07.969Z"
   },
   {
    "duration": 9,
    "start_time": "2023-09-18T18:54:08.114Z"
   },
   {
    "duration": 171,
    "start_time": "2023-09-18T18:54:08.124Z"
   },
   {
    "duration": 9,
    "start_time": "2023-09-18T18:54:08.297Z"
   },
   {
    "duration": 190,
    "start_time": "2023-09-18T18:54:08.308Z"
   },
   {
    "duration": 9,
    "start_time": "2023-09-18T18:54:08.500Z"
   },
   {
    "duration": 161,
    "start_time": "2023-09-18T18:54:08.512Z"
   },
   {
    "duration": 9,
    "start_time": "2023-09-18T18:54:08.676Z"
   },
   {
    "duration": 241,
    "start_time": "2023-09-18T18:54:08.687Z"
   },
   {
    "duration": 112,
    "start_time": "2023-09-18T18:54:08.930Z"
   },
   {
    "duration": 228,
    "start_time": "2023-09-18T18:54:09.048Z"
   },
   {
    "duration": 6,
    "start_time": "2023-09-18T18:54:09.278Z"
   },
   {
    "duration": 79,
    "start_time": "2023-09-18T18:54:09.285Z"
   },
   {
    "duration": 51,
    "start_time": "2023-09-18T18:54:09.367Z"
   },
   {
    "duration": 25,
    "start_time": "2023-09-18T18:54:09.420Z"
   },
   {
    "duration": 2,
    "start_time": "2023-09-18T18:55:28.003Z"
   },
   {
    "duration": 1562,
    "start_time": "2023-09-18T19:06:38.703Z"
   },
   {
    "duration": 2943,
    "start_time": "2023-09-18T19:07:44.265Z"
   },
   {
    "duration": 44,
    "start_time": "2023-09-18T19:07:47.211Z"
   },
   {
    "duration": 19,
    "start_time": "2023-09-18T19:07:47.257Z"
   },
   {
    "duration": 268,
    "start_time": "2023-09-18T19:07:47.279Z"
   },
   {
    "duration": 368,
    "start_time": "2023-09-18T19:07:47.550Z"
   },
   {
    "duration": 12,
    "start_time": "2023-09-18T19:07:47.920Z"
   },
   {
    "duration": 365,
    "start_time": "2023-09-18T19:07:47.934Z"
   },
   {
    "duration": 9,
    "start_time": "2023-09-18T19:07:48.302Z"
   },
   {
    "duration": 352,
    "start_time": "2023-09-18T19:07:48.312Z"
   },
   {
    "duration": 9,
    "start_time": "2023-09-18T19:07:48.667Z"
   },
   {
    "duration": 259,
    "start_time": "2023-09-18T19:07:48.678Z"
   },
   {
    "duration": 12,
    "start_time": "2023-09-18T19:07:48.939Z"
   },
   {
    "duration": 266,
    "start_time": "2023-09-18T19:07:48.952Z"
   },
   {
    "duration": 16,
    "start_time": "2023-09-18T19:07:49.219Z"
   },
   {
    "duration": 20,
    "start_time": "2023-09-18T19:07:49.236Z"
   },
   {
    "duration": 17,
    "start_time": "2023-09-18T19:07:49.257Z"
   },
   {
    "duration": 19,
    "start_time": "2023-09-18T19:07:49.276Z"
   },
   {
    "duration": 217,
    "start_time": "2023-09-18T19:07:49.297Z"
   },
   {
    "duration": 10,
    "start_time": "2023-09-18T19:07:49.516Z"
   },
   {
    "duration": 184,
    "start_time": "2023-09-18T19:07:49.528Z"
   },
   {
    "duration": 10,
    "start_time": "2023-09-18T19:07:49.714Z"
   },
   {
    "duration": 156,
    "start_time": "2023-09-18T19:07:49.726Z"
   },
   {
    "duration": 10,
    "start_time": "2023-09-18T19:07:49.883Z"
   },
   {
    "duration": 168,
    "start_time": "2023-09-18T19:07:49.902Z"
   },
   {
    "duration": 10,
    "start_time": "2023-09-18T19:07:50.072Z"
   },
   {
    "duration": 219,
    "start_time": "2023-09-18T19:07:50.084Z"
   },
   {
    "duration": 10,
    "start_time": "2023-09-18T19:07:50.304Z"
   },
   {
    "duration": 182,
    "start_time": "2023-09-18T19:07:50.317Z"
   },
   {
    "duration": 13,
    "start_time": "2023-09-18T19:07:50.501Z"
   },
   {
    "duration": 282,
    "start_time": "2023-09-18T19:07:50.517Z"
   },
   {
    "duration": 176,
    "start_time": "2023-09-18T19:07:50.801Z"
   },
   {
    "duration": 223,
    "start_time": "2023-09-18T19:07:50.979Z"
   },
   {
    "duration": 6,
    "start_time": "2023-09-18T19:07:51.204Z"
   },
   {
    "duration": 18,
    "start_time": "2023-09-18T19:07:51.212Z"
   },
   {
    "duration": 46,
    "start_time": "2023-09-18T19:07:51.232Z"
   },
   {
    "duration": 29,
    "start_time": "2023-09-18T19:07:51.280Z"
   },
   {
    "duration": 1572,
    "start_time": "2023-09-18T19:07:51.311Z"
   },
   {
    "duration": 1396,
    "start_time": "2023-09-18T19:08:10.829Z"
   },
   {
    "duration": 28,
    "start_time": "2023-09-18T19:10:00.067Z"
   },
   {
    "duration": 264,
    "start_time": "2023-09-18T19:10:34.123Z"
   },
   {
    "duration": 219,
    "start_time": "2023-09-18T19:10:46.230Z"
   },
   {
    "duration": 18,
    "start_time": "2023-09-18T19:15:00.426Z"
   },
   {
    "duration": 191,
    "start_time": "2023-09-18T19:15:07.532Z"
   },
   {
    "duration": 22,
    "start_time": "2023-09-18T19:15:41.150Z"
   },
   {
    "duration": 1446,
    "start_time": "2023-09-18T19:16:12.864Z"
   },
   {
    "duration": 236,
    "start_time": "2023-09-18T19:18:08.943Z"
   },
   {
    "duration": 673,
    "start_time": "2023-09-18T19:25:41.002Z"
   },
   {
    "duration": 268,
    "start_time": "2023-09-18T19:26:57.301Z"
   },
   {
    "duration": 221,
    "start_time": "2023-09-18T19:30:40.916Z"
   },
   {
    "duration": 215,
    "start_time": "2023-09-18T19:30:52.703Z"
   },
   {
    "duration": 237,
    "start_time": "2023-09-18T19:30:58.793Z"
   },
   {
    "duration": 172,
    "start_time": "2023-09-18T19:31:21.429Z"
   },
   {
    "duration": 350,
    "start_time": "2023-09-18T19:32:04.577Z"
   },
   {
    "duration": 234,
    "start_time": "2023-09-18T19:32:35.265Z"
   },
   {
    "duration": 219,
    "start_time": "2023-09-18T19:32:40.960Z"
   },
   {
    "duration": 236,
    "start_time": "2023-09-18T19:32:52.834Z"
   },
   {
    "duration": 233,
    "start_time": "2023-09-18T19:34:22.601Z"
   },
   {
    "duration": 212,
    "start_time": "2023-09-18T19:34:38.881Z"
   },
   {
    "duration": 202,
    "start_time": "2023-09-18T19:34:43.445Z"
   },
   {
    "duration": 213,
    "start_time": "2023-09-18T19:34:49.621Z"
   },
   {
    "duration": 5,
    "start_time": "2023-09-18T19:39:49.269Z"
   },
   {
    "duration": 197,
    "start_time": "2023-09-18T19:42:28.240Z"
   },
   {
    "duration": 6,
    "start_time": "2023-09-18T19:43:04.325Z"
   },
   {
    "duration": 272,
    "start_time": "2023-09-18T19:44:45.944Z"
   },
   {
    "duration": 6,
    "start_time": "2023-09-18T19:45:20.675Z"
   },
   {
    "duration": 1332,
    "start_time": "2023-09-18T19:48:02.425Z"
   },
   {
    "duration": 1427,
    "start_time": "2023-09-18T19:49:23.504Z"
   },
   {
    "duration": 1434,
    "start_time": "2023-09-18T19:49:36.582Z"
   },
   {
    "duration": 1552,
    "start_time": "2023-09-18T19:50:38.567Z"
   },
   {
    "duration": 4,
    "start_time": "2023-09-18T19:53:37.933Z"
   },
   {
    "duration": 375,
    "start_time": "2023-09-18T19:53:44.684Z"
   },
   {
    "duration": 12,
    "start_time": "2023-09-18T19:54:37.897Z"
   },
   {
    "duration": 23,
    "start_time": "2023-09-18T19:56:49.800Z"
   },
   {
    "duration": 18,
    "start_time": "2023-09-18T19:59:33.114Z"
   },
   {
    "duration": 36,
    "start_time": "2023-09-18T19:59:49.728Z"
   },
   {
    "duration": 26,
    "start_time": "2023-09-18T20:00:08.550Z"
   },
   {
    "duration": 193,
    "start_time": "2023-09-18T20:00:19.376Z"
   },
   {
    "duration": 217,
    "start_time": "2023-09-18T20:02:41.112Z"
   },
   {
    "duration": 6,
    "start_time": "2023-09-18T20:03:17.251Z"
   },
   {
    "duration": 207,
    "start_time": "2023-09-18T20:04:49.031Z"
   },
   {
    "duration": 402,
    "start_time": "2023-09-18T20:05:24.635Z"
   },
   {
    "duration": 194,
    "start_time": "2023-09-18T20:07:41.424Z"
   },
   {
    "duration": 434,
    "start_time": "2023-09-18T20:08:15.094Z"
   },
   {
    "duration": 1964,
    "start_time": "2023-09-18T20:08:48.736Z"
   },
   {
    "duration": 545,
    "start_time": "2023-09-18T20:09:16.704Z"
   },
   {
    "duration": 8,
    "start_time": "2023-09-18T20:10:43.528Z"
   },
   {
    "duration": 3362,
    "start_time": "2023-09-19T18:39:21.120Z"
   },
   {
    "duration": 49,
    "start_time": "2023-09-19T18:39:24.484Z"
   },
   {
    "duration": 23,
    "start_time": "2023-09-19T18:39:24.534Z"
   },
   {
    "duration": 289,
    "start_time": "2023-09-19T18:39:24.559Z"
   },
   {
    "duration": 399,
    "start_time": "2023-09-19T18:39:24.849Z"
   },
   {
    "duration": 11,
    "start_time": "2023-09-19T18:39:25.251Z"
   },
   {
    "duration": 356,
    "start_time": "2023-09-19T18:39:25.264Z"
   },
   {
    "duration": 9,
    "start_time": "2023-09-19T18:39:25.622Z"
   },
   {
    "duration": 362,
    "start_time": "2023-09-19T18:39:25.633Z"
   },
   {
    "duration": 11,
    "start_time": "2023-09-19T18:39:25.998Z"
   },
   {
    "duration": 286,
    "start_time": "2023-09-19T18:39:26.011Z"
   },
   {
    "duration": 11,
    "start_time": "2023-09-19T18:39:26.299Z"
   },
   {
    "duration": 278,
    "start_time": "2023-09-19T18:39:26.311Z"
   },
   {
    "duration": 20,
    "start_time": "2023-09-19T18:39:26.590Z"
   },
   {
    "duration": 8,
    "start_time": "2023-09-19T18:39:26.612Z"
   },
   {
    "duration": 29,
    "start_time": "2023-09-19T18:39:26.621Z"
   },
   {
    "duration": 14,
    "start_time": "2023-09-19T18:39:26.651Z"
   },
   {
    "duration": 207,
    "start_time": "2023-09-19T18:39:26.666Z"
   },
   {
    "duration": 11,
    "start_time": "2023-09-19T18:39:26.875Z"
   },
   {
    "duration": 171,
    "start_time": "2023-09-19T18:39:26.888Z"
   },
   {
    "duration": 10,
    "start_time": "2023-09-19T18:39:27.061Z"
   },
   {
    "duration": 151,
    "start_time": "2023-09-19T18:39:27.072Z"
   },
   {
    "duration": 8,
    "start_time": "2023-09-19T18:39:27.225Z"
   },
   {
    "duration": 168,
    "start_time": "2023-09-19T18:39:27.235Z"
   },
   {
    "duration": 9,
    "start_time": "2023-09-19T18:39:27.405Z"
   },
   {
    "duration": 188,
    "start_time": "2023-09-19T18:39:27.415Z"
   },
   {
    "duration": 9,
    "start_time": "2023-09-19T18:39:27.605Z"
   },
   {
    "duration": 164,
    "start_time": "2023-09-19T18:39:27.618Z"
   },
   {
    "duration": 9,
    "start_time": "2023-09-19T18:39:27.784Z"
   },
   {
    "duration": 258,
    "start_time": "2023-09-19T18:39:27.795Z"
   },
   {
    "duration": 135,
    "start_time": "2023-09-19T18:39:28.055Z"
   },
   {
    "duration": 214,
    "start_time": "2023-09-19T18:39:28.192Z"
   },
   {
    "duration": 6,
    "start_time": "2023-09-19T18:39:28.408Z"
   },
   {
    "duration": 11,
    "start_time": "2023-09-19T18:39:28.415Z"
   },
   {
    "duration": 31,
    "start_time": "2023-09-19T18:39:28.446Z"
   },
   {
    "duration": 33,
    "start_time": "2023-09-19T18:39:28.479Z"
   },
   {
    "duration": 222,
    "start_time": "2023-09-19T18:39:28.514Z"
   },
   {
    "duration": 9,
    "start_time": "2023-09-19T18:39:28.737Z"
   },
   {
    "duration": 252,
    "start_time": "2023-09-19T18:39:28.748Z"
   },
   {
    "duration": 6,
    "start_time": "2023-09-19T18:39:29.001Z"
   },
   {
    "duration": 274,
    "start_time": "2023-09-19T18:39:29.009Z"
   },
   {
    "duration": 5,
    "start_time": "2023-09-19T18:39:29.284Z"
   },
   {
    "duration": 229,
    "start_time": "2023-09-19T18:39:29.290Z"
   },
   {
    "duration": 5,
    "start_time": "2023-09-19T18:39:29.521Z"
   },
   {
    "duration": 220,
    "start_time": "2023-09-19T18:39:29.528Z"
   },
   {
    "duration": 479,
    "start_time": "2023-09-19T18:39:29.750Z"
   },
   {
    "duration": 0,
    "start_time": "2023-09-19T18:39:30.231Z"
   },
   {
    "duration": 0,
    "start_time": "2023-09-19T18:39:30.233Z"
   },
   {
    "duration": 9,
    "start_time": "2023-09-19T18:40:38.505Z"
   },
   {
    "duration": 8,
    "start_time": "2023-09-19T18:41:52.691Z"
   },
   {
    "duration": 10,
    "start_time": "2023-09-19T18:42:19.081Z"
   },
   {
    "duration": 14,
    "start_time": "2023-09-19T18:45:30.994Z"
   },
   {
    "duration": 13,
    "start_time": "2023-09-19T18:45:44.733Z"
   },
   {
    "duration": 16,
    "start_time": "2023-09-19T18:46:03.561Z"
   },
   {
    "duration": 14,
    "start_time": "2023-09-19T18:46:18.597Z"
   },
   {
    "duration": 14,
    "start_time": "2023-09-19T18:46:36.477Z"
   },
   {
    "duration": 14,
    "start_time": "2023-09-19T18:46:42.743Z"
   },
   {
    "duration": 11,
    "start_time": "2023-09-19T18:46:57.271Z"
   },
   {
    "duration": 60,
    "start_time": "2023-09-19T18:47:26.109Z"
   },
   {
    "duration": 14,
    "start_time": "2023-09-19T18:47:41.205Z"
   },
   {
    "duration": 14,
    "start_time": "2023-09-19T18:49:49.624Z"
   },
   {
    "duration": 33,
    "start_time": "2023-09-19T18:53:18.250Z"
   },
   {
    "duration": 7,
    "start_time": "2023-09-19T18:53:55.002Z"
   },
   {
    "duration": 27,
    "start_time": "2023-09-19T18:54:14.942Z"
   },
   {
    "duration": 51,
    "start_time": "2023-09-19T18:54:30.300Z"
   },
   {
    "duration": 83,
    "start_time": "2023-09-19T18:54:49.454Z"
   },
   {
    "duration": 48,
    "start_time": "2023-09-19T18:58:39.940Z"
   },
   {
    "duration": 53,
    "start_time": "2023-09-19T19:02:00.640Z"
   },
   {
    "duration": 38,
    "start_time": "2023-09-19T19:02:34.897Z"
   },
   {
    "duration": 40,
    "start_time": "2023-09-19T19:02:40.432Z"
   },
   {
    "duration": 3106,
    "start_time": "2023-09-19T19:02:48.744Z"
   },
   {
    "duration": 51,
    "start_time": "2023-09-19T19:02:51.853Z"
   },
   {
    "duration": 41,
    "start_time": "2023-09-19T19:02:51.906Z"
   },
   {
    "duration": 312,
    "start_time": "2023-09-19T19:02:51.950Z"
   },
   {
    "duration": 390,
    "start_time": "2023-09-19T19:02:52.264Z"
   },
   {
    "duration": 10,
    "start_time": "2023-09-19T19:02:52.656Z"
   },
   {
    "duration": 307,
    "start_time": "2023-09-19T19:02:52.668Z"
   },
   {
    "duration": 10,
    "start_time": "2023-09-19T19:02:52.977Z"
   },
   {
    "duration": 378,
    "start_time": "2023-09-19T19:02:52.988Z"
   },
   {
    "duration": 10,
    "start_time": "2023-09-19T19:02:53.370Z"
   },
   {
    "duration": 285,
    "start_time": "2023-09-19T19:02:53.382Z"
   },
   {
    "duration": 10,
    "start_time": "2023-09-19T19:02:53.669Z"
   },
   {
    "duration": 262,
    "start_time": "2023-09-19T19:02:53.681Z"
   },
   {
    "duration": 16,
    "start_time": "2023-09-19T19:02:53.947Z"
   },
   {
    "duration": 9,
    "start_time": "2023-09-19T19:02:53.965Z"
   },
   {
    "duration": 23,
    "start_time": "2023-09-19T19:02:53.975Z"
   },
   {
    "duration": 24,
    "start_time": "2023-09-19T19:02:54.000Z"
   },
   {
    "duration": 197,
    "start_time": "2023-09-19T19:02:54.025Z"
   },
   {
    "duration": 9,
    "start_time": "2023-09-19T19:02:54.223Z"
   },
   {
    "duration": 170,
    "start_time": "2023-09-19T19:02:54.234Z"
   },
   {
    "duration": 10,
    "start_time": "2023-09-19T19:02:54.406Z"
   },
   {
    "duration": 158,
    "start_time": "2023-09-19T19:02:54.418Z"
   },
   {
    "duration": 9,
    "start_time": "2023-09-19T19:02:54.577Z"
   },
   {
    "duration": 170,
    "start_time": "2023-09-19T19:02:54.588Z"
   },
   {
    "duration": 10,
    "start_time": "2023-09-19T19:02:54.760Z"
   },
   {
    "duration": 183,
    "start_time": "2023-09-19T19:02:54.771Z"
   },
   {
    "duration": 11,
    "start_time": "2023-09-19T19:02:54.956Z"
   },
   {
    "duration": 172,
    "start_time": "2023-09-19T19:02:54.972Z"
   },
   {
    "duration": 12,
    "start_time": "2023-09-19T19:02:55.147Z"
   },
   {
    "duration": 309,
    "start_time": "2023-09-19T19:02:55.162Z"
   },
   {
    "duration": 136,
    "start_time": "2023-09-19T19:02:55.474Z"
   },
   {
    "duration": 228,
    "start_time": "2023-09-19T19:02:55.612Z"
   },
   {
    "duration": 8,
    "start_time": "2023-09-19T19:02:55.842Z"
   },
   {
    "duration": 11,
    "start_time": "2023-09-19T19:02:55.852Z"
   },
   {
    "duration": 32,
    "start_time": "2023-09-19T19:02:55.864Z"
   },
   {
    "duration": 68,
    "start_time": "2023-09-19T19:02:55.898Z"
   },
   {
    "duration": 237,
    "start_time": "2023-09-19T19:02:55.968Z"
   },
   {
    "duration": 5,
    "start_time": "2023-09-19T19:02:56.207Z"
   },
   {
    "duration": 270,
    "start_time": "2023-09-19T19:02:56.214Z"
   },
   {
    "duration": 5,
    "start_time": "2023-09-19T19:02:56.486Z"
   },
   {
    "duration": 284,
    "start_time": "2023-09-19T19:02:56.493Z"
   },
   {
    "duration": 5,
    "start_time": "2023-09-19T19:02:56.779Z"
   },
   {
    "duration": 246,
    "start_time": "2023-09-19T19:02:56.785Z"
   },
   {
    "duration": 14,
    "start_time": "2023-09-19T19:02:57.033Z"
   },
   {
    "duration": 224,
    "start_time": "2023-09-19T19:02:57.049Z"
   },
   {
    "duration": 487,
    "start_time": "2023-09-19T19:02:57.276Z"
   },
   {
    "duration": 0,
    "start_time": "2023-09-19T19:02:57.765Z"
   },
   {
    "duration": 0,
    "start_time": "2023-09-19T19:02:57.766Z"
   },
   {
    "duration": 0,
    "start_time": "2023-09-19T19:02:57.768Z"
   },
   {
    "duration": 0,
    "start_time": "2023-09-19T19:02:57.769Z"
   },
   {
    "duration": 52,
    "start_time": "2023-09-19T19:02:57.824Z"
   },
   {
    "duration": 1649,
    "start_time": "2023-09-19T19:05:20.726Z"
   },
   {
    "duration": 11,
    "start_time": "2023-09-19T19:05:44.538Z"
   },
   {
    "duration": 195,
    "start_time": "2023-09-19T19:05:53.798Z"
   },
   {
    "duration": 196,
    "start_time": "2023-09-19T19:06:13.602Z"
   },
   {
    "duration": 4769,
    "start_time": "2023-09-20T19:45:57.035Z"
   },
   {
    "duration": 2285,
    "start_time": "2023-09-20T19:46:01.806Z"
   },
   {
    "duration": 64,
    "start_time": "2023-09-20T19:46:04.092Z"
   },
   {
    "duration": 38,
    "start_time": "2023-09-20T19:46:04.158Z"
   },
   {
    "duration": 338,
    "start_time": "2023-09-20T19:46:04.198Z"
   },
   {
    "duration": 426,
    "start_time": "2023-09-20T19:46:04.546Z"
   },
   {
    "duration": 12,
    "start_time": "2023-09-20T19:46:04.974Z"
   },
   {
    "duration": 326,
    "start_time": "2023-09-20T19:46:04.988Z"
   },
   {
    "duration": 11,
    "start_time": "2023-09-20T19:46:05.316Z"
   },
   {
    "duration": 326,
    "start_time": "2023-09-20T19:46:05.343Z"
   },
   {
    "duration": 11,
    "start_time": "2023-09-20T19:46:05.676Z"
   },
   {
    "duration": 413,
    "start_time": "2023-09-20T19:46:05.689Z"
   },
   {
    "duration": 21,
    "start_time": "2023-09-20T19:46:06.105Z"
   },
   {
    "duration": 42,
    "start_time": "2023-09-20T19:46:06.128Z"
   },
   {
    "duration": 301,
    "start_time": "2023-09-20T19:46:06.172Z"
   },
   {
    "duration": 18,
    "start_time": "2023-09-20T19:46:06.481Z"
   },
   {
    "duration": 8,
    "start_time": "2023-09-20T19:46:06.501Z"
   },
   {
    "duration": 26,
    "start_time": "2023-09-20T19:46:06.511Z"
   },
   {
    "duration": 37,
    "start_time": "2023-09-20T19:46:06.540Z"
   },
   {
    "duration": 202,
    "start_time": "2023-09-20T19:46:06.579Z"
   },
   {
    "duration": 10,
    "start_time": "2023-09-20T19:46:06.782Z"
   },
   {
    "duration": 184,
    "start_time": "2023-09-20T19:46:06.793Z"
   },
   {
    "duration": 11,
    "start_time": "2023-09-20T19:46:06.978Z"
   },
   {
    "duration": 174,
    "start_time": "2023-09-20T19:46:06.991Z"
   },
   {
    "duration": 9,
    "start_time": "2023-09-20T19:46:07.173Z"
   },
   {
    "duration": 157,
    "start_time": "2023-09-20T19:46:07.183Z"
   },
   {
    "duration": 18,
    "start_time": "2023-09-20T19:46:07.342Z"
   },
   {
    "duration": 204,
    "start_time": "2023-09-20T19:46:07.364Z"
   },
   {
    "duration": 11,
    "start_time": "2023-09-20T19:46:07.570Z"
   },
   {
    "duration": 163,
    "start_time": "2023-09-20T19:46:07.584Z"
   },
   {
    "duration": 13,
    "start_time": "2023-09-20T19:46:07.748Z"
   },
   {
    "duration": 163,
    "start_time": "2023-09-20T19:46:07.764Z"
   },
   {
    "duration": 150,
    "start_time": "2023-09-20T19:46:07.929Z"
   },
   {
    "duration": 333,
    "start_time": "2023-09-20T19:46:08.081Z"
   },
   {
    "duration": 6,
    "start_time": "2023-09-20T19:46:08.416Z"
   },
   {
    "duration": 27,
    "start_time": "2023-09-20T19:46:08.424Z"
   },
   {
    "duration": 47,
    "start_time": "2023-09-20T19:46:08.457Z"
   },
   {
    "duration": 79,
    "start_time": "2023-09-20T19:46:08.507Z"
   },
   {
    "duration": 211,
    "start_time": "2023-09-20T19:46:08.588Z"
   },
   {
    "duration": 5,
    "start_time": "2023-09-20T19:46:08.801Z"
   },
   {
    "duration": 269,
    "start_time": "2023-09-20T19:46:08.808Z"
   },
   {
    "duration": 8,
    "start_time": "2023-09-20T19:46:09.080Z"
   },
   {
    "duration": 274,
    "start_time": "2023-09-20T19:46:09.089Z"
   },
   {
    "duration": 14,
    "start_time": "2023-09-20T19:46:09.365Z"
   },
   {
    "duration": 252,
    "start_time": "2023-09-20T19:46:09.381Z"
   },
   {
    "duration": 12,
    "start_time": "2023-09-20T19:46:09.635Z"
   },
   {
    "duration": 234,
    "start_time": "2023-09-20T19:46:09.649Z"
   },
   {
    "duration": 518,
    "start_time": "2023-09-20T19:46:09.886Z"
   },
   {
    "duration": 0,
    "start_time": "2023-09-20T19:46:10.405Z"
   },
   {
    "duration": 0,
    "start_time": "2023-09-20T19:46:10.407Z"
   },
   {
    "duration": 0,
    "start_time": "2023-09-20T19:46:10.408Z"
   },
   {
    "duration": 0,
    "start_time": "2023-09-20T19:46:10.410Z"
   },
   {
    "duration": 0,
    "start_time": "2023-09-20T19:46:10.412Z"
   },
   {
    "duration": 0,
    "start_time": "2023-09-20T19:46:10.413Z"
   },
   {
    "duration": 734,
    "start_time": "2023-09-20T19:47:01.873Z"
   },
   {
    "duration": 9,
    "start_time": "2023-09-20T19:47:02.610Z"
   },
   {
    "duration": 127,
    "start_time": "2023-09-20T19:47:02.621Z"
   },
   {
    "duration": 106,
    "start_time": "2023-09-20T19:47:02.751Z"
   },
   {
    "duration": 60,
    "start_time": "2023-09-20T19:47:02.864Z"
   },
   {
    "duration": 304,
    "start_time": "2023-09-20T19:47:02.927Z"
   },
   {
    "duration": 3249,
    "start_time": "2023-09-20T19:48:09.531Z"
   },
   {
    "duration": 3838,
    "start_time": "2023-09-20T19:48:12.783Z"
   },
   {
    "duration": 66,
    "start_time": "2023-09-20T19:48:16.623Z"
   },
   {
    "duration": 21,
    "start_time": "2023-09-20T19:48:16.692Z"
   },
   {
    "duration": 369,
    "start_time": "2023-09-20T19:48:16.716Z"
   },
   {
    "duration": 402,
    "start_time": "2023-09-20T19:48:17.086Z"
   },
   {
    "duration": 9,
    "start_time": "2023-09-20T19:48:17.490Z"
   },
   {
    "duration": 293,
    "start_time": "2023-09-20T19:48:17.500Z"
   },
   {
    "duration": 10,
    "start_time": "2023-09-20T19:48:17.795Z"
   },
   {
    "duration": 299,
    "start_time": "2023-09-20T19:48:17.806Z"
   },
   {
    "duration": 10,
    "start_time": "2023-09-20T19:48:18.107Z"
   },
   {
    "duration": 441,
    "start_time": "2023-09-20T19:48:18.118Z"
   },
   {
    "duration": 22,
    "start_time": "2023-09-20T19:48:18.560Z"
   },
   {
    "duration": 50,
    "start_time": "2023-09-20T19:48:18.585Z"
   },
   {
    "duration": 327,
    "start_time": "2023-09-20T19:48:18.637Z"
   },
   {
    "duration": 24,
    "start_time": "2023-09-20T19:48:18.968Z"
   },
   {
    "duration": 23,
    "start_time": "2023-09-20T19:48:18.994Z"
   },
   {
    "duration": 10,
    "start_time": "2023-09-20T19:48:19.020Z"
   },
   {
    "duration": 51,
    "start_time": "2023-09-20T19:48:19.033Z"
   },
   {
    "duration": 221,
    "start_time": "2023-09-20T19:48:19.087Z"
   },
   {
    "duration": 10,
    "start_time": "2023-09-20T19:48:19.310Z"
   },
   {
    "duration": 199,
    "start_time": "2023-09-20T19:48:19.322Z"
   },
   {
    "duration": 11,
    "start_time": "2023-09-20T19:48:19.522Z"
   },
   {
    "duration": 181,
    "start_time": "2023-09-20T19:48:19.546Z"
   },
   {
    "duration": 25,
    "start_time": "2023-09-20T19:48:19.729Z"
   },
   {
    "duration": 186,
    "start_time": "2023-09-20T19:48:19.759Z"
   },
   {
    "duration": 19,
    "start_time": "2023-09-20T19:48:19.954Z"
   },
   {
    "duration": 185,
    "start_time": "2023-09-20T19:48:19.976Z"
   },
   {
    "duration": 12,
    "start_time": "2023-09-20T19:48:20.163Z"
   },
   {
    "duration": 155,
    "start_time": "2023-09-20T19:48:20.177Z"
   },
   {
    "duration": 35,
    "start_time": "2023-09-20T19:48:20.333Z"
   },
   {
    "duration": 159,
    "start_time": "2023-09-20T19:48:20.370Z"
   },
   {
    "duration": 149,
    "start_time": "2023-09-20T19:48:20.530Z"
   },
   {
    "duration": 330,
    "start_time": "2023-09-20T19:48:20.681Z"
   },
   {
    "duration": 6,
    "start_time": "2023-09-20T19:48:21.012Z"
   },
   {
    "duration": 37,
    "start_time": "2023-09-20T19:48:21.019Z"
   },
   {
    "duration": 60,
    "start_time": "2023-09-20T19:48:21.060Z"
   },
   {
    "duration": 37,
    "start_time": "2023-09-20T19:48:21.121Z"
   },
   {
    "duration": 221,
    "start_time": "2023-09-20T19:48:21.160Z"
   },
   {
    "duration": 4,
    "start_time": "2023-09-20T19:48:21.383Z"
   },
   {
    "duration": 285,
    "start_time": "2023-09-20T19:48:21.391Z"
   },
   {
    "duration": 5,
    "start_time": "2023-09-20T19:48:21.678Z"
   },
   {
    "duration": 272,
    "start_time": "2023-09-20T19:48:21.685Z"
   },
   {
    "duration": 8,
    "start_time": "2023-09-20T19:48:21.959Z"
   },
   {
    "duration": 264,
    "start_time": "2023-09-20T19:48:21.968Z"
   },
   {
    "duration": 6,
    "start_time": "2023-09-20T19:48:22.234Z"
   },
   {
    "duration": 244,
    "start_time": "2023-09-20T19:48:22.248Z"
   },
   {
    "duration": 498,
    "start_time": "2023-09-20T19:48:22.494Z"
   },
   {
    "duration": 0,
    "start_time": "2023-09-20T19:48:22.994Z"
   },
   {
    "duration": 1,
    "start_time": "2023-09-20T19:48:22.995Z"
   },
   {
    "duration": 0,
    "start_time": "2023-09-20T19:48:22.996Z"
   },
   {
    "duration": 0,
    "start_time": "2023-09-20T19:48:22.998Z"
   },
   {
    "duration": 0,
    "start_time": "2023-09-20T19:48:22.999Z"
   },
   {
    "duration": 0,
    "start_time": "2023-09-20T19:48:23.000Z"
   },
   {
    "duration": 88,
    "start_time": "2023-09-24T15:50:39.772Z"
   },
   {
    "duration": 885,
    "start_time": "2023-09-24T15:51:07.650Z"
   },
   {
    "duration": 103,
    "start_time": "2023-09-24T15:51:11.033Z"
   },
   {
    "duration": 118,
    "start_time": "2023-09-24T15:52:09.394Z"
   },
   {
    "duration": 89,
    "start_time": "2023-09-24T15:52:40.410Z"
   },
   {
    "duration": 3,
    "start_time": "2023-09-24T15:53:11.193Z"
   },
   {
    "duration": 88,
    "start_time": "2023-09-24T15:53:13.023Z"
   },
   {
    "duration": 4,
    "start_time": "2023-09-24T15:53:23.993Z"
   },
   {
    "duration": 81,
    "start_time": "2023-09-24T15:53:26.494Z"
   },
   {
    "duration": 4,
    "start_time": "2023-09-24T15:54:13.237Z"
   },
   {
    "duration": 86,
    "start_time": "2023-09-24T15:54:15.734Z"
   },
   {
    "duration": 94,
    "start_time": "2023-09-24T15:57:40.953Z"
   },
   {
    "duration": 91,
    "start_time": "2023-09-24T15:57:46.882Z"
   },
   {
    "duration": 3113,
    "start_time": "2023-09-24T15:58:10.139Z"
   },
   {
    "duration": 4,
    "start_time": "2023-09-24T15:58:36.267Z"
   },
   {
    "duration": 3,
    "start_time": "2023-09-24T15:58:39.285Z"
   },
   {
    "duration": 109,
    "start_time": "2023-09-24T15:58:48.940Z"
   },
   {
    "duration": 2550,
    "start_time": "2023-09-24T16:01:12.215Z"
   },
   {
    "duration": 2783,
    "start_time": "2023-09-24T16:01:52.059Z"
   },
   {
    "duration": 92,
    "start_time": "2023-09-24T16:04:18.048Z"
   },
   {
    "duration": 23,
    "start_time": "2023-09-24T16:13:20.806Z"
   },
   {
    "duration": 96,
    "start_time": "2023-09-24T16:14:08.239Z"
   },
   {
    "duration": 11,
    "start_time": "2023-09-24T16:14:19.746Z"
   },
   {
    "duration": 19,
    "start_time": "2023-09-24T16:14:26.198Z"
   },
   {
    "duration": 93,
    "start_time": "2023-09-24T16:14:49.861Z"
   },
   {
    "duration": 106,
    "start_time": "2023-09-24T16:14:57.542Z"
   },
   {
    "duration": 27,
    "start_time": "2023-09-24T16:15:03.599Z"
   },
   {
    "duration": 12,
    "start_time": "2023-09-24T16:15:13.579Z"
   },
   {
    "duration": 17,
    "start_time": "2023-09-24T16:15:53.015Z"
   },
   {
    "duration": 23,
    "start_time": "2023-09-24T16:16:20.836Z"
   },
   {
    "duration": 26,
    "start_time": "2023-09-24T16:16:41.406Z"
   },
   {
    "duration": 30,
    "start_time": "2023-09-24T16:16:56.104Z"
   },
   {
    "duration": 2266,
    "start_time": "2023-09-24T16:30:05.469Z"
   },
   {
    "duration": 753,
    "start_time": "2023-09-24T16:30:18.361Z"
   },
   {
    "duration": 2721,
    "start_time": "2023-09-24T16:30:19.118Z"
   },
   {
    "duration": 4485,
    "start_time": "2023-09-24T16:30:21.841Z"
   },
   {
    "duration": 37,
    "start_time": "2023-09-24T16:30:26.333Z"
   },
   {
    "duration": 111,
    "start_time": "2023-09-24T16:30:26.373Z"
   },
   {
    "duration": 53,
    "start_time": "2023-09-24T16:30:26.487Z"
   },
   {
    "duration": 492,
    "start_time": "2023-09-24T16:30:26.542Z"
   },
   {
    "duration": 611,
    "start_time": "2023-09-24T16:30:27.043Z"
   },
   {
    "duration": 13,
    "start_time": "2023-09-24T16:30:27.657Z"
   },
   {
    "duration": 503,
    "start_time": "2023-09-24T16:30:27.674Z"
   },
   {
    "duration": 13,
    "start_time": "2023-09-24T16:30:28.182Z"
   },
   {
    "duration": 375,
    "start_time": "2023-09-24T16:30:28.198Z"
   },
   {
    "duration": 13,
    "start_time": "2023-09-24T16:30:28.575Z"
   },
   {
    "duration": 709,
    "start_time": "2023-09-24T16:30:28.591Z"
   },
   {
    "duration": 42,
    "start_time": "2023-09-24T16:30:29.302Z"
   },
   {
    "duration": 16,
    "start_time": "2023-09-24T16:30:29.347Z"
   },
   {
    "duration": 311,
    "start_time": "2023-09-24T16:30:29.365Z"
   },
   {
    "duration": 32,
    "start_time": "2023-09-24T16:30:29.678Z"
   },
   {
    "duration": 15,
    "start_time": "2023-09-24T16:30:29.714Z"
   },
   {
    "duration": 10,
    "start_time": "2023-09-24T16:30:29.733Z"
   },
   {
    "duration": 35,
    "start_time": "2023-09-24T16:30:29.745Z"
   },
   {
    "duration": 214,
    "start_time": "2023-09-24T16:30:29.783Z"
   },
   {
    "duration": 23,
    "start_time": "2023-09-24T16:30:29.999Z"
   },
   {
    "duration": 274,
    "start_time": "2023-09-24T16:30:30.025Z"
   },
   {
    "duration": 28,
    "start_time": "2023-09-24T16:30:30.302Z"
   },
   {
    "duration": 171,
    "start_time": "2023-09-24T16:30:30.334Z"
   },
   {
    "duration": 17,
    "start_time": "2023-09-24T16:30:30.506Z"
   },
   {
    "duration": 213,
    "start_time": "2023-09-24T16:30:30.528Z"
   },
   {
    "duration": 10,
    "start_time": "2023-09-24T16:30:30.743Z"
   },
   {
    "duration": 456,
    "start_time": "2023-09-24T16:30:30.754Z"
   },
   {
    "duration": 16,
    "start_time": "2023-09-24T16:30:31.214Z"
   },
   {
    "duration": 266,
    "start_time": "2023-09-24T16:30:31.232Z"
   },
   {
    "duration": 31,
    "start_time": "2023-09-24T16:30:31.506Z"
   },
   {
    "duration": 282,
    "start_time": "2023-09-24T16:30:31.540Z"
   },
   {
    "duration": 204,
    "start_time": "2023-09-24T16:30:31.824Z"
   },
   {
    "duration": 361,
    "start_time": "2023-09-24T16:30:32.031Z"
   },
   {
    "duration": 20,
    "start_time": "2023-09-24T16:30:32.395Z"
   },
   {
    "duration": 19,
    "start_time": "2023-09-24T16:30:32.419Z"
   },
   {
    "duration": 57,
    "start_time": "2023-09-24T16:30:32.440Z"
   },
   {
    "duration": 73,
    "start_time": "2023-09-24T16:30:32.500Z"
   },
   {
    "duration": 299,
    "start_time": "2023-09-24T16:30:32.576Z"
   },
   {
    "duration": 7,
    "start_time": "2023-09-24T16:30:32.877Z"
   },
   {
    "duration": 396,
    "start_time": "2023-09-24T16:30:32.887Z"
   },
   {
    "duration": 7,
    "start_time": "2023-09-24T16:30:33.285Z"
   },
   {
    "duration": 346,
    "start_time": "2023-09-24T16:30:33.294Z"
   },
   {
    "duration": 7,
    "start_time": "2023-09-24T16:30:33.643Z"
   },
   {
    "duration": 306,
    "start_time": "2023-09-24T16:30:33.651Z"
   },
   {
    "duration": 5,
    "start_time": "2023-09-24T16:30:33.959Z"
   },
   {
    "duration": 337,
    "start_time": "2023-09-24T16:30:33.967Z"
   },
   {
    "duration": 566,
    "start_time": "2023-09-24T16:30:34.310Z"
   },
   {
    "duration": 0,
    "start_time": "2023-09-24T16:30:34.879Z"
   },
   {
    "duration": 0,
    "start_time": "2023-09-24T16:30:34.882Z"
   },
   {
    "duration": 0,
    "start_time": "2023-09-24T16:30:34.883Z"
   },
   {
    "duration": 0,
    "start_time": "2023-09-24T16:30:34.885Z"
   },
   {
    "duration": 0,
    "start_time": "2023-09-24T16:30:34.886Z"
   },
   {
    "duration": 0,
    "start_time": "2023-09-24T16:30:34.888Z"
   },
   {
    "duration": 496,
    "start_time": "2023-09-24T16:41:45.674Z"
   },
   {
    "duration": 0,
    "start_time": "2023-09-24T16:41:46.173Z"
   },
   {
    "duration": 2585,
    "start_time": "2023-09-24T16:42:09.233Z"
   },
   {
    "duration": 24,
    "start_time": "2023-09-24T16:42:39.231Z"
   },
   {
    "duration": 330,
    "start_time": "2023-09-24T16:44:36.834Z"
   },
   {
    "duration": 328,
    "start_time": "2023-09-24T16:44:54.441Z"
   },
   {
    "duration": 347,
    "start_time": "2023-09-24T16:45:18.928Z"
   },
   {
    "duration": 310,
    "start_time": "2023-09-24T16:47:08.999Z"
   },
   {
    "duration": 321,
    "start_time": "2023-09-24T16:47:18.326Z"
   },
   {
    "duration": 396,
    "start_time": "2023-09-24T16:47:40.459Z"
   },
   {
    "duration": 456,
    "start_time": "2023-09-24T16:48:51.403Z"
   },
   {
    "duration": 394,
    "start_time": "2023-09-24T16:49:31.467Z"
   },
   {
    "duration": 603,
    "start_time": "2023-09-24T16:49:57.632Z"
   },
   {
    "duration": 16,
    "start_time": "2023-09-24T16:52:42.341Z"
   },
   {
    "duration": 24,
    "start_time": "2023-09-24T16:52:45.405Z"
   },
   {
    "duration": 202,
    "start_time": "2023-09-24T16:53:33.193Z"
   },
   {
    "duration": 232,
    "start_time": "2023-09-24T16:53:44.215Z"
   },
   {
    "duration": 16,
    "start_time": "2023-09-24T16:54:50.920Z"
   },
   {
    "duration": 20,
    "start_time": "2023-09-24T16:54:56.035Z"
   },
   {
    "duration": 292,
    "start_time": "2023-09-24T16:55:02.365Z"
   },
   {
    "duration": 257,
    "start_time": "2023-09-24T16:56:09.177Z"
   },
   {
    "duration": 11,
    "start_time": "2023-09-24T16:56:52.887Z"
   },
   {
    "duration": 8,
    "start_time": "2023-09-24T16:57:00.494Z"
   },
   {
    "duration": 51,
    "start_time": "2023-09-24T16:59:26.981Z"
   },
   {
    "duration": 15,
    "start_time": "2023-09-24T17:00:50.723Z"
   },
   {
    "duration": 58,
    "start_time": "2023-09-24T17:01:09.203Z"
   },
   {
    "duration": 586,
    "start_time": "2023-09-24T19:42:17.107Z"
   },
   {
    "duration": 2194,
    "start_time": "2023-09-24T19:42:17.694Z"
   },
   {
    "duration": 1774,
    "start_time": "2023-09-24T19:42:19.890Z"
   },
   {
    "duration": 16,
    "start_time": "2023-09-24T19:42:21.666Z"
   },
   {
    "duration": 27,
    "start_time": "2023-09-24T19:42:21.684Z"
   },
   {
    "duration": 78,
    "start_time": "2023-09-24T19:42:21.713Z"
   },
   {
    "duration": 271,
    "start_time": "2023-09-24T19:42:21.792Z"
   },
   {
    "duration": 19,
    "start_time": "2023-09-24T19:42:22.065Z"
   },
   {
    "duration": 260,
    "start_time": "2023-09-24T19:42:22.086Z"
   },
   {
    "duration": 337,
    "start_time": "2023-09-24T19:42:22.350Z"
   },
   {
    "duration": 8,
    "start_time": "2023-09-24T19:42:22.689Z"
   },
   {
    "duration": 268,
    "start_time": "2023-09-24T19:42:22.699Z"
   },
   {
    "duration": 8,
    "start_time": "2023-09-24T19:42:22.968Z"
   },
   {
    "duration": 325,
    "start_time": "2023-09-24T19:42:22.977Z"
   },
   {
    "duration": 8,
    "start_time": "2023-09-24T19:42:23.303Z"
   },
   {
    "duration": 233,
    "start_time": "2023-09-24T19:42:23.312Z"
   },
   {
    "duration": 22,
    "start_time": "2023-09-24T19:42:23.549Z"
   },
   {
    "duration": 17,
    "start_time": "2023-09-24T19:42:23.572Z"
   },
   {
    "duration": 219,
    "start_time": "2023-09-24T19:42:23.590Z"
   },
   {
    "duration": 12,
    "start_time": "2023-09-24T19:42:23.811Z"
   },
   {
    "duration": 37,
    "start_time": "2023-09-24T19:42:23.825Z"
   },
   {
    "duration": 32,
    "start_time": "2023-09-24T19:42:23.864Z"
   },
   {
    "duration": 28,
    "start_time": "2023-09-24T19:42:23.898Z"
   },
   {
    "duration": 162,
    "start_time": "2023-09-24T19:42:23.928Z"
   },
   {
    "duration": 7,
    "start_time": "2023-09-24T19:42:24.092Z"
   },
   {
    "duration": 175,
    "start_time": "2023-09-24T19:42:24.101Z"
   },
   {
    "duration": 9,
    "start_time": "2023-09-24T19:42:24.278Z"
   },
   {
    "duration": 143,
    "start_time": "2023-09-24T19:42:24.290Z"
   },
   {
    "duration": 15,
    "start_time": "2023-09-24T19:42:24.435Z"
   },
   {
    "duration": 139,
    "start_time": "2023-09-24T19:42:24.458Z"
   },
   {
    "duration": 9,
    "start_time": "2023-09-24T19:42:24.599Z"
   },
   {
    "duration": 161,
    "start_time": "2023-09-24T19:42:24.609Z"
   },
   {
    "duration": 9,
    "start_time": "2023-09-24T19:42:24.771Z"
   },
   {
    "duration": 141,
    "start_time": "2023-09-24T19:42:24.781Z"
   },
   {
    "duration": 8,
    "start_time": "2023-09-24T19:42:24.924Z"
   },
   {
    "duration": 209,
    "start_time": "2023-09-24T19:42:24.933Z"
   },
   {
    "duration": 108,
    "start_time": "2023-09-24T19:42:25.143Z"
   },
   {
    "duration": 174,
    "start_time": "2023-09-24T19:42:25.260Z"
   },
   {
    "duration": 5,
    "start_time": "2023-09-24T19:42:25.436Z"
   },
   {
    "duration": 37,
    "start_time": "2023-09-24T19:42:25.443Z"
   },
   {
    "duration": 59,
    "start_time": "2023-09-24T19:42:25.481Z"
   },
   {
    "duration": 38,
    "start_time": "2023-09-24T19:42:25.541Z"
   },
   {
    "duration": 164,
    "start_time": "2023-09-24T19:42:25.581Z"
   },
   {
    "duration": 13,
    "start_time": "2023-09-24T19:42:25.746Z"
   },
   {
    "duration": 269,
    "start_time": "2023-09-24T19:42:25.765Z"
   },
   {
    "duration": 6,
    "start_time": "2023-09-24T19:42:26.036Z"
   },
   {
    "duration": 311,
    "start_time": "2023-09-24T19:42:26.050Z"
   },
   {
    "duration": 4,
    "start_time": "2023-09-24T19:42:26.364Z"
   },
   {
    "duration": 206,
    "start_time": "2023-09-24T19:42:26.370Z"
   },
   {
    "duration": 6,
    "start_time": "2023-09-24T19:42:26.577Z"
   },
   {
    "duration": 231,
    "start_time": "2023-09-24T19:42:26.585Z"
   },
   {
    "duration": 584,
    "start_time": "2023-09-24T19:42:26.817Z"
   },
   {
    "duration": 7,
    "start_time": "2023-09-24T19:42:27.403Z"
   },
   {
    "duration": 31,
    "start_time": "2023-09-24T19:42:27.412Z"
   },
   {
    "duration": 38,
    "start_time": "2023-09-24T19:42:27.445Z"
   },
   {
    "duration": 292,
    "start_time": "2023-09-24T19:42:27.484Z"
   },
   {
    "duration": 10,
    "start_time": "2023-09-24T19:42:27.777Z"
   },
   {
    "duration": 191,
    "start_time": "2023-09-24T19:42:27.788Z"
   },
   {
    "duration": 610,
    "start_time": "2023-09-24T19:45:52.361Z"
   },
   {
    "duration": 2019,
    "start_time": "2023-09-24T19:45:52.973Z"
   },
   {
    "duration": 1879,
    "start_time": "2023-09-24T19:45:54.994Z"
   },
   {
    "duration": 14,
    "start_time": "2023-09-24T19:45:56.875Z"
   },
   {
    "duration": 3,
    "start_time": "2023-09-24T19:45:56.891Z"
   },
   {
    "duration": 60,
    "start_time": "2023-09-24T19:45:56.895Z"
   },
   {
    "duration": 250,
    "start_time": "2023-09-24T19:45:56.958Z"
   },
   {
    "duration": 19,
    "start_time": "2023-09-24T19:45:57.210Z"
   },
   {
    "duration": 264,
    "start_time": "2023-09-24T19:45:57.230Z"
   },
   {
    "duration": 327,
    "start_time": "2023-09-24T19:45:57.495Z"
   },
   {
    "duration": 8,
    "start_time": "2023-09-24T19:45:57.824Z"
   },
   {
    "duration": 262,
    "start_time": "2023-09-24T19:45:57.833Z"
   },
   {
    "duration": 7,
    "start_time": "2023-09-24T19:45:58.097Z"
   },
   {
    "duration": 318,
    "start_time": "2023-09-24T19:45:58.107Z"
   },
   {
    "duration": 8,
    "start_time": "2023-09-24T19:45:58.427Z"
   },
   {
    "duration": 247,
    "start_time": "2023-09-24T19:45:58.436Z"
   },
   {
    "duration": 16,
    "start_time": "2023-09-24T19:45:58.685Z"
   },
   {
    "duration": 12,
    "start_time": "2023-09-24T19:45:58.703Z"
   },
   {
    "duration": 216,
    "start_time": "2023-09-24T19:45:58.717Z"
   },
   {
    "duration": 29,
    "start_time": "2023-09-24T19:45:58.935Z"
   },
   {
    "duration": 9,
    "start_time": "2023-09-24T19:45:58.966Z"
   },
   {
    "duration": 7,
    "start_time": "2023-09-24T19:45:58.976Z"
   },
   {
    "duration": 19,
    "start_time": "2023-09-24T19:45:58.984Z"
   },
   {
    "duration": 178,
    "start_time": "2023-09-24T19:45:59.004Z"
   },
   {
    "duration": 9,
    "start_time": "2023-09-24T19:45:59.184Z"
   },
   {
    "duration": 169,
    "start_time": "2023-09-24T19:45:59.195Z"
   },
   {
    "duration": 9,
    "start_time": "2023-09-24T19:45:59.366Z"
   },
   {
    "duration": 145,
    "start_time": "2023-09-24T19:45:59.376Z"
   },
   {
    "duration": 8,
    "start_time": "2023-09-24T19:45:59.523Z"
   },
   {
    "duration": 159,
    "start_time": "2023-09-24T19:45:59.533Z"
   },
   {
    "duration": 9,
    "start_time": "2023-09-24T19:45:59.693Z"
   },
   {
    "duration": 176,
    "start_time": "2023-09-24T19:45:59.704Z"
   },
   {
    "duration": 8,
    "start_time": "2023-09-24T19:45:59.882Z"
   },
   {
    "duration": 133,
    "start_time": "2023-09-24T19:45:59.892Z"
   },
   {
    "duration": 9,
    "start_time": "2023-09-24T19:46:00.026Z"
   },
   {
    "duration": 239,
    "start_time": "2023-09-24T19:46:00.037Z"
   },
   {
    "duration": 115,
    "start_time": "2023-09-24T19:46:00.278Z"
   },
   {
    "duration": 214,
    "start_time": "2023-09-24T19:46:00.395Z"
   },
   {
    "duration": 5,
    "start_time": "2023-09-24T19:46:00.611Z"
   },
   {
    "duration": 44,
    "start_time": "2023-09-24T19:46:00.618Z"
   },
   {
    "duration": 58,
    "start_time": "2023-09-24T19:46:00.666Z"
   },
   {
    "duration": 41,
    "start_time": "2023-09-24T19:46:00.726Z"
   },
   {
    "duration": 173,
    "start_time": "2023-09-24T19:46:00.769Z"
   },
   {
    "duration": 20,
    "start_time": "2023-09-24T19:46:00.943Z"
   },
   {
    "duration": 267,
    "start_time": "2023-09-24T19:46:00.964Z"
   },
   {
    "duration": 5,
    "start_time": "2023-09-24T19:46:01.233Z"
   },
   {
    "duration": 292,
    "start_time": "2023-09-24T19:46:01.259Z"
   },
   {
    "duration": 11,
    "start_time": "2023-09-24T19:46:01.555Z"
   },
   {
    "duration": 267,
    "start_time": "2023-09-24T19:46:01.568Z"
   },
   {
    "duration": 5,
    "start_time": "2023-09-24T19:46:01.837Z"
   },
   {
    "duration": 271,
    "start_time": "2023-09-24T19:46:01.864Z"
   },
   {
    "duration": 601,
    "start_time": "2023-09-24T19:46:02.136Z"
   },
   {
    "duration": 24,
    "start_time": "2023-09-24T19:46:02.739Z"
   },
   {
    "duration": 13,
    "start_time": "2023-09-24T19:46:02.765Z"
   },
   {
    "duration": 11,
    "start_time": "2023-09-24T19:46:02.779Z"
   },
   {
    "duration": 245,
    "start_time": "2023-09-24T19:46:02.791Z"
   },
   {
    "duration": 19,
    "start_time": "2023-09-24T19:46:03.037Z"
   },
   {
    "duration": 168,
    "start_time": "2023-09-24T19:46:03.058Z"
   },
   {
    "duration": 49,
    "start_time": "2023-09-25T18:33:31.246Z"
   },
   {
    "duration": 846,
    "start_time": "2023-09-25T18:33:38.242Z"
   },
   {
    "duration": 2624,
    "start_time": "2023-09-25T18:33:39.090Z"
   },
   {
    "duration": 1934,
    "start_time": "2023-09-25T18:33:41.715Z"
   },
   {
    "duration": 17,
    "start_time": "2023-09-25T18:33:43.652Z"
   },
   {
    "duration": 4,
    "start_time": "2023-09-25T18:33:43.671Z"
   },
   {
    "duration": 77,
    "start_time": "2023-09-25T18:33:43.676Z"
   },
   {
    "duration": 278,
    "start_time": "2023-09-25T18:33:43.755Z"
   },
   {
    "duration": 20,
    "start_time": "2023-09-25T18:33:44.034Z"
   },
   {
    "duration": 261,
    "start_time": "2023-09-25T18:33:44.055Z"
   },
   {
    "duration": 321,
    "start_time": "2023-09-25T18:33:44.318Z"
   },
   {
    "duration": 9,
    "start_time": "2023-09-25T18:33:44.641Z"
   },
   {
    "duration": 264,
    "start_time": "2023-09-25T18:33:44.652Z"
   },
   {
    "duration": 13,
    "start_time": "2023-09-25T18:33:44.917Z"
   },
   {
    "duration": 345,
    "start_time": "2023-09-25T18:33:44.932Z"
   },
   {
    "duration": 9,
    "start_time": "2023-09-25T18:33:45.279Z"
   },
   {
    "duration": 277,
    "start_time": "2023-09-25T18:33:45.289Z"
   },
   {
    "duration": 15,
    "start_time": "2023-09-25T18:33:45.568Z"
   },
   {
    "duration": 37,
    "start_time": "2023-09-25T18:33:45.585Z"
   },
   {
    "duration": 307,
    "start_time": "2023-09-25T18:33:45.624Z"
   },
   {
    "duration": 18,
    "start_time": "2023-09-25T18:33:45.934Z"
   },
   {
    "duration": 64,
    "start_time": "2023-09-25T18:33:45.955Z"
   },
   {
    "duration": 104,
    "start_time": "2023-09-25T18:33:46.021Z"
   },
   {
    "duration": 30,
    "start_time": "2023-09-25T18:33:46.127Z"
   },
   {
    "duration": 153,
    "start_time": "2023-09-25T18:33:46.159Z"
   },
   {
    "duration": 15,
    "start_time": "2023-09-25T18:33:46.314Z"
   },
   {
    "duration": 155,
    "start_time": "2023-09-25T18:33:46.331Z"
   },
   {
    "duration": 14,
    "start_time": "2023-09-25T18:33:46.488Z"
   },
   {
    "duration": 161,
    "start_time": "2023-09-25T18:33:46.506Z"
   },
   {
    "duration": 8,
    "start_time": "2023-09-25T18:33:46.669Z"
   },
   {
    "duration": 148,
    "start_time": "2023-09-25T18:33:46.679Z"
   },
   {
    "duration": 12,
    "start_time": "2023-09-25T18:33:46.829Z"
   },
   {
    "duration": 206,
    "start_time": "2023-09-25T18:33:46.843Z"
   },
   {
    "duration": 8,
    "start_time": "2023-09-25T18:33:47.051Z"
   },
   {
    "duration": 177,
    "start_time": "2023-09-25T18:33:47.062Z"
   },
   {
    "duration": 10,
    "start_time": "2023-09-25T18:33:47.241Z"
   },
   {
    "duration": 253,
    "start_time": "2023-09-25T18:33:47.252Z"
   },
   {
    "duration": 135,
    "start_time": "2023-09-25T18:33:47.507Z"
   },
   {
    "duration": 208,
    "start_time": "2023-09-25T18:33:47.644Z"
   },
   {
    "duration": 5,
    "start_time": "2023-09-25T18:33:47.854Z"
   },
   {
    "duration": 50,
    "start_time": "2023-09-25T18:33:47.860Z"
   },
   {
    "duration": 45,
    "start_time": "2023-09-25T18:33:47.912Z"
   },
   {
    "duration": 30,
    "start_time": "2023-09-25T18:33:47.959Z"
   },
   {
    "duration": 201,
    "start_time": "2023-09-25T18:33:47.991Z"
   },
   {
    "duration": 4,
    "start_time": "2023-09-25T18:33:48.194Z"
   },
   {
    "duration": 254,
    "start_time": "2023-09-25T18:33:48.200Z"
   },
   {
    "duration": 5,
    "start_time": "2023-09-25T18:33:48.456Z"
   },
   {
    "duration": 335,
    "start_time": "2023-09-25T18:33:48.463Z"
   },
   {
    "duration": 5,
    "start_time": "2023-09-25T18:33:48.800Z"
   },
   {
    "duration": 218,
    "start_time": "2023-09-25T18:33:48.806Z"
   },
   {
    "duration": 5,
    "start_time": "2023-09-25T18:33:49.025Z"
   },
   {
    "duration": 285,
    "start_time": "2023-09-25T18:33:49.031Z"
   },
   {
    "duration": 102,
    "start_time": "2023-09-25T18:33:49.323Z"
   },
   {
    "duration": 715,
    "start_time": "2023-09-25T18:33:49.427Z"
   },
   {
    "duration": 8,
    "start_time": "2023-09-25T18:33:50.144Z"
   },
   {
    "duration": 36,
    "start_time": "2023-09-25T18:33:50.154Z"
   },
   {
    "duration": 31,
    "start_time": "2023-09-25T18:33:50.192Z"
   },
   {
    "duration": 236,
    "start_time": "2023-09-25T18:33:50.225Z"
   },
   {
    "duration": 10,
    "start_time": "2023-09-25T18:33:50.463Z"
   },
   {
    "duration": 202,
    "start_time": "2023-09-25T18:33:50.474Z"
   },
   {
    "duration": 121,
    "start_time": "2023-09-25T18:37:04.169Z"
   },
   {
    "duration": 102,
    "start_time": "2023-09-25T18:37:13.163Z"
   },
   {
    "duration": 107,
    "start_time": "2023-09-25T18:37:28.713Z"
   },
   {
    "duration": 157,
    "start_time": "2023-09-25T18:37:49.124Z"
   },
   {
    "duration": 137,
    "start_time": "2023-09-25T18:38:02.523Z"
   },
   {
    "duration": 117,
    "start_time": "2023-09-25T18:38:14.274Z"
   },
   {
    "duration": 541,
    "start_time": "2023-09-25T18:40:42.179Z"
   },
   {
    "duration": 113,
    "start_time": "2023-09-25T18:40:51.307Z"
   },
   {
    "duration": 413,
    "start_time": "2023-09-25T18:41:00.417Z"
   },
   {
    "duration": 3,
    "start_time": "2023-09-25T18:44:39.244Z"
   },
   {
    "duration": 3,
    "start_time": "2023-09-25T18:44:54.548Z"
   },
   {
    "duration": 10,
    "start_time": "2023-09-25T19:01:28.389Z"
   },
   {
    "duration": 8,
    "start_time": "2023-09-25T19:01:39.609Z"
   },
   {
    "duration": 8,
    "start_time": "2023-09-25T19:01:46.909Z"
   },
   {
    "duration": 39,
    "start_time": "2023-09-25T19:02:23.248Z"
   },
   {
    "duration": 44,
    "start_time": "2023-09-25T19:02:52.101Z"
   },
   {
    "duration": 1473,
    "start_time": "2023-09-25T19:08:42.413Z"
   },
   {
    "duration": 186,
    "start_time": "2023-09-25T19:08:54.605Z"
   },
   {
    "duration": 211,
    "start_time": "2023-09-25T19:09:01.022Z"
   },
   {
    "duration": 653,
    "start_time": "2023-09-25T19:12:55.982Z"
   },
   {
    "duration": 2041,
    "start_time": "2023-09-25T19:12:56.637Z"
   },
   {
    "duration": 1944,
    "start_time": "2023-09-25T19:12:58.680Z"
   },
   {
    "duration": 16,
    "start_time": "2023-09-25T19:13:00.626Z"
   },
   {
    "duration": 79,
    "start_time": "2023-09-25T19:13:00.643Z"
   },
   {
    "duration": 88,
    "start_time": "2023-09-25T19:13:00.724Z"
   },
   {
    "duration": 361,
    "start_time": "2023-09-25T19:13:00.814Z"
   },
   {
    "duration": 24,
    "start_time": "2023-09-25T19:13:01.177Z"
   },
   {
    "duration": 453,
    "start_time": "2023-09-25T19:13:01.203Z"
   },
   {
    "duration": 338,
    "start_time": "2023-09-25T19:13:01.659Z"
   },
   {
    "duration": 9,
    "start_time": "2023-09-25T19:13:01.999Z"
   },
   {
    "duration": 248,
    "start_time": "2023-09-25T19:13:02.010Z"
   },
   {
    "duration": 10,
    "start_time": "2023-09-25T19:13:02.259Z"
   },
   {
    "duration": 359,
    "start_time": "2023-09-25T19:13:02.271Z"
   },
   {
    "duration": 11,
    "start_time": "2023-09-25T19:13:02.631Z"
   },
   {
    "duration": 261,
    "start_time": "2023-09-25T19:13:02.643Z"
   },
   {
    "duration": 23,
    "start_time": "2023-09-25T19:13:02.906Z"
   },
   {
    "duration": 11,
    "start_time": "2023-09-25T19:13:02.930Z"
   },
   {
    "duration": 256,
    "start_time": "2023-09-25T19:13:02.943Z"
   },
   {
    "duration": 23,
    "start_time": "2023-09-25T19:13:03.201Z"
   },
   {
    "duration": 31,
    "start_time": "2023-09-25T19:13:03.225Z"
   },
   {
    "duration": 50,
    "start_time": "2023-09-25T19:13:03.258Z"
   },
   {
    "duration": 29,
    "start_time": "2023-09-25T19:13:03.310Z"
   },
   {
    "duration": 186,
    "start_time": "2023-09-25T19:13:03.340Z"
   },
   {
    "duration": 9,
    "start_time": "2023-09-25T19:13:03.527Z"
   },
   {
    "duration": 269,
    "start_time": "2023-09-25T19:13:03.537Z"
   },
   {
    "duration": 16,
    "start_time": "2023-09-25T19:13:03.808Z"
   },
   {
    "duration": 179,
    "start_time": "2023-09-25T19:13:03.828Z"
   },
   {
    "duration": 16,
    "start_time": "2023-09-25T19:13:04.009Z"
   },
   {
    "duration": 143,
    "start_time": "2023-09-25T19:13:04.027Z"
   },
   {
    "duration": 8,
    "start_time": "2023-09-25T19:13:04.171Z"
   },
   {
    "duration": 178,
    "start_time": "2023-09-25T19:13:04.181Z"
   },
   {
    "duration": 8,
    "start_time": "2023-09-25T19:13:04.361Z"
   },
   {
    "duration": 143,
    "start_time": "2023-09-25T19:13:04.370Z"
   },
   {
    "duration": 17,
    "start_time": "2023-09-25T19:13:04.515Z"
   },
   {
    "duration": 214,
    "start_time": "2023-09-25T19:13:04.534Z"
   },
   {
    "duration": 119,
    "start_time": "2023-09-25T19:13:04.750Z"
   },
   {
    "duration": 205,
    "start_time": "2023-09-25T19:13:04.871Z"
   },
   {
    "duration": 6,
    "start_time": "2023-09-25T19:13:05.078Z"
   },
   {
    "duration": 38,
    "start_time": "2023-09-25T19:13:05.085Z"
   },
   {
    "duration": 54,
    "start_time": "2023-09-25T19:13:05.125Z"
   },
   {
    "duration": 31,
    "start_time": "2023-09-25T19:13:05.180Z"
   },
   {
    "duration": 197,
    "start_time": "2023-09-25T19:13:05.214Z"
   },
   {
    "duration": 16,
    "start_time": "2023-09-25T19:13:05.413Z"
   },
   {
    "duration": 242,
    "start_time": "2023-09-25T19:13:05.431Z"
   },
   {
    "duration": 4,
    "start_time": "2023-09-25T19:13:05.675Z"
   },
   {
    "duration": 312,
    "start_time": "2023-09-25T19:13:05.681Z"
   },
   {
    "duration": 6,
    "start_time": "2023-09-25T19:13:05.996Z"
   },
   {
    "duration": 220,
    "start_time": "2023-09-25T19:13:06.004Z"
   },
   {
    "duration": 5,
    "start_time": "2023-09-25T19:13:06.226Z"
   },
   {
    "duration": 242,
    "start_time": "2023-09-25T19:13:06.232Z"
   },
   {
    "duration": 108,
    "start_time": "2023-09-25T19:13:06.475Z"
   },
   {
    "duration": 123,
    "start_time": "2023-09-25T19:13:06.585Z"
   },
   {
    "duration": 148,
    "start_time": "2023-09-25T19:13:06.710Z"
   },
   {
    "duration": 238,
    "start_time": "2023-09-25T19:13:06.860Z"
   },
   {
    "duration": 2,
    "start_time": "2023-09-25T19:13:07.101Z"
   },
   {
    "duration": 6,
    "start_time": "2023-09-25T19:13:07.104Z"
   },
   {
    "duration": 27,
    "start_time": "2023-09-25T19:13:07.111Z"
   },
   {
    "duration": 12,
    "start_time": "2023-09-25T19:13:07.140Z"
   },
   {
    "duration": 309,
    "start_time": "2023-09-25T19:13:07.154Z"
   },
   {
    "duration": 11,
    "start_time": "2023-09-25T19:13:07.466Z"
   },
   {
    "duration": 262,
    "start_time": "2023-09-25T19:13:07.479Z"
   },
   {
    "duration": 203,
    "start_time": "2023-09-25T19:13:07.743Z"
   },
   {
    "duration": 738,
    "start_time": "2023-09-25T19:16:25.687Z"
   },
   {
    "duration": 2047,
    "start_time": "2023-09-25T19:16:26.427Z"
   },
   {
    "duration": 1954,
    "start_time": "2023-09-25T19:16:28.476Z"
   },
   {
    "duration": 19,
    "start_time": "2023-09-25T19:16:30.432Z"
   },
   {
    "duration": 70,
    "start_time": "2023-09-25T19:16:30.453Z"
   },
   {
    "duration": 103,
    "start_time": "2023-09-25T19:16:30.525Z"
   },
   {
    "duration": 310,
    "start_time": "2023-09-25T19:16:30.631Z"
   },
   {
    "duration": 23,
    "start_time": "2023-09-25T19:16:30.944Z"
   },
   {
    "duration": 282,
    "start_time": "2023-09-25T19:16:30.969Z"
   },
   {
    "duration": 346,
    "start_time": "2023-09-25T19:16:31.255Z"
   },
   {
    "duration": 10,
    "start_time": "2023-09-25T19:16:31.602Z"
   },
   {
    "duration": 269,
    "start_time": "2023-09-25T19:16:31.614Z"
   },
   {
    "duration": 9,
    "start_time": "2023-09-25T19:16:31.885Z"
   },
   {
    "duration": 351,
    "start_time": "2023-09-25T19:16:31.896Z"
   },
   {
    "duration": 12,
    "start_time": "2023-09-25T19:16:32.249Z"
   },
   {
    "duration": 316,
    "start_time": "2023-09-25T19:16:32.264Z"
   },
   {
    "duration": 15,
    "start_time": "2023-09-25T19:16:32.582Z"
   },
   {
    "duration": 173,
    "start_time": "2023-09-25T19:16:32.598Z"
   },
   {
    "duration": 441,
    "start_time": "2023-09-25T19:16:32.773Z"
   },
   {
    "duration": 18,
    "start_time": "2023-09-25T19:16:33.215Z"
   },
   {
    "duration": 15,
    "start_time": "2023-09-25T19:16:33.235Z"
   },
   {
    "duration": 23,
    "start_time": "2023-09-25T19:16:33.252Z"
   },
   {
    "duration": 27,
    "start_time": "2023-09-25T19:16:33.276Z"
   },
   {
    "duration": 156,
    "start_time": "2023-09-25T19:16:33.304Z"
   },
   {
    "duration": 10,
    "start_time": "2023-09-25T19:16:33.462Z"
   },
   {
    "duration": 158,
    "start_time": "2023-09-25T19:16:33.474Z"
   },
   {
    "duration": 10,
    "start_time": "2023-09-25T19:16:33.635Z"
   },
   {
    "duration": 138,
    "start_time": "2023-09-25T19:16:33.649Z"
   },
   {
    "duration": 9,
    "start_time": "2023-09-25T19:16:33.790Z"
   },
   {
    "duration": 151,
    "start_time": "2023-09-25T19:16:33.800Z"
   },
   {
    "duration": 11,
    "start_time": "2023-09-25T19:16:33.953Z"
   },
   {
    "duration": 183,
    "start_time": "2023-09-25T19:16:33.966Z"
   },
   {
    "duration": 9,
    "start_time": "2023-09-25T19:16:34.151Z"
   },
   {
    "duration": 145,
    "start_time": "2023-09-25T19:16:34.162Z"
   },
   {
    "duration": 21,
    "start_time": "2023-09-25T19:16:34.309Z"
   },
   {
    "duration": 236,
    "start_time": "2023-09-25T19:16:34.331Z"
   },
   {
    "duration": 131,
    "start_time": "2023-09-25T19:16:34.569Z"
   },
   {
    "duration": 217,
    "start_time": "2023-09-25T19:16:34.701Z"
   },
   {
    "duration": 7,
    "start_time": "2023-09-25T19:16:34.923Z"
   },
   {
    "duration": 10,
    "start_time": "2023-09-25T19:16:34.933Z"
   },
   {
    "duration": 44,
    "start_time": "2023-09-25T19:16:34.945Z"
   },
   {
    "duration": 48,
    "start_time": "2023-09-25T19:16:34.991Z"
   },
   {
    "duration": 203,
    "start_time": "2023-09-25T19:16:35.042Z"
   },
   {
    "duration": 5,
    "start_time": "2023-09-25T19:16:35.246Z"
   },
   {
    "duration": 234,
    "start_time": "2023-09-25T19:16:35.253Z"
   },
   {
    "duration": 5,
    "start_time": "2023-09-25T19:16:35.488Z"
   },
   {
    "duration": 244,
    "start_time": "2023-09-25T19:16:35.494Z"
   },
   {
    "duration": 4,
    "start_time": "2023-09-25T19:16:35.740Z"
   },
   {
    "duration": 275,
    "start_time": "2023-09-25T19:16:35.745Z"
   },
   {
    "duration": 6,
    "start_time": "2023-09-25T19:16:36.025Z"
   },
   {
    "duration": 245,
    "start_time": "2023-09-25T19:16:36.032Z"
   },
   {
    "duration": 104,
    "start_time": "2023-09-25T19:16:36.279Z"
   },
   {
    "duration": 124,
    "start_time": "2023-09-25T19:16:36.385Z"
   },
   {
    "duration": 141,
    "start_time": "2023-09-25T19:16:36.510Z"
   },
   {
    "duration": 228,
    "start_time": "2023-09-25T19:16:36.653Z"
   },
   {
    "duration": 3,
    "start_time": "2023-09-25T19:16:36.883Z"
   },
   {
    "duration": 19,
    "start_time": "2023-09-25T19:16:36.887Z"
   },
   {
    "duration": 38,
    "start_time": "2023-09-25T19:16:36.908Z"
   },
   {
    "duration": 19,
    "start_time": "2023-09-25T19:16:36.949Z"
   },
   {
    "duration": 187,
    "start_time": "2023-09-25T19:16:36.970Z"
   },
   {
    "duration": 13,
    "start_time": "2023-09-25T19:16:37.159Z"
   },
   {
    "duration": 196,
    "start_time": "2023-09-25T19:16:37.174Z"
   },
   {
    "duration": 53,
    "start_time": "2023-09-25T19:16:37.371Z"
   },
   {
    "duration": 3,
    "start_time": "2023-09-25T19:16:37.425Z"
   },
   {
    "duration": 17,
    "start_time": "2023-09-25T19:16:37.430Z"
   },
   {
    "duration": 182,
    "start_time": "2023-09-25T19:18:26.258Z"
   },
   {
    "duration": 177,
    "start_time": "2023-09-25T19:18:41.972Z"
   },
   {
    "duration": 221,
    "start_time": "2023-09-25T19:18:55.803Z"
   },
   {
    "duration": 136,
    "start_time": "2023-09-25T19:19:11.660Z"
   },
   {
    "duration": 146,
    "start_time": "2023-09-25T19:19:25.993Z"
   },
   {
    "duration": 15,
    "start_time": "2023-09-25T19:20:11.761Z"
   },
   {
    "duration": 797,
    "start_time": "2023-09-26T14:21:24.279Z"
   },
   {
    "duration": 2406,
    "start_time": "2023-09-26T14:21:25.078Z"
   },
   {
    "duration": 2129,
    "start_time": "2023-09-26T14:21:27.487Z"
   },
   {
    "duration": 19,
    "start_time": "2023-09-26T14:21:29.618Z"
   },
   {
    "duration": 4,
    "start_time": "2023-09-26T14:21:29.640Z"
   },
   {
    "duration": 71,
    "start_time": "2023-09-26T14:21:29.646Z"
   },
   {
    "duration": 509,
    "start_time": "2023-09-26T14:21:29.720Z"
   },
   {
    "duration": 82,
    "start_time": "2023-09-26T14:21:30.231Z"
   },
   {
    "duration": 527,
    "start_time": "2023-09-26T14:21:30.315Z"
   },
   {
    "duration": 757,
    "start_time": "2023-09-26T14:21:30.844Z"
   },
   {
    "duration": 11,
    "start_time": "2023-09-26T14:21:31.603Z"
   },
   {
    "duration": 514,
    "start_time": "2023-09-26T14:21:31.616Z"
   },
   {
    "duration": 9,
    "start_time": "2023-09-26T14:21:32.133Z"
   },
   {
    "duration": 457,
    "start_time": "2023-09-26T14:21:32.146Z"
   },
   {
    "duration": 10,
    "start_time": "2023-09-26T14:21:32.605Z"
   },
   {
    "duration": 293,
    "start_time": "2023-09-26T14:21:32.616Z"
   },
   {
    "duration": 15,
    "start_time": "2023-09-26T14:21:32.911Z"
   },
   {
    "duration": 48,
    "start_time": "2023-09-26T14:21:32.927Z"
   },
   {
    "duration": 269,
    "start_time": "2023-09-26T14:21:32.977Z"
   },
   {
    "duration": 17,
    "start_time": "2023-09-26T14:21:33.247Z"
   },
   {
    "duration": 32,
    "start_time": "2023-09-26T14:21:33.266Z"
   },
   {
    "duration": 27,
    "start_time": "2023-09-26T14:21:33.300Z"
   },
   {
    "duration": 56,
    "start_time": "2023-09-26T14:21:33.329Z"
   },
   {
    "duration": 179,
    "start_time": "2023-09-26T14:21:33.387Z"
   },
   {
    "duration": 11,
    "start_time": "2023-09-26T14:21:33.569Z"
   },
   {
    "duration": 179,
    "start_time": "2023-09-26T14:21:33.582Z"
   },
   {
    "duration": 11,
    "start_time": "2023-09-26T14:21:33.762Z"
   },
   {
    "duration": 169,
    "start_time": "2023-09-26T14:21:33.775Z"
   },
   {
    "duration": 8,
    "start_time": "2023-09-26T14:21:33.946Z"
   },
   {
    "duration": 184,
    "start_time": "2023-09-26T14:21:33.956Z"
   },
   {
    "duration": 10,
    "start_time": "2023-09-26T14:21:34.142Z"
   },
   {
    "duration": 219,
    "start_time": "2023-09-26T14:21:34.154Z"
   },
   {
    "duration": 9,
    "start_time": "2023-09-26T14:21:34.374Z"
   },
   {
    "duration": 157,
    "start_time": "2023-09-26T14:21:34.385Z"
   },
   {
    "duration": 14,
    "start_time": "2023-09-26T14:21:34.547Z"
   },
   {
    "duration": 281,
    "start_time": "2023-09-26T14:21:34.563Z"
   },
   {
    "duration": 127,
    "start_time": "2023-09-26T14:21:34.846Z"
   },
   {
    "duration": 234,
    "start_time": "2023-09-26T14:21:34.975Z"
   },
   {
    "duration": 5,
    "start_time": "2023-09-26T14:21:35.211Z"
   },
   {
    "duration": 174,
    "start_time": "2023-09-26T14:21:35.218Z"
   },
   {
    "duration": 57,
    "start_time": "2023-09-26T14:21:35.396Z"
   },
   {
    "duration": 68,
    "start_time": "2023-09-26T14:21:35.455Z"
   },
   {
    "duration": 231,
    "start_time": "2023-09-26T14:21:35.524Z"
   },
   {
    "duration": 5,
    "start_time": "2023-09-26T14:21:35.757Z"
   },
   {
    "duration": 455,
    "start_time": "2023-09-26T14:21:35.763Z"
   },
   {
    "duration": 6,
    "start_time": "2023-09-26T14:21:36.219Z"
   },
   {
    "duration": 271,
    "start_time": "2023-09-26T14:21:36.226Z"
   },
   {
    "duration": 5,
    "start_time": "2023-09-26T14:21:36.502Z"
   },
   {
    "duration": 263,
    "start_time": "2023-09-26T14:21:36.509Z"
   },
   {
    "duration": 5,
    "start_time": "2023-09-26T14:21:36.773Z"
   },
   {
    "duration": 274,
    "start_time": "2023-09-26T14:21:36.780Z"
   },
   {
    "duration": 128,
    "start_time": "2023-09-26T14:21:37.056Z"
   },
   {
    "duration": 138,
    "start_time": "2023-09-26T14:21:37.185Z"
   },
   {
    "duration": 165,
    "start_time": "2023-09-26T14:21:37.324Z"
   },
   {
    "duration": 256,
    "start_time": "2023-09-26T14:21:37.491Z"
   },
   {
    "duration": 3,
    "start_time": "2023-09-26T14:21:37.749Z"
   },
   {
    "duration": 31,
    "start_time": "2023-09-26T14:21:37.754Z"
   },
   {
    "duration": 28,
    "start_time": "2023-09-26T14:21:37.787Z"
   },
   {
    "duration": 14,
    "start_time": "2023-09-26T14:21:37.817Z"
   },
   {
    "duration": 207,
    "start_time": "2023-09-26T14:21:37.832Z"
   },
   {
    "duration": 12,
    "start_time": "2023-09-26T14:21:38.041Z"
   },
   {
    "duration": 257,
    "start_time": "2023-09-26T14:21:38.055Z"
   },
   {
    "duration": 155,
    "start_time": "2023-09-26T14:21:38.314Z"
   },
   {
    "duration": 134,
    "start_time": "2023-09-26T14:21:49.272Z"
   },
   {
    "duration": 136,
    "start_time": "2023-09-26T14:21:58.147Z"
   },
   {
    "duration": 52,
    "start_time": "2023-09-26T18:33:17.133Z"
   },
   {
    "duration": 976,
    "start_time": "2023-09-26T18:33:25.525Z"
   },
   {
    "duration": 2695,
    "start_time": "2023-09-26T18:33:26.503Z"
   },
   {
    "duration": 2221,
    "start_time": "2023-09-26T18:33:29.199Z"
   },
   {
    "duration": 31,
    "start_time": "2023-09-26T18:33:31.422Z"
   },
   {
    "duration": 17,
    "start_time": "2023-09-26T18:33:31.455Z"
   },
   {
    "duration": 80,
    "start_time": "2023-09-26T18:33:31.474Z"
   },
   {
    "duration": 372,
    "start_time": "2023-09-26T18:33:31.556Z"
   },
   {
    "duration": 31,
    "start_time": "2023-09-26T18:33:31.930Z"
   },
   {
    "duration": 328,
    "start_time": "2023-09-26T18:33:31.963Z"
   },
   {
    "duration": 404,
    "start_time": "2023-09-26T18:33:32.294Z"
   },
   {
    "duration": 10,
    "start_time": "2023-09-26T18:33:32.699Z"
   },
   {
    "duration": 289,
    "start_time": "2023-09-26T18:33:32.710Z"
   },
   {
    "duration": 9,
    "start_time": "2023-09-26T18:33:33.000Z"
   },
   {
    "duration": 375,
    "start_time": "2023-09-26T18:33:33.011Z"
   },
   {
    "duration": 11,
    "start_time": "2023-09-26T18:33:33.388Z"
   },
   {
    "duration": 289,
    "start_time": "2023-09-26T18:33:33.401Z"
   },
   {
    "duration": 14,
    "start_time": "2023-09-26T18:33:33.692Z"
   },
   {
    "duration": 24,
    "start_time": "2023-09-26T18:33:33.708Z"
   },
   {
    "duration": 255,
    "start_time": "2023-09-26T18:33:33.734Z"
   },
   {
    "duration": 16,
    "start_time": "2023-09-26T18:33:33.991Z"
   },
   {
    "duration": 16,
    "start_time": "2023-09-26T18:33:34.008Z"
   },
   {
    "duration": 33,
    "start_time": "2023-09-26T18:33:34.026Z"
   },
   {
    "duration": 55,
    "start_time": "2023-09-26T18:33:34.061Z"
   },
   {
    "duration": 185,
    "start_time": "2023-09-26T18:33:34.118Z"
   },
   {
    "duration": 10,
    "start_time": "2023-09-26T18:33:34.305Z"
   },
   {
    "duration": 177,
    "start_time": "2023-09-26T18:33:34.316Z"
   },
   {
    "duration": 10,
    "start_time": "2023-09-26T18:33:34.495Z"
   },
   {
    "duration": 164,
    "start_time": "2023-09-26T18:33:34.509Z"
   },
   {
    "duration": 10,
    "start_time": "2023-09-26T18:33:34.676Z"
   },
   {
    "duration": 175,
    "start_time": "2023-09-26T18:33:34.688Z"
   },
   {
    "duration": 10,
    "start_time": "2023-09-26T18:33:34.866Z"
   },
   {
    "duration": 197,
    "start_time": "2023-09-26T18:33:34.877Z"
   },
   {
    "duration": 11,
    "start_time": "2023-09-26T18:33:35.076Z"
   },
   {
    "duration": 210,
    "start_time": "2023-09-26T18:33:35.089Z"
   },
   {
    "duration": 13,
    "start_time": "2023-09-26T18:33:35.302Z"
   },
   {
    "duration": 271,
    "start_time": "2023-09-26T18:33:35.317Z"
   },
   {
    "duration": 131,
    "start_time": "2023-09-26T18:33:35.590Z"
   },
   {
    "duration": 247,
    "start_time": "2023-09-26T18:33:35.723Z"
   },
   {
    "duration": 6,
    "start_time": "2023-09-26T18:33:35.972Z"
   },
   {
    "duration": 34,
    "start_time": "2023-09-26T18:33:35.980Z"
   },
   {
    "duration": 72,
    "start_time": "2023-09-26T18:33:36.016Z"
   },
   {
    "duration": 52,
    "start_time": "2023-09-26T18:33:36.093Z"
   },
   {
    "duration": 223,
    "start_time": "2023-09-26T18:33:36.147Z"
   },
   {
    "duration": 5,
    "start_time": "2023-09-26T18:33:36.372Z"
   },
   {
    "duration": 303,
    "start_time": "2023-09-26T18:33:36.378Z"
   },
   {
    "duration": 6,
    "start_time": "2023-09-26T18:33:36.683Z"
   },
   {
    "duration": 328,
    "start_time": "2023-09-26T18:33:36.691Z"
   },
   {
    "duration": 5,
    "start_time": "2023-09-26T18:33:37.021Z"
   },
   {
    "duration": 242,
    "start_time": "2023-09-26T18:33:37.028Z"
   },
   {
    "duration": 5,
    "start_time": "2023-09-26T18:33:37.271Z"
   },
   {
    "duration": 268,
    "start_time": "2023-09-26T18:33:37.278Z"
   },
   {
    "duration": 120,
    "start_time": "2023-09-26T18:33:37.547Z"
   },
   {
    "duration": 139,
    "start_time": "2023-09-26T18:33:37.669Z"
   },
   {
    "duration": 154,
    "start_time": "2023-09-26T18:33:37.810Z"
   },
   {
    "duration": 242,
    "start_time": "2023-09-26T18:33:37.966Z"
   },
   {
    "duration": 3,
    "start_time": "2023-09-26T18:33:38.210Z"
   },
   {
    "duration": 32,
    "start_time": "2023-09-26T18:33:38.214Z"
   },
   {
    "duration": 26,
    "start_time": "2023-09-26T18:33:38.248Z"
   },
   {
    "duration": 28,
    "start_time": "2023-09-26T18:33:38.276Z"
   },
   {
    "duration": 208,
    "start_time": "2023-09-26T18:33:38.306Z"
   },
   {
    "duration": 12,
    "start_time": "2023-09-26T18:33:38.515Z"
   },
   {
    "duration": 216,
    "start_time": "2023-09-26T18:33:38.528Z"
   },
   {
    "duration": 143,
    "start_time": "2023-09-26T18:33:38.747Z"
   },
   {
    "duration": 953,
    "start_time": "2023-09-26T20:31:48.698Z"
   },
   {
    "duration": 2710,
    "start_time": "2023-09-26T20:31:49.653Z"
   },
   {
    "duration": 2393,
    "start_time": "2023-09-26T20:31:52.365Z"
   },
   {
    "duration": 18,
    "start_time": "2023-09-26T20:31:54.760Z"
   },
   {
    "duration": 4,
    "start_time": "2023-09-26T20:31:54.780Z"
   },
   {
    "duration": 83,
    "start_time": "2023-09-26T20:31:54.786Z"
   },
   {
    "duration": 338,
    "start_time": "2023-09-26T20:31:54.871Z"
   },
   {
    "duration": 33,
    "start_time": "2023-09-26T20:31:55.213Z"
   },
   {
    "duration": 355,
    "start_time": "2023-09-26T20:31:55.248Z"
   },
   {
    "duration": 419,
    "start_time": "2023-09-26T20:31:55.609Z"
   },
   {
    "duration": 11,
    "start_time": "2023-09-26T20:31:56.030Z"
   },
   {
    "duration": 293,
    "start_time": "2023-09-26T20:31:56.043Z"
   },
   {
    "duration": 9,
    "start_time": "2023-09-26T20:31:56.338Z"
   },
   {
    "duration": 428,
    "start_time": "2023-09-26T20:31:56.349Z"
   },
   {
    "duration": 11,
    "start_time": "2023-09-26T20:31:56.780Z"
   },
   {
    "duration": 331,
    "start_time": "2023-09-26T20:31:56.794Z"
   },
   {
    "duration": 17,
    "start_time": "2023-09-26T20:31:57.127Z"
   },
   {
    "duration": 14,
    "start_time": "2023-09-26T20:31:57.146Z"
   },
   {
    "duration": 291,
    "start_time": "2023-09-26T20:31:57.162Z"
   },
   {
    "duration": 18,
    "start_time": "2023-09-26T20:31:57.456Z"
   },
   {
    "duration": 9,
    "start_time": "2023-09-26T20:31:57.476Z"
   },
   {
    "duration": 18,
    "start_time": "2023-09-26T20:31:57.508Z"
   },
   {
    "duration": 15,
    "start_time": "2023-09-26T20:31:57.528Z"
   },
   {
    "duration": 214,
    "start_time": "2023-09-26T20:31:57.545Z"
   },
   {
    "duration": 10,
    "start_time": "2023-09-26T20:31:57.761Z"
   },
   {
    "duration": 198,
    "start_time": "2023-09-26T20:31:57.773Z"
   },
   {
    "duration": 15,
    "start_time": "2023-09-26T20:31:57.973Z"
   },
   {
    "duration": 164,
    "start_time": "2023-09-26T20:31:57.994Z"
   },
   {
    "duration": 9,
    "start_time": "2023-09-26T20:31:58.160Z"
   },
   {
    "duration": 178,
    "start_time": "2023-09-26T20:31:58.171Z"
   },
   {
    "duration": 10,
    "start_time": "2023-09-26T20:31:58.351Z"
   },
   {
    "duration": 204,
    "start_time": "2023-09-26T20:31:58.363Z"
   },
   {
    "duration": 14,
    "start_time": "2023-09-26T20:31:58.569Z"
   },
   {
    "duration": 191,
    "start_time": "2023-09-26T20:31:58.585Z"
   },
   {
    "duration": 11,
    "start_time": "2023-09-26T20:31:58.778Z"
   },
   {
    "duration": 286,
    "start_time": "2023-09-26T20:31:58.791Z"
   },
   {
    "duration": 146,
    "start_time": "2023-09-26T20:31:59.079Z"
   },
   {
    "duration": 235,
    "start_time": "2023-09-26T20:31:59.227Z"
   },
   {
    "duration": 7,
    "start_time": "2023-09-26T20:31:59.464Z"
   },
   {
    "duration": 12,
    "start_time": "2023-09-26T20:31:59.473Z"
   },
   {
    "duration": 62,
    "start_time": "2023-09-26T20:31:59.486Z"
   },
   {
    "duration": 40,
    "start_time": "2023-09-26T20:31:59.550Z"
   },
   {
    "duration": 243,
    "start_time": "2023-09-26T20:31:59.592Z"
   },
   {
    "duration": 6,
    "start_time": "2023-09-26T20:31:59.838Z"
   },
   {
    "duration": 289,
    "start_time": "2023-09-26T20:31:59.846Z"
   },
   {
    "duration": 7,
    "start_time": "2023-09-26T20:32:00.137Z"
   },
   {
    "duration": 317,
    "start_time": "2023-09-26T20:32:00.145Z"
   },
   {
    "duration": 6,
    "start_time": "2023-09-26T20:32:00.463Z"
   },
   {
    "duration": 407,
    "start_time": "2023-09-26T20:32:00.470Z"
   },
   {
    "duration": 5,
    "start_time": "2023-09-26T20:32:00.879Z"
   },
   {
    "duration": 290,
    "start_time": "2023-09-26T20:32:00.886Z"
   },
   {
    "duration": 135,
    "start_time": "2023-09-26T20:32:01.178Z"
   },
   {
    "duration": 136,
    "start_time": "2023-09-26T20:32:01.319Z"
   },
   {
    "duration": 176,
    "start_time": "2023-09-26T20:32:01.457Z"
   },
   {
    "duration": 272,
    "start_time": "2023-09-26T20:32:01.635Z"
   },
   {
    "duration": 23,
    "start_time": "2023-09-26T20:32:01.911Z"
   },
   {
    "duration": 91,
    "start_time": "2023-09-26T20:32:01.936Z"
   },
   {
    "duration": 67,
    "start_time": "2023-09-26T20:32:02.029Z"
   },
   {
    "duration": 75,
    "start_time": "2023-09-26T20:32:02.098Z"
   },
   {
    "duration": 254,
    "start_time": "2023-09-26T20:32:02.175Z"
   },
   {
    "duration": 18,
    "start_time": "2023-09-26T20:32:02.434Z"
   },
   {
    "duration": 335,
    "start_time": "2023-09-26T20:32:02.455Z"
   },
   {
    "duration": 159,
    "start_time": "2023-09-26T20:32:02.793Z"
   }
  ],
  "kernelspec": {
   "display_name": "Python 3 (ipykernel)",
   "language": "python",
   "name": "python3"
  },
  "language_info": {
   "codemirror_mode": {
    "name": "ipython",
    "version": 3
   },
   "file_extension": ".py",
   "mimetype": "text/x-python",
   "name": "python",
   "nbconvert_exporter": "python",
   "pygments_lexer": "ipython3",
   "version": "3.9.5"
  },
  "toc": {
   "base_numbering": 1,
   "nav_menu": {},
   "number_sections": true,
   "sideBar": true,
   "skip_h1_title": true,
   "title_cell": "Table of Contents",
   "title_sidebar": "Contents",
   "toc_cell": false,
   "toc_position": {
    "height": "calc(100% - 180px)",
    "left": "10px",
    "top": "150px",
    "width": "277px"
   },
   "toc_section_display": true,
   "toc_window_display": true
  }
 },
 "nbformat": 4,
 "nbformat_minor": 4
}
