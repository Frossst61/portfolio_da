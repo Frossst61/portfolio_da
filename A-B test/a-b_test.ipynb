{
 "cells": [
  {
   "cell_type": "markdown",
   "metadata": {},
   "source": [
    "# Intro"
   ]
  },
  {
   "cell_type": "markdown",
   "metadata": {},
   "source": [
    "В данной работе мы разбираемся как ведут себя пользователи мобильного приложения по продаже продуктов питания.<br>\n",
    "Изучим воронку продаж. <br>\n",
    "Узнаем, как пользователи доходят до покупки. Сколько пользователей доходит до покупки, а сколько — «застревает» на предыдущих шагах.<br>\n",
    "После этого исследуем результаты A/A/B-эксперимента. Дизайнеры предложили поменять шрифты во всём приложении.<br>\n",
    "Принимать решение стоит ли изменять шрифт будем по результатам A/A/B-теста.<br>\n",
    "Пользователей разбили на 3 группы: 2 контрольные со старыми шрифтами и одну экспериментальную — с новыми. Выясним, какой шрифт лучше.<br>\n",
    "Создание двух групп A вместо одной имеет определённые преимущества. Если две контрольные группы окажутся равны, то мы можем быть уверены в точности проведенного тестирования. Если же между значениями A и A будут существенные различия, это поможет обнаружить факторы, которые привели к искажению результатов. Сравнение контрольных групп также помогает понять, сколько времени и данных потребуется для дальнейших тестов.<br><br>\n",
    "**Описание данных:**\n",
    " - EventName — название события;\n",
    " - DeviceIDHash — уникальный идентификатор пользователя;\n",
    " - EventTimestamp — время события;\n",
    " - ExpId — номер эксперимента: 246 и 247 — контрольные группы, а 248 — экспериментальная."
   ]
  },
  {
   "cell_type": "markdown",
   "metadata": {},
   "source": [
    "# Шаг 1. Изучаем данные"
   ]
  },
  {
   "cell_type": "markdown",
   "metadata": {},
   "source": [
    "### Загружаем библиотеки"
   ]
  },
  {
   "cell_type": "code",
   "execution_count": 1,
   "metadata": {},
   "outputs": [],
   "source": [
    "import pandas as pd\n",
    "import matplotlib.pyplot as plt\n",
    "import seaborn as sns\n",
    "from plotly import graph_objects as go\n",
    "from datetime import datetime, timedelta\n",
    "import scipy.stats as stats\n",
    "import math as mth\n",
    "import os\n",
    "import numpy as np\n",
    "import scipy.stats as st\n",
    "pd.set_option('display.max_columns', 50)\n",
    "from pandas.plotting import register_matplotlib_converters\n",
    "import warnings"
   ]
  },
  {
   "cell_type": "markdown",
   "metadata": {},
   "source": [
    "### Загружаем датасет"
   ]
  },
  {
   "cell_type": "code",
   "execution_count": 2,
   "metadata": {},
   "outputs": [],
   "source": [
    "pth1 = 'datasets/logs_exp.csv'\n",
    "if os.path.exists(pth1):\n",
    "    logs = pd.read_csv(pth1, sep='\\t')\n",
    "else:\n",
    "    print('Something is wrong')"
   ]
  },
  {
   "cell_type": "code",
   "execution_count": 3,
   "metadata": {},
   "outputs": [
    {
     "name": "stdout",
     "output_type": "stream",
     "text": [
      "<class 'pandas.core.frame.DataFrame'>\n",
      "RangeIndex: 244126 entries, 0 to 244125\n",
      "Data columns (total 4 columns):\n",
      " #   Column          Non-Null Count   Dtype \n",
      "---  ------          --------------   ----- \n",
      " 0   EventName       244126 non-null  object\n",
      " 1   DeviceIDHash    244126 non-null  int64 \n",
      " 2   EventTimestamp  244126 non-null  int64 \n",
      " 3   ExpId           244126 non-null  int64 \n",
      "dtypes: int64(3), object(1)\n",
      "memory usage: 7.5+ MB\n"
     ]
    },
    {
     "data": {
      "text/html": [
       "<div>\n",
       "<style scoped>\n",
       "    .dataframe tbody tr th:only-of-type {\n",
       "        vertical-align: middle;\n",
       "    }\n",
       "\n",
       "    .dataframe tbody tr th {\n",
       "        vertical-align: top;\n",
       "    }\n",
       "\n",
       "    .dataframe thead th {\n",
       "        text-align: right;\n",
       "    }\n",
       "</style>\n",
       "<table border=\"1\" class=\"dataframe\">\n",
       "  <thead>\n",
       "    <tr style=\"text-align: right;\">\n",
       "      <th></th>\n",
       "      <th>EventName</th>\n",
       "      <th>DeviceIDHash</th>\n",
       "      <th>EventTimestamp</th>\n",
       "      <th>ExpId</th>\n",
       "    </tr>\n",
       "  </thead>\n",
       "  <tbody>\n",
       "    <tr>\n",
       "      <th>0</th>\n",
       "      <td>MainScreenAppear</td>\n",
       "      <td>4575588528974610257</td>\n",
       "      <td>1564029816</td>\n",
       "      <td>246</td>\n",
       "    </tr>\n",
       "    <tr>\n",
       "      <th>1</th>\n",
       "      <td>MainScreenAppear</td>\n",
       "      <td>7416695313311560658</td>\n",
       "      <td>1564053102</td>\n",
       "      <td>246</td>\n",
       "    </tr>\n",
       "    <tr>\n",
       "      <th>2</th>\n",
       "      <td>PaymentScreenSuccessful</td>\n",
       "      <td>3518123091307005509</td>\n",
       "      <td>1564054127</td>\n",
       "      <td>248</td>\n",
       "    </tr>\n",
       "    <tr>\n",
       "      <th>3</th>\n",
       "      <td>CartScreenAppear</td>\n",
       "      <td>3518123091307005509</td>\n",
       "      <td>1564054127</td>\n",
       "      <td>248</td>\n",
       "    </tr>\n",
       "    <tr>\n",
       "      <th>4</th>\n",
       "      <td>PaymentScreenSuccessful</td>\n",
       "      <td>6217807653094995999</td>\n",
       "      <td>1564055322</td>\n",
       "      <td>248</td>\n",
       "    </tr>\n",
       "    <tr>\n",
       "      <th>5</th>\n",
       "      <td>CartScreenAppear</td>\n",
       "      <td>6217807653094995999</td>\n",
       "      <td>1564055323</td>\n",
       "      <td>248</td>\n",
       "    </tr>\n",
       "    <tr>\n",
       "      <th>6</th>\n",
       "      <td>OffersScreenAppear</td>\n",
       "      <td>8351860793733343758</td>\n",
       "      <td>1564066242</td>\n",
       "      <td>246</td>\n",
       "    </tr>\n",
       "    <tr>\n",
       "      <th>7</th>\n",
       "      <td>MainScreenAppear</td>\n",
       "      <td>5682100281902512875</td>\n",
       "      <td>1564085677</td>\n",
       "      <td>246</td>\n",
       "    </tr>\n",
       "    <tr>\n",
       "      <th>8</th>\n",
       "      <td>MainScreenAppear</td>\n",
       "      <td>1850981295691852772</td>\n",
       "      <td>1564086702</td>\n",
       "      <td>247</td>\n",
       "    </tr>\n",
       "    <tr>\n",
       "      <th>9</th>\n",
       "      <td>MainScreenAppear</td>\n",
       "      <td>5407636962369102641</td>\n",
       "      <td>1564112112</td>\n",
       "      <td>246</td>\n",
       "    </tr>\n",
       "  </tbody>\n",
       "</table>\n",
       "</div>"
      ],
      "text/plain": [
       "                 EventName         DeviceIDHash  EventTimestamp  ExpId\n",
       "0         MainScreenAppear  4575588528974610257      1564029816    246\n",
       "1         MainScreenAppear  7416695313311560658      1564053102    246\n",
       "2  PaymentScreenSuccessful  3518123091307005509      1564054127    248\n",
       "3         CartScreenAppear  3518123091307005509      1564054127    248\n",
       "4  PaymentScreenSuccessful  6217807653094995999      1564055322    248\n",
       "5         CartScreenAppear  6217807653094995999      1564055323    248\n",
       "6       OffersScreenAppear  8351860793733343758      1564066242    246\n",
       "7         MainScreenAppear  5682100281902512875      1564085677    246\n",
       "8         MainScreenAppear  1850981295691852772      1564086702    247\n",
       "9         MainScreenAppear  5407636962369102641      1564112112    246"
      ]
     },
     "metadata": {},
     "output_type": "display_data"
    }
   ],
   "source": [
    "logs.info()\n",
    "display(logs.head(10))"
   ]
  },
  {
   "cell_type": "markdown",
   "metadata": {},
   "source": [
    "# Шаг 2. Подготавливаем данные"
   ]
  },
  {
   "cell_type": "markdown",
   "metadata": {},
   "source": [
    "### Заменим названия столбцов"
   ]
  },
  {
   "cell_type": "code",
   "execution_count": 31,
   "metadata": {},
   "outputs": [],
   "source": [
    "logs.rename(columns = {'EventName':'event_name', 'DeviceIDHash':'device_id_hash', 'EventTimestamp':'event_timestamp', 'ExpId':'exp_id'}, inplace = True)"
   ]
  },
  {
   "cell_type": "markdown",
   "metadata": {},
   "source": [
    "### Проверим пропуски и типы данных"
   ]
  },
  {
   "cell_type": "code",
   "execution_count": 5,
   "metadata": {},
   "outputs": [
    {
     "name": "stdout",
     "output_type": "stream",
     "text": [
      "event_name         0\n",
      "device_id_hash     0\n",
      "event_timestamp    0\n",
      "exp_id             0\n",
      "dtype: int64\n"
     ]
    }
   ],
   "source": [
    "print(logs.isnull().sum())"
   ]
  },
  {
   "cell_type": "markdown",
   "metadata": {},
   "source": [
    "**Пропусков нет**"
   ]
  },
  {
   "cell_type": "code",
   "execution_count": 6,
   "metadata": {},
   "outputs": [
    {
     "name": "stdout",
     "output_type": "stream",
     "text": [
      "<class 'pandas.core.frame.DataFrame'>\n",
      "RangeIndex: 244126 entries, 0 to 244125\n",
      "Data columns (total 4 columns):\n",
      " #   Column           Non-Null Count   Dtype \n",
      "---  ------           --------------   ----- \n",
      " 0   event_name       244126 non-null  object\n",
      " 1   device_id_hash   244126 non-null  int64 \n",
      " 2   event_timestamp  244126 non-null  int64 \n",
      " 3   exp_id           244126 non-null  int64 \n",
      "dtypes: int64(3), object(1)\n",
      "memory usage: 7.5+ MB\n"
     ]
    }
   ],
   "source": [
    "logs.info()"
   ]
  },
  {
   "cell_type": "markdown",
   "metadata": {},
   "source": [
    "Типы данных оставляем как есть. Под дату добавим новые столбцы."
   ]
  },
  {
   "cell_type": "markdown",
   "metadata": {},
   "source": [
    "### Добавим два столбца: первый - дата и время, второй - дата."
   ]
  },
  {
   "cell_type": "code",
   "execution_count": 7,
   "metadata": {},
   "outputs": [
    {
     "name": "stdout",
     "output_type": "stream",
     "text": [
      "<class 'pandas.core.frame.DataFrame'>\n",
      "RangeIndex: 244126 entries, 0 to 244125\n",
      "Data columns (total 6 columns):\n",
      " #   Column           Non-Null Count   Dtype         \n",
      "---  ------           --------------   -----         \n",
      " 0   event_name       244126 non-null  object        \n",
      " 1   device_id_hash   244126 non-null  int64         \n",
      " 2   event_timestamp  244126 non-null  int64         \n",
      " 3   exp_id           244126 non-null  int64         \n",
      " 4   date_time        244126 non-null  datetime64[ns]\n",
      " 5   date             244126 non-null  datetime64[ns]\n",
      "dtypes: datetime64[ns](2), int64(3), object(1)\n",
      "memory usage: 11.2+ MB\n"
     ]
    },
    {
     "data": {
      "text/html": [
       "<div>\n",
       "<style scoped>\n",
       "    .dataframe tbody tr th:only-of-type {\n",
       "        vertical-align: middle;\n",
       "    }\n",
       "\n",
       "    .dataframe tbody tr th {\n",
       "        vertical-align: top;\n",
       "    }\n",
       "\n",
       "    .dataframe thead th {\n",
       "        text-align: right;\n",
       "    }\n",
       "</style>\n",
       "<table border=\"1\" class=\"dataframe\">\n",
       "  <thead>\n",
       "    <tr style=\"text-align: right;\">\n",
       "      <th></th>\n",
       "      <th>event_name</th>\n",
       "      <th>device_id_hash</th>\n",
       "      <th>event_timestamp</th>\n",
       "      <th>exp_id</th>\n",
       "      <th>date_time</th>\n",
       "      <th>date</th>\n",
       "    </tr>\n",
       "  </thead>\n",
       "  <tbody>\n",
       "    <tr>\n",
       "      <th>0</th>\n",
       "      <td>MainScreenAppear</td>\n",
       "      <td>4575588528974610257</td>\n",
       "      <td>1564029816</td>\n",
       "      <td>246</td>\n",
       "      <td>2019-07-25 07:43:36</td>\n",
       "      <td>2019-07-25</td>\n",
       "    </tr>\n",
       "    <tr>\n",
       "      <th>1</th>\n",
       "      <td>MainScreenAppear</td>\n",
       "      <td>7416695313311560658</td>\n",
       "      <td>1564053102</td>\n",
       "      <td>246</td>\n",
       "      <td>2019-07-25 14:11:42</td>\n",
       "      <td>2019-07-25</td>\n",
       "    </tr>\n",
       "    <tr>\n",
       "      <th>2</th>\n",
       "      <td>PaymentScreenSuccessful</td>\n",
       "      <td>3518123091307005509</td>\n",
       "      <td>1564054127</td>\n",
       "      <td>248</td>\n",
       "      <td>2019-07-25 14:28:47</td>\n",
       "      <td>2019-07-25</td>\n",
       "    </tr>\n",
       "    <tr>\n",
       "      <th>3</th>\n",
       "      <td>CartScreenAppear</td>\n",
       "      <td>3518123091307005509</td>\n",
       "      <td>1564054127</td>\n",
       "      <td>248</td>\n",
       "      <td>2019-07-25 14:28:47</td>\n",
       "      <td>2019-07-25</td>\n",
       "    </tr>\n",
       "    <tr>\n",
       "      <th>4</th>\n",
       "      <td>PaymentScreenSuccessful</td>\n",
       "      <td>6217807653094995999</td>\n",
       "      <td>1564055322</td>\n",
       "      <td>248</td>\n",
       "      <td>2019-07-25 14:48:42</td>\n",
       "      <td>2019-07-25</td>\n",
       "    </tr>\n",
       "    <tr>\n",
       "      <th>5</th>\n",
       "      <td>CartScreenAppear</td>\n",
       "      <td>6217807653094995999</td>\n",
       "      <td>1564055323</td>\n",
       "      <td>248</td>\n",
       "      <td>2019-07-25 14:48:43</td>\n",
       "      <td>2019-07-25</td>\n",
       "    </tr>\n",
       "    <tr>\n",
       "      <th>6</th>\n",
       "      <td>OffersScreenAppear</td>\n",
       "      <td>8351860793733343758</td>\n",
       "      <td>1564066242</td>\n",
       "      <td>246</td>\n",
       "      <td>2019-07-25 17:50:42</td>\n",
       "      <td>2019-07-25</td>\n",
       "    </tr>\n",
       "    <tr>\n",
       "      <th>7</th>\n",
       "      <td>MainScreenAppear</td>\n",
       "      <td>5682100281902512875</td>\n",
       "      <td>1564085677</td>\n",
       "      <td>246</td>\n",
       "      <td>2019-07-25 23:14:37</td>\n",
       "      <td>2019-07-25</td>\n",
       "    </tr>\n",
       "    <tr>\n",
       "      <th>8</th>\n",
       "      <td>MainScreenAppear</td>\n",
       "      <td>1850981295691852772</td>\n",
       "      <td>1564086702</td>\n",
       "      <td>247</td>\n",
       "      <td>2019-07-25 23:31:42</td>\n",
       "      <td>2019-07-25</td>\n",
       "    </tr>\n",
       "    <tr>\n",
       "      <th>9</th>\n",
       "      <td>MainScreenAppear</td>\n",
       "      <td>5407636962369102641</td>\n",
       "      <td>1564112112</td>\n",
       "      <td>246</td>\n",
       "      <td>2019-07-26 06:35:12</td>\n",
       "      <td>2019-07-26</td>\n",
       "    </tr>\n",
       "  </tbody>\n",
       "</table>\n",
       "</div>"
      ],
      "text/plain": [
       "                event_name       device_id_hash  event_timestamp  exp_id  \\\n",
       "0         MainScreenAppear  4575588528974610257       1564029816     246   \n",
       "1         MainScreenAppear  7416695313311560658       1564053102     246   \n",
       "2  PaymentScreenSuccessful  3518123091307005509       1564054127     248   \n",
       "3         CartScreenAppear  3518123091307005509       1564054127     248   \n",
       "4  PaymentScreenSuccessful  6217807653094995999       1564055322     248   \n",
       "5         CartScreenAppear  6217807653094995999       1564055323     248   \n",
       "6       OffersScreenAppear  8351860793733343758       1564066242     246   \n",
       "7         MainScreenAppear  5682100281902512875       1564085677     246   \n",
       "8         MainScreenAppear  1850981295691852772       1564086702     247   \n",
       "9         MainScreenAppear  5407636962369102641       1564112112     246   \n",
       "\n",
       "            date_time       date  \n",
       "0 2019-07-25 07:43:36 2019-07-25  \n",
       "1 2019-07-25 14:11:42 2019-07-25  \n",
       "2 2019-07-25 14:28:47 2019-07-25  \n",
       "3 2019-07-25 14:28:47 2019-07-25  \n",
       "4 2019-07-25 14:48:42 2019-07-25  \n",
       "5 2019-07-25 14:48:43 2019-07-25  \n",
       "6 2019-07-25 17:50:42 2019-07-25  \n",
       "7 2019-07-25 23:14:37 2019-07-25  \n",
       "8 2019-07-25 23:31:42 2019-07-25  \n",
       "9 2019-07-26 06:35:12 2019-07-26  "
      ]
     },
     "metadata": {},
     "output_type": "display_data"
    }
   ],
   "source": [
    "logs['date_time'] = logs['event_timestamp'].apply(datetime.fromtimestamp)\n",
    "logs['date'] = pd.to_datetime(logs['date_time'].dt.date)\n",
    "logs.info()\n",
    "display(logs.head(10))"
   ]
  },
  {
   "cell_type": "markdown",
   "metadata": {},
   "source": [
    "**Проверим данные на дубликаты**"
   ]
  },
  {
   "cell_type": "code",
   "execution_count": 8,
   "metadata": {},
   "outputs": [
    {
     "name": "stdout",
     "output_type": "stream",
     "text": [
      "Повторяющихся строк в orders: 413\n"
     ]
    }
   ],
   "source": [
    "print('Повторяющихся строк в orders:', logs.duplicated().sum())"
   ]
  },
  {
   "cell_type": "markdown",
   "metadata": {},
   "source": [
    "Удалим дубликаты:"
   ]
  },
  {
   "cell_type": "code",
   "execution_count": 9,
   "metadata": {},
   "outputs": [
    {
     "name": "stdout",
     "output_type": "stream",
     "text": [
      "Повторяющихся строк в orders: 0\n"
     ]
    }
   ],
   "source": [
    "logs = logs.drop_duplicates()\n",
    "print('Повторяющихся строк в orders:', logs.duplicated().sum())"
   ]
  },
  {
   "cell_type": "markdown",
   "metadata": {},
   "source": [
    "**Проверим попадание пользователей сразу в несколько групп**"
   ]
  },
  {
   "cell_type": "code",
   "execution_count": 10,
   "metadata": {},
   "outputs": [
    {
     "name": "stdout",
     "output_type": "stream",
     "text": [
      "Пересекающихся пользователей в группах: 0\n"
     ]
    }
   ],
   "source": [
    "set_246 = set(logs['device_id_hash'][logs['exp_id'] == 246].unique().tolist())\n",
    "set_247 = set(logs['device_id_hash'][logs['exp_id'] == 247].unique().tolist())\n",
    "set_248 = set(logs['device_id_hash'][logs['exp_id'] == 248].unique().tolist())\n",
    "print('Пересекающихся пользователей в группах:', len(set_247 & set_248 & set_246))"
   ]
  },
  {
   "cell_type": "markdown",
   "metadata": {},
   "source": [
    "**Мы провели предобработку данных**\n",
    " - исправили названия столбцов, \n",
    " - добавили новые столбцы с датой и временем и только датой, \n",
    " - проверили пропуски и типы данных, \n",
    " - нашил и удалили дубликаты строк, \n",
    " - а также проверили, не входят ли одни и те же пользователи в разные группы."
   ]
  },
  {
   "cell_type": "markdown",
   "metadata": {},
   "source": [
    "# Шаг 3. Изучим и проверим данные"
   ]
  },
  {
   "cell_type": "code",
   "execution_count": 11,
   "metadata": {
    "scrolled": true
   },
   "outputs": [
    {
     "name": "stdout",
     "output_type": "stream",
     "text": [
      "Всего в логе 243713 событий.\n"
     ]
    }
   ],
   "source": [
    "print('Всего в логе', logs.shape[0], 'событий.')"
   ]
  },
  {
   "cell_type": "code",
   "execution_count": 12,
   "metadata": {},
   "outputs": [
    {
     "name": "stdout",
     "output_type": "stream",
     "text": [
      "Всего в логе 7551 пользователей.\n"
     ]
    }
   ],
   "source": [
    "print('Всего в логе', logs['device_id_hash'].nunique(), 'пользователей.')"
   ]
  },
  {
   "cell_type": "code",
   "execution_count": 13,
   "metadata": {},
   "outputs": [
    {
     "name": "stdout",
     "output_type": "stream",
     "text": [
      "В среднем на пользователя приходится 32 событий.\n"
     ]
    }
   ],
   "source": [
    "print('В среднем на пользователя приходится', round(logs.shape[0] / logs['device_id_hash'].nunique()), 'событий.')"
   ]
  },
  {
   "cell_type": "code",
   "execution_count": 14,
   "metadata": {},
   "outputs": [
    {
     "name": "stdout",
     "output_type": "stream",
     "text": [
      "Мы имеем данные за период с 2019-07-25 07:43:36 по 2019-08-08 00:15:17\n"
     ]
    }
   ],
   "source": [
    "print('Мы имеем данные за период с', logs['date_time'].min(), 'по', logs['date_time'].max())"
   ]
  },
  {
   "cell_type": "markdown",
   "metadata": {},
   "source": [
    "**Изучим, как меняется количество данных**"
   ]
  },
  {
   "cell_type": "code",
   "execution_count": 15,
   "metadata": {},
   "outputs": [
    {
     "data": {
      "image/png": "[encoded data removed]",
      "text/plain": [
       "<Figure size 1224x360 with 1 Axes>"
      ]
     },
     "metadata": {
      "needs_background": "light"
     },
     "output_type": "display_data"
    }
   ],
   "source": [
    "plt.rcParams[\"figure.figsize\"] = (17,5)\n",
    "\n",
    "sns.histplot(data=logs, x=\"date_time\", hue=\"exp_id\", multiple=\"dodge\")\n",
    "\n",
    "plt.title('Количество событий во времени')\n",
    "plt.xlabel(\"Дата\")\n",
    "plt.ylabel(\"Количество событий\")\n",
    "plt.show()\n",
    "\n",
    "None"
   ]
  },
  {
   "cell_type": "markdown",
   "metadata": {},
   "source": [
    "**На графике видно, что основные данные у нас появляются только с 01.08.2019. Отбросим данные ранее 01.08.2019.**"
   ]
  },
  {
   "cell_type": "code",
   "execution_count": 32,
   "metadata": {
    "scrolled": true
   },
   "outputs": [
    {
     "data": {
      "image/png": "[encoded data removed]",
      "text/plain": [
       "<Figure size 1224x360 with 1 Axes>"
      ]
     },
     "metadata": {
      "needs_background": "light"
     },
     "output_type": "display_data"
    }
   ],
   "source": [
    "logs_act = logs.query('date >= \"2019-08-01\"')\n",
    "\n",
    "sns.histplot(data=logs_act, x=\"date_time\", hue=\"exp_id\", multiple=\"dodge\")\n",
    "\n",
    "plt.title('Количество событий во времени')\n",
    "plt.xlabel(\"Дата\")\n",
    "plt.ylabel(\"Количество событий\")\n",
    "plt.show()\n",
    "None"
   ]
  },
  {
   "cell_type": "code",
   "execution_count": 17,
   "metadata": {},
   "outputs": [
    {
     "name": "stdout",
     "output_type": "stream",
     "text": [
      "Фактически мы распологаем данными за период с 2019-08-01 00:00:57 по 2019-08-08 00:15:17\n"
     ]
    }
   ],
   "source": [
    "print('Фактически мы распологаем данными за период с', logs_act['date_time'].min(), 'по', logs_act['date_time'].max())"
   ]
  },
  {
   "cell_type": "code",
   "execution_count": 18,
   "metadata": {},
   "outputs": [
    {
     "name": "stdout",
     "output_type": "stream",
     "text": [
      "В итоге мы потеряли 13 ( 0.17 %) пользователей и 1989 ( 0.82 %) событий.\n"
     ]
    }
   ],
   "source": [
    "\n",
    "print('В итоге мы потеряли', \n",
    "      logs['device_id_hash'].nunique() - logs_act['device_id_hash'].nunique(), '(',\n",
    "      round((logs['device_id_hash'].nunique() - logs_act['device_id_hash'].nunique()) / logs['device_id_hash'].nunique() * 100, 2), '%)', \n",
    "      'пользователей и', logs['event_name'].count() - logs_act['event_name'].count(), '(',\n",
    "      round((logs['event_name'].count() - logs_act['event_name'].count()) / logs['event_name'].count() * 100, 2), '%)', 'событий.')"
   ]
  },
  {
   "cell_type": "markdown",
   "metadata": {},
   "source": [
    "**Потери незначительны**"
   ]
  },
  {
   "cell_type": "markdown",
   "metadata": {},
   "source": [
    "**Проверим, что у нас в данных после среза есть пользователи из всех трех групп.**"
   ]
  },
  {
   "cell_type": "code",
   "execution_count": 19,
   "metadata": {},
   "outputs": [
    {
     "name": "stdout",
     "output_type": "stream",
     "text": [
      "        device_id_hash\n",
      "exp_id                \n",
      "246               2484\n",
      "247               2517\n",
      "248               2537\n"
     ]
    }
   ],
   "source": [
    "print(logs_act.groupby(by='exp_id').agg({'device_id_hash': 'nunique'}))"
   ]
  },
  {
   "cell_type": "markdown",
   "metadata": {},
   "source": [
    "Пользователи всех трех групп в нашем распоряжении."
   ]
  },
  {
   "cell_type": "markdown",
   "metadata": {},
   "source": [
    "# Шаг 4. Изучаем воронку событий"
   ]
  },
  {
   "cell_type": "markdown",
   "metadata": {},
   "source": [
    "## Посмотрим, какие события есть в логах, как часто они встречаются. Отсортируем события по частоте."
   ]
  },
  {
   "cell_type": "code",
   "execution_count": 20,
   "metadata": {},
   "outputs": [
    {
     "data": {
      "text/html": [
       "<div>\n",
       "<style scoped>\n",
       "    .dataframe tbody tr th:only-of-type {\n",
       "        vertical-align: middle;\n",
       "    }\n",
       "\n",
       "    .dataframe tbody tr th {\n",
       "        vertical-align: top;\n",
       "    }\n",
       "\n",
       "    .dataframe thead th {\n",
       "        text-align: right;\n",
       "    }\n",
       "</style>\n",
       "<table border=\"1\" class=\"dataframe\">\n",
       "  <thead>\n",
       "    <tr style=\"text-align: right;\">\n",
       "      <th></th>\n",
       "      <th>count</th>\n",
       "    </tr>\n",
       "    <tr>\n",
       "      <th>event_name</th>\n",
       "      <th></th>\n",
       "    </tr>\n",
       "  </thead>\n",
       "  <tbody>\n",
       "    <tr>\n",
       "      <th>MainScreenAppear</th>\n",
       "      <td>117889</td>\n",
       "    </tr>\n",
       "    <tr>\n",
       "      <th>OffersScreenAppear</th>\n",
       "      <td>46531</td>\n",
       "    </tr>\n",
       "    <tr>\n",
       "      <th>CartScreenAppear</th>\n",
       "      <td>42343</td>\n",
       "    </tr>\n",
       "    <tr>\n",
       "      <th>PaymentScreenSuccessful</th>\n",
       "      <td>33951</td>\n",
       "    </tr>\n",
       "    <tr>\n",
       "      <th>Tutorial</th>\n",
       "      <td>1010</td>\n",
       "    </tr>\n",
       "  </tbody>\n",
       "</table>\n",
       "</div>"
      ],
      "text/plain": [
       "                          count\n",
       "event_name                     \n",
       "MainScreenAppear         117889\n",
       "OffersScreenAppear        46531\n",
       "CartScreenAppear          42343\n",
       "PaymentScreenSuccessful   33951\n",
       "Tutorial                   1010"
      ]
     },
     "execution_count": 20,
     "metadata": {},
     "output_type": "execute_result"
    }
   ],
   "source": [
    "event_list = logs_act.groupby(by='event_name')['event_name'].agg({'count'}).sort_values(by='count', ascending=False)\n",
    "event_list"
   ]
  },
  {
   "cell_type": "markdown",
   "metadata": {},
   "source": [
    " - Открытие главной страницы 117992\n",
    " - Открытие страницы оффера 46548\n",
    " - Открытие страницы корзины 42406\n",
    " - Оплата прошла 34146\n",
    " - Открытие обучающей страницы 1044"
   ]
  },
  {
   "cell_type": "markdown",
   "metadata": {},
   "source": [
    "## Посчитаем, сколько пользователей совершали каждое из этих событий."
   ]
  },
  {
   "cell_type": "code",
   "execution_count": 21,
   "metadata": {},
   "outputs": [
    {
     "data": {
      "text/html": [
       "<div>\n",
       "<style scoped>\n",
       "    .dataframe tbody tr th:only-of-type {\n",
       "        vertical-align: middle;\n",
       "    }\n",
       "\n",
       "    .dataframe tbody tr th {\n",
       "        vertical-align: top;\n",
       "    }\n",
       "\n",
       "    .dataframe thead th {\n",
       "        text-align: right;\n",
       "    }\n",
       "</style>\n",
       "<table border=\"1\" class=\"dataframe\">\n",
       "  <thead>\n",
       "    <tr style=\"text-align: right;\">\n",
       "      <th></th>\n",
       "      <th>device_id_hash</th>\n",
       "      <th>share</th>\n",
       "    </tr>\n",
       "    <tr>\n",
       "      <th>event_name</th>\n",
       "      <th></th>\n",
       "      <th></th>\n",
       "    </tr>\n",
       "  </thead>\n",
       "  <tbody>\n",
       "    <tr>\n",
       "      <th>MainScreenAppear</th>\n",
       "      <td>7423</td>\n",
       "      <td>98.474396</td>\n",
       "    </tr>\n",
       "    <tr>\n",
       "      <th>OffersScreenAppear</th>\n",
       "      <td>4597</td>\n",
       "      <td>60.984346</td>\n",
       "    </tr>\n",
       "    <tr>\n",
       "      <th>CartScreenAppear</th>\n",
       "      <td>3736</td>\n",
       "      <td>49.562218</td>\n",
       "    </tr>\n",
       "    <tr>\n",
       "      <th>PaymentScreenSuccessful</th>\n",
       "      <td>3540</td>\n",
       "      <td>46.962059</td>\n",
       "    </tr>\n",
       "  </tbody>\n",
       "</table>\n",
       "</div>"
      ],
      "text/plain": [
       "                         device_id_hash      share\n",
       "event_name                                        \n",
       "MainScreenAppear                   7423  98.474396\n",
       "OffersScreenAppear                 4597  60.984346\n",
       "CartScreenAppear                   3736  49.562218\n",
       "PaymentScreenSuccessful            3540  46.962059"
      ]
     },
     "execution_count": 21,
     "metadata": {},
     "output_type": "execute_result"
    }
   ],
   "source": [
    "users_by_event = logs_act.groupby('event_name').agg({'device_id_hash': 'nunique'}).sort_values(by='device_id_hash', ascending=False)\n",
    "users_by_event\n",
    "users_by_event['share'] = users_by_event['device_id_hash'] / logs_act['device_id_hash'].nunique() * 100 # Посчитаем долю пользователей, которые хоть раз совершали событие.\n",
    "users_by_event = users_by_event.query('event_name != \"Tutorial\"')\n",
    "users_by_event"
   ]
  },
  {
   "cell_type": "markdown",
   "metadata": {},
   "source": [
    "**Около 1,5% пользователей миновали главный экран. Причиной может быть переход сразу на страницу оффера с лэндингов или по прямой ссылке** \n"
   ]
  },
  {
   "cell_type": "markdown",
   "metadata": {},
   "source": [
    "**Событие Tutorial следует исключить из воронки событий, так как в Обучающие материалы скорее всего можно перейти только с главной страницы. А в остальном события выстроились в логическом порядке.**"
   ]
  },
  {
   "cell_type": "markdown",
   "metadata": {},
   "source": [
    "**Посчитаем, какой процент пользователей остается на каждом этапе воронки относительно предыдущего этапа.**"
   ]
  },
  {
   "cell_type": "code",
   "execution_count": 22,
   "metadata": {},
   "outputs": [
    {
     "data": {
      "text/html": [
       "<div>\n",
       "<style scoped>\n",
       "    .dataframe tbody tr th:only-of-type {\n",
       "        vertical-align: middle;\n",
       "    }\n",
       "\n",
       "    .dataframe tbody tr th {\n",
       "        vertical-align: top;\n",
       "    }\n",
       "\n",
       "    .dataframe thead th {\n",
       "        text-align: right;\n",
       "    }\n",
       "</style>\n",
       "<table border=\"1\" class=\"dataframe\">\n",
       "  <thead>\n",
       "    <tr style=\"text-align: right;\">\n",
       "      <th></th>\n",
       "      <th>device_id_hash</th>\n",
       "      <th>share</th>\n",
       "      <th>share_by_step</th>\n",
       "    </tr>\n",
       "    <tr>\n",
       "      <th>event_name</th>\n",
       "      <th></th>\n",
       "      <th></th>\n",
       "      <th></th>\n",
       "    </tr>\n",
       "  </thead>\n",
       "  <tbody>\n",
       "    <tr>\n",
       "      <th>MainScreenAppear</th>\n",
       "      <td>7423</td>\n",
       "      <td>98.474396</td>\n",
       "      <td>100.0</td>\n",
       "    </tr>\n",
       "    <tr>\n",
       "      <th>OffersScreenAppear</th>\n",
       "      <td>4597</td>\n",
       "      <td>60.984346</td>\n",
       "      <td>62.0</td>\n",
       "    </tr>\n",
       "    <tr>\n",
       "      <th>CartScreenAppear</th>\n",
       "      <td>3736</td>\n",
       "      <td>49.562218</td>\n",
       "      <td>81.0</td>\n",
       "    </tr>\n",
       "    <tr>\n",
       "      <th>PaymentScreenSuccessful</th>\n",
       "      <td>3540</td>\n",
       "      <td>46.962059</td>\n",
       "      <td>95.0</td>\n",
       "    </tr>\n",
       "  </tbody>\n",
       "</table>\n",
       "</div>"
      ],
      "text/plain": [
       "                         device_id_hash      share  share_by_step\n",
       "event_name                                                       \n",
       "MainScreenAppear                   7423  98.474396          100.0\n",
       "OffersScreenAppear                 4597  60.984346           62.0\n",
       "CartScreenAppear                   3736  49.562218           81.0\n",
       "PaymentScreenSuccessful            3540  46.962059           95.0"
      ]
     },
     "execution_count": 22,
     "metadata": {},
     "output_type": "execute_result"
    }
   ],
   "source": [
    "users_by_event['share_by_step'] = round(users_by_event['device_id_hash'] / users_by_event['device_id_hash'].shift(1) *100,)\n",
    "users_by_event['share_by_step'] = users_by_event['share_by_step'].fillna (100)\n",
    "users_by_event"
   ]
  },
  {
   "cell_type": "markdown",
   "metadata": {},
   "source": [
    "**Больше всего пользователей теряем при переходе с главной страницы на страницу с оффером.**"
   ]
  },
  {
   "cell_type": "markdown",
   "metadata": {},
   "source": [
    "**Посчитаем долю пользователей, которая от первого события доходит до оплаты**"
   ]
  },
  {
   "cell_type": "code",
   "execution_count": 23,
   "metadata": {},
   "outputs": [
    {
     "name": "stdout",
     "output_type": "stream",
     "text": [
      "48\n"
     ]
    }
   ],
   "source": [
    "main_to_pay = round(users_by_event['device_id_hash'].min() / users_by_event['device_id_hash'].max() *100)\n",
    "print(main_to_pay)"
   ]
  },
  {
   "cell_type": "markdown",
   "metadata": {},
   "source": [
    "**С главной страницы доходит до оплаты 48% пользователей**"
   ]
  },
  {
   "cell_type": "markdown",
   "metadata": {},
   "source": [
    "### Общий вывод по анализу воронки и конверсии:\n",
    " - Больше всего теряется пользователей при переходе с главной страницы на страницу оффера,\n",
    " - Также 19% пользователей теряется на этапе перехода в корзину,\n",
    " - А у 5% пользователей возникают проблемы с оплатой.<br>\n",
    " \n",
    "**Рекомендации:**\n",
    "1. Проверить интерфейс и корректность работы приложения при переходе из главной страницы на стреницу оффера.\n",
    "2. Улучшить страницу оффера.\n",
    "3. Проверить логи с ошибками по оплате, возможно есть технические проблемы."
   ]
  },
  {
   "cell_type": "markdown",
   "metadata": {},
   "source": [
    "# Шаг 5. Изучаем результаты эксперимента"
   ]
  },
  {
   "cell_type": "markdown",
   "metadata": {},
   "source": [
    "## Количество пользователей в каждой экспериментальной группе"
   ]
  },
  {
   "cell_type": "code",
   "execution_count": 24,
   "metadata": {},
   "outputs": [
    {
     "data": {
      "text/plain": [
       "exp_id\n",
       "246        2484\n",
       "247        2517\n",
       "248        2537\n",
       "246+247    5001\n",
       "Name: device_id_hash, dtype: int64"
      ]
     },
     "execution_count": 24,
     "metadata": {},
     "output_type": "execute_result"
    }
   ],
   "source": [
    "cnt_users_by_group = logs_act.groupby('exp_id')['device_id_hash'].nunique()\n",
    "cnt_users_by_group['246+247'] = cnt_users_by_group[246] + cnt_users_by_group[247]\n",
    "cnt_users_by_group"
   ]
  },
  {
   "cell_type": "markdown",
   "metadata": {},
   "source": [
    "## Есть ли разница в статистических критериях между выборками 246 и 247."
   ]
  },
  {
   "cell_type": "code",
   "execution_count": 25,
   "metadata": {},
   "outputs": [
    {
     "data": {
      "text/html": [
       "<div>\n",
       "<style scoped>\n",
       "    .dataframe tbody tr th:only-of-type {\n",
       "        vertical-align: middle;\n",
       "    }\n",
       "\n",
       "    .dataframe tbody tr th {\n",
       "        vertical-align: top;\n",
       "    }\n",
       "\n",
       "    .dataframe thead th {\n",
       "        text-align: right;\n",
       "    }\n",
       "</style>\n",
       "<table border=\"1\" class=\"dataframe\">\n",
       "  <thead>\n",
       "    <tr style=\"text-align: right;\">\n",
       "      <th>exp_id</th>\n",
       "      <th>event_name</th>\n",
       "      <th>246</th>\n",
       "      <th>247</th>\n",
       "      <th>248</th>\n",
       "      <th>246+247</th>\n",
       "    </tr>\n",
       "  </thead>\n",
       "  <tbody>\n",
       "    <tr>\n",
       "      <th>0</th>\n",
       "      <td>MainScreenAppear</td>\n",
       "      <td>2450</td>\n",
       "      <td>2479</td>\n",
       "      <td>2494</td>\n",
       "      <td>4929</td>\n",
       "    </tr>\n",
       "    <tr>\n",
       "      <th>1</th>\n",
       "      <td>OffersScreenAppear</td>\n",
       "      <td>1542</td>\n",
       "      <td>1524</td>\n",
       "      <td>1531</td>\n",
       "      <td>3066</td>\n",
       "    </tr>\n",
       "    <tr>\n",
       "      <th>2</th>\n",
       "      <td>CartScreenAppear</td>\n",
       "      <td>1266</td>\n",
       "      <td>1239</td>\n",
       "      <td>1231</td>\n",
       "      <td>2505</td>\n",
       "    </tr>\n",
       "    <tr>\n",
       "      <th>3</th>\n",
       "      <td>PaymentScreenSuccessful</td>\n",
       "      <td>1200</td>\n",
       "      <td>1158</td>\n",
       "      <td>1182</td>\n",
       "      <td>2358</td>\n",
       "    </tr>\n",
       "  </tbody>\n",
       "</table>\n",
       "</div>"
      ],
      "text/plain": [
       "exp_id               event_name   246   247   248  246+247\n",
       "0              MainScreenAppear  2450  2479  2494     4929\n",
       "1            OffersScreenAppear  1542  1524  1531     3066\n",
       "2              CartScreenAppear  1266  1239  1231     2505\n",
       "3       PaymentScreenSuccessful  1200  1158  1182     2358"
      ]
     },
     "execution_count": 25,
     "metadata": {},
     "output_type": "execute_result"
    }
   ],
   "source": [
    "users_by_group = logs_act.pivot_table(index='event_name', columns='exp_id', values='device_id_hash', aggfunc='nunique')\n",
    "\n",
    "users_by_group = users_by_group.sort_values(by=246, ascending=False)\n",
    "users_by_group = users_by_group.query('event_name != \"Tutorial\"')\n",
    "users_by_group = users_by_group.reset_index()\n",
    "users_by_group['246+247'] =  users_by_group[246] + users_by_group[247]\n",
    "users_by_group"
   ]
  },
  {
   "cell_type": "code",
   "execution_count": 34,
   "metadata": {},
   "outputs": [
    {
     "data": {
      "application/vnd.plotly.v1+json": {
       "config": {
        "plotlyServerURL": "https://plot.ly"
       },
       "data": [
        {
         "name": "Group 246",
         "orientation": "h",
         "textinfo": "value+percent previous",
         "textposition": "inside",
         "type": "funnel",
         "x": [
          2450,
          1542,
          1266,
          1200
         ],
         "y": [
          "MainScreenAppear",
          "OffersScreenAppear",
          "CartScreenAppear",
          "PaymentScreenSuccessful"
         ]
        },
        {
         "name": "Group 247",
         "orientation": "h",
         "textinfo": "value+percent previous",
         "textposition": "inside",
         "type": "funnel",
         "x": [
          2479,
          1524,
          1239,
          1158
         ],
         "y": [
          "MainScreenAppear",
          "OffersScreenAppear",
          "CartScreenAppear",
          "PaymentScreenSuccessful"
         ]
        },
        {
         "name": "Group 248",
         "orientation": "h",
         "textinfo": "value+percent previous",
         "textposition": "inside",
         "type": "funnel",
         "x": [
          2494,
          1531,
          1231,
          1182
         ],
         "y": [
          "MainScreenAppear",
          "OffersScreenAppear",
          "CartScreenAppear",
          "PaymentScreenSuccessful"
         ]
        }
       ],
       "layout": {
        "autosize": true,
        "template": {
         "data": {
          "bar": [
           {
            "error_x": {
             "color": "#2a3f5f"
            },
            "error_y": {
             "color": "#2a3f5f"
            },
            "marker": {
             "line": {
              "color": "#E5ECF6",
              "width": 0.5
             },
             "pattern": {
              "fillmode": "overlay",
              "size": 10,
              "solidity": 0.2
             }
            },
            "type": "bar"
           }
          ],
          "barpolar": [
           {
            "marker": {
             "line": {
              "color": "#E5ECF6",
              "width": 0.5
             },
             "pattern": {
              "fillmode": "overlay",
              "size": 10,
              "solidity": 0.2
             }
            },
            "type": "barpolar"
           }
          ],
          "carpet": [
           {
            "aaxis": {
             "endlinecolor": "#2a3f5f",
             "gridcolor": "white",
             "linecolor": "white",
             "minorgridcolor": "white",
             "startlinecolor": "#2a3f5f"
            },
            "baxis": {
             "endlinecolor": "#2a3f5f",
             "gridcolor": "white",
             "linecolor": "white",
             "minorgridcolor": "white",
             "startlinecolor": "#2a3f5f"
            },
            "type": "carpet"
           }
          ],
          "choropleth": [
           {
            "colorbar": {
             "outlinewidth": 0,
             "ticks": ""
            },
            "type": "choropleth"
           }
          ],
          "contour": [
           {
            "colorbar": {
             "outlinewidth": 0,
             "ticks": ""
            },
            "colorscale": [
             [
              0,
              "#0d0887"
             ],
             [
              0.1111111111111111,
              "#46039f"
             ],
             [
              0.2222222222222222,
              "#7201a8"
             ],
             [
              0.3333333333333333,
              "#9c179e"
             ],
             [
              0.4444444444444444,
              "#bd3786"
             ],
             [
              0.5555555555555556,
              "#d8576b"
             ],
             [
              0.6666666666666666,
              "#ed7953"
             ],
             [
              0.7777777777777778,
              "#fb9f3a"
             ],
             [
              0.8888888888888888,
              "#fdca26"
             ],
             [
              1,
              "#f0f921"
             ]
            ],
            "type": "contour"
           }
          ],
          "contourcarpet": [
           {
            "colorbar": {
             "outlinewidth": 0,
             "ticks": ""
            },
            "type": "contourcarpet"
           }
          ],
          "heatmap": [
           {
            "colorbar": {
             "outlinewidth": 0,
             "ticks": ""
            },
            "colorscale": [
             [
              0,
              "#0d0887"
             ],
             [
              0.1111111111111111,
              "#46039f"
             ],
             [
              0.2222222222222222,
              "#7201a8"
             ],
             [
              0.3333333333333333,
              "#9c179e"
             ],
             [
              0.4444444444444444,
              "#bd3786"
             ],
             [
              0.5555555555555556,
              "#d8576b"
             ],
             [
              0.6666666666666666,
              "#ed7953"
             ],
             [
              0.7777777777777778,
              "#fb9f3a"
             ],
             [
              0.8888888888888888,
              "#fdca26"
             ],
             [
              1,
              "#f0f921"
             ]
            ],
            "type": "heatmap"
           }
          ],
          "heatmapgl": [
           {
            "colorbar": {
             "outlinewidth": 0,
             "ticks": ""
            },
            "colorscale": [
             [
              0,
              "#0d0887"
             ],
             [
              0.1111111111111111,
              "#46039f"
             ],
             [
              0.2222222222222222,
              "#7201a8"
             ],
             [
              0.3333333333333333,
              "#9c179e"
             ],
             [
              0.4444444444444444,
              "#bd3786"
             ],
             [
              0.5555555555555556,
              "#d8576b"
             ],
             [
              0.6666666666666666,
              "#ed7953"
             ],
             [
              0.7777777777777778,
              "#fb9f3a"
             ],
             [
              0.8888888888888888,
              "#fdca26"
             ],
             [
              1,
              "#f0f921"
             ]
            ],
            "type": "heatmapgl"
           }
          ],
          "histogram": [
           {
            "marker": {
             "pattern": {
              "fillmode": "overlay",
              "size": 10,
              "solidity": 0.2
             }
            },
            "type": "histogram"
           }
          ],
          "histogram2d": [
           {
            "colorbar": {
             "outlinewidth": 0,
             "ticks": ""
            },
            "colorscale": [
             [
              0,
              "#0d0887"
             ],
             [
              0.1111111111111111,
              "#46039f"
             ],
             [
              0.2222222222222222,
              "#7201a8"
             ],
             [
              0.3333333333333333,
              "#9c179e"
             ],
             [
              0.4444444444444444,
              "#bd3786"
             ],
             [
              0.5555555555555556,
              "#d8576b"
             ],
             [
              0.6666666666666666,
              "#ed7953"
             ],
             [
              0.7777777777777778,
              "#fb9f3a"
             ],
             [
              0.8888888888888888,
              "#fdca26"
             ],
             [
              1,
              "#f0f921"
             ]
            ],
            "type": "histogram2d"
           }
          ],
          "histogram2dcontour": [
           {
            "colorbar": {
             "outlinewidth": 0,
             "ticks": ""
            },
            "colorscale": [
             [
              0,
              "#0d0887"
             ],
             [
              0.1111111111111111,
              "#46039f"
             ],
             [
              0.2222222222222222,
              "#7201a8"
             ],
             [
              0.3333333333333333,
              "#9c179e"
             ],
             [
              0.4444444444444444,
              "#bd3786"
             ],
             [
              0.5555555555555556,
              "#d8576b"
             ],
             [
              0.6666666666666666,
              "#ed7953"
             ],
             [
              0.7777777777777778,
              "#fb9f3a"
             ],
             [
              0.8888888888888888,
              "#fdca26"
             ],
             [
              1,
              "#f0f921"
             ]
            ],
            "type": "histogram2dcontour"
           }
          ],
          "mesh3d": [
           {
            "colorbar": {
             "outlinewidth": 0,
             "ticks": ""
            },
            "type": "mesh3d"
           }
          ],
          "parcoords": [
           {
            "line": {
             "colorbar": {
              "outlinewidth": 0,
              "ticks": ""
             }
            },
            "type": "parcoords"
           }
          ],
          "pie": [
           {
            "automargin": true,
            "type": "pie"
           }
          ],
          "scatter": [
           {
            "marker": {
             "colorbar": {
              "outlinewidth": 0,
              "ticks": ""
             }
            },
            "type": "scatter"
           }
          ],
          "scatter3d": [
           {
            "line": {
             "colorbar": {
              "outlinewidth": 0,
              "ticks": ""
             }
            },
            "marker": {
             "colorbar": {
              "outlinewidth": 0,
              "ticks": ""
             }
            },
            "type": "scatter3d"
           }
          ],
          "scattercarpet": [
           {
            "marker": {
             "colorbar": {
              "outlinewidth": 0,
              "ticks": ""
             }
            },
            "type": "scattercarpet"
           }
          ],
          "scattergeo": [
           {
            "marker": {
             "colorbar": {
              "outlinewidth": 0,
              "ticks": ""
             }
            },
            "type": "scattergeo"
           }
          ],
          "scattergl": [
           {
            "marker": {
             "colorbar": {
              "outlinewidth": 0,
              "ticks": ""
             }
            },
            "type": "scattergl"
           }
          ],
          "scattermapbox": [
           {
            "marker": {
             "colorbar": {
              "outlinewidth": 0,
              "ticks": ""
             }
            },
            "type": "scattermapbox"
           }
          ],
          "scatterpolar": [
           {
            "marker": {
             "colorbar": {
              "outlinewidth": 0,
              "ticks": ""
             }
            },
            "type": "scatterpolar"
           }
          ],
          "scatterpolargl": [
           {
            "marker": {
             "colorbar": {
              "outlinewidth": 0,
              "ticks": ""
             }
            },
            "type": "scatterpolargl"
           }
          ],
          "scatterternary": [
           {
            "marker": {
             "colorbar": {
              "outlinewidth": 0,
              "ticks": ""
             }
            },
            "type": "scatterternary"
           }
          ],
          "surface": [
           {
            "colorbar": {
             "outlinewidth": 0,
             "ticks": ""
            },
            "colorscale": [
             [
              0,
              "#0d0887"
             ],
             [
              0.1111111111111111,
              "#46039f"
             ],
             [
              0.2222222222222222,
              "#7201a8"
             ],
             [
              0.3333333333333333,
              "#9c179e"
             ],
             [
              0.4444444444444444,
              "#bd3786"
             ],
             [
              0.5555555555555556,
              "#d8576b"
             ],
             [
              0.6666666666666666,
              "#ed7953"
             ],
             [
              0.7777777777777778,
              "#fb9f3a"
             ],
             [
              0.8888888888888888,
              "#fdca26"
             ],
             [
              1,
              "#f0f921"
             ]
            ],
            "type": "surface"
           }
          ],
          "table": [
           {
            "cells": {
             "fill": {
              "color": "#EBF0F8"
             },
             "line": {
              "color": "white"
             }
            },
            "header": {
             "fill": {
              "color": "#C8D4E3"
             },
             "line": {
              "color": "white"
             }
            },
            "type": "table"
           }
          ]
         },
         "layout": {
          "annotationdefaults": {
           "arrowcolor": "#2a3f5f",
           "arrowhead": 0,
           "arrowwidth": 1
          },
          "autotypenumbers": "strict",
          "coloraxis": {
           "colorbar": {
            "outlinewidth": 0,
            "ticks": ""
           }
          },
          "colorscale": {
           "diverging": [
            [
             0,
             "#8e0152"
            ],
            [
             0.1,
             "#c51b7d"
            ],
            [
             0.2,
             "#de77ae"
            ],
            [
             0.3,
             "#f1b6da"
            ],
            [
             0.4,
             "#fde0ef"
            ],
            [
             0.5,
             "#f7f7f7"
            ],
            [
             0.6,
             "#e6f5d0"
            ],
            [
             0.7,
             "#b8e186"
            ],
            [
             0.8,
             "#7fbc41"
            ],
            [
             0.9,
             "#4d9221"
            ],
            [
             1,
             "#276419"
            ]
           ],
           "sequential": [
            [
             0,
             "#0d0887"
            ],
            [
             0.1111111111111111,
             "#46039f"
            ],
            [
             0.2222222222222222,
             "#7201a8"
            ],
            [
             0.3333333333333333,
             "#9c179e"
            ],
            [
             0.4444444444444444,
             "#bd3786"
            ],
            [
             0.5555555555555556,
             "#d8576b"
            ],
            [
             0.6666666666666666,
             "#ed7953"
            ],
            [
             0.7777777777777778,
             "#fb9f3a"
            ],
            [
             0.8888888888888888,
             "#fdca26"
            ],
            [
             1,
             "#f0f921"
            ]
           ],
           "sequentialminus": [
            [
             0,
             "#0d0887"
            ],
            [
             0.1111111111111111,
             "#46039f"
            ],
            [
             0.2222222222222222,
             "#7201a8"
            ],
            [
             0.3333333333333333,
             "#9c179e"
            ],
            [
             0.4444444444444444,
             "#bd3786"
            ],
            [
             0.5555555555555556,
             "#d8576b"
            ],
            [
             0.6666666666666666,
             "#ed7953"
            ],
            [
             0.7777777777777778,
             "#fb9f3a"
            ],
            [
             0.8888888888888888,
             "#fdca26"
            ],
            [
             1,
             "#f0f921"
            ]
           ]
          },
          "colorway": [
           "#636efa",
           "#EF553B",
           "#00cc96",
           "#ab63fa",
           "#FFA15A",
           "#19d3f3",
           "#FF6692",
           "#B6E880",
           "#FF97FF",
           "#FECB52"
          ],
          "font": {
           "color": "#2a3f5f"
          },
          "geo": {
           "bgcolor": "white",
           "lakecolor": "white",
           "landcolor": "#E5ECF6",
           "showlakes": true,
           "showland": true,
           "subunitcolor": "white"
          },
          "hoverlabel": {
           "align": "left"
          },
          "hovermode": "closest",
          "mapbox": {
           "style": "light"
          },
          "paper_bgcolor": "white",
          "plot_bgcolor": "#E5ECF6",
          "polar": {
           "angularaxis": {
            "gridcolor": "white",
            "linecolor": "white",
            "ticks": ""
           },
           "bgcolor": "#E5ECF6",
           "radialaxis": {
            "gridcolor": "white",
            "linecolor": "white",
            "ticks": ""
           }
          },
          "scene": {
           "xaxis": {
            "backgroundcolor": "#E5ECF6",
            "gridcolor": "white",
            "gridwidth": 2,
            "linecolor": "white",
            "showbackground": true,
            "ticks": "",
            "zerolinecolor": "white"
           },
           "yaxis": {
            "backgroundcolor": "#E5ECF6",
            "gridcolor": "white",
            "gridwidth": 2,
            "linecolor": "white",
            "showbackground": true,
            "ticks": "",
            "zerolinecolor": "white"
           },
           "zaxis": {
            "backgroundcolor": "#E5ECF6",
            "gridcolor": "white",
            "gridwidth": 2,
            "linecolor": "white",
            "showbackground": true,
            "ticks": "",
            "zerolinecolor": "white"
           }
          },
          "shapedefaults": {
           "line": {
            "color": "#2a3f5f"
           }
          },
          "ternary": {
           "aaxis": {
            "gridcolor": "white",
            "linecolor": "white",
            "ticks": ""
           },
           "baxis": {
            "gridcolor": "white",
            "linecolor": "white",
            "ticks": ""
           },
           "bgcolor": "#E5ECF6",
           "caxis": {
            "gridcolor": "white",
            "linecolor": "white",
            "ticks": ""
           }
          },
          "title": {
           "x": 0.05
          },
          "xaxis": {
           "automargin": true,
           "gridcolor": "white",
           "linecolor": "white",
           "ticks": "",
           "title": {
            "standoff": 15
           },
           "zerolinecolor": "white",
           "zerolinewidth": 2
          },
          "yaxis": {
           "automargin": true,
           "gridcolor": "white",
           "linecolor": "white",
           "ticks": "",
           "title": {
            "standoff": 15
           },
           "zerolinecolor": "white",
           "zerolinewidth": 2
          }
         }
        },
        "title": {
         "text": "Воронка событий в разбивке по группам"
        },
        "xaxis": {
         "autorange": true,
         "range": [
          -4123.888888888889,
          4123.888888888889
         ],
         "type": "linear"
        },
        "yaxis": {
         "autorange": true,
         "range": [
          3.5,
          -0.5
         ],
         "type": "category"
        }
       }
      },
      "image/png": "[encoded data removed]",
      "text/html": [
       "<div>                            <div id=\"186afcfa-ca96-4f49-ab30-b14d0caf2d30\" class=\"plotly-graph-div\" style=\"height:525px; width:100%;\"></div>            <script type=\"text/javascript\">                require([\"plotly\"], function(Plotly) {                    window.PLOTLYENV=window.PLOTLYENV || {};                                    if (document.getElementById(\"186afcfa-ca96-4f49-ab30-b14d0caf2d30\")) {                    Plotly.newPlot(                        \"186afcfa-ca96-4f49-ab30-b14d0caf2d30\",                        [{\"name\":\"Group 246\",\"orientation\":\"h\",\"textinfo\":\"value+percent previous\",\"textposition\":\"inside\",\"x\":[2450,1542,1266,1200],\"y\":[\"MainScreenAppear\",\"OffersScreenAppear\",\"CartScreenAppear\",\"PaymentScreenSuccessful\"],\"type\":\"funnel\"},{\"name\":\"Group 247\",\"orientation\":\"h\",\"textinfo\":\"value+percent previous\",\"textposition\":\"inside\",\"x\":[2479,1524,1239,1158],\"y\":[\"MainScreenAppear\",\"OffersScreenAppear\",\"CartScreenAppear\",\"PaymentScreenSuccessful\"],\"type\":\"funnel\"},{\"name\":\"Group 248\",\"orientation\":\"h\",\"textinfo\":\"value+percent previous\",\"textposition\":\"inside\",\"x\":[2494,1531,1231,1182],\"y\":[\"MainScreenAppear\",\"OffersScreenAppear\",\"CartScreenAppear\",\"PaymentScreenSuccessful\"],\"type\":\"funnel\"}],                        {\"template\":{\"data\":{\"bar\":[{\"error_x\":{\"color\":\"#2a3f5f\"},\"error_y\":{\"color\":\"#2a3f5f\"},\"marker\":{\"line\":{\"color\":\"#E5ECF6\",\"width\":0.5},\"pattern\":{\"fillmode\":\"overlay\",\"size\":10,\"solidity\":0.2}},\"type\":\"bar\"}],\"barpolar\":[{\"marker\":{\"line\":{\"color\":\"#E5ECF6\",\"width\":0.5},\"pattern\":{\"fillmode\":\"overlay\",\"size\":10,\"solidity\":0.2}},\"type\":\"barpolar\"}],\"carpet\":[{\"aaxis\":{\"endlinecolor\":\"#2a3f5f\",\"gridcolor\":\"white\",\"linecolor\":\"white\",\"minorgridcolor\":\"white\",\"startlinecolor\":\"#2a3f5f\"},\"baxis\":{\"endlinecolor\":\"#2a3f5f\",\"gridcolor\":\"white\",\"linecolor\":\"white\",\"minorgridcolor\":\"white\",\"startlinecolor\":\"#2a3f5f\"},\"type\":\"carpet\"}],\"choropleth\":[{\"colorbar\":{\"outlinewidth\":0,\"ticks\":\"\"},\"type\":\"choropleth\"}],\"contour\":[{\"colorbar\":{\"outlinewidth\":0,\"ticks\":\"\"},\"colorscale\":[[0.0,\"#0d0887\"],[0.1111111111111111,\"#46039f\"],[0.2222222222222222,\"#7201a8\"],[0.3333333333333333,\"#9c179e\"],[0.4444444444444444,\"#bd3786\"],[0.5555555555555556,\"#d8576b\"],[0.6666666666666666,\"#ed7953\"],[0.7777777777777778,\"#fb9f3a\"],[0.8888888888888888,\"#fdca26\"],[1.0,\"#f0f921\"]],\"type\":\"contour\"}],\"contourcarpet\":[{\"colorbar\":{\"outlinewidth\":0,\"ticks\":\"\"},\"type\":\"contourcarpet\"}],\"heatmap\":[{\"colorbar\":{\"outlinewidth\":0,\"ticks\":\"\"},\"colorscale\":[[0.0,\"#0d0887\"],[0.1111111111111111,\"#46039f\"],[0.2222222222222222,\"#7201a8\"],[0.3333333333333333,\"#9c179e\"],[0.4444444444444444,\"#bd3786\"],[0.5555555555555556,\"#d8576b\"],[0.6666666666666666,\"#ed7953\"],[0.7777777777777778,\"#fb9f3a\"],[0.8888888888888888,\"#fdca26\"],[1.0,\"#f0f921\"]],\"type\":\"heatmap\"}],\"heatmapgl\":[{\"colorbar\":{\"outlinewidth\":0,\"ticks\":\"\"},\"colorscale\":[[0.0,\"#0d0887\"],[0.1111111111111111,\"#46039f\"],[0.2222222222222222,\"#7201a8\"],[0.3333333333333333,\"#9c179e\"],[0.4444444444444444,\"#bd3786\"],[0.5555555555555556,\"#d8576b\"],[0.6666666666666666,\"#ed7953\"],[0.7777777777777778,\"#fb9f3a\"],[0.8888888888888888,\"#fdca26\"],[1.0,\"#f0f921\"]],\"type\":\"heatmapgl\"}],\"histogram\":[{\"marker\":{\"pattern\":{\"fillmode\":\"overlay\",\"size\":10,\"solidity\":0.2}},\"type\":\"histogram\"}],\"histogram2d\":[{\"colorbar\":{\"outlinewidth\":0,\"ticks\":\"\"},\"colorscale\":[[0.0,\"#0d0887\"],[0.1111111111111111,\"#46039f\"],[0.2222222222222222,\"#7201a8\"],[0.3333333333333333,\"#9c179e\"],[0.4444444444444444,\"#bd3786\"],[0.5555555555555556,\"#d8576b\"],[0.6666666666666666,\"#ed7953\"],[0.7777777777777778,\"#fb9f3a\"],[0.8888888888888888,\"#fdca26\"],[1.0,\"#f0f921\"]],\"type\":\"histogram2d\"}],\"histogram2dcontour\":[{\"colorbar\":{\"outlinewidth\":0,\"ticks\":\"\"},\"colorscale\":[[0.0,\"#0d0887\"],[0.1111111111111111,\"#46039f\"],[0.2222222222222222,\"#7201a8\"],[0.3333333333333333,\"#9c179e\"],[0.4444444444444444,\"#bd3786\"],[0.5555555555555556,\"#d8576b\"],[0.6666666666666666,\"#ed7953\"],[0.7777777777777778,\"#fb9f3a\"],[0.8888888888888888,\"#fdca26\"],[1.0,\"#f0f921\"]],\"type\":\"histogram2dcontour\"}],\"mesh3d\":[{\"colorbar\":{\"outlinewidth\":0,\"ticks\":\"\"},\"type\":\"mesh3d\"}],\"parcoords\":[{\"line\":{\"colorbar\":{\"outlinewidth\":0,\"ticks\":\"\"}},\"type\":\"parcoords\"}],\"pie\":[{\"automargin\":true,\"type\":\"pie\"}],\"scatter\":[{\"marker\":{\"colorbar\":{\"outlinewidth\":0,\"ticks\":\"\"}},\"type\":\"scatter\"}],\"scatter3d\":[{\"line\":{\"colorbar\":{\"outlinewidth\":0,\"ticks\":\"\"}},\"marker\":{\"colorbar\":{\"outlinewidth\":0,\"ticks\":\"\"}},\"type\":\"scatter3d\"}],\"scattercarpet\":[{\"marker\":{\"colorbar\":{\"outlinewidth\":0,\"ticks\":\"\"}},\"type\":\"scattercarpet\"}],\"scattergeo\":[{\"marker\":{\"colorbar\":{\"outlinewidth\":0,\"ticks\":\"\"}},\"type\":\"scattergeo\"}],\"scattergl\":[{\"marker\":{\"colorbar\":{\"outlinewidth\":0,\"ticks\":\"\"}},\"type\":\"scattergl\"}],\"scattermapbox\":[{\"marker\":{\"colorbar\":{\"outlinewidth\":0,\"ticks\":\"\"}},\"type\":\"scattermapbox\"}],\"scatterpolar\":[{\"marker\":{\"colorbar\":{\"outlinewidth\":0,\"ticks\":\"\"}},\"type\":\"scatterpolar\"}],\"scatterpolargl\":[{\"marker\":{\"colorbar\":{\"outlinewidth\":0,\"ticks\":\"\"}},\"type\":\"scatterpolargl\"}],\"scatterternary\":[{\"marker\":{\"colorbar\":{\"outlinewidth\":0,\"ticks\":\"\"}},\"type\":\"scatterternary\"}],\"surface\":[{\"colorbar\":{\"outlinewidth\":0,\"ticks\":\"\"},\"colorscale\":[[0.0,\"#0d0887\"],[0.1111111111111111,\"#46039f\"],[0.2222222222222222,\"#7201a8\"],[0.3333333333333333,\"#9c179e\"],[0.4444444444444444,\"#bd3786\"],[0.5555555555555556,\"#d8576b\"],[0.6666666666666666,\"#ed7953\"],[0.7777777777777778,\"#fb9f3a\"],[0.8888888888888888,\"#fdca26\"],[1.0,\"#f0f921\"]],\"type\":\"surface\"}],\"table\":[{\"cells\":{\"fill\":{\"color\":\"#EBF0F8\"},\"line\":{\"color\":\"white\"}},\"header\":{\"fill\":{\"color\":\"#C8D4E3\"},\"line\":{\"color\":\"white\"}},\"type\":\"table\"}]},\"layout\":{\"annotationdefaults\":{\"arrowcolor\":\"#2a3f5f\",\"arrowhead\":0,\"arrowwidth\":1},\"autotypenumbers\":\"strict\",\"coloraxis\":{\"colorbar\":{\"outlinewidth\":0,\"ticks\":\"\"}},\"colorscale\":{\"diverging\":[[0,\"#8e0152\"],[0.1,\"#c51b7d\"],[0.2,\"#de77ae\"],[0.3,\"#f1b6da\"],[0.4,\"#fde0ef\"],[0.5,\"#f7f7f7\"],[0.6,\"#e6f5d0\"],[0.7,\"#b8e186\"],[0.8,\"#7fbc41\"],[0.9,\"#4d9221\"],[1,\"#276419\"]],\"sequential\":[[0.0,\"#0d0887\"],[0.1111111111111111,\"#46039f\"],[0.2222222222222222,\"#7201a8\"],[0.3333333333333333,\"#9c179e\"],[0.4444444444444444,\"#bd3786\"],[0.5555555555555556,\"#d8576b\"],[0.6666666666666666,\"#ed7953\"],[0.7777777777777778,\"#fb9f3a\"],[0.8888888888888888,\"#fdca26\"],[1.0,\"#f0f921\"]],\"sequentialminus\":[[0.0,\"#0d0887\"],[0.1111111111111111,\"#46039f\"],[0.2222222222222222,\"#7201a8\"],[0.3333333333333333,\"#9c179e\"],[0.4444444444444444,\"#bd3786\"],[0.5555555555555556,\"#d8576b\"],[0.6666666666666666,\"#ed7953\"],[0.7777777777777778,\"#fb9f3a\"],[0.8888888888888888,\"#fdca26\"],[1.0,\"#f0f921\"]]},\"colorway\":[\"#636efa\",\"#EF553B\",\"#00cc96\",\"#ab63fa\",\"#FFA15A\",\"#19d3f3\",\"#FF6692\",\"#B6E880\",\"#FF97FF\",\"#FECB52\"],\"font\":{\"color\":\"#2a3f5f\"},\"geo\":{\"bgcolor\":\"white\",\"lakecolor\":\"white\",\"landcolor\":\"#E5ECF6\",\"showlakes\":true,\"showland\":true,\"subunitcolor\":\"white\"},\"hoverlabel\":{\"align\":\"left\"},\"hovermode\":\"closest\",\"mapbox\":{\"style\":\"light\"},\"paper_bgcolor\":\"white\",\"plot_bgcolor\":\"#E5ECF6\",\"polar\":{\"angularaxis\":{\"gridcolor\":\"white\",\"linecolor\":\"white\",\"ticks\":\"\"},\"bgcolor\":\"#E5ECF6\",\"radialaxis\":{\"gridcolor\":\"white\",\"linecolor\":\"white\",\"ticks\":\"\"}},\"scene\":{\"xaxis\":{\"backgroundcolor\":\"#E5ECF6\",\"gridcolor\":\"white\",\"gridwidth\":2,\"linecolor\":\"white\",\"showbackground\":true,\"ticks\":\"\",\"zerolinecolor\":\"white\"},\"yaxis\":{\"backgroundcolor\":\"#E5ECF6\",\"gridcolor\":\"white\",\"gridwidth\":2,\"linecolor\":\"white\",\"showbackground\":true,\"ticks\":\"\",\"zerolinecolor\":\"white\"},\"zaxis\":{\"backgroundcolor\":\"#E5ECF6\",\"gridcolor\":\"white\",\"gridwidth\":2,\"linecolor\":\"white\",\"showbackground\":true,\"ticks\":\"\",\"zerolinecolor\":\"white\"}},\"shapedefaults\":{\"line\":{\"color\":\"#2a3f5f\"}},\"ternary\":{\"aaxis\":{\"gridcolor\":\"white\",\"linecolor\":\"white\",\"ticks\":\"\"},\"baxis\":{\"gridcolor\":\"white\",\"linecolor\":\"white\",\"ticks\":\"\"},\"bgcolor\":\"#E5ECF6\",\"caxis\":{\"gridcolor\":\"white\",\"linecolor\":\"white\",\"ticks\":\"\"}},\"title\":{\"x\":0.05},\"xaxis\":{\"automargin\":true,\"gridcolor\":\"white\",\"linecolor\":\"white\",\"ticks\":\"\",\"title\":{\"standoff\":15},\"zerolinecolor\":\"white\",\"zerolinewidth\":2},\"yaxis\":{\"automargin\":true,\"gridcolor\":\"white\",\"linecolor\":\"white\",\"ticks\":\"\",\"title\":{\"standoff\":15},\"zerolinecolor\":\"white\",\"zerolinewidth\":2}}},\"title\":{\"text\":\"\\u0412\\u043e\\u0440\\u043e\\u043d\\u043a\\u0430 \\u0441\\u043e\\u0431\\u044b\\u0442\\u0438\\u0439 \\u0432 \\u0440\\u0430\\u0437\\u0431\\u0438\\u0432\\u043a\\u0435 \\u043f\\u043e \\u0433\\u0440\\u0443\\u043f\\u043f\\u0430\\u043c\"}},                        {\"responsive\": true}                    ).then(function(){\n",
       "                            \n",
       "var gd = document.getElementById('186afcfa-ca96-4f49-ab30-b14d0caf2d30');\n",
       "var x = new MutationObserver(function (mutations, observer) {{\n",
       "        var display = window.getComputedStyle(gd).display;\n",
       "        if (!display || display === 'none') {{\n",
       "            console.log([gd, 'removed!']);\n",
       "            Plotly.purge(gd);\n",
       "            observer.disconnect();\n",
       "        }}\n",
       "}});\n",
       "\n",
       "// Listen for the removal of the full notebook cells\n",
       "var notebookContainer = gd.closest('#notebook-container');\n",
       "if (notebookContainer) {{\n",
       "    x.observe(notebookContainer, {childList: true});\n",
       "}}\n",
       "\n",
       "// Listen for the clearing of the current output cell\n",
       "var outputEl = gd.closest('.output');\n",
       "if (outputEl) {{\n",
       "    x.observe(outputEl, {childList: true});\n",
       "}}\n",
       "\n",
       "                        })                };                });            </script>        </div>"
      ]
     },
     "metadata": {},
     "output_type": "display_data"
    }
   ],
   "source": [
    "fig = go.Figure()\n",
    "fig.update_layout(title={'text': \"Воронка событий в разбивке по группам\"})\n",
    "\n",
    "fig.add_trace(go.Funnel(\n",
    "    name = 'Group 246',\n",
    "    orientation = \"h\",\n",
    "    y = users_by_group['event_name'],\n",
    "    x = users_by_group[246],\n",
    "    textposition = \"inside\",\n",
    "    textinfo = \"value+percent previous\"))\n",
    "fig.add_trace(go.Funnel(\n",
    "    name = 'Group 247',\n",
    "    orientation = \"h\",\n",
    "    y = users_by_group['event_name'],\n",
    "    x = users_by_group[247],\n",
    "    textposition = \"inside\",\n",
    "    textinfo = \"value+percent previous\"))\n",
    "fig.add_trace(go.Funnel(\n",
    "    name = 'Group 248',\n",
    "    orientation = \"h\",\n",
    "    y = users_by_group['event_name'],\n",
    "    x = users_by_group[248],\n",
    "    textposition = \"inside\",\n",
    "    textinfo = \"value+percent previous\"))\n",
    "fig.show()"
   ]
  },
  {
   "cell_type": "markdown",
   "metadata": {},
   "source": [
    "**Сравним две выборки из группы 246 и группы 247**"
   ]
  },
  {
   "cell_type": "markdown",
   "metadata": {},
   "source": [
    "В работе будем использовать проверку гипотезы о равенстве долей (z-test).\n",
    "Сформулируем гипотезы:<br>\n",
    "H0: Между группами нет значимой разницы<br>\n",
    "H1: Между группами есть значимая разница<br>\n",
    "Так как мы сравниваем две контрольные группы, то уровень статистической значимости примем за 0.01"
   ]
  },
  {
   "cell_type": "code",
   "execution_count": 27,
   "metadata": {},
   "outputs": [
    {
     "name": "stdout",
     "output_type": "stream",
     "text": [
      "p-значение:  0.6756217702005545\n",
      "Не получилось отвергнуть нулевую гипотезу, нет оснований считать доли разными\n",
      "\n",
      "p-значение:  0.26698769175859516\n",
      "Не получилось отвергнуть нулевую гипотезу, нет оснований считать доли разными\n",
      "\n",
      "p-значение:  0.2182812140633792\n",
      "Не получилось отвергнуть нулевую гипотезу, нет оснований считать доли разными\n",
      "\n",
      "p-значение:  0.10298394982948822\n",
      "Не получилось отвергнуть нулевую гипотезу, нет оснований считать доли разными\n",
      "\n"
     ]
    }
   ],
   "source": [
    "def test(group1, group2, alpha):\n",
    "    for i in users_by_group.index:\n",
    "        p1 = users_by_group[group1][i]/cnt_users_by_group[group1]\n",
    "        p2 = users_by_group[group2][i]/cnt_users_by_group[group2]\n",
    "        \n",
    "        p_combined = (users_by_group[group1][i] + users_by_group[group2][i]) / (cnt_users_by_group[group1] + cnt_users_by_group[group2])\n",
    "        difference = p1 - p2\n",
    "\n",
    "        z_value = difference / mth.sqrt(p_combined * (1 - p_combined) * (1/cnt_users_by_group[group1] + 1/cnt_users_by_group[group2]))\n",
    "        distr = st.norm(0, 1)\n",
    "\n",
    "        p_value = (1 - distr.cdf(abs(z_value))) * 2\n",
    "\n",
    "        print('p-значение: ', p_value)\n",
    "        if p_value < alpha:\n",
    "            print('Отвергаем нулевую гипотезу: между долями есть значимая разница')\n",
    "        else:\n",
    "            print(\n",
    "                'Не получилось отвергнуть нулевую гипотезу, нет оснований считать доли разными'\n",
    "            )\n",
    "        print()\n",
    "            \n",
    "test(246,247,0.01)"
   ]
  },
  {
   "cell_type": "markdown",
   "metadata": {},
   "source": [
    "**Итак, разбиение на группы A1 и A2 работает корректно. Можно приступать к А/B тесту**"
   ]
  },
  {
   "cell_type": "markdown",
   "metadata": {},
   "source": [
    "## Сравним результаты экспериментальной группы с каждой из контрольных групп."
   ]
  },
  {
   "cell_type": "markdown",
   "metadata": {},
   "source": [
    "Сформулируем гипотезы:<br>\n",
    "H0: Между группами нет значимой разницы<br>\n",
    "H1: Между группами есть значимая разница<br>\n",
    "Уровень статистической значимости также примем за 0.01"
   ]
  },
  {
   "cell_type": "markdown",
   "metadata": {},
   "source": [
    "**Сравниваем группу 246 с 248**"
   ]
  },
  {
   "cell_type": "code",
   "execution_count": 28,
   "metadata": {},
   "outputs": [
    {
     "name": "stdout",
     "output_type": "stream",
     "text": [
      "p-значение:  0.34705881021236484\n",
      "Не получилось отвергнуть нулевую гипотезу, нет оснований считать доли разными\n",
      "\n",
      "p-значение:  0.20836205402738917\n",
      "Не получилось отвергнуть нулевую гипотезу, нет оснований считать доли разными\n",
      "\n",
      "p-значение:  0.08328412977507749\n",
      "Не получилось отвергнуть нулевую гипотезу, нет оснований считать доли разными\n",
      "\n",
      "p-значение:  0.22269358994682742\n",
      "Не получилось отвергнуть нулевую гипотезу, нет оснований считать доли разными\n",
      "\n"
     ]
    }
   ],
   "source": [
    "test(246,248,0.01)"
   ]
  },
  {
   "cell_type": "markdown",
   "metadata": {},
   "source": [
    "**Сравниваем группу 247 с 248**"
   ]
  },
  {
   "cell_type": "code",
   "execution_count": 29,
   "metadata": {},
   "outputs": [
    {
     "name": "stdout",
     "output_type": "stream",
     "text": [
      "p-значение:  0.6001661582453706\n",
      "Не получилось отвергнуть нулевую гипотезу, нет оснований считать доли разными\n",
      "\n",
      "p-значение:  0.8835956656016957\n",
      "Не получилось отвергнуть нулевую гипотезу, нет оснований считать доли разными\n",
      "\n",
      "p-значение:  0.6169517476996997\n",
      "Не получилось отвергнуть нулевую гипотезу, нет оснований считать доли разными\n",
      "\n",
      "p-значение:  0.6775413642906454\n",
      "Не получилось отвергнуть нулевую гипотезу, нет оснований считать доли разными\n",
      "\n"
     ]
    }
   ],
   "source": [
    "test(247,248,0.01)"
   ]
  },
  {
   "cell_type": "markdown",
   "metadata": {},
   "source": [
    "**Сравниваем объединенные группы 246 и 247 с 248**"
   ]
  },
  {
   "cell_type": "code",
   "execution_count": 30,
   "metadata": {},
   "outputs": [
    {
     "name": "stdout",
     "output_type": "stream",
     "text": [
      "p-значение:  0.39298914928006035\n",
      "Не получилось отвергнуть нулевую гипотезу, нет оснований считать доли разными\n",
      "\n",
      "p-значение:  0.418998284007599\n",
      "Не получилось отвергнуть нулевую гипотезу, нет оснований считать доли разными\n",
      "\n",
      "p-значение:  0.19819340844527744\n",
      "Не получилось отвергнуть нулевую гипотезу, нет оснований считать доли разными\n",
      "\n",
      "p-значение:  0.6452057673098244\n",
      "Не получилось отвергнуть нулевую гипотезу, нет оснований считать доли разными\n",
      "\n"
     ]
    }
   ],
   "source": [
    "test('246+247', 248, 0.01)"
   ]
  },
  {
   "cell_type": "markdown",
   "metadata": {},
   "source": [
    "**На основании проведенных тестов, можно сделать вывод, что изменение шрифта не дало ощутимых результатов**\n",
    " - Изначально мы приняли для всех тестов уровень значимости в размере 0,05. Везде результат был один, что нет оснований считать доли разными.\n",
    " - Далее мы уменьшили уровень значимости до 0,01 (при таком уровне лишь в 1% случаев можно ошибочно отклонить нулевую гипотезу при условии, что она верна). Результат не изменился, нет оснований считать доли разными.\n",
    " - На основании вышеизложенного считаем, что уровень значимости в 0,01 допустимый и достаточный для проверок такого уровня, нет необходимости дальше изменять уровень значимости."
   ]
  },
  {
   "cell_type": "markdown",
   "metadata": {},
   "source": [
    "# Общий вывод"
   ]
  },
  {
   "cell_type": "markdown",
   "metadata": {},
   "source": [
    "**Вывод по A/B-тесту**\n",
    " - На основании анализа А/В-тестов изменение шрифтов в приложении не приведет к положительным результатам по увеличению конверсии.\n",
    " \n",
    "**Вывод по анализу воронки и конверсии:**\n",
    " - Больше всего теряется пользователей при переходе с главной страницы на страницу оффера -38%\n",
    " - Также 19% пользователей теряется на этапе перехода в корзину\n",
    " - А у 5% пользователей возникают проблемы с оплатой<br>\n",
    " \n",
    "**Рекомендации по улучшению конверсии**\n",
    " - Проверить интерфейс и корректность работы приложения при переходе из главной страницы на стреницу оффера\n",
    " - Улучшить страницу оффера\n",
    " - Проверить логи с ошибками по оплате, возможно есть технические проблемы"
   ]
  }
 ],
 "metadata": {
  "ExecuteTimeLog": [
   {
    "duration": 43,
    "start_time": "2023-12-08T14:33:49.449Z"
   },
   {
    "duration": 952,
    "start_time": "2023-12-08T14:33:54.789Z"
   },
   {
    "duration": 135,
    "start_time": "2023-12-08T14:33:55.743Z"
   },
   {
    "duration": 24,
    "start_time": "2023-12-08T14:33:55.880Z"
   },
   {
    "duration": 11,
    "start_time": "2023-12-08T14:33:55.905Z"
   },
   {
    "duration": 20,
    "start_time": "2023-12-08T14:33:55.917Z"
   },
   {
    "duration": 17,
    "start_time": "2023-12-08T14:33:55.938Z"
   },
   {
    "duration": 214,
    "start_time": "2023-12-08T14:33:55.957Z"
   },
   {
    "duration": 26,
    "start_time": "2023-12-08T14:33:56.172Z"
   },
   {
    "duration": 17,
    "start_time": "2023-12-08T14:33:56.199Z"
   },
   {
    "duration": 5,
    "start_time": "2023-12-08T14:33:56.217Z"
   },
   {
    "duration": 4,
    "start_time": "2023-12-08T14:33:56.223Z"
   },
   {
    "duration": 331,
    "start_time": "2023-12-08T14:33:56.228Z"
   },
   {
    "duration": 235,
    "start_time": "2023-12-08T14:33:56.560Z"
   },
   {
    "duration": 4,
    "start_time": "2023-12-08T14:33:56.798Z"
   },
   {
    "duration": 26,
    "start_time": "2023-12-08T14:33:56.803Z"
   },
   {
    "duration": 60,
    "start_time": "2023-12-08T14:33:56.830Z"
   },
   {
    "duration": 31,
    "start_time": "2023-12-08T14:33:56.891Z"
   },
   {
    "duration": 42,
    "start_time": "2023-12-08T14:33:56.923Z"
   },
   {
    "duration": 69,
    "start_time": "2023-12-08T14:33:56.967Z"
   },
   {
    "duration": 7,
    "start_time": "2023-12-08T14:33:57.038Z"
   },
   {
    "duration": 7,
    "start_time": "2023-12-08T14:33:57.046Z"
   },
   {
    "duration": 40,
    "start_time": "2023-12-08T14:33:57.054Z"
   },
   {
    "duration": 74,
    "start_time": "2023-12-08T14:33:57.095Z"
   },
   {
    "duration": 11,
    "start_time": "2023-12-08T14:33:57.170Z"
   },
   {
    "duration": 25,
    "start_time": "2023-12-08T14:33:57.182Z"
   },
   {
    "duration": 19,
    "start_time": "2023-12-08T14:33:57.208Z"
   },
   {
    "duration": 1007,
    "start_time": "2023-12-08T14:47:17.792Z"
   },
   {
    "duration": 141,
    "start_time": "2023-12-08T14:47:18.800Z"
   },
   {
    "duration": 25,
    "start_time": "2023-12-08T14:47:18.942Z"
   },
   {
    "duration": 13,
    "start_time": "2023-12-08T14:47:18.968Z"
   },
   {
    "duration": 26,
    "start_time": "2023-12-08T14:47:18.982Z"
   },
   {
    "duration": 37,
    "start_time": "2023-12-08T14:47:19.009Z"
   },
   {
    "duration": 216,
    "start_time": "2023-12-08T14:47:19.047Z"
   },
   {
    "duration": 28,
    "start_time": "2023-12-08T14:47:19.265Z"
   },
   {
    "duration": 30,
    "start_time": "2023-12-08T14:47:19.295Z"
   },
   {
    "duration": 28,
    "start_time": "2023-12-08T14:47:19.327Z"
   },
   {
    "duration": 23,
    "start_time": "2023-12-08T14:47:19.356Z"
   },
   {
    "duration": 345,
    "start_time": "2023-12-08T14:47:19.380Z"
   },
   {
    "duration": 240,
    "start_time": "2023-12-08T14:47:19.726Z"
   },
   {
    "duration": 5,
    "start_time": "2023-12-08T14:47:19.968Z"
   },
   {
    "duration": 40,
    "start_time": "2023-12-08T14:47:19.974Z"
   },
   {
    "duration": 35,
    "start_time": "2023-12-08T14:47:20.015Z"
   },
   {
    "duration": 45,
    "start_time": "2023-12-08T14:47:20.051Z"
   },
   {
    "duration": 74,
    "start_time": "2023-12-08T14:47:20.097Z"
   },
   {
    "duration": 8,
    "start_time": "2023-12-08T14:47:20.172Z"
   },
   {
    "duration": 20,
    "start_time": "2023-12-08T14:47:20.181Z"
   },
   {
    "duration": 35,
    "start_time": "2023-12-08T14:47:20.202Z"
   },
   {
    "duration": 86,
    "start_time": "2023-12-08T14:47:20.238Z"
   },
   {
    "duration": 11,
    "start_time": "2023-12-08T14:47:20.325Z"
   },
   {
    "duration": 43,
    "start_time": "2023-12-08T14:47:20.338Z"
   },
   {
    "duration": 20,
    "start_time": "2023-12-08T14:47:20.383Z"
   },
   {
    "duration": 81,
    "start_time": "2023-12-09T11:15:21.245Z"
   },
   {
    "duration": 42,
    "start_time": "2023-12-09T11:20:40.874Z"
   },
   {
    "duration": 1271,
    "start_time": "2023-12-09T11:20:55.156Z"
   },
   {
    "duration": 501,
    "start_time": "2023-12-09T11:20:56.428Z"
   },
   {
    "duration": 31,
    "start_time": "2023-12-09T11:20:56.930Z"
   },
   {
    "duration": 2,
    "start_time": "2023-12-09T11:20:56.963Z"
   },
   {
    "duration": 17,
    "start_time": "2023-12-09T11:20:56.967Z"
   },
   {
    "duration": 36,
    "start_time": "2023-12-09T11:20:56.985Z"
   },
   {
    "duration": 274,
    "start_time": "2023-12-09T11:20:57.022Z"
   },
   {
    "duration": 92,
    "start_time": "2023-12-09T11:20:57.298Z"
   },
   {
    "duration": 36,
    "start_time": "2023-12-09T11:20:57.391Z"
   },
   {
    "duration": 8,
    "start_time": "2023-12-09T11:20:57.429Z"
   },
   {
    "duration": 8,
    "start_time": "2023-12-09T11:20:57.452Z"
   },
   {
    "duration": 6,
    "start_time": "2023-12-09T11:20:57.461Z"
   },
   {
    "duration": 387,
    "start_time": "2023-12-09T11:20:57.468Z"
   },
   {
    "duration": 299,
    "start_time": "2023-12-09T11:20:57.857Z"
   },
   {
    "duration": 6,
    "start_time": "2023-12-09T11:20:58.158Z"
   },
   {
    "duration": 30,
    "start_time": "2023-12-09T11:20:58.165Z"
   },
   {
    "duration": 56,
    "start_time": "2023-12-09T11:20:58.196Z"
   },
   {
    "duration": 53,
    "start_time": "2023-12-09T11:20:58.254Z"
   },
   {
    "duration": 88,
    "start_time": "2023-12-09T11:20:58.309Z"
   },
   {
    "duration": 11,
    "start_time": "2023-12-09T11:20:58.399Z"
   },
   {
    "duration": 6,
    "start_time": "2023-12-09T11:20:58.411Z"
   },
   {
    "duration": 48,
    "start_time": "2023-12-09T11:20:58.419Z"
   },
   {
    "duration": 90,
    "start_time": "2023-12-09T11:20:58.469Z"
   },
   {
    "duration": 15,
    "start_time": "2023-12-09T11:20:58.561Z"
   },
   {
    "duration": 23,
    "start_time": "2023-12-09T11:20:58.578Z"
   },
   {
    "duration": 8,
    "start_time": "2023-12-09T11:20:58.603Z"
   },
   {
    "duration": 94,
    "start_time": "2023-12-09T11:22:10.901Z"
   },
   {
    "duration": 94,
    "start_time": "2023-12-09T11:22:46.867Z"
   },
   {
    "duration": 9,
    "start_time": "2023-12-09T11:23:06.825Z"
   },
   {
    "duration": 170,
    "start_time": "2023-12-09T11:23:36.172Z"
   },
   {
    "duration": 10,
    "start_time": "2023-12-09T11:46:41.384Z"
   },
   {
    "duration": 10,
    "start_time": "2023-12-09T11:50:52.885Z"
   },
   {
    "duration": 7,
    "start_time": "2023-12-09T11:53:15.957Z"
   },
   {
    "duration": 16,
    "start_time": "2023-12-09T11:53:20.941Z"
   },
   {
    "duration": 17,
    "start_time": "2023-12-09T11:54:00.325Z"
   },
   {
    "duration": 15,
    "start_time": "2023-12-09T11:55:20.977Z"
   },
   {
    "duration": 11,
    "start_time": "2023-12-09T11:56:01.709Z"
   },
   {
    "duration": 9,
    "start_time": "2023-12-09T11:56:32.605Z"
   },
   {
    "duration": 17,
    "start_time": "2023-12-09T12:06:04.224Z"
   },
   {
    "duration": 13,
    "start_time": "2023-12-09T12:06:20.680Z"
   },
   {
    "duration": 19,
    "start_time": "2023-12-09T12:06:40.210Z"
   },
   {
    "duration": 12,
    "start_time": "2023-12-09T12:06:49.635Z"
   },
   {
    "duration": 13,
    "start_time": "2023-12-09T12:07:02.578Z"
   },
   {
    "duration": 16,
    "start_time": "2023-12-09T12:07:36.756Z"
   },
   {
    "duration": 9,
    "start_time": "2023-12-09T12:08:08.412Z"
   },
   {
    "duration": 12,
    "start_time": "2023-12-09T12:08:15.148Z"
   },
   {
    "duration": 1254,
    "start_time": "2023-12-09T12:08:50.614Z"
   },
   {
    "duration": 17,
    "start_time": "2023-12-09T12:09:00.267Z"
   },
   {
    "duration": 9,
    "start_time": "2023-12-09T12:09:15.449Z"
   },
   {
    "duration": 8,
    "start_time": "2023-12-09T12:09:46.268Z"
   },
   {
    "duration": 8,
    "start_time": "2023-12-09T12:09:57.890Z"
   },
   {
    "duration": 31,
    "start_time": "2023-12-09T12:10:48.871Z"
   },
   {
    "duration": 18,
    "start_time": "2023-12-09T12:11:45.591Z"
   },
   {
    "duration": 16,
    "start_time": "2023-12-09T12:12:34.859Z"
   },
   {
    "duration": 17,
    "start_time": "2023-12-09T12:13:35.469Z"
   },
   {
    "duration": 17,
    "start_time": "2023-12-09T12:13:39.619Z"
   },
   {
    "duration": 18,
    "start_time": "2023-12-09T12:14:13.979Z"
   },
   {
    "duration": 17,
    "start_time": "2023-12-09T12:14:28.645Z"
   },
   {
    "duration": 17,
    "start_time": "2023-12-09T12:14:57.525Z"
   },
   {
    "duration": 14,
    "start_time": "2023-12-09T12:16:23.861Z"
   },
   {
    "duration": 3,
    "start_time": "2023-12-09T12:17:20.181Z"
   },
   {
    "duration": 176,
    "start_time": "2023-12-09T12:18:29.588Z"
   },
   {
    "duration": 17,
    "start_time": "2023-12-09T12:18:34.705Z"
   },
   {
    "duration": 18,
    "start_time": "2023-12-09T12:18:46.429Z"
   },
   {
    "duration": 18,
    "start_time": "2023-12-09T12:18:56.092Z"
   },
   {
    "duration": 1106,
    "start_time": "2023-12-09T12:23:36.502Z"
   },
   {
    "duration": 0,
    "start_time": "2023-12-09T12:23:37.611Z"
   },
   {
    "duration": 0,
    "start_time": "2023-12-09T12:23:37.612Z"
   },
   {
    "duration": 0,
    "start_time": "2023-12-09T12:23:37.613Z"
   },
   {
    "duration": 0,
    "start_time": "2023-12-09T12:23:37.614Z"
   },
   {
    "duration": 0,
    "start_time": "2023-12-09T12:23:37.615Z"
   },
   {
    "duration": 0,
    "start_time": "2023-12-09T12:23:37.615Z"
   },
   {
    "duration": 0,
    "start_time": "2023-12-09T12:23:37.616Z"
   },
   {
    "duration": 0,
    "start_time": "2023-12-09T12:23:37.618Z"
   },
   {
    "duration": 0,
    "start_time": "2023-12-09T12:23:37.619Z"
   },
   {
    "duration": 0,
    "start_time": "2023-12-09T12:23:37.620Z"
   },
   {
    "duration": 0,
    "start_time": "2023-12-09T12:23:37.621Z"
   },
   {
    "duration": 0,
    "start_time": "2023-12-09T12:23:37.622Z"
   },
   {
    "duration": 0,
    "start_time": "2023-12-09T12:23:37.623Z"
   },
   {
    "duration": 0,
    "start_time": "2023-12-09T12:23:37.624Z"
   },
   {
    "duration": 0,
    "start_time": "2023-12-09T12:23:37.625Z"
   },
   {
    "duration": 0,
    "start_time": "2023-12-09T12:23:37.626Z"
   },
   {
    "duration": 0,
    "start_time": "2023-12-09T12:23:37.627Z"
   },
   {
    "duration": 0,
    "start_time": "2023-12-09T12:23:37.652Z"
   },
   {
    "duration": 0,
    "start_time": "2023-12-09T12:23:37.653Z"
   },
   {
    "duration": 0,
    "start_time": "2023-12-09T12:23:37.654Z"
   },
   {
    "duration": 0,
    "start_time": "2023-12-09T12:23:37.655Z"
   },
   {
    "duration": 0,
    "start_time": "2023-12-09T12:23:37.657Z"
   },
   {
    "duration": 0,
    "start_time": "2023-12-09T12:23:37.658Z"
   },
   {
    "duration": 0,
    "start_time": "2023-12-09T12:23:37.659Z"
   },
   {
    "duration": 0,
    "start_time": "2023-12-09T12:23:37.660Z"
   },
   {
    "duration": 0,
    "start_time": "2023-12-09T12:23:37.661Z"
   },
   {
    "duration": 0,
    "start_time": "2023-12-09T12:23:37.662Z"
   },
   {
    "duration": 1161,
    "start_time": "2023-12-09T12:24:38.732Z"
   },
   {
    "duration": 0,
    "start_time": "2023-12-09T12:24:39.895Z"
   },
   {
    "duration": 0,
    "start_time": "2023-12-09T12:24:39.896Z"
   },
   {
    "duration": 0,
    "start_time": "2023-12-09T12:24:39.898Z"
   },
   {
    "duration": 0,
    "start_time": "2023-12-09T12:24:39.899Z"
   },
   {
    "duration": 0,
    "start_time": "2023-12-09T12:24:39.900Z"
   },
   {
    "duration": 0,
    "start_time": "2023-12-09T12:24:39.901Z"
   },
   {
    "duration": 0,
    "start_time": "2023-12-09T12:24:39.902Z"
   },
   {
    "duration": 0,
    "start_time": "2023-12-09T12:24:39.903Z"
   },
   {
    "duration": 0,
    "start_time": "2023-12-09T12:24:39.904Z"
   },
   {
    "duration": 0,
    "start_time": "2023-12-09T12:24:39.905Z"
   },
   {
    "duration": 0,
    "start_time": "2023-12-09T12:24:39.906Z"
   },
   {
    "duration": 0,
    "start_time": "2023-12-09T12:24:39.907Z"
   },
   {
    "duration": 0,
    "start_time": "2023-12-09T12:24:39.909Z"
   },
   {
    "duration": 0,
    "start_time": "2023-12-09T12:24:39.910Z"
   },
   {
    "duration": 0,
    "start_time": "2023-12-09T12:24:39.911Z"
   },
   {
    "duration": 0,
    "start_time": "2023-12-09T12:24:39.912Z"
   },
   {
    "duration": 0,
    "start_time": "2023-12-09T12:24:39.913Z"
   },
   {
    "duration": 0,
    "start_time": "2023-12-09T12:24:39.914Z"
   },
   {
    "duration": 0,
    "start_time": "2023-12-09T12:24:39.915Z"
   },
   {
    "duration": 0,
    "start_time": "2023-12-09T12:24:39.916Z"
   },
   {
    "duration": 0,
    "start_time": "2023-12-09T12:24:39.952Z"
   },
   {
    "duration": 0,
    "start_time": "2023-12-09T12:24:39.953Z"
   },
   {
    "duration": 0,
    "start_time": "2023-12-09T12:24:39.954Z"
   },
   {
    "duration": 0,
    "start_time": "2023-12-09T12:24:39.955Z"
   },
   {
    "duration": 0,
    "start_time": "2023-12-09T12:24:39.956Z"
   },
   {
    "duration": 0,
    "start_time": "2023-12-09T12:24:39.957Z"
   },
   {
    "duration": 0,
    "start_time": "2023-12-09T12:24:39.958Z"
   },
   {
    "duration": 1110,
    "start_time": "2023-12-09T12:25:24.028Z"
   },
   {
    "duration": 177,
    "start_time": "2023-12-09T12:25:25.140Z"
   },
   {
    "duration": 41,
    "start_time": "2023-12-09T12:25:25.319Z"
   },
   {
    "duration": 3,
    "start_time": "2023-12-09T12:25:25.361Z"
   },
   {
    "duration": 19,
    "start_time": "2023-12-09T12:25:25.365Z"
   },
   {
    "duration": 21,
    "start_time": "2023-12-09T12:25:25.385Z"
   },
   {
    "duration": 293,
    "start_time": "2023-12-09T12:25:25.407Z"
   },
   {
    "duration": 91,
    "start_time": "2023-12-09T12:25:25.701Z"
   },
   {
    "duration": 162,
    "start_time": "2023-12-09T12:25:25.794Z"
   },
   {
    "duration": 17,
    "start_time": "2023-12-09T12:25:25.959Z"
   },
   {
    "duration": 5,
    "start_time": "2023-12-09T12:25:25.977Z"
   },
   {
    "duration": 20,
    "start_time": "2023-12-09T12:25:25.983Z"
   },
   {
    "duration": 12,
    "start_time": "2023-12-09T12:25:26.005Z"
   },
   {
    "duration": 10,
    "start_time": "2023-12-09T12:25:26.018Z"
   },
   {
    "duration": 386,
    "start_time": "2023-12-09T12:25:26.030Z"
   },
   {
    "duration": 307,
    "start_time": "2023-12-09T12:25:26.418Z"
   },
   {
    "duration": 5,
    "start_time": "2023-12-09T12:25:26.727Z"
   },
   {
    "duration": 41,
    "start_time": "2023-12-09T12:25:26.734Z"
   },
   {
    "duration": 32,
    "start_time": "2023-12-09T12:25:26.776Z"
   },
   {
    "duration": 60,
    "start_time": "2023-12-09T12:25:26.810Z"
   },
   {
    "duration": 62,
    "start_time": "2023-12-09T12:25:26.872Z"
   },
   {
    "duration": 24,
    "start_time": "2023-12-09T12:25:26.935Z"
   },
   {
    "duration": 4,
    "start_time": "2023-12-09T12:25:26.961Z"
   },
   {
    "duration": 32,
    "start_time": "2023-12-09T12:25:26.966Z"
   },
   {
    "duration": 103,
    "start_time": "2023-12-09T12:25:26.999Z"
   },
   {
    "duration": 14,
    "start_time": "2023-12-09T12:25:27.103Z"
   },
   {
    "duration": 11,
    "start_time": "2023-12-09T12:25:27.119Z"
   },
   {
    "duration": 12,
    "start_time": "2023-12-09T12:25:27.151Z"
   },
   {
    "duration": 102,
    "start_time": "2023-12-09T12:25:42.312Z"
   },
   {
    "duration": 1104,
    "start_time": "2023-12-09T12:26:08.652Z"
   },
   {
    "duration": 181,
    "start_time": "2023-12-09T12:26:09.758Z"
   },
   {
    "duration": 29,
    "start_time": "2023-12-09T12:26:09.941Z"
   },
   {
    "duration": 3,
    "start_time": "2023-12-09T12:26:09.972Z"
   },
   {
    "duration": 24,
    "start_time": "2023-12-09T12:26:09.977Z"
   },
   {
    "duration": 43,
    "start_time": "2023-12-09T12:26:10.003Z"
   },
   {
    "duration": 260,
    "start_time": "2023-12-09T12:26:10.048Z"
   },
   {
    "duration": 88,
    "start_time": "2023-12-09T12:26:10.310Z"
   },
   {
    "duration": 161,
    "start_time": "2023-12-09T12:26:10.400Z"
   },
   {
    "duration": 18,
    "start_time": "2023-12-09T12:26:10.564Z"
   },
   {
    "duration": 3,
    "start_time": "2023-12-09T12:26:10.584Z"
   },
   {
    "duration": 8,
    "start_time": "2023-12-09T12:26:10.589Z"
   },
   {
    "duration": 7,
    "start_time": "2023-12-09T12:26:10.598Z"
   },
   {
    "duration": 6,
    "start_time": "2023-12-09T12:26:10.607Z"
   },
   {
    "duration": 936,
    "start_time": "2023-12-09T12:26:10.651Z"
   },
   {
    "duration": 346,
    "start_time": "2023-12-09T12:26:11.588Z"
   },
   {
    "duration": 5,
    "start_time": "2023-12-09T12:26:11.936Z"
   },
   {
    "duration": 38,
    "start_time": "2023-12-09T12:26:11.951Z"
   },
   {
    "duration": 33,
    "start_time": "2023-12-09T12:26:11.991Z"
   },
   {
    "duration": 58,
    "start_time": "2023-12-09T12:26:12.026Z"
   },
   {
    "duration": 74,
    "start_time": "2023-12-09T12:26:12.085Z"
   },
   {
    "duration": 9,
    "start_time": "2023-12-09T12:26:12.160Z"
   },
   {
    "duration": 17,
    "start_time": "2023-12-09T12:26:12.170Z"
   },
   {
    "duration": 33,
    "start_time": "2023-12-09T12:26:12.189Z"
   },
   {
    "duration": 89,
    "start_time": "2023-12-09T12:26:12.223Z"
   },
   {
    "duration": 11,
    "start_time": "2023-12-09T12:26:12.313Z"
   },
   {
    "duration": 11,
    "start_time": "2023-12-09T12:26:12.325Z"
   },
   {
    "duration": 9,
    "start_time": "2023-12-09T12:26:12.351Z"
   },
   {
    "duration": 879,
    "start_time": "2023-12-09T12:26:54.368Z"
   },
   {
    "duration": 903,
    "start_time": "2023-12-09T12:27:01.336Z"
   },
   {
    "duration": 938,
    "start_time": "2023-12-09T12:27:07.066Z"
   },
   {
    "duration": 937,
    "start_time": "2023-12-09T12:27:12.315Z"
   },
   {
    "duration": 581,
    "start_time": "2023-12-09T12:27:34.082Z"
   },
   {
    "duration": 35,
    "start_time": "2023-12-09T12:29:36.442Z"
   },
   {
    "duration": 35,
    "start_time": "2023-12-09T12:29:52.370Z"
   },
   {
    "duration": 37,
    "start_time": "2023-12-09T12:30:49.182Z"
   },
   {
    "duration": 45,
    "start_time": "2023-12-09T12:30:54.730Z"
   },
   {
    "duration": 50,
    "start_time": "2023-12-09T12:31:49.251Z"
   },
   {
    "duration": 38,
    "start_time": "2023-12-09T12:32:03.035Z"
   },
   {
    "duration": 39,
    "start_time": "2023-12-09T12:32:20.916Z"
   },
   {
    "duration": 37,
    "start_time": "2023-12-09T12:32:31.852Z"
   },
   {
    "duration": 66,
    "start_time": "2023-12-09T12:34:22.191Z"
   },
   {
    "duration": 68,
    "start_time": "2023-12-09T12:34:41.090Z"
   },
   {
    "duration": 75,
    "start_time": "2023-12-09T12:35:33.390Z"
   },
   {
    "duration": 100,
    "start_time": "2023-12-09T12:41:54.871Z"
   },
   {
    "duration": 78,
    "start_time": "2023-12-09T12:45:01.270Z"
   },
   {
    "duration": 948,
    "start_time": "2023-12-09T13:34:24.293Z"
   },
   {
    "duration": 1175,
    "start_time": "2023-12-09T13:34:30.076Z"
   },
   {
    "duration": 184,
    "start_time": "2023-12-09T13:34:31.253Z"
   },
   {
    "duration": 37,
    "start_time": "2023-12-09T13:34:31.439Z"
   },
   {
    "duration": 3,
    "start_time": "2023-12-09T13:34:31.479Z"
   },
   {
    "duration": 38,
    "start_time": "2023-12-09T13:34:31.483Z"
   },
   {
    "duration": 46,
    "start_time": "2023-12-09T13:34:31.523Z"
   },
   {
    "duration": 269,
    "start_time": "2023-12-09T13:34:31.570Z"
   },
   {
    "duration": 84,
    "start_time": "2023-12-09T13:34:31.840Z"
   },
   {
    "duration": 173,
    "start_time": "2023-12-09T13:34:31.926Z"
   },
   {
    "duration": 18,
    "start_time": "2023-12-09T13:34:32.102Z"
   },
   {
    "duration": 3,
    "start_time": "2023-12-09T13:34:32.122Z"
   },
   {
    "duration": 26,
    "start_time": "2023-12-09T13:34:32.126Z"
   },
   {
    "duration": 7,
    "start_time": "2023-12-09T13:34:32.153Z"
   },
   {
    "duration": 19,
    "start_time": "2023-12-09T13:34:32.161Z"
   },
   {
    "duration": 897,
    "start_time": "2023-12-09T13:34:32.182Z"
   },
   {
    "duration": 637,
    "start_time": "2023-12-09T13:34:33.080Z"
   },
   {
    "duration": 4,
    "start_time": "2023-12-09T13:34:33.719Z"
   },
   {
    "duration": 90,
    "start_time": "2023-12-09T13:34:33.725Z"
   },
   {
    "duration": 35,
    "start_time": "2023-12-09T13:34:33.817Z"
   },
   {
    "duration": 42,
    "start_time": "2023-12-09T13:34:33.853Z"
   },
   {
    "duration": 77,
    "start_time": "2023-12-09T13:34:33.897Z"
   },
   {
    "duration": 9,
    "start_time": "2023-12-09T13:34:33.975Z"
   },
   {
    "duration": 28,
    "start_time": "2023-12-09T13:34:33.985Z"
   },
   {
    "duration": 33,
    "start_time": "2023-12-09T13:34:34.014Z"
   },
   {
    "duration": 84,
    "start_time": "2023-12-09T13:34:34.048Z"
   },
   {
    "duration": 19,
    "start_time": "2023-12-09T13:34:34.134Z"
   },
   {
    "duration": 8,
    "start_time": "2023-12-09T13:34:34.155Z"
   },
   {
    "duration": 9,
    "start_time": "2023-12-09T13:34:34.166Z"
   },
   {
    "duration": 6,
    "start_time": "2023-12-09T14:07:36.320Z"
   },
   {
    "duration": 170,
    "start_time": "2023-12-09T14:14:51.498Z"
   },
   {
    "duration": 76,
    "start_time": "2023-12-09T14:16:13.548Z"
   },
   {
    "duration": 8,
    "start_time": "2023-12-09T14:21:42.708Z"
   },
   {
    "duration": 8,
    "start_time": "2023-12-09T14:21:51.009Z"
   },
   {
    "duration": 1291,
    "start_time": "2023-12-09T14:26:47.021Z"
   },
   {
    "duration": 100,
    "start_time": "2023-12-09T14:27:05.003Z"
   },
   {
    "duration": 82,
    "start_time": "2023-12-09T14:27:14.532Z"
   },
   {
    "duration": 79,
    "start_time": "2023-12-09T14:27:23.545Z"
   },
   {
    "duration": 845,
    "start_time": "2023-12-09T14:28:02.405Z"
   },
   {
    "duration": 1125,
    "start_time": "2023-12-09T14:28:13.448Z"
   },
   {
    "duration": 178,
    "start_time": "2023-12-09T14:28:14.575Z"
   },
   {
    "duration": 30,
    "start_time": "2023-12-09T14:28:14.755Z"
   },
   {
    "duration": 3,
    "start_time": "2023-12-09T14:28:14.786Z"
   },
   {
    "duration": 14,
    "start_time": "2023-12-09T14:28:14.791Z"
   },
   {
    "duration": 20,
    "start_time": "2023-12-09T14:28:14.806Z"
   },
   {
    "duration": 253,
    "start_time": "2023-12-09T14:28:14.852Z"
   },
   {
    "duration": 98,
    "start_time": "2023-12-09T14:28:15.106Z"
   },
   {
    "duration": 162,
    "start_time": "2023-12-09T14:28:15.206Z"
   },
   {
    "duration": 19,
    "start_time": "2023-12-09T14:28:15.369Z"
   },
   {
    "duration": 4,
    "start_time": "2023-12-09T14:28:15.390Z"
   },
   {
    "duration": 10,
    "start_time": "2023-12-09T14:28:15.396Z"
   },
   {
    "duration": 7,
    "start_time": "2023-12-09T14:28:15.408Z"
   },
   {
    "duration": 6,
    "start_time": "2023-12-09T14:28:15.451Z"
   },
   {
    "duration": 909,
    "start_time": "2023-12-09T14:28:15.458Z"
   },
   {
    "duration": 629,
    "start_time": "2023-12-09T14:28:16.368Z"
   },
   {
    "duration": 5,
    "start_time": "2023-12-09T14:28:16.999Z"
   },
   {
    "duration": 75,
    "start_time": "2023-12-09T14:28:17.005Z"
   },
   {
    "duration": 32,
    "start_time": "2023-12-09T14:28:17.081Z"
   },
   {
    "duration": 61,
    "start_time": "2023-12-09T14:28:17.114Z"
   },
   {
    "duration": 59,
    "start_time": "2023-12-09T14:28:17.176Z"
   },
   {
    "duration": 21,
    "start_time": "2023-12-09T14:28:17.237Z"
   },
   {
    "duration": 11,
    "start_time": "2023-12-09T14:28:17.259Z"
   },
   {
    "duration": 40,
    "start_time": "2023-12-09T14:28:17.271Z"
   },
   {
    "duration": 82,
    "start_time": "2023-12-09T14:28:17.313Z"
   },
   {
    "duration": 154,
    "start_time": "2023-12-09T14:28:17.397Z"
   },
   {
    "duration": 11,
    "start_time": "2023-12-09T14:28:17.552Z"
   },
   {
    "duration": 11,
    "start_time": "2023-12-09T14:28:17.564Z"
   },
   {
    "duration": 8,
    "start_time": "2023-12-09T14:28:17.576Z"
   },
   {
    "duration": 1053,
    "start_time": "2023-12-09T14:28:17.586Z"
   },
   {
    "duration": 1188,
    "start_time": "2023-12-09T14:29:38.805Z"
   },
   {
    "duration": 830,
    "start_time": "2023-12-09T14:29:52.220Z"
   },
   {
    "duration": 82,
    "start_time": "2023-12-09T14:30:26.193Z"
   },
   {
    "duration": 1267,
    "start_time": "2023-12-09T14:30:57.416Z"
   },
   {
    "duration": 1167,
    "start_time": "2023-12-09T14:31:09.902Z"
   },
   {
    "duration": 178,
    "start_time": "2023-12-09T14:31:11.071Z"
   },
   {
    "duration": 32,
    "start_time": "2023-12-09T14:31:11.252Z"
   },
   {
    "duration": 2,
    "start_time": "2023-12-09T14:31:11.287Z"
   },
   {
    "duration": 18,
    "start_time": "2023-12-09T14:31:11.291Z"
   },
   {
    "duration": 19,
    "start_time": "2023-12-09T14:31:11.311Z"
   },
   {
    "duration": 274,
    "start_time": "2023-12-09T14:31:11.332Z"
   },
   {
    "duration": 90,
    "start_time": "2023-12-09T14:31:11.608Z"
   },
   {
    "duration": 163,
    "start_time": "2023-12-09T14:31:11.700Z"
   },
   {
    "duration": 18,
    "start_time": "2023-12-09T14:31:11.866Z"
   },
   {
    "duration": 4,
    "start_time": "2023-12-09T14:31:11.886Z"
   },
   {
    "duration": 11,
    "start_time": "2023-12-09T14:31:11.892Z"
   },
   {
    "duration": 7,
    "start_time": "2023-12-09T14:31:11.904Z"
   },
   {
    "duration": 6,
    "start_time": "2023-12-09T14:31:11.913Z"
   },
   {
    "duration": 966,
    "start_time": "2023-12-09T14:31:11.920Z"
   },
   {
    "duration": 673,
    "start_time": "2023-12-09T14:31:12.887Z"
   },
   {
    "duration": 5,
    "start_time": "2023-12-09T14:31:13.561Z"
   },
   {
    "duration": 72,
    "start_time": "2023-12-09T14:31:13.567Z"
   },
   {
    "duration": 39,
    "start_time": "2023-12-09T14:31:13.640Z"
   },
   {
    "duration": 46,
    "start_time": "2023-12-09T14:31:13.680Z"
   },
   {
    "duration": 81,
    "start_time": "2023-12-09T14:31:13.727Z"
   },
   {
    "duration": 10,
    "start_time": "2023-12-09T14:31:13.809Z"
   },
   {
    "duration": 16,
    "start_time": "2023-12-09T14:31:13.821Z"
   },
   {
    "duration": 43,
    "start_time": "2023-12-09T14:31:13.839Z"
   },
   {
    "duration": 89,
    "start_time": "2023-12-09T14:31:13.884Z"
   },
   {
    "duration": 160,
    "start_time": "2023-12-09T14:31:13.974Z"
   },
   {
    "duration": 11,
    "start_time": "2023-12-09T14:31:14.135Z"
   },
   {
    "duration": 9,
    "start_time": "2023-12-09T14:31:14.148Z"
   },
   {
    "duration": 8,
    "start_time": "2023-12-09T14:31:14.159Z"
   },
   {
    "duration": 1366,
    "start_time": "2023-12-09T14:31:14.169Z"
   },
   {
    "duration": 31,
    "start_time": "2023-12-09T14:32:28.142Z"
   },
   {
    "duration": 78,
    "start_time": "2023-12-09T14:33:02.156Z"
   },
   {
    "duration": 942,
    "start_time": "2023-12-09T14:33:09.529Z"
   },
   {
    "duration": 1070,
    "start_time": "2023-12-09T14:33:17.708Z"
   },
   {
    "duration": 179,
    "start_time": "2023-12-09T14:33:18.781Z"
   },
   {
    "duration": 31,
    "start_time": "2023-12-09T14:33:18.961Z"
   },
   {
    "duration": 7,
    "start_time": "2023-12-09T14:33:18.994Z"
   },
   {
    "duration": 18,
    "start_time": "2023-12-09T14:33:19.002Z"
   },
   {
    "duration": 34,
    "start_time": "2023-12-09T14:33:19.021Z"
   },
   {
    "duration": 305,
    "start_time": "2023-12-09T14:33:19.056Z"
   },
   {
    "duration": 90,
    "start_time": "2023-12-09T14:33:19.362Z"
   },
   {
    "duration": 168,
    "start_time": "2023-12-09T14:33:19.454Z"
   },
   {
    "duration": 17,
    "start_time": "2023-12-09T14:33:19.625Z"
   },
   {
    "duration": 4,
    "start_time": "2023-12-09T14:33:19.652Z"
   },
   {
    "duration": 14,
    "start_time": "2023-12-09T14:33:19.657Z"
   },
   {
    "duration": 11,
    "start_time": "2023-12-09T14:33:19.672Z"
   },
   {
    "duration": 20,
    "start_time": "2023-12-09T14:33:19.684Z"
   },
   {
    "duration": 910,
    "start_time": "2023-12-09T14:33:19.706Z"
   },
   {
    "duration": 662,
    "start_time": "2023-12-09T14:33:20.618Z"
   },
   {
    "duration": 6,
    "start_time": "2023-12-09T14:33:21.282Z"
   },
   {
    "duration": 85,
    "start_time": "2023-12-09T14:33:21.289Z"
   },
   {
    "duration": 33,
    "start_time": "2023-12-09T14:33:21.375Z"
   },
   {
    "duration": 65,
    "start_time": "2023-12-09T14:33:21.410Z"
   },
   {
    "duration": 77,
    "start_time": "2023-12-09T14:33:21.477Z"
   },
   {
    "duration": 11,
    "start_time": "2023-12-09T14:33:21.556Z"
   },
   {
    "duration": 12,
    "start_time": "2023-12-09T14:33:21.569Z"
   },
   {
    "duration": 37,
    "start_time": "2023-12-09T14:33:21.583Z"
   },
   {
    "duration": 92,
    "start_time": "2023-12-09T14:33:21.622Z"
   },
   {
    "duration": 163,
    "start_time": "2023-12-09T14:33:21.716Z"
   },
   {
    "duration": 11,
    "start_time": "2023-12-09T14:33:21.881Z"
   },
   {
    "duration": 12,
    "start_time": "2023-12-09T14:33:21.895Z"
   },
   {
    "duration": 8,
    "start_time": "2023-12-09T14:33:21.909Z"
   },
   {
    "duration": 8,
    "start_time": "2023-12-09T14:33:21.953Z"
   },
   {
    "duration": 71,
    "start_time": "2023-12-09T14:44:51.127Z"
   },
   {
    "duration": 1108,
    "start_time": "2023-12-09T14:45:39.047Z"
   },
   {
    "duration": 178,
    "start_time": "2023-12-09T14:45:40.157Z"
   },
   {
    "duration": 35,
    "start_time": "2023-12-09T14:45:40.337Z"
   },
   {
    "duration": 3,
    "start_time": "2023-12-09T14:45:40.374Z"
   },
   {
    "duration": 17,
    "start_time": "2023-12-09T14:45:40.379Z"
   },
   {
    "duration": 20,
    "start_time": "2023-12-09T14:45:40.397Z"
   },
   {
    "duration": 272,
    "start_time": "2023-12-09T14:45:40.418Z"
   },
   {
    "duration": 88,
    "start_time": "2023-12-09T14:45:40.691Z"
   },
   {
    "duration": 167,
    "start_time": "2023-12-09T14:45:40.781Z"
   },
   {
    "duration": 17,
    "start_time": "2023-12-09T14:45:40.951Z"
   },
   {
    "duration": 3,
    "start_time": "2023-12-09T14:45:40.970Z"
   },
   {
    "duration": 7,
    "start_time": "2023-12-09T14:45:40.974Z"
   },
   {
    "duration": 6,
    "start_time": "2023-12-09T14:45:40.982Z"
   },
   {
    "duration": 4,
    "start_time": "2023-12-09T14:45:40.990Z"
   },
   {
    "duration": 947,
    "start_time": "2023-12-09T14:45:40.995Z"
   },
   {
    "duration": 664,
    "start_time": "2023-12-09T14:45:41.944Z"
   },
   {
    "duration": 6,
    "start_time": "2023-12-09T14:45:42.611Z"
   },
   {
    "duration": 99,
    "start_time": "2023-12-09T14:45:42.619Z"
   },
   {
    "duration": 44,
    "start_time": "2023-12-09T14:45:42.720Z"
   },
   {
    "duration": 46,
    "start_time": "2023-12-09T14:45:42.766Z"
   },
   {
    "duration": 78,
    "start_time": "2023-12-09T14:45:42.813Z"
   },
   {
    "duration": 9,
    "start_time": "2023-12-09T14:45:42.893Z"
   },
   {
    "duration": 7,
    "start_time": "2023-12-09T14:45:42.903Z"
   },
   {
    "duration": 44,
    "start_time": "2023-12-09T14:45:42.912Z"
   },
   {
    "duration": 78,
    "start_time": "2023-12-09T14:45:42.958Z"
   },
   {
    "duration": 163,
    "start_time": "2023-12-09T14:45:43.038Z"
   },
   {
    "duration": 12,
    "start_time": "2023-12-09T14:45:43.202Z"
   },
   {
    "duration": 13,
    "start_time": "2023-12-09T14:45:43.217Z"
   },
   {
    "duration": 10,
    "start_time": "2023-12-09T14:45:43.252Z"
   },
   {
    "duration": 8,
    "start_time": "2023-12-09T14:45:43.264Z"
   },
   {
    "duration": 12,
    "start_time": "2023-12-09T14:46:28.661Z"
   },
   {
    "duration": 1118,
    "start_time": "2023-12-09T14:52:43.359Z"
   },
   {
    "duration": 173,
    "start_time": "2023-12-09T14:52:44.479Z"
   },
   {
    "duration": 29,
    "start_time": "2023-12-09T14:52:44.653Z"
   },
   {
    "duration": 4,
    "start_time": "2023-12-09T14:52:44.684Z"
   },
   {
    "duration": 14,
    "start_time": "2023-12-09T14:52:44.689Z"
   },
   {
    "duration": 22,
    "start_time": "2023-12-09T14:52:44.705Z"
   },
   {
    "duration": 275,
    "start_time": "2023-12-09T14:52:44.729Z"
   },
   {
    "duration": 98,
    "start_time": "2023-12-09T14:52:45.005Z"
   },
   {
    "duration": 170,
    "start_time": "2023-12-09T14:52:45.105Z"
   },
   {
    "duration": 17,
    "start_time": "2023-12-09T14:52:45.278Z"
   },
   {
    "duration": 4,
    "start_time": "2023-12-09T14:52:45.296Z"
   },
   {
    "duration": 9,
    "start_time": "2023-12-09T14:52:45.301Z"
   },
   {
    "duration": 8,
    "start_time": "2023-12-09T14:52:45.311Z"
   },
   {
    "duration": 30,
    "start_time": "2023-12-09T14:52:45.321Z"
   },
   {
    "duration": 891,
    "start_time": "2023-12-09T14:52:45.353Z"
   },
   {
    "duration": 675,
    "start_time": "2023-12-09T14:52:46.251Z"
   },
   {
    "duration": 5,
    "start_time": "2023-12-09T14:52:46.928Z"
   },
   {
    "duration": 81,
    "start_time": "2023-12-09T14:52:46.935Z"
   },
   {
    "duration": 43,
    "start_time": "2023-12-09T14:52:47.017Z"
   },
   {
    "duration": 43,
    "start_time": "2023-12-09T14:52:47.062Z"
   },
   {
    "duration": 76,
    "start_time": "2023-12-09T14:52:47.106Z"
   },
   {
    "duration": 10,
    "start_time": "2023-12-09T14:52:47.184Z"
   },
   {
    "duration": 32,
    "start_time": "2023-12-09T14:52:47.195Z"
   },
   {
    "duration": 42,
    "start_time": "2023-12-09T14:52:47.229Z"
   },
   {
    "duration": 92,
    "start_time": "2023-12-09T14:52:47.272Z"
   },
   {
    "duration": 167,
    "start_time": "2023-12-09T14:52:47.366Z"
   },
   {
    "duration": 11,
    "start_time": "2023-12-09T14:52:47.534Z"
   },
   {
    "duration": 29,
    "start_time": "2023-12-09T14:52:47.548Z"
   },
   {
    "duration": 8,
    "start_time": "2023-12-09T14:52:47.579Z"
   },
   {
    "duration": 11,
    "start_time": "2023-12-09T14:52:47.588Z"
   },
   {
    "duration": 1011,
    "start_time": "2023-12-10T07:16:11.937Z"
   },
   {
    "duration": 136,
    "start_time": "2023-12-10T07:16:12.950Z"
   },
   {
    "duration": 28,
    "start_time": "2023-12-10T07:16:13.087Z"
   },
   {
    "duration": 2,
    "start_time": "2023-12-10T07:16:13.116Z"
   },
   {
    "duration": 15,
    "start_time": "2023-12-10T07:16:13.120Z"
   },
   {
    "duration": 14,
    "start_time": "2023-12-10T07:16:13.136Z"
   },
   {
    "duration": 227,
    "start_time": "2023-12-10T07:16:13.151Z"
   },
   {
    "duration": 79,
    "start_time": "2023-12-10T07:16:13.379Z"
   },
   {
    "duration": 143,
    "start_time": "2023-12-10T07:16:13.460Z"
   },
   {
    "duration": 24,
    "start_time": "2023-12-10T07:16:13.604Z"
   },
   {
    "duration": 3,
    "start_time": "2023-12-10T07:16:13.629Z"
   },
   {
    "duration": 6,
    "start_time": "2023-12-10T07:16:13.633Z"
   },
   {
    "duration": 5,
    "start_time": "2023-12-10T07:16:13.640Z"
   },
   {
    "duration": 4,
    "start_time": "2023-12-10T07:16:13.647Z"
   },
   {
    "duration": 746,
    "start_time": "2023-12-10T07:16:13.652Z"
   },
   {
    "duration": 531,
    "start_time": "2023-12-10T07:16:14.399Z"
   },
   {
    "duration": 5,
    "start_time": "2023-12-10T07:16:14.931Z"
   },
   {
    "duration": 68,
    "start_time": "2023-12-10T07:16:14.937Z"
   },
   {
    "duration": 29,
    "start_time": "2023-12-10T07:16:15.006Z"
   },
   {
    "duration": 59,
    "start_time": "2023-12-10T07:16:15.036Z"
   },
   {
    "duration": 55,
    "start_time": "2023-12-10T07:16:15.096Z"
   },
   {
    "duration": 7,
    "start_time": "2023-12-10T07:16:15.152Z"
   },
   {
    "duration": 15,
    "start_time": "2023-12-10T07:16:15.161Z"
   },
   {
    "duration": 50,
    "start_time": "2023-12-10T07:16:15.177Z"
   },
   {
    "duration": 68,
    "start_time": "2023-12-10T07:16:15.228Z"
   },
   {
    "duration": 222,
    "start_time": "2023-12-10T07:16:15.297Z"
   },
   {
    "duration": 13,
    "start_time": "2023-12-10T07:16:15.520Z"
   },
   {
    "duration": 21,
    "start_time": "2023-12-10T07:16:15.535Z"
   },
   {
    "duration": 60,
    "start_time": "2023-12-10T07:16:15.557Z"
   },
   {
    "duration": 7,
    "start_time": "2023-12-10T07:16:15.618Z"
   },
   {
    "duration": 999,
    "start_time": "2023-12-10T07:27:07.742Z"
   },
   {
    "duration": 146,
    "start_time": "2023-12-10T07:27:08.743Z"
   },
   {
    "duration": 26,
    "start_time": "2023-12-10T07:27:08.890Z"
   },
   {
    "duration": 2,
    "start_time": "2023-12-10T07:27:08.918Z"
   },
   {
    "duration": 19,
    "start_time": "2023-12-10T07:27:08.922Z"
   },
   {
    "duration": 18,
    "start_time": "2023-12-10T07:27:08.942Z"
   },
   {
    "duration": 231,
    "start_time": "2023-12-10T07:27:08.961Z"
   },
   {
    "duration": 79,
    "start_time": "2023-12-10T07:27:09.193Z"
   },
   {
    "duration": 148,
    "start_time": "2023-12-10T07:27:09.273Z"
   },
   {
    "duration": 17,
    "start_time": "2023-12-10T07:27:09.424Z"
   },
   {
    "duration": 3,
    "start_time": "2023-12-10T07:27:09.442Z"
   },
   {
    "duration": 8,
    "start_time": "2023-12-10T07:27:09.446Z"
   },
   {
    "duration": 5,
    "start_time": "2023-12-10T07:27:09.455Z"
   },
   {
    "duration": 19,
    "start_time": "2023-12-10T07:27:09.461Z"
   },
   {
    "duration": 751,
    "start_time": "2023-12-10T07:27:09.481Z"
   },
   {
    "duration": 571,
    "start_time": "2023-12-10T07:27:10.233Z"
   },
   {
    "duration": 11,
    "start_time": "2023-12-10T07:27:10.805Z"
   },
   {
    "duration": 49,
    "start_time": "2023-12-10T07:27:10.817Z"
   },
   {
    "duration": 27,
    "start_time": "2023-12-10T07:27:10.867Z"
   },
   {
    "duration": 50,
    "start_time": "2023-12-10T07:27:10.896Z"
   },
   {
    "duration": 52,
    "start_time": "2023-12-10T07:27:10.947Z"
   },
   {
    "duration": 16,
    "start_time": "2023-12-10T07:27:11.000Z"
   },
   {
    "duration": 4,
    "start_time": "2023-12-10T07:27:11.017Z"
   },
   {
    "duration": 26,
    "start_time": "2023-12-10T07:27:11.022Z"
   },
   {
    "duration": 90,
    "start_time": "2023-12-10T07:27:11.049Z"
   },
   {
    "duration": 211,
    "start_time": "2023-12-10T07:27:11.140Z"
   },
   {
    "duration": 9,
    "start_time": "2023-12-10T07:27:11.352Z"
   },
   {
    "duration": 11,
    "start_time": "2023-12-10T07:27:11.364Z"
   },
   {
    "duration": 47,
    "start_time": "2023-12-10T07:27:11.376Z"
   },
   {
    "duration": 16,
    "start_time": "2023-12-10T07:27:11.424Z"
   }
  ],
  "kernelspec": {
   "display_name": "Python 3 (ipykernel)",
   "language": "python",
   "name": "python3"
  },
  "language_info": {
   "codemirror_mode": {
    "name": "ipython",
    "version": 3
   },
   "file_extension": ".py",
   "mimetype": "text/x-python",
   "name": "python",
   "nbconvert_exporter": "python",
   "pygments_lexer": "ipython3",
   "version": "3.9.5"
  },
  "toc": {
   "base_numbering": 1,
   "nav_menu": {},
   "number_sections": true,
   "sideBar": true,
   "skip_h1_title": true,
   "title_cell": "Table of Contents",
   "title_sidebar": "Contents",
   "toc_cell": false,
   "toc_position": {},
   "toc_section_display": true,
   "toc_window_display": false
  }
 },
 "nbformat": 4,
 "nbformat_minor": 4
}
